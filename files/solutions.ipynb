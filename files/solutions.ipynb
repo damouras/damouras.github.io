{
 "cells": [
  {
   "cell_type": "markdown",
   "id": "f0ddd049-fb6f-4a15-91bc-76bcac03406e",
   "metadata": {},
   "source": [
    "## Import Libraries"
   ]
  },
  {
   "cell_type": "code",
   "execution_count": 138,
   "id": "919cc5b8",
   "metadata": {},
   "outputs": [],
   "source": [
    "import pandas as pd\n",
    "import plotly.express as px"
   ]
  },
  {
   "cell_type": "markdown",
   "id": "b5c44e08-63be-45ab-a01e-6108ec14d482",
   "metadata": {},
   "source": [
    "## Load Data"
   ]
  },
  {
   "cell_type": "code",
   "execution_count": 140,
   "id": "231bcbee-cace-4d52-889c-6c2976264fdf",
   "metadata": {},
   "outputs": [
    {
     "data": {
      "text/html": [
       "<div>\n",
       "<style scoped>\n",
       "    .dataframe tbody tr th:only-of-type {\n",
       "        vertical-align: middle;\n",
       "    }\n",
       "\n",
       "    .dataframe tbody tr th {\n",
       "        vertical-align: top;\n",
       "    }\n",
       "\n",
       "    .dataframe thead th {\n",
       "        text-align: right;\n",
       "    }\n",
       "</style>\n",
       "<table border=\"1\" class=\"dataframe\">\n",
       "  <thead>\n",
       "    <tr style=\"text-align: right;\">\n",
       "      <th></th>\n",
       "      <th>Country</th>\n",
       "      <th>Year</th>\n",
       "      <th>Population</th>\n",
       "      <th>Life Expectancy</th>\n",
       "      <th>GDPpcap</th>\n",
       "      <th>CO2 Emissions</th>\n",
       "      <th>Child Mortality</th>\n",
       "      <th>Avg Income</th>\n",
       "      <th>Fertility Rate</th>\n",
       "      <th>Region</th>\n",
       "      <th>Longitude</th>\n",
       "      <th>Latitude</th>\n",
       "      <th>8 Regions</th>\n",
       "    </tr>\n",
       "  </thead>\n",
       "  <tbody>\n",
       "    <tr>\n",
       "      <th>0</th>\n",
       "      <td>Afghanistan</td>\n",
       "      <td>1800</td>\n",
       "      <td>3280000.0</td>\n",
       "      <td>28.2</td>\n",
       "      <td>481.0</td>\n",
       "      <td>NaN</td>\n",
       "      <td>469.0</td>\n",
       "      <td>1.33</td>\n",
       "      <td>7.0</td>\n",
       "      <td>Asia</td>\n",
       "      <td>66.0</td>\n",
       "      <td>33.0</td>\n",
       "      <td>asia_west</td>\n",
       "    </tr>\n",
       "    <tr>\n",
       "      <th>1</th>\n",
       "      <td>Afghanistan</td>\n",
       "      <td>1801</td>\n",
       "      <td>3280000.0</td>\n",
       "      <td>28.2</td>\n",
       "      <td>481.0</td>\n",
       "      <td>NaN</td>\n",
       "      <td>469.0</td>\n",
       "      <td>1.33</td>\n",
       "      <td>7.0</td>\n",
       "      <td>Asia</td>\n",
       "      <td>66.0</td>\n",
       "      <td>33.0</td>\n",
       "      <td>asia_west</td>\n",
       "    </tr>\n",
       "    <tr>\n",
       "      <th>2</th>\n",
       "      <td>Afghanistan</td>\n",
       "      <td>1802</td>\n",
       "      <td>3280000.0</td>\n",
       "      <td>28.2</td>\n",
       "      <td>481.0</td>\n",
       "      <td>NaN</td>\n",
       "      <td>469.0</td>\n",
       "      <td>1.33</td>\n",
       "      <td>7.0</td>\n",
       "      <td>Asia</td>\n",
       "      <td>66.0</td>\n",
       "      <td>33.0</td>\n",
       "      <td>asia_west</td>\n",
       "    </tr>\n",
       "    <tr>\n",
       "      <th>3</th>\n",
       "      <td>Afghanistan</td>\n",
       "      <td>1803</td>\n",
       "      <td>3280000.0</td>\n",
       "      <td>28.2</td>\n",
       "      <td>481.0</td>\n",
       "      <td>NaN</td>\n",
       "      <td>469.0</td>\n",
       "      <td>1.33</td>\n",
       "      <td>7.0</td>\n",
       "      <td>Asia</td>\n",
       "      <td>66.0</td>\n",
       "      <td>33.0</td>\n",
       "      <td>asia_west</td>\n",
       "    </tr>\n",
       "    <tr>\n",
       "      <th>4</th>\n",
       "      <td>Afghanistan</td>\n",
       "      <td>1804</td>\n",
       "      <td>3280000.0</td>\n",
       "      <td>28.2</td>\n",
       "      <td>481.0</td>\n",
       "      <td>NaN</td>\n",
       "      <td>469.0</td>\n",
       "      <td>1.33</td>\n",
       "      <td>7.0</td>\n",
       "      <td>Asia</td>\n",
       "      <td>66.0</td>\n",
       "      <td>33.0</td>\n",
       "      <td>asia_west</td>\n",
       "    </tr>\n",
       "    <tr>\n",
       "      <th>5</th>\n",
       "      <td>Afghanistan</td>\n",
       "      <td>1805</td>\n",
       "      <td>3280000.0</td>\n",
       "      <td>28.2</td>\n",
       "      <td>481.0</td>\n",
       "      <td>NaN</td>\n",
       "      <td>469.0</td>\n",
       "      <td>1.33</td>\n",
       "      <td>7.0</td>\n",
       "      <td>Asia</td>\n",
       "      <td>66.0</td>\n",
       "      <td>33.0</td>\n",
       "      <td>asia_west</td>\n",
       "    </tr>\n",
       "    <tr>\n",
       "      <th>6</th>\n",
       "      <td>Afghanistan</td>\n",
       "      <td>1806</td>\n",
       "      <td>3280000.0</td>\n",
       "      <td>28.1</td>\n",
       "      <td>481.0</td>\n",
       "      <td>NaN</td>\n",
       "      <td>470.0</td>\n",
       "      <td>1.33</td>\n",
       "      <td>7.0</td>\n",
       "      <td>Asia</td>\n",
       "      <td>66.0</td>\n",
       "      <td>33.0</td>\n",
       "      <td>asia_west</td>\n",
       "    </tr>\n",
       "    <tr>\n",
       "      <th>7</th>\n",
       "      <td>Afghanistan</td>\n",
       "      <td>1807</td>\n",
       "      <td>3280000.0</td>\n",
       "      <td>28.1</td>\n",
       "      <td>481.0</td>\n",
       "      <td>NaN</td>\n",
       "      <td>470.0</td>\n",
       "      <td>1.33</td>\n",
       "      <td>7.0</td>\n",
       "      <td>Asia</td>\n",
       "      <td>66.0</td>\n",
       "      <td>33.0</td>\n",
       "      <td>asia_west</td>\n",
       "    </tr>\n",
       "    <tr>\n",
       "      <th>8</th>\n",
       "      <td>Afghanistan</td>\n",
       "      <td>1808</td>\n",
       "      <td>3280000.0</td>\n",
       "      <td>28.1</td>\n",
       "      <td>481.0</td>\n",
       "      <td>NaN</td>\n",
       "      <td>470.0</td>\n",
       "      <td>1.33</td>\n",
       "      <td>7.0</td>\n",
       "      <td>Asia</td>\n",
       "      <td>66.0</td>\n",
       "      <td>33.0</td>\n",
       "      <td>asia_west</td>\n",
       "    </tr>\n",
       "    <tr>\n",
       "      <th>9</th>\n",
       "      <td>Afghanistan</td>\n",
       "      <td>1809</td>\n",
       "      <td>3280000.0</td>\n",
       "      <td>28.1</td>\n",
       "      <td>481.0</td>\n",
       "      <td>NaN</td>\n",
       "      <td>470.0</td>\n",
       "      <td>1.33</td>\n",
       "      <td>7.0</td>\n",
       "      <td>Asia</td>\n",
       "      <td>66.0</td>\n",
       "      <td>33.0</td>\n",
       "      <td>asia_west</td>\n",
       "    </tr>\n",
       "  </tbody>\n",
       "</table>\n",
       "</div>"
      ],
      "text/plain": [
       "       Country  Year  Population  Life Expectancy  GDPpcap  CO2 Emissions  \\\n",
       "0  Afghanistan  1800   3280000.0             28.2    481.0            NaN   \n",
       "1  Afghanistan  1801   3280000.0             28.2    481.0            NaN   \n",
       "2  Afghanistan  1802   3280000.0             28.2    481.0            NaN   \n",
       "3  Afghanistan  1803   3280000.0             28.2    481.0            NaN   \n",
       "4  Afghanistan  1804   3280000.0             28.2    481.0            NaN   \n",
       "5  Afghanistan  1805   3280000.0             28.2    481.0            NaN   \n",
       "6  Afghanistan  1806   3280000.0             28.1    481.0            NaN   \n",
       "7  Afghanistan  1807   3280000.0             28.1    481.0            NaN   \n",
       "8  Afghanistan  1808   3280000.0             28.1    481.0            NaN   \n",
       "9  Afghanistan  1809   3280000.0             28.1    481.0            NaN   \n",
       "\n",
       "   Child Mortality  Avg Income  Fertility Rate Region  Longitude  Latitude  \\\n",
       "0            469.0        1.33             7.0   Asia       66.0      33.0   \n",
       "1            469.0        1.33             7.0   Asia       66.0      33.0   \n",
       "2            469.0        1.33             7.0   Asia       66.0      33.0   \n",
       "3            469.0        1.33             7.0   Asia       66.0      33.0   \n",
       "4            469.0        1.33             7.0   Asia       66.0      33.0   \n",
       "5            469.0        1.33             7.0   Asia       66.0      33.0   \n",
       "6            470.0        1.33             7.0   Asia       66.0      33.0   \n",
       "7            470.0        1.33             7.0   Asia       66.0      33.0   \n",
       "8            470.0        1.33             7.0   Asia       66.0      33.0   \n",
       "9            470.0        1.33             7.0   Asia       66.0      33.0   \n",
       "\n",
       "   8 Regions  \n",
       "0  asia_west  \n",
       "1  asia_west  \n",
       "2  asia_west  \n",
       "3  asia_west  \n",
       "4  asia_west  \n",
       "5  asia_west  \n",
       "6  asia_west  \n",
       "7  asia_west  \n",
       "8  asia_west  \n",
       "9  asia_west  "
      ]
     },
     "execution_count": 140,
     "metadata": {},
     "output_type": "execute_result"
    }
   ],
   "source": [
    "# Import Gapminder Data\n",
    "gapminder_df = pd.read_csv(\"gapminder_data.csv\")\n",
    "gapminder_df.head(10)"
   ]
  },
  {
   "cell_type": "markdown",
   "id": "d52a5a72-41da-4db3-bd65-669d37c0fc62",
   "metadata": {},
   "source": [
    "## Filter Data"
   ]
  },
  {
   "cell_type": "code",
   "execution_count": 142,
   "id": "d3de7be1-8d77-4a3f-a480-593480a6a1e9",
   "metadata": {},
   "outputs": [
    {
     "data": {
      "text/html": [
       "<div>\n",
       "<style scoped>\n",
       "    .dataframe tbody tr th:only-of-type {\n",
       "        vertical-align: middle;\n",
       "    }\n",
       "\n",
       "    .dataframe tbody tr th {\n",
       "        vertical-align: top;\n",
       "    }\n",
       "\n",
       "    .dataframe thead th {\n",
       "        text-align: right;\n",
       "    }\n",
       "</style>\n",
       "<table border=\"1\" class=\"dataframe\">\n",
       "  <thead>\n",
       "    <tr style=\"text-align: right;\">\n",
       "      <th></th>\n",
       "      <th>Country</th>\n",
       "      <th>Year</th>\n",
       "      <th>Population</th>\n",
       "      <th>Life Expectancy</th>\n",
       "      <th>GDPpcap</th>\n",
       "      <th>CO2 Emissions</th>\n",
       "      <th>Child Mortality</th>\n",
       "      <th>Avg Income</th>\n",
       "      <th>Fertility Rate</th>\n",
       "      <th>Region</th>\n",
       "      <th>Longitude</th>\n",
       "      <th>Latitude</th>\n",
       "      <th>8 Regions</th>\n",
       "    </tr>\n",
       "  </thead>\n",
       "  <tbody>\n",
       "    <tr>\n",
       "      <th>10725</th>\n",
       "      <td>China</td>\n",
       "      <td>1990</td>\n",
       "      <td>1.150000e+09</td>\n",
       "      <td>68.1</td>\n",
       "      <td>1830.0</td>\n",
       "      <td>NaN</td>\n",
       "      <td>53.7</td>\n",
       "      <td>1.90</td>\n",
       "      <td>2.51</td>\n",
       "      <td>Asia</td>\n",
       "      <td>105.0</td>\n",
       "      <td>35.0</td>\n",
       "      <td>east_asia_pacific</td>\n",
       "    </tr>\n",
       "    <tr>\n",
       "      <th>10726</th>\n",
       "      <td>China</td>\n",
       "      <td>1991</td>\n",
       "      <td>1.170000e+09</td>\n",
       "      <td>68.4</td>\n",
       "      <td>1920.0</td>\n",
       "      <td>NaN</td>\n",
       "      <td>53.2</td>\n",
       "      <td>2.00</td>\n",
       "      <td>1.93</td>\n",
       "      <td>Asia</td>\n",
       "      <td>105.0</td>\n",
       "      <td>35.0</td>\n",
       "      <td>east_asia_pacific</td>\n",
       "    </tr>\n",
       "    <tr>\n",
       "      <th>10727</th>\n",
       "      <td>China</td>\n",
       "      <td>1992</td>\n",
       "      <td>1.180000e+09</td>\n",
       "      <td>68.7</td>\n",
       "      <td>2100.0</td>\n",
       "      <td>NaN</td>\n",
       "      <td>52.2</td>\n",
       "      <td>2.10</td>\n",
       "      <td>1.78</td>\n",
       "      <td>Asia</td>\n",
       "      <td>105.0</td>\n",
       "      <td>35.0</td>\n",
       "      <td>east_asia_pacific</td>\n",
       "    </tr>\n",
       "    <tr>\n",
       "      <th>10728</th>\n",
       "      <td>China</td>\n",
       "      <td>1993</td>\n",
       "      <td>1.200000e+09</td>\n",
       "      <td>69.0</td>\n",
       "      <td>2320.0</td>\n",
       "      <td>NaN</td>\n",
       "      <td>50.8</td>\n",
       "      <td>2.21</td>\n",
       "      <td>1.69</td>\n",
       "      <td>Asia</td>\n",
       "      <td>105.0</td>\n",
       "      <td>35.0</td>\n",
       "      <td>east_asia_pacific</td>\n",
       "    </tr>\n",
       "    <tr>\n",
       "      <th>10729</th>\n",
       "      <td>China</td>\n",
       "      <td>1994</td>\n",
       "      <td>1.210000e+09</td>\n",
       "      <td>69.4</td>\n",
       "      <td>2540.0</td>\n",
       "      <td>NaN</td>\n",
       "      <td>49.2</td>\n",
       "      <td>2.39</td>\n",
       "      <td>1.63</td>\n",
       "      <td>Asia</td>\n",
       "      <td>105.0</td>\n",
       "      <td>35.0</td>\n",
       "      <td>east_asia_pacific</td>\n",
       "    </tr>\n",
       "    <tr>\n",
       "      <th>10730</th>\n",
       "      <td>China</td>\n",
       "      <td>1995</td>\n",
       "      <td>1.220000e+09</td>\n",
       "      <td>69.8</td>\n",
       "      <td>2750.0</td>\n",
       "      <td>NaN</td>\n",
       "      <td>47.4</td>\n",
       "      <td>2.59</td>\n",
       "      <td>1.59</td>\n",
       "      <td>Asia</td>\n",
       "      <td>105.0</td>\n",
       "      <td>35.0</td>\n",
       "      <td>east_asia_pacific</td>\n",
       "    </tr>\n",
       "    <tr>\n",
       "      <th>10731</th>\n",
       "      <td>China</td>\n",
       "      <td>1996</td>\n",
       "      <td>1.230000e+09</td>\n",
       "      <td>70.1</td>\n",
       "      <td>2940.0</td>\n",
       "      <td>NaN</td>\n",
       "      <td>45.5</td>\n",
       "      <td>2.80</td>\n",
       "      <td>1.55</td>\n",
       "      <td>Asia</td>\n",
       "      <td>105.0</td>\n",
       "      <td>35.0</td>\n",
       "      <td>east_asia_pacific</td>\n",
       "    </tr>\n",
       "    <tr>\n",
       "      <th>10732</th>\n",
       "      <td>China</td>\n",
       "      <td>1997</td>\n",
       "      <td>1.240000e+09</td>\n",
       "      <td>70.5</td>\n",
       "      <td>3120.0</td>\n",
       "      <td>NaN</td>\n",
       "      <td>43.5</td>\n",
       "      <td>2.89</td>\n",
       "      <td>1.53</td>\n",
       "      <td>Asia</td>\n",
       "      <td>105.0</td>\n",
       "      <td>35.0</td>\n",
       "      <td>east_asia_pacific</td>\n",
       "    </tr>\n",
       "    <tr>\n",
       "      <th>10733</th>\n",
       "      <td>China</td>\n",
       "      <td>1998</td>\n",
       "      <td>1.250000e+09</td>\n",
       "      <td>70.9</td>\n",
       "      <td>3270.0</td>\n",
       "      <td>NaN</td>\n",
       "      <td>41.5</td>\n",
       "      <td>2.99</td>\n",
       "      <td>1.52</td>\n",
       "      <td>Asia</td>\n",
       "      <td>105.0</td>\n",
       "      <td>35.0</td>\n",
       "      <td>east_asia_pacific</td>\n",
       "    </tr>\n",
       "    <tr>\n",
       "      <th>10734</th>\n",
       "      <td>China</td>\n",
       "      <td>1999</td>\n",
       "      <td>1.260000e+09</td>\n",
       "      <td>71.2</td>\n",
       "      <td>3450.0</td>\n",
       "      <td>NaN</td>\n",
       "      <td>39.2</td>\n",
       "      <td>3.08</td>\n",
       "      <td>1.53</td>\n",
       "      <td>Asia</td>\n",
       "      <td>105.0</td>\n",
       "      <td>35.0</td>\n",
       "      <td>east_asia_pacific</td>\n",
       "    </tr>\n",
       "  </tbody>\n",
       "</table>\n",
       "</div>"
      ],
      "text/plain": [
       "      Country  Year    Population  Life Expectancy  GDPpcap  CO2 Emissions  \\\n",
       "10725   China  1990  1.150000e+09             68.1   1830.0            NaN   \n",
       "10726   China  1991  1.170000e+09             68.4   1920.0            NaN   \n",
       "10727   China  1992  1.180000e+09             68.7   2100.0            NaN   \n",
       "10728   China  1993  1.200000e+09             69.0   2320.0            NaN   \n",
       "10729   China  1994  1.210000e+09             69.4   2540.0            NaN   \n",
       "10730   China  1995  1.220000e+09             69.8   2750.0            NaN   \n",
       "10731   China  1996  1.230000e+09             70.1   2940.0            NaN   \n",
       "10732   China  1997  1.240000e+09             70.5   3120.0            NaN   \n",
       "10733   China  1998  1.250000e+09             70.9   3270.0            NaN   \n",
       "10734   China  1999  1.260000e+09             71.2   3450.0            NaN   \n",
       "\n",
       "       Child Mortality  Avg Income  Fertility Rate Region  Longitude  \\\n",
       "10725             53.7        1.90            2.51   Asia      105.0   \n",
       "10726             53.2        2.00            1.93   Asia      105.0   \n",
       "10727             52.2        2.10            1.78   Asia      105.0   \n",
       "10728             50.8        2.21            1.69   Asia      105.0   \n",
       "10729             49.2        2.39            1.63   Asia      105.0   \n",
       "10730             47.4        2.59            1.59   Asia      105.0   \n",
       "10731             45.5        2.80            1.55   Asia      105.0   \n",
       "10732             43.5        2.89            1.53   Asia      105.0   \n",
       "10733             41.5        2.99            1.52   Asia      105.0   \n",
       "10734             39.2        3.08            1.53   Asia      105.0   \n",
       "\n",
       "       Latitude          8 Regions  \n",
       "10725      35.0  east_asia_pacific  \n",
       "10726      35.0  east_asia_pacific  \n",
       "10727      35.0  east_asia_pacific  \n",
       "10728      35.0  east_asia_pacific  \n",
       "10729      35.0  east_asia_pacific  \n",
       "10730      35.0  east_asia_pacific  \n",
       "10731      35.0  east_asia_pacific  \n",
       "10732      35.0  east_asia_pacific  \n",
       "10733      35.0  east_asia_pacific  \n",
       "10734      35.0  east_asia_pacific  "
      ]
     },
     "execution_count": 142,
     "metadata": {},
     "output_type": "execute_result"
    }
   ],
   "source": [
    "gapminder_df.query('Year >= 1990 & Year <= 2020 & Country == \"China\"').head(10)\n"
   ]
  },
  {
   "cell_type": "markdown",
   "id": "88592564-5286-4348-b7d0-37e91410eeab",
   "metadata": {},
   "source": [
    "## Plot World Poster"
   ]
  },
  {
   "cell_type": "code",
   "execution_count": 144,
   "id": "d9e21ab9",
   "metadata": {},
   "outputs": [
    {
     "data": {
      "application/vnd.plotly.v1+json": {
       "config": {
        "plotlyServerURL": "https://plot.ly"
       },
       "data": [
        {
         "hovertemplate": "GDPpcap=%{x}<br>Life Expectancy=%{y}<extra></extra>",
         "legendgroup": "",
         "marker": {
          "color": "#636efa",
          "symbol": "circle"
         },
         "mode": "markers",
         "name": "",
         "orientation": "v",
         "showlegend": false,
         "type": "scatter",
         "x": [
          2080,
          13700,
          11600,
          56300,
          6600,
          22900,
          22000,
          14300,
          49600,
          56100,
          14400,
          33400,
          49800,
          5470,
          16000,
          19300,
          51600,
          8860,
          3160,
          11800,
          8530,
          14900,
          15100,
          14700,
          61400,
          23300,
          2110,
          730,
          4460,
          3770,
          49000,
          7920,
          861,
          1560,
          24900,
          16000,
          14600,
          3290,
          1060,
          3580,
          20800,
          5180,
          29300,
          9450,
          40100,
          41000,
          56000,
          4780,
          12400,
          18200,
          11000,
          11800,
          8970,
          16000,
          1760,
          36600,
          8290,
          2180,
          13200,
          48700,
          46000,
          14500,
          2060,
          14900,
          53700,
          5360,
          29600,
          15400,
          8670,
          2550,
          1770,
          12800,
          3110,
          5610,
          59600,
          32700,
          56000,
          6570,
          11900,
          14100,
          10300,
          85400,
          41200,
          42200,
          10200,
          41400,
          9350,
          26600,
          4600,
          1930,
          45400,
          5280,
          7840,
          30700,
          17200,
          2490,
          1460,
          19700,
          null,
          37100,
          112000,
          1590,
          1520,
          27600,
          21000,
          2220,
          45400,
          5710,
          5570,
          23700,
          20000,
          3340,
          12700,
          206000,
          12500,
          21500,
          8210,
          1280,
          5110,
          10000,
          10400,
          3920,
          56100,
          43400,
          5400,
          1220,
          5080,
          1910,
          16400,
          65000,
          33800,
          5160,
          17500,
          6250,
          32800,
          3980,
          13600,
          12800,
          8730,
          33100,
          35000,
          90700,
          30000,
          27300,
          2190,
          6350,
          60100,
          4030,
          46100,
          3430,
          18300,
          31700,
          1660,
          97700,
          32100,
          39000,
          2540,
          1210,
          13800,
          42700,
          426,
          40400,
          13500,
          31100,
          15500,
          14200,
          4130,
          18400,
          52500,
          69000,
          3650,
          51300,
          3580,
          2580,
          18000,
          3740,
          2070,
          6340,
          25700,
          11100,
          28200,
          15800,
          4830,
          71500,
          46300,
          62200,
          2250,
          12800,
          23800,
          7400,
          3140,
          7800,
          10300,
          2000,
          3320,
          2200
         ],
         "xaxis": "x",
         "y": [
          63.3,
          78.5,
          76.2,
          82.2,
          65.1,
          76.3,
          76.6,
          75.7,
          82.9,
          82.2,
          71,
          73.4,
          77,
          74.5,
          76.2,
          74,
          81.4,
          74.5,
          64.5,
          73.2,
          72,
          77,
          62.3,
          75.8,
          74.4,
          73.3,
          61.7,
          63.8,
          69.9,
          63.4,
          82.2,
          73.7,
          52.4,
          60.4,
          80.2,
          77.6,
          80.2,
          68.7,
          65,
          65.4,
          80.1,
          64.3,
          78.7,
          78.7,
          80.8,
          79.5,
          81.1,
          66.8,
          72.3,
          73.2,
          76.4,
          71,
          75.7,
          66,
          63.8,
          78,
          58.3,
          68.8,
          68.4,
          81.9,
          82.9,
          67.8,
          66.7,
          73.4,
          81.2,
          66.3,
          80.9,
          73.3,
          72.6,
          61.2,
          61,
          67.3,
          63.8,
          72.1,
          85.3,
          76.6,
          84.1,
          70.8,
          71.4,
          77.8,
          73.3,
          82,
          83,
          83.1,
          76.3,
          84.8,
          78.2,
          71.9,
          66.5,
          60.8,
          81.5,
          73.4,
          69,
          75.9,
          76.6,
          51.8,
          66.1,
          75.9,
          84.3,
          76.2,
          82.9,
          65.5,
          64.7,
          75,
          79.1,
          61.8,
          82.6,
          65.5,
          70.8,
          75.5,
          75.6,
          64.1,
          74.3,
          80.1,
          68.1,
          75.9,
          73.3,
          58.4,
          69.5,
          65.2,
          63.4,
          71.1,
          81.7,
          81.8,
          75.4,
          62.5,
          64.3,
          73.2,
          74.4,
          82.9,
          74,
          65.9,
          67.5,
          74.8,
          80,
          64.7,
          76.6,
          80.3,
          71.8,
          78.1,
          81.7,
          76.3,
          75.5,
          73,
          68.7,
          70.5,
          82.2,
          70.9,
          74.5,
          68.5,
          75.7,
          73.6,
          61.8,
          84.8,
          77.6,
          81.4,
          59.2,
          58.5,
          65.1,
          82.9,
          63.7,
          83.1,
          77.3,
          72.1,
          75.1,
          73,
          70.5,
          72.7,
          82.8,
          84,
          73.9,
          80.3,
          69.6,
          67.2,
          78.4,
          70.6,
          65,
          73,
          74.9,
          77.7,
          78.4,
          70.8,
          67.9,
          73.9,
          81.1,
          78.9,
          66.2,
          73.8,
          77.5,
          68.4,
          65.5,
          75,
          74.5,
          67.7,
          63.2,
          61
         ],
         "yaxis": "y"
        }
       ],
       "layout": {
        "autosize": true,
        "legend": {
         "tracegroupgap": 0
        },
        "margin": {
         "t": 60
        },
        "template": {
         "data": {
          "bar": [
           {
            "error_x": {
             "color": "#2a3f5f"
            },
            "error_y": {
             "color": "#2a3f5f"
            },
            "marker": {
             "line": {
              "color": "#E5ECF6",
              "width": 0.5
             },
             "pattern": {
              "fillmode": "overlay",
              "size": 10,
              "solidity": 0.2
             }
            },
            "type": "bar"
           }
          ],
          "barpolar": [
           {
            "marker": {
             "line": {
              "color": "#E5ECF6",
              "width": 0.5
             },
             "pattern": {
              "fillmode": "overlay",
              "size": 10,
              "solidity": 0.2
             }
            },
            "type": "barpolar"
           }
          ],
          "carpet": [
           {
            "aaxis": {
             "endlinecolor": "#2a3f5f",
             "gridcolor": "white",
             "linecolor": "white",
             "minorgridcolor": "white",
             "startlinecolor": "#2a3f5f"
            },
            "baxis": {
             "endlinecolor": "#2a3f5f",
             "gridcolor": "white",
             "linecolor": "white",
             "minorgridcolor": "white",
             "startlinecolor": "#2a3f5f"
            },
            "type": "carpet"
           }
          ],
          "choropleth": [
           {
            "colorbar": {
             "outlinewidth": 0,
             "ticks": ""
            },
            "type": "choropleth"
           }
          ],
          "contour": [
           {
            "colorbar": {
             "outlinewidth": 0,
             "ticks": ""
            },
            "colorscale": [
             [
              0,
              "#0d0887"
             ],
             [
              0.1111111111111111,
              "#46039f"
             ],
             [
              0.2222222222222222,
              "#7201a8"
             ],
             [
              0.3333333333333333,
              "#9c179e"
             ],
             [
              0.4444444444444444,
              "#bd3786"
             ],
             [
              0.5555555555555556,
              "#d8576b"
             ],
             [
              0.6666666666666666,
              "#ed7953"
             ],
             [
              0.7777777777777778,
              "#fb9f3a"
             ],
             [
              0.8888888888888888,
              "#fdca26"
             ],
             [
              1,
              "#f0f921"
             ]
            ],
            "type": "contour"
           }
          ],
          "contourcarpet": [
           {
            "colorbar": {
             "outlinewidth": 0,
             "ticks": ""
            },
            "type": "contourcarpet"
           }
          ],
          "heatmap": [
           {
            "colorbar": {
             "outlinewidth": 0,
             "ticks": ""
            },
            "colorscale": [
             [
              0,
              "#0d0887"
             ],
             [
              0.1111111111111111,
              "#46039f"
             ],
             [
              0.2222222222222222,
              "#7201a8"
             ],
             [
              0.3333333333333333,
              "#9c179e"
             ],
             [
              0.4444444444444444,
              "#bd3786"
             ],
             [
              0.5555555555555556,
              "#d8576b"
             ],
             [
              0.6666666666666666,
              "#ed7953"
             ],
             [
              0.7777777777777778,
              "#fb9f3a"
             ],
             [
              0.8888888888888888,
              "#fdca26"
             ],
             [
              1,
              "#f0f921"
             ]
            ],
            "type": "heatmap"
           }
          ],
          "heatmapgl": [
           {
            "colorbar": {
             "outlinewidth": 0,
             "ticks": ""
            },
            "colorscale": [
             [
              0,
              "#0d0887"
             ],
             [
              0.1111111111111111,
              "#46039f"
             ],
             [
              0.2222222222222222,
              "#7201a8"
             ],
             [
              0.3333333333333333,
              "#9c179e"
             ],
             [
              0.4444444444444444,
              "#bd3786"
             ],
             [
              0.5555555555555556,
              "#d8576b"
             ],
             [
              0.6666666666666666,
              "#ed7953"
             ],
             [
              0.7777777777777778,
              "#fb9f3a"
             ],
             [
              0.8888888888888888,
              "#fdca26"
             ],
             [
              1,
              "#f0f921"
             ]
            ],
            "type": "heatmapgl"
           }
          ],
          "histogram": [
           {
            "marker": {
             "pattern": {
              "fillmode": "overlay",
              "size": 10,
              "solidity": 0.2
             }
            },
            "type": "histogram"
           }
          ],
          "histogram2d": [
           {
            "colorbar": {
             "outlinewidth": 0,
             "ticks": ""
            },
            "colorscale": [
             [
              0,
              "#0d0887"
             ],
             [
              0.1111111111111111,
              "#46039f"
             ],
             [
              0.2222222222222222,
              "#7201a8"
             ],
             [
              0.3333333333333333,
              "#9c179e"
             ],
             [
              0.4444444444444444,
              "#bd3786"
             ],
             [
              0.5555555555555556,
              "#d8576b"
             ],
             [
              0.6666666666666666,
              "#ed7953"
             ],
             [
              0.7777777777777778,
              "#fb9f3a"
             ],
             [
              0.8888888888888888,
              "#fdca26"
             ],
             [
              1,
              "#f0f921"
             ]
            ],
            "type": "histogram2d"
           }
          ],
          "histogram2dcontour": [
           {
            "colorbar": {
             "outlinewidth": 0,
             "ticks": ""
            },
            "colorscale": [
             [
              0,
              "#0d0887"
             ],
             [
              0.1111111111111111,
              "#46039f"
             ],
             [
              0.2222222222222222,
              "#7201a8"
             ],
             [
              0.3333333333333333,
              "#9c179e"
             ],
             [
              0.4444444444444444,
              "#bd3786"
             ],
             [
              0.5555555555555556,
              "#d8576b"
             ],
             [
              0.6666666666666666,
              "#ed7953"
             ],
             [
              0.7777777777777778,
              "#fb9f3a"
             ],
             [
              0.8888888888888888,
              "#fdca26"
             ],
             [
              1,
              "#f0f921"
             ]
            ],
            "type": "histogram2dcontour"
           }
          ],
          "mesh3d": [
           {
            "colorbar": {
             "outlinewidth": 0,
             "ticks": ""
            },
            "type": "mesh3d"
           }
          ],
          "parcoords": [
           {
            "line": {
             "colorbar": {
              "outlinewidth": 0,
              "ticks": ""
             }
            },
            "type": "parcoords"
           }
          ],
          "pie": [
           {
            "automargin": true,
            "type": "pie"
           }
          ],
          "scatter": [
           {
            "fillpattern": {
             "fillmode": "overlay",
             "size": 10,
             "solidity": 0.2
            },
            "type": "scatter"
           }
          ],
          "scatter3d": [
           {
            "line": {
             "colorbar": {
              "outlinewidth": 0,
              "ticks": ""
             }
            },
            "marker": {
             "colorbar": {
              "outlinewidth": 0,
              "ticks": ""
             }
            },
            "type": "scatter3d"
           }
          ],
          "scattercarpet": [
           {
            "marker": {
             "colorbar": {
              "outlinewidth": 0,
              "ticks": ""
             }
            },
            "type": "scattercarpet"
           }
          ],
          "scattergeo": [
           {
            "marker": {
             "colorbar": {
              "outlinewidth": 0,
              "ticks": ""
             }
            },
            "type": "scattergeo"
           }
          ],
          "scattergl": [
           {
            "marker": {
             "colorbar": {
              "outlinewidth": 0,
              "ticks": ""
             }
            },
            "type": "scattergl"
           }
          ],
          "scattermapbox": [
           {
            "marker": {
             "colorbar": {
              "outlinewidth": 0,
              "ticks": ""
             }
            },
            "type": "scattermapbox"
           }
          ],
          "scatterpolar": [
           {
            "marker": {
             "colorbar": {
              "outlinewidth": 0,
              "ticks": ""
             }
            },
            "type": "scatterpolar"
           }
          ],
          "scatterpolargl": [
           {
            "marker": {
             "colorbar": {
              "outlinewidth": 0,
              "ticks": ""
             }
            },
            "type": "scatterpolargl"
           }
          ],
          "scatterternary": [
           {
            "marker": {
             "colorbar": {
              "outlinewidth": 0,
              "ticks": ""
             }
            },
            "type": "scatterternary"
           }
          ],
          "surface": [
           {
            "colorbar": {
             "outlinewidth": 0,
             "ticks": ""
            },
            "colorscale": [
             [
              0,
              "#0d0887"
             ],
             [
              0.1111111111111111,
              "#46039f"
             ],
             [
              0.2222222222222222,
              "#7201a8"
             ],
             [
              0.3333333333333333,
              "#9c179e"
             ],
             [
              0.4444444444444444,
              "#bd3786"
             ],
             [
              0.5555555555555556,
              "#d8576b"
             ],
             [
              0.6666666666666666,
              "#ed7953"
             ],
             [
              0.7777777777777778,
              "#fb9f3a"
             ],
             [
              0.8888888888888888,
              "#fdca26"
             ],
             [
              1,
              "#f0f921"
             ]
            ],
            "type": "surface"
           }
          ],
          "table": [
           {
            "cells": {
             "fill": {
              "color": "#EBF0F8"
             },
             "line": {
              "color": "white"
             }
            },
            "header": {
             "fill": {
              "color": "#C8D4E3"
             },
             "line": {
              "color": "white"
             }
            },
            "type": "table"
           }
          ]
         },
         "layout": {
          "annotationdefaults": {
           "arrowcolor": "#2a3f5f",
           "arrowhead": 0,
           "arrowwidth": 1
          },
          "autotypenumbers": "strict",
          "coloraxis": {
           "colorbar": {
            "outlinewidth": 0,
            "ticks": ""
           }
          },
          "colorscale": {
           "diverging": [
            [
             0,
             "#8e0152"
            ],
            [
             0.1,
             "#c51b7d"
            ],
            [
             0.2,
             "#de77ae"
            ],
            [
             0.3,
             "#f1b6da"
            ],
            [
             0.4,
             "#fde0ef"
            ],
            [
             0.5,
             "#f7f7f7"
            ],
            [
             0.6,
             "#e6f5d0"
            ],
            [
             0.7,
             "#b8e186"
            ],
            [
             0.8,
             "#7fbc41"
            ],
            [
             0.9,
             "#4d9221"
            ],
            [
             1,
             "#276419"
            ]
           ],
           "sequential": [
            [
             0,
             "#0d0887"
            ],
            [
             0.1111111111111111,
             "#46039f"
            ],
            [
             0.2222222222222222,
             "#7201a8"
            ],
            [
             0.3333333333333333,
             "#9c179e"
            ],
            [
             0.4444444444444444,
             "#bd3786"
            ],
            [
             0.5555555555555556,
             "#d8576b"
            ],
            [
             0.6666666666666666,
             "#ed7953"
            ],
            [
             0.7777777777777778,
             "#fb9f3a"
            ],
            [
             0.8888888888888888,
             "#fdca26"
            ],
            [
             1,
             "#f0f921"
            ]
           ],
           "sequentialminus": [
            [
             0,
             "#0d0887"
            ],
            [
             0.1111111111111111,
             "#46039f"
            ],
            [
             0.2222222222222222,
             "#7201a8"
            ],
            [
             0.3333333333333333,
             "#9c179e"
            ],
            [
             0.4444444444444444,
             "#bd3786"
            ],
            [
             0.5555555555555556,
             "#d8576b"
            ],
            [
             0.6666666666666666,
             "#ed7953"
            ],
            [
             0.7777777777777778,
             "#fb9f3a"
            ],
            [
             0.8888888888888888,
             "#fdca26"
            ],
            [
             1,
             "#f0f921"
            ]
           ]
          },
          "colorway": [
           "#636efa",
           "#EF553B",
           "#00cc96",
           "#ab63fa",
           "#FFA15A",
           "#19d3f3",
           "#FF6692",
           "#B6E880",
           "#FF97FF",
           "#FECB52"
          ],
          "font": {
           "color": "#2a3f5f"
          },
          "geo": {
           "bgcolor": "white",
           "lakecolor": "white",
           "landcolor": "#E5ECF6",
           "showlakes": true,
           "showland": true,
           "subunitcolor": "white"
          },
          "hoverlabel": {
           "align": "left"
          },
          "hovermode": "closest",
          "mapbox": {
           "style": "light"
          },
          "paper_bgcolor": "white",
          "plot_bgcolor": "#E5ECF6",
          "polar": {
           "angularaxis": {
            "gridcolor": "white",
            "linecolor": "white",
            "ticks": ""
           },
           "bgcolor": "#E5ECF6",
           "radialaxis": {
            "gridcolor": "white",
            "linecolor": "white",
            "ticks": ""
           }
          },
          "scene": {
           "xaxis": {
            "backgroundcolor": "#E5ECF6",
            "gridcolor": "white",
            "gridwidth": 2,
            "linecolor": "white",
            "showbackground": true,
            "ticks": "",
            "zerolinecolor": "white"
           },
           "yaxis": {
            "backgroundcolor": "#E5ECF6",
            "gridcolor": "white",
            "gridwidth": 2,
            "linecolor": "white",
            "showbackground": true,
            "ticks": "",
            "zerolinecolor": "white"
           },
           "zaxis": {
            "backgroundcolor": "#E5ECF6",
            "gridcolor": "white",
            "gridwidth": 2,
            "linecolor": "white",
            "showbackground": true,
            "ticks": "",
            "zerolinecolor": "white"
           }
          },
          "shapedefaults": {
           "line": {
            "color": "#2a3f5f"
           }
          },
          "ternary": {
           "aaxis": {
            "gridcolor": "white",
            "linecolor": "white",
            "ticks": ""
           },
           "baxis": {
            "gridcolor": "white",
            "linecolor": "white",
            "ticks": ""
           },
           "bgcolor": "#E5ECF6",
           "caxis": {
            "gridcolor": "white",
            "linecolor": "white",
            "ticks": ""
           }
          },
          "title": {
           "x": 0.05
          },
          "xaxis": {
           "automargin": true,
           "gridcolor": "white",
           "linecolor": "white",
           "ticks": "",
           "title": {
            "standoff": 15
           },
           "zerolinecolor": "white",
           "zerolinewidth": 2
          },
          "yaxis": {
           "automargin": true,
           "gridcolor": "white",
           "linecolor": "white",
           "ticks": "",
           "title": {
            "standoff": 15
           },
           "zerolinecolor": "white",
           "zerolinewidth": 2
          }
         }
        },
        "xaxis": {
         "anchor": "y",
         "autorange": true,
         "domain": [
          0,
          1
         ],
         "range": [
          -12065.743435858965,
          218491.74343585895
         ],
         "title": {
          "text": "GDPpcap"
         },
         "type": "linear"
        },
        "yaxis": {
         "anchor": "x",
         "autorange": true,
         "domain": [
          0,
          1
         ],
         "range": [
          49.20616797900262,
          87.89383202099737
         ],
         "title": {
          "text": "Life Expectancy"
         },
         "type": "linear"
        }
       }
      },
      "image/png": "[encoded data removed]",
      "text/html": [
       "<div>                            <div id=\"497a4457-6a92-4d9a-a8b9-277f03cb3750\" class=\"plotly-graph-div\" style=\"height:525px; width:100%;\"></div>            <script type=\"text/javascript\">                require([\"plotly\"], function(Plotly) {                    window.PLOTLYENV=window.PLOTLYENV || {};                                    if (document.getElementById(\"497a4457-6a92-4d9a-a8b9-277f03cb3750\")) {                    Plotly.newPlot(                        \"497a4457-6a92-4d9a-a8b9-277f03cb3750\",                        [{\"hovertemplate\":\"GDPpcap=%{x}\\u003cbr\\u003eLife Expectancy=%{y}\\u003cextra\\u003e\\u003c\\u002fextra\\u003e\",\"legendgroup\":\"\",\"marker\":{\"color\":\"#636efa\",\"symbol\":\"circle\"},\"mode\":\"markers\",\"name\":\"\",\"orientation\":\"v\",\"showlegend\":false,\"x\":[2080.0,13700.0,11600.0,56300.0,6600.0,22900.0,22000.0,14300.0,49600.0,56100.0,14400.0,33400.0,49800.0,5470.0,16000.0,19300.0,51600.0,8860.0,3160.0,11800.0,8530.0,14900.0,15100.0,14700.0,61400.0,23300.0,2110.0,730.0,4460.0,3770.0,49000.0,7920.0,861.0,1560.0,24900.0,16000.0,14600.0,3290.0,1060.0,3580.0,20800.0,5180.0,29300.0,9450.0,40100.0,41000.0,56000.0,4780.0,12400.0,18200.0,11000.0,11800.0,8970.0,16000.0,1760.0,36600.0,8290.0,2180.0,13200.0,48700.0,46000.0,14500.0,2060.0,14900.0,53700.0,5360.0,29600.0,15400.0,8670.0,2550.0,1770.0,12800.0,3110.0,5610.0,59600.0,32700.0,56000.0,6570.0,11900.0,14100.0,10300.0,85400.0,41200.0,42200.0,10200.0,41400.0,9350.0,26600.0,4600.0,1930.0,45400.0,5280.0,7840.0,30700.0,17200.0,2490.0,1460.0,19700.0,null,37100.0,112000.0,1590.0,1520.0,27600.0,21000.0,2220.0,45400.0,5710.0,5570.0,23700.0,20000.0,3340.0,12700.0,206000.0,12500.0,21500.0,8210.0,1280.0,5110.0,10000.0,10400.0,3920.0,56100.0,43400.0,5400.0,1220.0,5080.0,1910.0,16400.0,65000.0,33800.0,5160.0,17500.0,6250.0,32800.0,3980.0,13600.0,12800.0,8730.0,33100.0,35000.0,90700.0,30000.0,27300.0,2190.0,6350.0,60100.0,4030.0,46100.0,3430.0,18300.0,31700.0,1660.0,97700.0,32100.0,39000.0,2540.0,1210.0,13800.0,42700.0,426.0,40400.0,13500.0,31100.0,15500.0,14200.0,4130.0,18400.0,52500.0,69000.0,3650.0,51300.0,3580.0,2580.0,18000.0,3740.0,2070.0,6340.0,25700.0,11100.0,28200.0,15800.0,4830.0,71500.0,46300.0,62200.0,2250.0,12800.0,23800.0,7400.0,3140.0,7800.0,10300.0,2000.0,3320.0,2200.0],\"xaxis\":\"x\",\"y\":[63.3,78.5,76.2,82.2,65.1,76.3,76.6,75.7,82.9,82.2,71.0,73.4,77.0,74.5,76.2,74.0,81.4,74.5,64.5,73.2,72.0,77.0,62.3,75.8,74.4,73.3,61.7,63.8,69.9,63.4,82.2,73.7,52.4,60.4,80.2,77.6,80.2,68.7,65.0,65.4,80.1,64.3,78.7,78.7,80.8,79.5,81.1,66.8,72.3,73.2,76.4,71.0,75.7,66.0,63.8,78.0,58.3,68.8,68.4,81.9,82.9,67.8,66.7,73.4,81.2,66.3,80.9,73.3,72.6,61.2,61.0,67.3,63.8,72.1,85.3,76.6,84.1,70.8,71.4,77.8,73.3,82.0,83.0,83.1,76.3,84.8,78.2,71.9,66.5,60.8,81.5,73.4,69.0,75.9,76.6,51.8,66.1,75.9,84.3,76.2,82.9,65.5,64.7,75.0,79.1,61.8,82.6,65.5,70.8,75.5,75.6,64.1,74.3,80.1,68.1,75.9,73.3,58.4,69.5,65.2,63.4,71.1,81.7,81.8,75.4,62.5,64.3,73.2,74.4,82.9,74.0,65.9,67.5,74.8,80.0,64.7,76.6,80.3,71.8,78.1,81.7,76.3,75.5,73.0,68.7,70.5,82.2,70.9,74.5,68.5,75.7,73.6,61.8,84.8,77.6,81.4,59.2,58.5,65.1,82.9,63.7,83.1,77.3,72.1,75.1,73.0,70.5,72.7,82.8,84.0,73.9,80.3,69.6,67.2,78.4,70.6,65.0,73.0,74.9,77.7,78.4,70.8,67.9,73.9,81.1,78.9,66.2,73.8,77.5,68.4,65.5,75.0,74.5,67.7,63.2,61.0],\"yaxis\":\"y\",\"type\":\"scatter\"}],                        {\"template\":{\"data\":{\"histogram2dcontour\":[{\"type\":\"histogram2dcontour\",\"colorbar\":{\"outlinewidth\":0,\"ticks\":\"\"},\"colorscale\":[[0.0,\"#0d0887\"],[0.1111111111111111,\"#46039f\"],[0.2222222222222222,\"#7201a8\"],[0.3333333333333333,\"#9c179e\"],[0.4444444444444444,\"#bd3786\"],[0.5555555555555556,\"#d8576b\"],[0.6666666666666666,\"#ed7953\"],[0.7777777777777778,\"#fb9f3a\"],[0.8888888888888888,\"#fdca26\"],[1.0,\"#f0f921\"]]}],\"choropleth\":[{\"type\":\"choropleth\",\"colorbar\":{\"outlinewidth\":0,\"ticks\":\"\"}}],\"histogram2d\":[{\"type\":\"histogram2d\",\"colorbar\":{\"outlinewidth\":0,\"ticks\":\"\"},\"colorscale\":[[0.0,\"#0d0887\"],[0.1111111111111111,\"#46039f\"],[0.2222222222222222,\"#7201a8\"],[0.3333333333333333,\"#9c179e\"],[0.4444444444444444,\"#bd3786\"],[0.5555555555555556,\"#d8576b\"],[0.6666666666666666,\"#ed7953\"],[0.7777777777777778,\"#fb9f3a\"],[0.8888888888888888,\"#fdca26\"],[1.0,\"#f0f921\"]]}],\"heatmap\":[{\"type\":\"heatmap\",\"colorbar\":{\"outlinewidth\":0,\"ticks\":\"\"},\"colorscale\":[[0.0,\"#0d0887\"],[0.1111111111111111,\"#46039f\"],[0.2222222222222222,\"#7201a8\"],[0.3333333333333333,\"#9c179e\"],[0.4444444444444444,\"#bd3786\"],[0.5555555555555556,\"#d8576b\"],[0.6666666666666666,\"#ed7953\"],[0.7777777777777778,\"#fb9f3a\"],[0.8888888888888888,\"#fdca26\"],[1.0,\"#f0f921\"]]}],\"heatmapgl\":[{\"type\":\"heatmapgl\",\"colorbar\":{\"outlinewidth\":0,\"ticks\":\"\"},\"colorscale\":[[0.0,\"#0d0887\"],[0.1111111111111111,\"#46039f\"],[0.2222222222222222,\"#7201a8\"],[0.3333333333333333,\"#9c179e\"],[0.4444444444444444,\"#bd3786\"],[0.5555555555555556,\"#d8576b\"],[0.6666666666666666,\"#ed7953\"],[0.7777777777777778,\"#fb9f3a\"],[0.8888888888888888,\"#fdca26\"],[1.0,\"#f0f921\"]]}],\"contourcarpet\":[{\"type\":\"contourcarpet\",\"colorbar\":{\"outlinewidth\":0,\"ticks\":\"\"}}],\"contour\":[{\"type\":\"contour\",\"colorbar\":{\"outlinewidth\":0,\"ticks\":\"\"},\"colorscale\":[[0.0,\"#0d0887\"],[0.1111111111111111,\"#46039f\"],[0.2222222222222222,\"#7201a8\"],[0.3333333333333333,\"#9c179e\"],[0.4444444444444444,\"#bd3786\"],[0.5555555555555556,\"#d8576b\"],[0.6666666666666666,\"#ed7953\"],[0.7777777777777778,\"#fb9f3a\"],[0.8888888888888888,\"#fdca26\"],[1.0,\"#f0f921\"]]}],\"surface\":[{\"type\":\"surface\",\"colorbar\":{\"outlinewidth\":0,\"ticks\":\"\"},\"colorscale\":[[0.0,\"#0d0887\"],[0.1111111111111111,\"#46039f\"],[0.2222222222222222,\"#7201a8\"],[0.3333333333333333,\"#9c179e\"],[0.4444444444444444,\"#bd3786\"],[0.5555555555555556,\"#d8576b\"],[0.6666666666666666,\"#ed7953\"],[0.7777777777777778,\"#fb9f3a\"],[0.8888888888888888,\"#fdca26\"],[1.0,\"#f0f921\"]]}],\"mesh3d\":[{\"type\":\"mesh3d\",\"colorbar\":{\"outlinewidth\":0,\"ticks\":\"\"}}],\"scatter\":[{\"fillpattern\":{\"fillmode\":\"overlay\",\"size\":10,\"solidity\":0.2},\"type\":\"scatter\"}],\"parcoords\":[{\"type\":\"parcoords\",\"line\":{\"colorbar\":{\"outlinewidth\":0,\"ticks\":\"\"}}}],\"scatterpolargl\":[{\"type\":\"scatterpolargl\",\"marker\":{\"colorbar\":{\"outlinewidth\":0,\"ticks\":\"\"}}}],\"bar\":[{\"error_x\":{\"color\":\"#2a3f5f\"},\"error_y\":{\"color\":\"#2a3f5f\"},\"marker\":{\"line\":{\"color\":\"#E5ECF6\",\"width\":0.5},\"pattern\":{\"fillmode\":\"overlay\",\"size\":10,\"solidity\":0.2}},\"type\":\"bar\"}],\"scattergeo\":[{\"type\":\"scattergeo\",\"marker\":{\"colorbar\":{\"outlinewidth\":0,\"ticks\":\"\"}}}],\"scatterpolar\":[{\"type\":\"scatterpolar\",\"marker\":{\"colorbar\":{\"outlinewidth\":0,\"ticks\":\"\"}}}],\"histogram\":[{\"marker\":{\"pattern\":{\"fillmode\":\"overlay\",\"size\":10,\"solidity\":0.2}},\"type\":\"histogram\"}],\"scattergl\":[{\"type\":\"scattergl\",\"marker\":{\"colorbar\":{\"outlinewidth\":0,\"ticks\":\"\"}}}],\"scatter3d\":[{\"type\":\"scatter3d\",\"line\":{\"colorbar\":{\"outlinewidth\":0,\"ticks\":\"\"}},\"marker\":{\"colorbar\":{\"outlinewidth\":0,\"ticks\":\"\"}}}],\"scattermapbox\":[{\"type\":\"scattermapbox\",\"marker\":{\"colorbar\":{\"outlinewidth\":0,\"ticks\":\"\"}}}],\"scatterternary\":[{\"type\":\"scatterternary\",\"marker\":{\"colorbar\":{\"outlinewidth\":0,\"ticks\":\"\"}}}],\"scattercarpet\":[{\"type\":\"scattercarpet\",\"marker\":{\"colorbar\":{\"outlinewidth\":0,\"ticks\":\"\"}}}],\"carpet\":[{\"aaxis\":{\"endlinecolor\":\"#2a3f5f\",\"gridcolor\":\"white\",\"linecolor\":\"white\",\"minorgridcolor\":\"white\",\"startlinecolor\":\"#2a3f5f\"},\"baxis\":{\"endlinecolor\":\"#2a3f5f\",\"gridcolor\":\"white\",\"linecolor\":\"white\",\"minorgridcolor\":\"white\",\"startlinecolor\":\"#2a3f5f\"},\"type\":\"carpet\"}],\"table\":[{\"cells\":{\"fill\":{\"color\":\"#EBF0F8\"},\"line\":{\"color\":\"white\"}},\"header\":{\"fill\":{\"color\":\"#C8D4E3\"},\"line\":{\"color\":\"white\"}},\"type\":\"table\"}],\"barpolar\":[{\"marker\":{\"line\":{\"color\":\"#E5ECF6\",\"width\":0.5},\"pattern\":{\"fillmode\":\"overlay\",\"size\":10,\"solidity\":0.2}},\"type\":\"barpolar\"}],\"pie\":[{\"automargin\":true,\"type\":\"pie\"}]},\"layout\":{\"autotypenumbers\":\"strict\",\"colorway\":[\"#636efa\",\"#EF553B\",\"#00cc96\",\"#ab63fa\",\"#FFA15A\",\"#19d3f3\",\"#FF6692\",\"#B6E880\",\"#FF97FF\",\"#FECB52\"],\"font\":{\"color\":\"#2a3f5f\"},\"hovermode\":\"closest\",\"hoverlabel\":{\"align\":\"left\"},\"paper_bgcolor\":\"white\",\"plot_bgcolor\":\"#E5ECF6\",\"polar\":{\"bgcolor\":\"#E5ECF6\",\"angularaxis\":{\"gridcolor\":\"white\",\"linecolor\":\"white\",\"ticks\":\"\"},\"radialaxis\":{\"gridcolor\":\"white\",\"linecolor\":\"white\",\"ticks\":\"\"}},\"ternary\":{\"bgcolor\":\"#E5ECF6\",\"aaxis\":{\"gridcolor\":\"white\",\"linecolor\":\"white\",\"ticks\":\"\"},\"baxis\":{\"gridcolor\":\"white\",\"linecolor\":\"white\",\"ticks\":\"\"},\"caxis\":{\"gridcolor\":\"white\",\"linecolor\":\"white\",\"ticks\":\"\"}},\"coloraxis\":{\"colorbar\":{\"outlinewidth\":0,\"ticks\":\"\"}},\"colorscale\":{\"sequential\":[[0.0,\"#0d0887\"],[0.1111111111111111,\"#46039f\"],[0.2222222222222222,\"#7201a8\"],[0.3333333333333333,\"#9c179e\"],[0.4444444444444444,\"#bd3786\"],[0.5555555555555556,\"#d8576b\"],[0.6666666666666666,\"#ed7953\"],[0.7777777777777778,\"#fb9f3a\"],[0.8888888888888888,\"#fdca26\"],[1.0,\"#f0f921\"]],\"sequentialminus\":[[0.0,\"#0d0887\"],[0.1111111111111111,\"#46039f\"],[0.2222222222222222,\"#7201a8\"],[0.3333333333333333,\"#9c179e\"],[0.4444444444444444,\"#bd3786\"],[0.5555555555555556,\"#d8576b\"],[0.6666666666666666,\"#ed7953\"],[0.7777777777777778,\"#fb9f3a\"],[0.8888888888888888,\"#fdca26\"],[1.0,\"#f0f921\"]],\"diverging\":[[0,\"#8e0152\"],[0.1,\"#c51b7d\"],[0.2,\"#de77ae\"],[0.3,\"#f1b6da\"],[0.4,\"#fde0ef\"],[0.5,\"#f7f7f7\"],[0.6,\"#e6f5d0\"],[0.7,\"#b8e186\"],[0.8,\"#7fbc41\"],[0.9,\"#4d9221\"],[1,\"#276419\"]]},\"xaxis\":{\"gridcolor\":\"white\",\"linecolor\":\"white\",\"ticks\":\"\",\"title\":{\"standoff\":15},\"zerolinecolor\":\"white\",\"automargin\":true,\"zerolinewidth\":2},\"yaxis\":{\"gridcolor\":\"white\",\"linecolor\":\"white\",\"ticks\":\"\",\"title\":{\"standoff\":15},\"zerolinecolor\":\"white\",\"automargin\":true,\"zerolinewidth\":2},\"scene\":{\"xaxis\":{\"backgroundcolor\":\"#E5ECF6\",\"gridcolor\":\"white\",\"linecolor\":\"white\",\"showbackground\":true,\"ticks\":\"\",\"zerolinecolor\":\"white\",\"gridwidth\":2},\"yaxis\":{\"backgroundcolor\":\"#E5ECF6\",\"gridcolor\":\"white\",\"linecolor\":\"white\",\"showbackground\":true,\"ticks\":\"\",\"zerolinecolor\":\"white\",\"gridwidth\":2},\"zaxis\":{\"backgroundcolor\":\"#E5ECF6\",\"gridcolor\":\"white\",\"linecolor\":\"white\",\"showbackground\":true,\"ticks\":\"\",\"zerolinecolor\":\"white\",\"gridwidth\":2}},\"shapedefaults\":{\"line\":{\"color\":\"#2a3f5f\"}},\"annotationdefaults\":{\"arrowcolor\":\"#2a3f5f\",\"arrowhead\":0,\"arrowwidth\":1},\"geo\":{\"bgcolor\":\"white\",\"landcolor\":\"#E5ECF6\",\"subunitcolor\":\"white\",\"showland\":true,\"showlakes\":true,\"lakecolor\":\"white\"},\"title\":{\"x\":0.05},\"mapbox\":{\"style\":\"light\"}}},\"xaxis\":{\"anchor\":\"y\",\"domain\":[0.0,1.0],\"title\":{\"text\":\"GDPpcap\"}},\"yaxis\":{\"anchor\":\"x\",\"domain\":[0.0,1.0],\"title\":{\"text\":\"Life Expectancy\"}},\"legend\":{\"tracegroupgap\":0},\"margin\":{\"t\":60}},                        {\"responsive\": true}                    ).then(function(){\n",
       "                            \n",
       "var gd = document.getElementById('497a4457-6a92-4d9a-a8b9-277f03cb3750');\n",
       "var x = new MutationObserver(function (mutations, observer) {{\n",
       "        var display = window.getComputedStyle(gd).display;\n",
       "        if (!display || display === 'none') {{\n",
       "            console.log([gd, 'removed!']);\n",
       "            Plotly.purge(gd);\n",
       "            observer.disconnect();\n",
       "        }}\n",
       "}});\n",
       "\n",
       "// Listen for the removal of the full notebook cells\n",
       "var notebookContainer = gd.closest('#notebook-container');\n",
       "if (notebookContainer) {{\n",
       "    x.observe(notebookContainer, {childList: true});\n",
       "}}\n",
       "\n",
       "// Listen for the clearing of the current output cell\n",
       "var outputEl = gd.closest('.output');\n",
       "if (outputEl) {{\n",
       "    x.observe(outputEl, {childList: true});\n",
       "}}\n",
       "\n",
       "                        })                };                });            </script>        </div>"
      ]
     },
     "metadata": {},
     "output_type": "display_data"
    }
   ],
   "source": [
    "gwp_2019 = gapminder_df.query('Year == 2019' )\n",
    "\n",
    "fig = px.scatter(\n",
    "    gwp_2019,\n",
    "    x='GDPpcap',\n",
    "    y='Life Expectancy'\n",
    "   )\n",
    "\n",
    "fig.show()"
   ]
  },
  {
   "cell_type": "code",
   "execution_count": 145,
   "id": "bb45e0fc",
   "metadata": {
    "vscode": {
     "languageId": "javascript"
    }
   },
   "outputs": [
    {
     "data": {
      "application/vnd.plotly.v1+json": {
       "config": {
        "plotlyServerURL": "https://plot.ly"
       },
       "data": [
        {
         "hovertemplate": "<b>%{hovertext}</b><br><br>Region=Asia<br>GDP per Capita (USD)=%{x}<br>Life Expectancy (Years)=%{y}<br>Population=%{marker.size}<extra></extra>",
         "hovertext": [
          "Afghanistan",
          "Australia",
          "Bahrain",
          "Bangladesh",
          "Bhutan",
          "Brunei",
          "Cambodia",
          "China",
          "Fiji",
          "Hong Kong, China",
          "India",
          "Indonesia",
          "Iran",
          "Iraq",
          "Israel",
          "Japan",
          "Jordan",
          "Kazakhstan",
          "Kiribati",
          "Kuwait",
          "Kyrgyz Republic",
          "Lao",
          "Lebanon",
          "Malaysia",
          "Maldives",
          "Marshall Islands",
          "Micronesia, Fed. Sts.",
          "Mongolia",
          "Myanmar",
          "Nauru",
          "Nepal",
          "New Zealand",
          "North Korea",
          "Oman",
          "Pakistan",
          "Palau",
          "Palestine",
          "Papua New Guinea",
          "Philippines",
          "Qatar",
          "Samoa",
          "Saudi Arabia",
          "Singapore",
          "Solomon Islands",
          "South Korea",
          "Sri Lanka",
          "Syria",
          "Taiwan",
          "Tajikistan",
          "Thailand",
          "Timor-Leste",
          "Tonga",
          "Turkmenistan",
          "Tuvalu",
          "UAE",
          "Uzbekistan",
          "Vanuatu",
          "Vietnam",
          "Yemen"
         ],
         "legendgroup": "Asia",
         "marker": {
          "color": "#636efa",
          "size": [
           37900000,
           25500000,
           1490000,
           165000000,
           765000,
           443000,
           16500000,
           1420000000,
           915000,
           7490000,
           1390000000,
           272000000,
           87100000,
           41200000,
           8660000,
           127000000,
           10700000,
           19200000,
           124000,
           4440000,
           6490000,
           7240000,
           5790000,
           33400000,
           488000,
           44000,
           110000,
           3230000,
           52600000,
           11600,
           28400000,
           4990000,
           26000000,
           4590000,
           231000000,
           17800,
           4960000,
           9610000,
           111000000,
           2800000,
           210000,
           30500000,
           5670000,
           728000,
           51800000,
           22400000,
           20400000,
           23700000,
           9530000,
           71500000,
           1300000,
           106000,
           6800000,
           10600,
           9380000,
           33000000,
           292000,
           97200000,
           35100000
          ],
          "sizemode": "area",
          "sizeref": 394444.44444444444,
          "symbol": "circle"
         },
         "mode": "markers",
         "name": "Asia",
         "orientation": "v",
         "showlegend": true,
         "type": "scatter",
         "x": [
          2080,
          49600,
          49800,
          5470,
          11800,
          61400,
          4460,
          16000,
          13200,
          59600,
          6570,
          11900,
          14100,
          10300,
          41200,
          41400,
          9350,
          26600,
          1930,
          45400,
          5280,
          7840,
          17200,
          27600,
          21000,
          5710,
          3340,
          12500,
          5110,
          10400,
          3920,
          43400,
          1910,
          33800,
          5160,
          17500,
          6250,
          3980,
          8730,
          90700,
          6350,
          46100,
          97700,
          2540,
          42700,
          13500,
          3650,
          51300,
          3580,
          18000,
          3740,
          6340,
          15800,
          4830,
          71500,
          7400,
          3140,
          10300,
          2000
         ],
         "xaxis": "x",
         "y": [
          63.3,
          82.9,
          77,
          74.5,
          73.2,
          74.4,
          69.9,
          77.6,
          68.4,
          85.3,
          70.8,
          71.4,
          77.8,
          73.3,
          83,
          84.8,
          78.2,
          71.9,
          60.8,
          81.5,
          73.4,
          69,
          76.6,
          75,
          79.1,
          65.5,
          64.1,
          68.1,
          69.5,
          63.4,
          71.1,
          81.8,
          73.2,
          74,
          65.9,
          67.5,
          74.8,
          64.7,
          71.8,
          76.3,
          70.5,
          74.5,
          84.8,
          59.2,
          82.9,
          77.3,
          73.9,
          80.3,
          69.6,
          78.4,
          70.6,
          73,
          70.8,
          67.9,
          73.9,
          68.4,
          65.5,
          74.5,
          67.7
         ],
         "yaxis": "y"
        },
        {
         "hovertemplate": "<b>%{hovertext}</b><br><br>Region=Europe<br>GDP per Capita (USD)=%{x}<br>Life Expectancy (Years)=%{y}<br>Population=%{marker.size}<extra></extra>",
         "hovertext": [
          "Albania",
          "Andorra",
          "Armenia",
          "Austria",
          "Azerbaijan",
          "Belarus",
          "Belgium",
          "Bosnia and Herzegovina",
          "Bulgaria",
          "Croatia",
          "Cyprus",
          "Czech Republic",
          "Denmark",
          "Estonia",
          "Finland",
          "France",
          "Georgia",
          "Germany",
          "Greece",
          "Hungary",
          "Iceland",
          "Ireland",
          "Italy",
          "Latvia",
          "Liechtenstein",
          "Lithuania",
          "Luxembourg",
          "Malta",
          "Moldova",
          "Monaco",
          "Montenegro",
          "Netherlands",
          "Norway",
          "Poland",
          "Portugal",
          "Romania",
          "Russia",
          "San Marino",
          "Serbia",
          "Slovak Republic",
          "Slovenia",
          "Spain",
          "Sweden",
          "Switzerland",
          "Turkey",
          "UK",
          "Ukraine"
         ],
         "legendgroup": "Europe",
         "marker": {
          "color": "#EF553B",
          "size": [
           2890000,
           76500,
           2900000,
           8880000,
           10100000,
           9440000,
           11500000,
           3350000,
           6980000,
           3990000,
           1290000,
           10600000,
           5810000,
           1330000,
           5520000,
           65700000,
           3800000,
           83600000,
           10700000,
           9770000,
           361000,
           4930000,
           60100000,
           1910000,
           38400,
           2800000,
           620000,
           504000,
           3110000,
           38100,
           612000,
           17500000,
           5350000,
           38200000,
           10300000,
           19500000,
           147000000,
           34700,
           6970000,
           5450000,
           2080000,
           47400000,
           10300000,
           8580000,
           85400000,
           67100000,
           45000000
          ],
          "sizemode": "area",
          "sizeref": 394444.44444444444,
          "symbol": "circle"
         },
         "mode": "markers",
         "name": "Europe",
         "orientation": "v",
         "showlegend": true,
         "type": "scatter",
         "x": [
          13700,
          56300,
          14300,
          56100,
          14400,
          19300,
          51600,
          14900,
          23300,
          29300,
          40100,
          41000,
          56000,
          36600,
          48700,
          46000,
          14900,
          53700,
          29600,
          32700,
          56000,
          85400,
          42200,
          30700,
          null,
          37100,
          112000,
          45400,
          12700,
          206000,
          21500,
          56100,
          65000,
          33100,
          35000,
          30000,
          27300,
          60100,
          18300,
          32100,
          39000,
          40400,
          52500,
          69000,
          28200,
          46300,
          12800
         ],
         "xaxis": "x",
         "y": [
          78.5,
          82.2,
          75.7,
          82.2,
          71,
          74,
          81.4,
          77,
          73.3,
          78.7,
          80.8,
          79.5,
          81.1,
          78,
          81.9,
          82.9,
          73.4,
          81.2,
          80.9,
          76.6,
          84.1,
          82,
          83.1,
          75.9,
          84.3,
          76.2,
          82.9,
          82.6,
          74.3,
          80.1,
          75.9,
          81.7,
          82.9,
          78.1,
          81.7,
          75.5,
          73,
          82.2,
          75.7,
          77.6,
          81.4,
          83.1,
          82.8,
          84,
          78.4,
          81.1,
          73.8
         ],
         "yaxis": "y"
        },
        {
         "hovertemplate": "<b>%{hovertext}</b><br><br>Region=Africa<br>GDP per Capita (USD)=%{x}<br>Life Expectancy (Years)=%{y}<br>Population=%{marker.size}<extra></extra>",
         "hovertext": [
          "Algeria",
          "Angola",
          "Benin",
          "Botswana",
          "Burkina Faso",
          "Burundi",
          "Cameroon",
          "Cape Verde",
          "Central African Republic",
          "Chad",
          "Comoros",
          "Congo, Dem. Rep.",
          "Congo, Rep.",
          "Cote d'Ivoire",
          "Djibouti",
          "Egypt",
          "Equatorial Guinea",
          "Eritrea",
          "Ethiopia",
          "Gabon",
          "Gambia",
          "Ghana",
          "Guinea",
          "Guinea-Bissau",
          "Kenya",
          "Lesotho",
          "Liberia",
          "Libya",
          "Madagascar",
          "Malawi",
          "Mali",
          "Mauritania",
          "Mauritius",
          "Morocco",
          "Mozambique",
          "Namibia",
          "Niger",
          "Nigeria",
          "Rwanda",
          "Sao Tome and Principe",
          "Senegal",
          "Seychelles",
          "Sierra Leone",
          "Somalia",
          "South Africa",
          "South Sudan",
          "Sudan",
          "Tanzania",
          "Togo",
          "Tunisia",
          "Uganda",
          "Zambia",
          "Zimbabwe"
         ],
         "legendgroup": "Africa",
         "marker": {
          "color": "#00cc96",
          "size": [
           43300000,
           32400000,
           12700000,
           2330000,
           21000000,
           12300000,
           25500000,
           514000,
           4940000,
           16700000,
           787000,
           92900000,
           5620000,
           28200000,
           1090000,
           108000000,
           1670000,
           3240000,
           116000000,
           2270000,
           2460000,
           31300000,
           13000000,
           1970000,
           51200000,
           2210000,
           5040000,
           6950000,
           28200000,
           19000000,
           21100000,
           4470000,
           1290000,
           36200000,
           29900000,
           2650000,
           22900000,
           209000000,
           12800000,
           213000,
           16400000,
           118000,
           7730000,
           16000000,
           59600000,
           10400000,
           45500000,
           59200000,
           8460000,
           11900000,
           43000000,
           18500000,
           15300000
          ],
          "sizemode": "area",
          "sizeref": 394444.44444444444,
          "symbol": "circle"
         },
         "mode": "markers",
         "name": "Africa",
         "orientation": "v",
         "showlegend": true,
         "type": "scatter",
         "x": [
          11600,
          6600,
          3160,
          15100,
          2110,
          730,
          3770,
          7920,
          861,
          1560,
          3290,
          1060,
          3580,
          5180,
          4780,
          11800,
          16000,
          1760,
          2180,
          14500,
          2060,
          5360,
          2550,
          1770,
          4600,
          2490,
          1460,
          19700,
          1590,
          1520,
          2220,
          5570,
          23700,
          8210,
          1280,
          10000,
          1220,
          5080,
          2190,
          4030,
          3430,
          31700,
          1660,
          1210,
          13800,
          426,
          4130,
          2580,
          2070,
          11100,
          2250,
          3320,
          2200
         ],
         "xaxis": "x",
         "y": [
          76.2,
          65.1,
          64.5,
          62.3,
          61.7,
          63.8,
          63.4,
          73.7,
          52.4,
          60.4,
          68.7,
          65,
          65.4,
          64.3,
          66.8,
          71,
          66,
          63.8,
          68.8,
          67.8,
          66.7,
          66.3,
          61.2,
          61,
          66.5,
          51.8,
          66.1,
          75.9,
          65.5,
          64.7,
          61.8,
          70.8,
          75.5,
          73.3,
          58.4,
          65.2,
          62.5,
          64.3,
          68.7,
          70.9,
          68.5,
          73.6,
          61.8,
          58.5,
          65.1,
          63.7,
          70.5,
          67.2,
          65,
          77.7,
          66.2,
          63.2,
          61
         ],
         "yaxis": "y"
        },
        {
         "hovertemplate": "<b>%{hovertext}</b><br><br>Region=Americas<br>GDP per Capita (USD)=%{x}<br>Life Expectancy (Years)=%{y}<br>Population=%{marker.size}<extra></extra>",
         "hovertext": [
          "Antigua and Barbuda",
          "Argentina",
          "Bahamas",
          "Barbados",
          "Belize",
          "Bolivia",
          "Brazil",
          "Canada",
          "Chile",
          "Colombia",
          "Costa Rica",
          "Cuba",
          "Dominica",
          "Dominican Republic",
          "Ecuador",
          "El Salvador",
          "Grenada",
          "Guatemala",
          "Guyana",
          "Haiti",
          "Honduras",
          "Jamaica",
          "Mexico",
          "Nicaragua",
          "Panama",
          "Paraguay",
          "Peru",
          "St. Kitts and Nevis",
          "St. Lucia",
          "St. Vincent and the Grenadines",
          "Suriname",
          "Trinidad and Tobago",
          "USA",
          "Uruguay",
          "Venezuela"
         ],
         "legendgroup": "Americas",
         "marker": {
          "color": "#ab63fa",
          "size": [
           91400,
           45000000,
           395000,
           281000,
           386000,
           11700000,
           207000000,
           37800000,
           19200000,
           49900000,
           5000000,
           11200000,
           67900,
           10900000,
           17300000,
           6220000,
           116000,
           17100000,
           808000,
           11100000,
           9940000,
           2820000,
           126000000,
           6480000,
           4230000,
           6520000,
           32400000,
           47000,
           178000,
           104000,
           606000,
           1480000,
           338000000,
           3400000,
           28900000
          ],
          "sizemode": "area",
          "sizeref": 394444.44444444444,
          "symbol": "circle"
         },
         "mode": "markers",
         "name": "Americas",
         "orientation": "v",
         "showlegend": true,
         "type": "scatter",
         "x": [
          22900,
          22000,
          33400,
          16000,
          8860,
          8530,
          14700,
          49000,
          24900,
          14600,
          20800,
          9450,
          12400,
          18200,
          11000,
          8970,
          15400,
          8670,
          12800,
          3110,
          5610,
          10200,
          20000,
          5400,
          32800,
          13600,
          12800,
          31100,
          15500,
          14200,
          18400,
          25700,
          62200,
          23800,
          7800
         ],
         "xaxis": "x",
         "y": [
          76.3,
          76.6,
          73.4,
          76.2,
          74.5,
          72,
          75.8,
          82.2,
          80.2,
          80.2,
          80.1,
          78.7,
          72.3,
          73.2,
          76.4,
          75.7,
          73.3,
          72.6,
          67.3,
          63.8,
          72.1,
          76.3,
          75.6,
          75.4,
          80,
          76.6,
          80.3,
          72.1,
          75.1,
          73,
          72.7,
          74.9,
          78.9,
          77.5,
          75
         ],
         "yaxis": "y"
        }
       ],
       "layout": {
        "autosize": true,
        "legend": {
         "itemsizing": "constant",
         "title": {
          "text": "Region"
         },
         "tracegroupgap": 0
        },
        "template": {
         "data": {
          "bar": [
           {
            "error_x": {
             "color": "#2a3f5f"
            },
            "error_y": {
             "color": "#2a3f5f"
            },
            "marker": {
             "line": {
              "color": "#E5ECF6",
              "width": 0.5
             },
             "pattern": {
              "fillmode": "overlay",
              "size": 10,
              "solidity": 0.2
             }
            },
            "type": "bar"
           }
          ],
          "barpolar": [
           {
            "marker": {
             "line": {
              "color": "#E5ECF6",
              "width": 0.5
             },
             "pattern": {
              "fillmode": "overlay",
              "size": 10,
              "solidity": 0.2
             }
            },
            "type": "barpolar"
           }
          ],
          "carpet": [
           {
            "aaxis": {
             "endlinecolor": "#2a3f5f",
             "gridcolor": "white",
             "linecolor": "white",
             "minorgridcolor": "white",
             "startlinecolor": "#2a3f5f"
            },
            "baxis": {
             "endlinecolor": "#2a3f5f",
             "gridcolor": "white",
             "linecolor": "white",
             "minorgridcolor": "white",
             "startlinecolor": "#2a3f5f"
            },
            "type": "carpet"
           }
          ],
          "choropleth": [
           {
            "colorbar": {
             "outlinewidth": 0,
             "ticks": ""
            },
            "type": "choropleth"
           }
          ],
          "contour": [
           {
            "colorbar": {
             "outlinewidth": 0,
             "ticks": ""
            },
            "colorscale": [
             [
              0,
              "#0d0887"
             ],
             [
              0.1111111111111111,
              "#46039f"
             ],
             [
              0.2222222222222222,
              "#7201a8"
             ],
             [
              0.3333333333333333,
              "#9c179e"
             ],
             [
              0.4444444444444444,
              "#bd3786"
             ],
             [
              0.5555555555555556,
              "#d8576b"
             ],
             [
              0.6666666666666666,
              "#ed7953"
             ],
             [
              0.7777777777777778,
              "#fb9f3a"
             ],
             [
              0.8888888888888888,
              "#fdca26"
             ],
             [
              1,
              "#f0f921"
             ]
            ],
            "type": "contour"
           }
          ],
          "contourcarpet": [
           {
            "colorbar": {
             "outlinewidth": 0,
             "ticks": ""
            },
            "type": "contourcarpet"
           }
          ],
          "heatmap": [
           {
            "colorbar": {
             "outlinewidth": 0,
             "ticks": ""
            },
            "colorscale": [
             [
              0,
              "#0d0887"
             ],
             [
              0.1111111111111111,
              "#46039f"
             ],
             [
              0.2222222222222222,
              "#7201a8"
             ],
             [
              0.3333333333333333,
              "#9c179e"
             ],
             [
              0.4444444444444444,
              "#bd3786"
             ],
             [
              0.5555555555555556,
              "#d8576b"
             ],
             [
              0.6666666666666666,
              "#ed7953"
             ],
             [
              0.7777777777777778,
              "#fb9f3a"
             ],
             [
              0.8888888888888888,
              "#fdca26"
             ],
             [
              1,
              "#f0f921"
             ]
            ],
            "type": "heatmap"
           }
          ],
          "heatmapgl": [
           {
            "colorbar": {
             "outlinewidth": 0,
             "ticks": ""
            },
            "colorscale": [
             [
              0,
              "#0d0887"
             ],
             [
              0.1111111111111111,
              "#46039f"
             ],
             [
              0.2222222222222222,
              "#7201a8"
             ],
             [
              0.3333333333333333,
              "#9c179e"
             ],
             [
              0.4444444444444444,
              "#bd3786"
             ],
             [
              0.5555555555555556,
              "#d8576b"
             ],
             [
              0.6666666666666666,
              "#ed7953"
             ],
             [
              0.7777777777777778,
              "#fb9f3a"
             ],
             [
              0.8888888888888888,
              "#fdca26"
             ],
             [
              1,
              "#f0f921"
             ]
            ],
            "type": "heatmapgl"
           }
          ],
          "histogram": [
           {
            "marker": {
             "pattern": {
              "fillmode": "overlay",
              "size": 10,
              "solidity": 0.2
             }
            },
            "type": "histogram"
           }
          ],
          "histogram2d": [
           {
            "colorbar": {
             "outlinewidth": 0,
             "ticks": ""
            },
            "colorscale": [
             [
              0,
              "#0d0887"
             ],
             [
              0.1111111111111111,
              "#46039f"
             ],
             [
              0.2222222222222222,
              "#7201a8"
             ],
             [
              0.3333333333333333,
              "#9c179e"
             ],
             [
              0.4444444444444444,
              "#bd3786"
             ],
             [
              0.5555555555555556,
              "#d8576b"
             ],
             [
              0.6666666666666666,
              "#ed7953"
             ],
             [
              0.7777777777777778,
              "#fb9f3a"
             ],
             [
              0.8888888888888888,
              "#fdca26"
             ],
             [
              1,
              "#f0f921"
             ]
            ],
            "type": "histogram2d"
           }
          ],
          "histogram2dcontour": [
           {
            "colorbar": {
             "outlinewidth": 0,
             "ticks": ""
            },
            "colorscale": [
             [
              0,
              "#0d0887"
             ],
             [
              0.1111111111111111,
              "#46039f"
             ],
             [
              0.2222222222222222,
              "#7201a8"
             ],
             [
              0.3333333333333333,
              "#9c179e"
             ],
             [
              0.4444444444444444,
              "#bd3786"
             ],
             [
              0.5555555555555556,
              "#d8576b"
             ],
             [
              0.6666666666666666,
              "#ed7953"
             ],
             [
              0.7777777777777778,
              "#fb9f3a"
             ],
             [
              0.8888888888888888,
              "#fdca26"
             ],
             [
              1,
              "#f0f921"
             ]
            ],
            "type": "histogram2dcontour"
           }
          ],
          "mesh3d": [
           {
            "colorbar": {
             "outlinewidth": 0,
             "ticks": ""
            },
            "type": "mesh3d"
           }
          ],
          "parcoords": [
           {
            "line": {
             "colorbar": {
              "outlinewidth": 0,
              "ticks": ""
             }
            },
            "type": "parcoords"
           }
          ],
          "pie": [
           {
            "automargin": true,
            "type": "pie"
           }
          ],
          "scatter": [
           {
            "fillpattern": {
             "fillmode": "overlay",
             "size": 10,
             "solidity": 0.2
            },
            "type": "scatter"
           }
          ],
          "scatter3d": [
           {
            "line": {
             "colorbar": {
              "outlinewidth": 0,
              "ticks": ""
             }
            },
            "marker": {
             "colorbar": {
              "outlinewidth": 0,
              "ticks": ""
             }
            },
            "type": "scatter3d"
           }
          ],
          "scattercarpet": [
           {
            "marker": {
             "colorbar": {
              "outlinewidth": 0,
              "ticks": ""
             }
            },
            "type": "scattercarpet"
           }
          ],
          "scattergeo": [
           {
            "marker": {
             "colorbar": {
              "outlinewidth": 0,
              "ticks": ""
             }
            },
            "type": "scattergeo"
           }
          ],
          "scattergl": [
           {
            "marker": {
             "colorbar": {
              "outlinewidth": 0,
              "ticks": ""
             }
            },
            "type": "scattergl"
           }
          ],
          "scattermapbox": [
           {
            "marker": {
             "colorbar": {
              "outlinewidth": 0,
              "ticks": ""
             }
            },
            "type": "scattermapbox"
           }
          ],
          "scatterpolar": [
           {
            "marker": {
             "colorbar": {
              "outlinewidth": 0,
              "ticks": ""
             }
            },
            "type": "scatterpolar"
           }
          ],
          "scatterpolargl": [
           {
            "marker": {
             "colorbar": {
              "outlinewidth": 0,
              "ticks": ""
             }
            },
            "type": "scatterpolargl"
           }
          ],
          "scatterternary": [
           {
            "marker": {
             "colorbar": {
              "outlinewidth": 0,
              "ticks": ""
             }
            },
            "type": "scatterternary"
           }
          ],
          "surface": [
           {
            "colorbar": {
             "outlinewidth": 0,
             "ticks": ""
            },
            "colorscale": [
             [
              0,
              "#0d0887"
             ],
             [
              0.1111111111111111,
              "#46039f"
             ],
             [
              0.2222222222222222,
              "#7201a8"
             ],
             [
              0.3333333333333333,
              "#9c179e"
             ],
             [
              0.4444444444444444,
              "#bd3786"
             ],
             [
              0.5555555555555556,
              "#d8576b"
             ],
             [
              0.6666666666666666,
              "#ed7953"
             ],
             [
              0.7777777777777778,
              "#fb9f3a"
             ],
             [
              0.8888888888888888,
              "#fdca26"
             ],
             [
              1,
              "#f0f921"
             ]
            ],
            "type": "surface"
           }
          ],
          "table": [
           {
            "cells": {
             "fill": {
              "color": "#EBF0F8"
             },
             "line": {
              "color": "white"
             }
            },
            "header": {
             "fill": {
              "color": "#C8D4E3"
             },
             "line": {
              "color": "white"
             }
            },
            "type": "table"
           }
          ]
         },
         "layout": {
          "annotationdefaults": {
           "arrowcolor": "#2a3f5f",
           "arrowhead": 0,
           "arrowwidth": 1
          },
          "autotypenumbers": "strict",
          "coloraxis": {
           "colorbar": {
            "outlinewidth": 0,
            "ticks": ""
           }
          },
          "colorscale": {
           "diverging": [
            [
             0,
             "#8e0152"
            ],
            [
             0.1,
             "#c51b7d"
            ],
            [
             0.2,
             "#de77ae"
            ],
            [
             0.3,
             "#f1b6da"
            ],
            [
             0.4,
             "#fde0ef"
            ],
            [
             0.5,
             "#f7f7f7"
            ],
            [
             0.6,
             "#e6f5d0"
            ],
            [
             0.7,
             "#b8e186"
            ],
            [
             0.8,
             "#7fbc41"
            ],
            [
             0.9,
             "#4d9221"
            ],
            [
             1,
             "#276419"
            ]
           ],
           "sequential": [
            [
             0,
             "#0d0887"
            ],
            [
             0.1111111111111111,
             "#46039f"
            ],
            [
             0.2222222222222222,
             "#7201a8"
            ],
            [
             0.3333333333333333,
             "#9c179e"
            ],
            [
             0.4444444444444444,
             "#bd3786"
            ],
            [
             0.5555555555555556,
             "#d8576b"
            ],
            [
             0.6666666666666666,
             "#ed7953"
            ],
            [
             0.7777777777777778,
             "#fb9f3a"
            ],
            [
             0.8888888888888888,
             "#fdca26"
            ],
            [
             1,
             "#f0f921"
            ]
           ],
           "sequentialminus": [
            [
             0,
             "#0d0887"
            ],
            [
             0.1111111111111111,
             "#46039f"
            ],
            [
             0.2222222222222222,
             "#7201a8"
            ],
            [
             0.3333333333333333,
             "#9c179e"
            ],
            [
             0.4444444444444444,
             "#bd3786"
            ],
            [
             0.5555555555555556,
             "#d8576b"
            ],
            [
             0.6666666666666666,
             "#ed7953"
            ],
            [
             0.7777777777777778,
             "#fb9f3a"
            ],
            [
             0.8888888888888888,
             "#fdca26"
            ],
            [
             1,
             "#f0f921"
            ]
           ]
          },
          "colorway": [
           "#636efa",
           "#EF553B",
           "#00cc96",
           "#ab63fa",
           "#FFA15A",
           "#19d3f3",
           "#FF6692",
           "#B6E880",
           "#FF97FF",
           "#FECB52"
          ],
          "font": {
           "color": "#2a3f5f"
          },
          "geo": {
           "bgcolor": "white",
           "lakecolor": "white",
           "landcolor": "#E5ECF6",
           "showlakes": true,
           "showland": true,
           "subunitcolor": "white"
          },
          "hoverlabel": {
           "align": "left"
          },
          "hovermode": "closest",
          "mapbox": {
           "style": "light"
          },
          "paper_bgcolor": "white",
          "plot_bgcolor": "#E5ECF6",
          "polar": {
           "angularaxis": {
            "gridcolor": "white",
            "linecolor": "white",
            "ticks": ""
           },
           "bgcolor": "#E5ECF6",
           "radialaxis": {
            "gridcolor": "white",
            "linecolor": "white",
            "ticks": ""
           }
          },
          "scene": {
           "xaxis": {
            "backgroundcolor": "#E5ECF6",
            "gridcolor": "white",
            "gridwidth": 2,
            "linecolor": "white",
            "showbackground": true,
            "ticks": "",
            "zerolinecolor": "white"
           },
           "yaxis": {
            "backgroundcolor": "#E5ECF6",
            "gridcolor": "white",
            "gridwidth": 2,
            "linecolor": "white",
            "showbackground": true,
            "ticks": "",
            "zerolinecolor": "white"
           },
           "zaxis": {
            "backgroundcolor": "#E5ECF6",
            "gridcolor": "white",
            "gridwidth": 2,
            "linecolor": "white",
            "showbackground": true,
            "ticks": "",
            "zerolinecolor": "white"
           }
          },
          "shapedefaults": {
           "line": {
            "color": "#2a3f5f"
           }
          },
          "ternary": {
           "aaxis": {
            "gridcolor": "white",
            "linecolor": "white",
            "ticks": ""
           },
           "baxis": {
            "gridcolor": "white",
            "linecolor": "white",
            "ticks": ""
           },
           "bgcolor": "#E5ECF6",
           "caxis": {
            "gridcolor": "white",
            "linecolor": "white",
            "ticks": ""
           }
          },
          "title": {
           "x": 0.05
          },
          "xaxis": {
           "automargin": true,
           "gridcolor": "white",
           "linecolor": "white",
           "ticks": "",
           "title": {
            "standoff": 15
           },
           "zerolinecolor": "white",
           "zerolinewidth": 2
          },
          "yaxis": {
           "automargin": true,
           "gridcolor": "white",
           "linecolor": "white",
           "ticks": "",
           "title": {
            "standoff": 15
           },
           "zerolinecolor": "white",
           "zerolinewidth": 2
          }
         }
        },
        "title": {
         "text": "Life Expectancy vs GDP per Capita (2019)"
        },
        "xaxis": {
         "anchor": "y",
         "autorange": true,
         "domain": [
          0,
          1
         ],
         "range": [
          2.4644500903369737,
          5.475061091568504
         ],
         "title": {
          "text": "GDP per Capita (USD)"
         },
         "type": "log"
        },
        "yaxis": {
         "anchor": "x",
         "autorange": true,
         "domain": [
          0,
          1
         ],
         "range": [
          49.024956907914465,
          90.65060328919748
         ],
         "title": {
          "text": "Life Expectancy (Years)"
         },
         "type": "linear"
        }
       }
      },
      "image/png": "[encoded data removed]",
      "text/html": [
       "<div>                            <div id=\"4ea5a521-2dcc-457f-abde-fa0a1e3e60c3\" class=\"plotly-graph-div\" style=\"height:525px; width:100%;\"></div>            <script type=\"text/javascript\">                require([\"plotly\"], function(Plotly) {                    window.PLOTLYENV=window.PLOTLYENV || {};                                    if (document.getElementById(\"4ea5a521-2dcc-457f-abde-fa0a1e3e60c3\")) {                    Plotly.newPlot(                        \"4ea5a521-2dcc-457f-abde-fa0a1e3e60c3\",                        [{\"hovertemplate\":\"\\u003cb\\u003e%{hovertext}\\u003c\\u002fb\\u003e\\u003cbr\\u003e\\u003cbr\\u003eRegion=Asia\\u003cbr\\u003eGDP per Capita (USD)=%{x}\\u003cbr\\u003eLife Expectancy (Years)=%{y}\\u003cbr\\u003ePopulation=%{marker.size}\\u003cextra\\u003e\\u003c\\u002fextra\\u003e\",\"hovertext\":[\"Afghanistan\",\"Australia\",\"Bahrain\",\"Bangladesh\",\"Bhutan\",\"Brunei\",\"Cambodia\",\"China\",\"Fiji\",\"Hong Kong, China\",\"India\",\"Indonesia\",\"Iran\",\"Iraq\",\"Israel\",\"Japan\",\"Jordan\",\"Kazakhstan\",\"Kiribati\",\"Kuwait\",\"Kyrgyz Republic\",\"Lao\",\"Lebanon\",\"Malaysia\",\"Maldives\",\"Marshall Islands\",\"Micronesia, Fed. Sts.\",\"Mongolia\",\"Myanmar\",\"Nauru\",\"Nepal\",\"New Zealand\",\"North Korea\",\"Oman\",\"Pakistan\",\"Palau\",\"Palestine\",\"Papua New Guinea\",\"Philippines\",\"Qatar\",\"Samoa\",\"Saudi Arabia\",\"Singapore\",\"Solomon Islands\",\"South Korea\",\"Sri Lanka\",\"Syria\",\"Taiwan\",\"Tajikistan\",\"Thailand\",\"Timor-Leste\",\"Tonga\",\"Turkmenistan\",\"Tuvalu\",\"UAE\",\"Uzbekistan\",\"Vanuatu\",\"Vietnam\",\"Yemen\"],\"legendgroup\":\"Asia\",\"marker\":{\"color\":\"#636efa\",\"size\":[37900000.0,25500000.0,1490000.0,165000000.0,765000.0,443000.0,16500000.0,1420000000.0,915000.0,7490000.0,1390000000.0,272000000.0,87100000.0,41200000.0,8660000.0,127000000.0,10700000.0,19200000.0,124000.0,4440000.0,6490000.0,7240000.0,5790000.0,33400000.0,488000.0,44000.0,110000.0,3230000.0,52600000.0,11600.0,28400000.0,4990000.0,26000000.0,4590000.0,231000000.0,17800.0,4960000.0,9610000.0,111000000.0,2800000.0,210000.0,30500000.0,5670000.0,728000.0,51800000.0,22400000.0,20400000.0,23700000.0,9530000.0,71500000.0,1300000.0,106000.0,6800000.0,10600.0,9380000.0,33000000.0,292000.0,97200000.0,35100000.0],\"sizemode\":\"area\",\"sizeref\":394444.44444444444,\"symbol\":\"circle\"},\"mode\":\"markers\",\"name\":\"Asia\",\"orientation\":\"v\",\"showlegend\":true,\"x\":[2080.0,49600.0,49800.0,5470.0,11800.0,61400.0,4460.0,16000.0,13200.0,59600.0,6570.0,11900.0,14100.0,10300.0,41200.0,41400.0,9350.0,26600.0,1930.0,45400.0,5280.0,7840.0,17200.0,27600.0,21000.0,5710.0,3340.0,12500.0,5110.0,10400.0,3920.0,43400.0,1910.0,33800.0,5160.0,17500.0,6250.0,3980.0,8730.0,90700.0,6350.0,46100.0,97700.0,2540.0,42700.0,13500.0,3650.0,51300.0,3580.0,18000.0,3740.0,6340.0,15800.0,4830.0,71500.0,7400.0,3140.0,10300.0,2000.0],\"xaxis\":\"x\",\"y\":[63.3,82.9,77.0,74.5,73.2,74.4,69.9,77.6,68.4,85.3,70.8,71.4,77.8,73.3,83.0,84.8,78.2,71.9,60.8,81.5,73.4,69.0,76.6,75.0,79.1,65.5,64.1,68.1,69.5,63.4,71.1,81.8,73.2,74.0,65.9,67.5,74.8,64.7,71.8,76.3,70.5,74.5,84.8,59.2,82.9,77.3,73.9,80.3,69.6,78.4,70.6,73.0,70.8,67.9,73.9,68.4,65.5,74.5,67.7],\"yaxis\":\"y\",\"type\":\"scatter\"},{\"hovertemplate\":\"\\u003cb\\u003e%{hovertext}\\u003c\\u002fb\\u003e\\u003cbr\\u003e\\u003cbr\\u003eRegion=Europe\\u003cbr\\u003eGDP per Capita (USD)=%{x}\\u003cbr\\u003eLife Expectancy (Years)=%{y}\\u003cbr\\u003ePopulation=%{marker.size}\\u003cextra\\u003e\\u003c\\u002fextra\\u003e\",\"hovertext\":[\"Albania\",\"Andorra\",\"Armenia\",\"Austria\",\"Azerbaijan\",\"Belarus\",\"Belgium\",\"Bosnia and Herzegovina\",\"Bulgaria\",\"Croatia\",\"Cyprus\",\"Czech Republic\",\"Denmark\",\"Estonia\",\"Finland\",\"France\",\"Georgia\",\"Germany\",\"Greece\",\"Hungary\",\"Iceland\",\"Ireland\",\"Italy\",\"Latvia\",\"Liechtenstein\",\"Lithuania\",\"Luxembourg\",\"Malta\",\"Moldova\",\"Monaco\",\"Montenegro\",\"Netherlands\",\"Norway\",\"Poland\",\"Portugal\",\"Romania\",\"Russia\",\"San Marino\",\"Serbia\",\"Slovak Republic\",\"Slovenia\",\"Spain\",\"Sweden\",\"Switzerland\",\"Turkey\",\"UK\",\"Ukraine\"],\"legendgroup\":\"Europe\",\"marker\":{\"color\":\"#EF553B\",\"size\":[2890000.0,76500.0,2900000.0,8880000.0,10100000.0,9440000.0,11500000.0,3350000.0,6980000.0,3990000.0,1290000.0,10600000.0,5810000.0,1330000.0,5520000.0,65700000.0,3800000.0,83600000.0,10700000.0,9770000.0,361000.0,4930000.0,60100000.0,1910000.0,38400.0,2800000.0,620000.0,504000.0,3110000.0,38100.0,612000.0,17500000.0,5350000.0,38200000.0,10300000.0,19500000.0,147000000.0,34700.0,6970000.0,5450000.0,2080000.0,47400000.0,10300000.0,8580000.0,85400000.0,67100000.0,45000000.0],\"sizemode\":\"area\",\"sizeref\":394444.44444444444,\"symbol\":\"circle\"},\"mode\":\"markers\",\"name\":\"Europe\",\"orientation\":\"v\",\"showlegend\":true,\"x\":[13700.0,56300.0,14300.0,56100.0,14400.0,19300.0,51600.0,14900.0,23300.0,29300.0,40100.0,41000.0,56000.0,36600.0,48700.0,46000.0,14900.0,53700.0,29600.0,32700.0,56000.0,85400.0,42200.0,30700.0,null,37100.0,112000.0,45400.0,12700.0,206000.0,21500.0,56100.0,65000.0,33100.0,35000.0,30000.0,27300.0,60100.0,18300.0,32100.0,39000.0,40400.0,52500.0,69000.0,28200.0,46300.0,12800.0],\"xaxis\":\"x\",\"y\":[78.5,82.2,75.7,82.2,71.0,74.0,81.4,77.0,73.3,78.7,80.8,79.5,81.1,78.0,81.9,82.9,73.4,81.2,80.9,76.6,84.1,82.0,83.1,75.9,84.3,76.2,82.9,82.6,74.3,80.1,75.9,81.7,82.9,78.1,81.7,75.5,73.0,82.2,75.7,77.6,81.4,83.1,82.8,84.0,78.4,81.1,73.8],\"yaxis\":\"y\",\"type\":\"scatter\"},{\"hovertemplate\":\"\\u003cb\\u003e%{hovertext}\\u003c\\u002fb\\u003e\\u003cbr\\u003e\\u003cbr\\u003eRegion=Africa\\u003cbr\\u003eGDP per Capita (USD)=%{x}\\u003cbr\\u003eLife Expectancy (Years)=%{y}\\u003cbr\\u003ePopulation=%{marker.size}\\u003cextra\\u003e\\u003c\\u002fextra\\u003e\",\"hovertext\":[\"Algeria\",\"Angola\",\"Benin\",\"Botswana\",\"Burkina Faso\",\"Burundi\",\"Cameroon\",\"Cape Verde\",\"Central African Republic\",\"Chad\",\"Comoros\",\"Congo, Dem. Rep.\",\"Congo, Rep.\",\"Cote d'Ivoire\",\"Djibouti\",\"Egypt\",\"Equatorial Guinea\",\"Eritrea\",\"Ethiopia\",\"Gabon\",\"Gambia\",\"Ghana\",\"Guinea\",\"Guinea-Bissau\",\"Kenya\",\"Lesotho\",\"Liberia\",\"Libya\",\"Madagascar\",\"Malawi\",\"Mali\",\"Mauritania\",\"Mauritius\",\"Morocco\",\"Mozambique\",\"Namibia\",\"Niger\",\"Nigeria\",\"Rwanda\",\"Sao Tome and Principe\",\"Senegal\",\"Seychelles\",\"Sierra Leone\",\"Somalia\",\"South Africa\",\"South Sudan\",\"Sudan\",\"Tanzania\",\"Togo\",\"Tunisia\",\"Uganda\",\"Zambia\",\"Zimbabwe\"],\"legendgroup\":\"Africa\",\"marker\":{\"color\":\"#00cc96\",\"size\":[43300000.0,32400000.0,12700000.0,2330000.0,21000000.0,12300000.0,25500000.0,514000.0,4940000.0,16700000.0,787000.0,92900000.0,5620000.0,28200000.0,1090000.0,108000000.0,1670000.0,3240000.0,116000000.0,2270000.0,2460000.0,31300000.0,13000000.0,1970000.0,51200000.0,2210000.0,5040000.0,6950000.0,28200000.0,19000000.0,21100000.0,4470000.0,1290000.0,36200000.0,29900000.0,2650000.0,22900000.0,209000000.0,12800000.0,213000.0,16400000.0,118000.0,7730000.0,16000000.0,59600000.0,10400000.0,45500000.0,59200000.0,8460000.0,11900000.0,43000000.0,18500000.0,15300000.0],\"sizemode\":\"area\",\"sizeref\":394444.44444444444,\"symbol\":\"circle\"},\"mode\":\"markers\",\"name\":\"Africa\",\"orientation\":\"v\",\"showlegend\":true,\"x\":[11600.0,6600.0,3160.0,15100.0,2110.0,730.0,3770.0,7920.0,861.0,1560.0,3290.0,1060.0,3580.0,5180.0,4780.0,11800.0,16000.0,1760.0,2180.0,14500.0,2060.0,5360.0,2550.0,1770.0,4600.0,2490.0,1460.0,19700.0,1590.0,1520.0,2220.0,5570.0,23700.0,8210.0,1280.0,10000.0,1220.0,5080.0,2190.0,4030.0,3430.0,31700.0,1660.0,1210.0,13800.0,426.0,4130.0,2580.0,2070.0,11100.0,2250.0,3320.0,2200.0],\"xaxis\":\"x\",\"y\":[76.2,65.1,64.5,62.3,61.7,63.8,63.4,73.7,52.4,60.4,68.7,65.0,65.4,64.3,66.8,71.0,66.0,63.8,68.8,67.8,66.7,66.3,61.2,61.0,66.5,51.8,66.1,75.9,65.5,64.7,61.8,70.8,75.5,73.3,58.4,65.2,62.5,64.3,68.7,70.9,68.5,73.6,61.8,58.5,65.1,63.7,70.5,67.2,65.0,77.7,66.2,63.2,61.0],\"yaxis\":\"y\",\"type\":\"scatter\"},{\"hovertemplate\":\"\\u003cb\\u003e%{hovertext}\\u003c\\u002fb\\u003e\\u003cbr\\u003e\\u003cbr\\u003eRegion=Americas\\u003cbr\\u003eGDP per Capita (USD)=%{x}\\u003cbr\\u003eLife Expectancy (Years)=%{y}\\u003cbr\\u003ePopulation=%{marker.size}\\u003cextra\\u003e\\u003c\\u002fextra\\u003e\",\"hovertext\":[\"Antigua and Barbuda\",\"Argentina\",\"Bahamas\",\"Barbados\",\"Belize\",\"Bolivia\",\"Brazil\",\"Canada\",\"Chile\",\"Colombia\",\"Costa Rica\",\"Cuba\",\"Dominica\",\"Dominican Republic\",\"Ecuador\",\"El Salvador\",\"Grenada\",\"Guatemala\",\"Guyana\",\"Haiti\",\"Honduras\",\"Jamaica\",\"Mexico\",\"Nicaragua\",\"Panama\",\"Paraguay\",\"Peru\",\"St. Kitts and Nevis\",\"St. Lucia\",\"St. Vincent and the Grenadines\",\"Suriname\",\"Trinidad and Tobago\",\"USA\",\"Uruguay\",\"Venezuela\"],\"legendgroup\":\"Americas\",\"marker\":{\"color\":\"#ab63fa\",\"size\":[91400.0,45000000.0,395000.0,281000.0,386000.0,11700000.0,207000000.0,37800000.0,19200000.0,49900000.0,5000000.0,11200000.0,67900.0,10900000.0,17300000.0,6220000.0,116000.0,17100000.0,808000.0,11100000.0,9940000.0,2820000.0,126000000.0,6480000.0,4230000.0,6520000.0,32400000.0,47000.0,178000.0,104000.0,606000.0,1480000.0,338000000.0,3400000.0,28900000.0],\"sizemode\":\"area\",\"sizeref\":394444.44444444444,\"symbol\":\"circle\"},\"mode\":\"markers\",\"name\":\"Americas\",\"orientation\":\"v\",\"showlegend\":true,\"x\":[22900.0,22000.0,33400.0,16000.0,8860.0,8530.0,14700.0,49000.0,24900.0,14600.0,20800.0,9450.0,12400.0,18200.0,11000.0,8970.0,15400.0,8670.0,12800.0,3110.0,5610.0,10200.0,20000.0,5400.0,32800.0,13600.0,12800.0,31100.0,15500.0,14200.0,18400.0,25700.0,62200.0,23800.0,7800.0],\"xaxis\":\"x\",\"y\":[76.3,76.6,73.4,76.2,74.5,72.0,75.8,82.2,80.2,80.2,80.1,78.7,72.3,73.2,76.4,75.7,73.3,72.6,67.3,63.8,72.1,76.3,75.6,75.4,80.0,76.6,80.3,72.1,75.1,73.0,72.7,74.9,78.9,77.5,75.0],\"yaxis\":\"y\",\"type\":\"scatter\"}],                        {\"template\":{\"data\":{\"histogram2dcontour\":[{\"type\":\"histogram2dcontour\",\"colorbar\":{\"outlinewidth\":0,\"ticks\":\"\"},\"colorscale\":[[0.0,\"#0d0887\"],[0.1111111111111111,\"#46039f\"],[0.2222222222222222,\"#7201a8\"],[0.3333333333333333,\"#9c179e\"],[0.4444444444444444,\"#bd3786\"],[0.5555555555555556,\"#d8576b\"],[0.6666666666666666,\"#ed7953\"],[0.7777777777777778,\"#fb9f3a\"],[0.8888888888888888,\"#fdca26\"],[1.0,\"#f0f921\"]]}],\"choropleth\":[{\"type\":\"choropleth\",\"colorbar\":{\"outlinewidth\":0,\"ticks\":\"\"}}],\"histogram2d\":[{\"type\":\"histogram2d\",\"colorbar\":{\"outlinewidth\":0,\"ticks\":\"\"},\"colorscale\":[[0.0,\"#0d0887\"],[0.1111111111111111,\"#46039f\"],[0.2222222222222222,\"#7201a8\"],[0.3333333333333333,\"#9c179e\"],[0.4444444444444444,\"#bd3786\"],[0.5555555555555556,\"#d8576b\"],[0.6666666666666666,\"#ed7953\"],[0.7777777777777778,\"#fb9f3a\"],[0.8888888888888888,\"#fdca26\"],[1.0,\"#f0f921\"]]}],\"heatmap\":[{\"type\":\"heatmap\",\"colorbar\":{\"outlinewidth\":0,\"ticks\":\"\"},\"colorscale\":[[0.0,\"#0d0887\"],[0.1111111111111111,\"#46039f\"],[0.2222222222222222,\"#7201a8\"],[0.3333333333333333,\"#9c179e\"],[0.4444444444444444,\"#bd3786\"],[0.5555555555555556,\"#d8576b\"],[0.6666666666666666,\"#ed7953\"],[0.7777777777777778,\"#fb9f3a\"],[0.8888888888888888,\"#fdca26\"],[1.0,\"#f0f921\"]]}],\"heatmapgl\":[{\"type\":\"heatmapgl\",\"colorbar\":{\"outlinewidth\":0,\"ticks\":\"\"},\"colorscale\":[[0.0,\"#0d0887\"],[0.1111111111111111,\"#46039f\"],[0.2222222222222222,\"#7201a8\"],[0.3333333333333333,\"#9c179e\"],[0.4444444444444444,\"#bd3786\"],[0.5555555555555556,\"#d8576b\"],[0.6666666666666666,\"#ed7953\"],[0.7777777777777778,\"#fb9f3a\"],[0.8888888888888888,\"#fdca26\"],[1.0,\"#f0f921\"]]}],\"contourcarpet\":[{\"type\":\"contourcarpet\",\"colorbar\":{\"outlinewidth\":0,\"ticks\":\"\"}}],\"contour\":[{\"type\":\"contour\",\"colorbar\":{\"outlinewidth\":0,\"ticks\":\"\"},\"colorscale\":[[0.0,\"#0d0887\"],[0.1111111111111111,\"#46039f\"],[0.2222222222222222,\"#7201a8\"],[0.3333333333333333,\"#9c179e\"],[0.4444444444444444,\"#bd3786\"],[0.5555555555555556,\"#d8576b\"],[0.6666666666666666,\"#ed7953\"],[0.7777777777777778,\"#fb9f3a\"],[0.8888888888888888,\"#fdca26\"],[1.0,\"#f0f921\"]]}],\"surface\":[{\"type\":\"surface\",\"colorbar\":{\"outlinewidth\":0,\"ticks\":\"\"},\"colorscale\":[[0.0,\"#0d0887\"],[0.1111111111111111,\"#46039f\"],[0.2222222222222222,\"#7201a8\"],[0.3333333333333333,\"#9c179e\"],[0.4444444444444444,\"#bd3786\"],[0.5555555555555556,\"#d8576b\"],[0.6666666666666666,\"#ed7953\"],[0.7777777777777778,\"#fb9f3a\"],[0.8888888888888888,\"#fdca26\"],[1.0,\"#f0f921\"]]}],\"mesh3d\":[{\"type\":\"mesh3d\",\"colorbar\":{\"outlinewidth\":0,\"ticks\":\"\"}}],\"scatter\":[{\"fillpattern\":{\"fillmode\":\"overlay\",\"size\":10,\"solidity\":0.2},\"type\":\"scatter\"}],\"parcoords\":[{\"type\":\"parcoords\",\"line\":{\"colorbar\":{\"outlinewidth\":0,\"ticks\":\"\"}}}],\"scatterpolargl\":[{\"type\":\"scatterpolargl\",\"marker\":{\"colorbar\":{\"outlinewidth\":0,\"ticks\":\"\"}}}],\"bar\":[{\"error_x\":{\"color\":\"#2a3f5f\"},\"error_y\":{\"color\":\"#2a3f5f\"},\"marker\":{\"line\":{\"color\":\"#E5ECF6\",\"width\":0.5},\"pattern\":{\"fillmode\":\"overlay\",\"size\":10,\"solidity\":0.2}},\"type\":\"bar\"}],\"scattergeo\":[{\"type\":\"scattergeo\",\"marker\":{\"colorbar\":{\"outlinewidth\":0,\"ticks\":\"\"}}}],\"scatterpolar\":[{\"type\":\"scatterpolar\",\"marker\":{\"colorbar\":{\"outlinewidth\":0,\"ticks\":\"\"}}}],\"histogram\":[{\"marker\":{\"pattern\":{\"fillmode\":\"overlay\",\"size\":10,\"solidity\":0.2}},\"type\":\"histogram\"}],\"scattergl\":[{\"type\":\"scattergl\",\"marker\":{\"colorbar\":{\"outlinewidth\":0,\"ticks\":\"\"}}}],\"scatter3d\":[{\"type\":\"scatter3d\",\"line\":{\"colorbar\":{\"outlinewidth\":0,\"ticks\":\"\"}},\"marker\":{\"colorbar\":{\"outlinewidth\":0,\"ticks\":\"\"}}}],\"scattermapbox\":[{\"type\":\"scattermapbox\",\"marker\":{\"colorbar\":{\"outlinewidth\":0,\"ticks\":\"\"}}}],\"scatterternary\":[{\"type\":\"scatterternary\",\"marker\":{\"colorbar\":{\"outlinewidth\":0,\"ticks\":\"\"}}}],\"scattercarpet\":[{\"type\":\"scattercarpet\",\"marker\":{\"colorbar\":{\"outlinewidth\":0,\"ticks\":\"\"}}}],\"carpet\":[{\"aaxis\":{\"endlinecolor\":\"#2a3f5f\",\"gridcolor\":\"white\",\"linecolor\":\"white\",\"minorgridcolor\":\"white\",\"startlinecolor\":\"#2a3f5f\"},\"baxis\":{\"endlinecolor\":\"#2a3f5f\",\"gridcolor\":\"white\",\"linecolor\":\"white\",\"minorgridcolor\":\"white\",\"startlinecolor\":\"#2a3f5f\"},\"type\":\"carpet\"}],\"table\":[{\"cells\":{\"fill\":{\"color\":\"#EBF0F8\"},\"line\":{\"color\":\"white\"}},\"header\":{\"fill\":{\"color\":\"#C8D4E3\"},\"line\":{\"color\":\"white\"}},\"type\":\"table\"}],\"barpolar\":[{\"marker\":{\"line\":{\"color\":\"#E5ECF6\",\"width\":0.5},\"pattern\":{\"fillmode\":\"overlay\",\"size\":10,\"solidity\":0.2}},\"type\":\"barpolar\"}],\"pie\":[{\"automargin\":true,\"type\":\"pie\"}]},\"layout\":{\"autotypenumbers\":\"strict\",\"colorway\":[\"#636efa\",\"#EF553B\",\"#00cc96\",\"#ab63fa\",\"#FFA15A\",\"#19d3f3\",\"#FF6692\",\"#B6E880\",\"#FF97FF\",\"#FECB52\"],\"font\":{\"color\":\"#2a3f5f\"},\"hovermode\":\"closest\",\"hoverlabel\":{\"align\":\"left\"},\"paper_bgcolor\":\"white\",\"plot_bgcolor\":\"#E5ECF6\",\"polar\":{\"bgcolor\":\"#E5ECF6\",\"angularaxis\":{\"gridcolor\":\"white\",\"linecolor\":\"white\",\"ticks\":\"\"},\"radialaxis\":{\"gridcolor\":\"white\",\"linecolor\":\"white\",\"ticks\":\"\"}},\"ternary\":{\"bgcolor\":\"#E5ECF6\",\"aaxis\":{\"gridcolor\":\"white\",\"linecolor\":\"white\",\"ticks\":\"\"},\"baxis\":{\"gridcolor\":\"white\",\"linecolor\":\"white\",\"ticks\":\"\"},\"caxis\":{\"gridcolor\":\"white\",\"linecolor\":\"white\",\"ticks\":\"\"}},\"coloraxis\":{\"colorbar\":{\"outlinewidth\":0,\"ticks\":\"\"}},\"colorscale\":{\"sequential\":[[0.0,\"#0d0887\"],[0.1111111111111111,\"#46039f\"],[0.2222222222222222,\"#7201a8\"],[0.3333333333333333,\"#9c179e\"],[0.4444444444444444,\"#bd3786\"],[0.5555555555555556,\"#d8576b\"],[0.6666666666666666,\"#ed7953\"],[0.7777777777777778,\"#fb9f3a\"],[0.8888888888888888,\"#fdca26\"],[1.0,\"#f0f921\"]],\"sequentialminus\":[[0.0,\"#0d0887\"],[0.1111111111111111,\"#46039f\"],[0.2222222222222222,\"#7201a8\"],[0.3333333333333333,\"#9c179e\"],[0.4444444444444444,\"#bd3786\"],[0.5555555555555556,\"#d8576b\"],[0.6666666666666666,\"#ed7953\"],[0.7777777777777778,\"#fb9f3a\"],[0.8888888888888888,\"#fdca26\"],[1.0,\"#f0f921\"]],\"diverging\":[[0,\"#8e0152\"],[0.1,\"#c51b7d\"],[0.2,\"#de77ae\"],[0.3,\"#f1b6da\"],[0.4,\"#fde0ef\"],[0.5,\"#f7f7f7\"],[0.6,\"#e6f5d0\"],[0.7,\"#b8e186\"],[0.8,\"#7fbc41\"],[0.9,\"#4d9221\"],[1,\"#276419\"]]},\"xaxis\":{\"gridcolor\":\"white\",\"linecolor\":\"white\",\"ticks\":\"\",\"title\":{\"standoff\":15},\"zerolinecolor\":\"white\",\"automargin\":true,\"zerolinewidth\":2},\"yaxis\":{\"gridcolor\":\"white\",\"linecolor\":\"white\",\"ticks\":\"\",\"title\":{\"standoff\":15},\"zerolinecolor\":\"white\",\"automargin\":true,\"zerolinewidth\":2},\"scene\":{\"xaxis\":{\"backgroundcolor\":\"#E5ECF6\",\"gridcolor\":\"white\",\"linecolor\":\"white\",\"showbackground\":true,\"ticks\":\"\",\"zerolinecolor\":\"white\",\"gridwidth\":2},\"yaxis\":{\"backgroundcolor\":\"#E5ECF6\",\"gridcolor\":\"white\",\"linecolor\":\"white\",\"showbackground\":true,\"ticks\":\"\",\"zerolinecolor\":\"white\",\"gridwidth\":2},\"zaxis\":{\"backgroundcolor\":\"#E5ECF6\",\"gridcolor\":\"white\",\"linecolor\":\"white\",\"showbackground\":true,\"ticks\":\"\",\"zerolinecolor\":\"white\",\"gridwidth\":2}},\"shapedefaults\":{\"line\":{\"color\":\"#2a3f5f\"}},\"annotationdefaults\":{\"arrowcolor\":\"#2a3f5f\",\"arrowhead\":0,\"arrowwidth\":1},\"geo\":{\"bgcolor\":\"white\",\"landcolor\":\"#E5ECF6\",\"subunitcolor\":\"white\",\"showland\":true,\"showlakes\":true,\"lakecolor\":\"white\"},\"title\":{\"x\":0.05},\"mapbox\":{\"style\":\"light\"}}},\"xaxis\":{\"anchor\":\"y\",\"domain\":[0.0,1.0],\"title\":{\"text\":\"GDP per Capita (USD)\"},\"type\":\"log\"},\"yaxis\":{\"anchor\":\"x\",\"domain\":[0.0,1.0],\"title\":{\"text\":\"Life Expectancy (Years)\"}},\"legend\":{\"title\":{\"text\":\"Region\"},\"tracegroupgap\":0,\"itemsizing\":\"constant\"},\"title\":{\"text\":\"Life Expectancy vs GDP per Capita (2019)\"}},                        {\"responsive\": true}                    ).then(function(){\n",
       "                            \n",
       "var gd = document.getElementById('4ea5a521-2dcc-457f-abde-fa0a1e3e60c3');\n",
       "var x = new MutationObserver(function (mutations, observer) {{\n",
       "        var display = window.getComputedStyle(gd).display;\n",
       "        if (!display || display === 'none') {{\n",
       "            console.log([gd, 'removed!']);\n",
       "            Plotly.purge(gd);\n",
       "            observer.disconnect();\n",
       "        }}\n",
       "}});\n",
       "\n",
       "// Listen for the removal of the full notebook cells\n",
       "var notebookContainer = gd.closest('#notebook-container');\n",
       "if (notebookContainer) {{\n",
       "    x.observe(notebookContainer, {childList: true});\n",
       "}}\n",
       "\n",
       "// Listen for the clearing of the current output cell\n",
       "var outputEl = gd.closest('.output');\n",
       "if (outputEl) {{\n",
       "    x.observe(outputEl, {childList: true});\n",
       "}}\n",
       "\n",
       "                        })                };                });            </script>        </div>"
      ]
     },
     "metadata": {},
     "output_type": "display_data"
    }
   ],
   "source": [
    "fig = px.scatter(\n",
    "    gwp_2019,\n",
    "    x='GDPpcap',\n",
    "    y='Life Expectancy',\n",
    "    size='Population',\n",
    "    color='Region',\n",
    "    log_x=True,\n",
    "    size_max = 60,\n",
    "    hover_name = \"Country\",\n",
    "    title='Life Expectancy vs GDP per Capita (2019)',\n",
    "    labels={\n",
    "        'GDPpcap': 'GDP per Capita (USD)',\n",
    "        'Life Expectancy': 'Life Expectancy (Years)'\n",
    "    }\n",
    "    )\n",
    "    \n",
    "fig.show()"
   ]
  },
  {
   "cell_type": "markdown",
   "id": "d882e13d-1d5b-4055-b763-9125c5c3e117",
   "metadata": {},
   "source": [
    "## Line plot of GDP Trends\n",
    "\n",
    "Recreate this [line plot](https://www.gapminder.org/tools/#$chart-type=linechart&url=v2)"
   ]
  },
  {
   "cell_type": "code",
   "execution_count": 147,
   "id": "effe012e-7f61-4405-b7b3-98b0a14f87c8",
   "metadata": {},
   "outputs": [
    {
     "data": {
      "application/vnd.plotly.v1+json": {
       "config": {
        "plotlyServerURL": "https://plot.ly"
       },
       "data": [
        {
         "hovertemplate": "Country=China<br>Year=%{x}<br>GDP per Capita (USD)=%{y}<extra></extra>",
         "legendgroup": "China",
         "line": {
          "color": "#636efa",
          "dash": "solid"
         },
         "marker": {
          "symbol": "circle"
         },
         "mode": "lines",
         "name": "China",
         "orientation": "v",
         "showlegend": true,
         "type": "scatter",
         "x": [
          1800,
          1801,
          1802,
          1803,
          1804,
          1805,
          1806,
          1807,
          1808,
          1809,
          1810,
          1811,
          1812,
          1813,
          1814,
          1815,
          1816,
          1817,
          1818,
          1819,
          1820,
          1821,
          1822,
          1823,
          1824,
          1825,
          1826,
          1827,
          1828,
          1829,
          1830,
          1831,
          1832,
          1833,
          1834,
          1835,
          1836,
          1837,
          1838,
          1839,
          1840,
          1841,
          1842,
          1843,
          1844,
          1845,
          1846,
          1847,
          1848,
          1849,
          1850,
          1851,
          1852,
          1853,
          1854,
          1855,
          1856,
          1857,
          1858,
          1859,
          1860,
          1861,
          1862,
          1863,
          1864,
          1865,
          1866,
          1867,
          1868,
          1869,
          1870,
          1871,
          1872,
          1873,
          1874,
          1875,
          1876,
          1877,
          1878,
          1879,
          1880,
          1881,
          1882,
          1883,
          1884,
          1885,
          1886,
          1887,
          1888,
          1889,
          1890,
          1891,
          1892,
          1893,
          1894,
          1895,
          1896,
          1897,
          1898,
          1899,
          1900,
          1901,
          1902,
          1903,
          1904,
          1905,
          1906,
          1907,
          1908,
          1909,
          1910,
          1911,
          1912,
          1913,
          1914,
          1915,
          1916,
          1917,
          1918,
          1919,
          1920,
          1921,
          1922,
          1923,
          1924,
          1925,
          1926,
          1927,
          1928,
          1929,
          1930,
          1931,
          1932,
          1933,
          1934,
          1935,
          1936,
          1937,
          1938,
          1939,
          1940,
          1941,
          1942,
          1943,
          1944,
          1945,
          1946,
          1947,
          1948,
          1949,
          1950,
          1951,
          1952,
          1953,
          1954,
          1955,
          1956,
          1957,
          1958,
          1959,
          1960,
          1961,
          1962,
          1963,
          1964,
          1965,
          1966,
          1967,
          1968,
          1969,
          1970,
          1971,
          1972,
          1973,
          1974,
          1975,
          1976,
          1977,
          1978,
          1979,
          1980,
          1981,
          1982,
          1983,
          1984,
          1985,
          1986,
          1987,
          1988,
          1989,
          1990,
          1991,
          1992,
          1993,
          1994,
          1995,
          1996,
          1997,
          1998,
          1999,
          2000,
          2001,
          2002,
          2003,
          2004,
          2005,
          2006,
          2007,
          2008,
          2009,
          2010,
          2011,
          2012,
          2013,
          2014,
          2015,
          2016,
          2017,
          2018,
          2019,
          2020,
          2021,
          2022
         ],
         "xaxis": "x",
         "y": [
          1060,
          1060,
          1050,
          1050,
          1050,
          1050,
          1040,
          1040,
          1040,
          1030,
          1030,
          1030,
          1030,
          1020,
          1020,
          1020,
          1020,
          1020,
          1010,
          1010,
          1010,
          1010,
          1000,
          997,
          993,
          989,
          985,
          981,
          976,
          972,
          968,
          969,
          969,
          969,
          970,
          970,
          970,
          971,
          971,
          971,
          972,
          973,
          974,
          975,
          976,
          977,
          978,
          979,
          980,
          981,
          982,
          987,
          992,
          996,
          1000,
          1010,
          1010,
          1020,
          1020,
          1030,
          1030,
          1040,
          1040,
          1050,
          1050,
          1060,
          1060,
          1070,
          1070,
          1080,
          1080,
          1080,
          1080,
          1070,
          1070,
          1070,
          1070,
          1070,
          1060,
          1060,
          1060,
          1060,
          1050,
          1050,
          1050,
          1050,
          1050,
          1040,
          1060,
          1080,
          1100,
          1100,
          1110,
          1110,
          1110,
          1110,
          1110,
          1110,
          1110,
          1110,
          1110,
          1110,
          1100,
          1090,
          1080,
          1080,
          1070,
          1060,
          1060,
          1050,
          1040,
          1040,
          1080,
          1130,
          1130,
          1130,
          1130,
          1130,
          1130,
          1140,
          1140,
          1140,
          1140,
          1140,
          1140,
          1140,
          1140,
          1150,
          1150,
          1150,
          1160,
          1160,
          1190,
          1060,
          1070,
          1150,
          1220,
          1180,
          1150,
          1130,
          1110,
          1070,
          1030,
          992,
          957,
          923,
          890,
          859,
          828,
          799,
          771,
          901,
          976,
          1060,
          948,
          995,
          1040,
          1030,
          1000,
          941,
          879,
          713,
          740,
          811,
          886,
          946,
          935,
          901,
          842,
          888,
          966,
          995,
          959,
          994,
          983,
          1020,
          952,
          975,
          1060,
          1100,
          1130,
          1140,
          1210,
          1280,
          1410,
          1530,
          1600,
          1720,
          1820,
          1830,
          1830,
          1920,
          2100,
          2320,
          2540,
          2750,
          2940,
          3120,
          3270,
          3450,
          3680,
          3920,
          4220,
          4570,
          4970,
          5470,
          6090,
          6880,
          7460,
          8090,
          8880,
          9680,
          10400,
          11100,
          11900,
          12600,
          13400,
          14200,
          15100,
          16000,
          16300,
          17700,
          18200
         ],
         "yaxis": "y"
        },
        {
         "hovertemplate": "Country=Nigeria<br>Year=%{x}<br>GDP per Capita (USD)=%{y}<extra></extra>",
         "legendgroup": "Nigeria",
         "line": {
          "color": "#EF553B",
          "dash": "solid"
         },
         "marker": {
          "symbol": "circle"
         },
         "mode": "lines",
         "name": "Nigeria",
         "orientation": "v",
         "showlegend": true,
         "type": "scatter",
         "x": [
          1800,
          1801,
          1802,
          1803,
          1804,
          1805,
          1806,
          1807,
          1808,
          1809,
          1810,
          1811,
          1812,
          1813,
          1814,
          1815,
          1816,
          1817,
          1818,
          1819,
          1820,
          1821,
          1822,
          1823,
          1824,
          1825,
          1826,
          1827,
          1828,
          1829,
          1830,
          1831,
          1832,
          1833,
          1834,
          1835,
          1836,
          1837,
          1838,
          1839,
          1840,
          1841,
          1842,
          1843,
          1844,
          1845,
          1846,
          1847,
          1848,
          1849,
          1850,
          1851,
          1852,
          1853,
          1854,
          1855,
          1856,
          1857,
          1858,
          1859,
          1860,
          1861,
          1862,
          1863,
          1864,
          1865,
          1866,
          1867,
          1868,
          1869,
          1870,
          1871,
          1872,
          1873,
          1874,
          1875,
          1876,
          1877,
          1878,
          1879,
          1880,
          1881,
          1882,
          1883,
          1884,
          1885,
          1886,
          1887,
          1888,
          1889,
          1890,
          1891,
          1892,
          1893,
          1894,
          1895,
          1896,
          1897,
          1898,
          1899,
          1900,
          1901,
          1902,
          1903,
          1904,
          1905,
          1906,
          1907,
          1908,
          1909,
          1910,
          1911,
          1912,
          1913,
          1914,
          1915,
          1916,
          1917,
          1918,
          1919,
          1920,
          1921,
          1922,
          1923,
          1924,
          1925,
          1926,
          1927,
          1928,
          1929,
          1930,
          1931,
          1932,
          1933,
          1934,
          1935,
          1936,
          1937,
          1938,
          1939,
          1940,
          1941,
          1942,
          1943,
          1944,
          1945,
          1946,
          1947,
          1948,
          1949,
          1950,
          1951,
          1952,
          1953,
          1954,
          1955,
          1956,
          1957,
          1958,
          1959,
          1960,
          1961,
          1962,
          1963,
          1964,
          1965,
          1966,
          1967,
          1968,
          1969,
          1970,
          1971,
          1972,
          1973,
          1974,
          1975,
          1976,
          1977,
          1978,
          1979,
          1980,
          1981,
          1982,
          1983,
          1984,
          1985,
          1986,
          1987,
          1988,
          1989,
          1990,
          1991,
          1992,
          1993,
          1994,
          1995,
          1996,
          1997,
          1998,
          1999,
          2000,
          2001,
          2002,
          2003,
          2004,
          2005,
          2006,
          2007,
          2008,
          2009,
          2010,
          2011,
          2012,
          2013,
          2014,
          2015,
          2016,
          2017,
          2018,
          2019,
          2020,
          2021,
          2022
         ],
         "xaxis": "x",
         "y": [
          949,
          949,
          949,
          949,
          949,
          949,
          949,
          949,
          949,
          949,
          949,
          949,
          949,
          949,
          949,
          949,
          949,
          949,
          949,
          949,
          949,
          949,
          949,
          949,
          950,
          952,
          953,
          955,
          956,
          957,
          958,
          960,
          961,
          962,
          963,
          965,
          965,
          966,
          968,
          969,
          970,
          972,
          973,
          974,
          975,
          977,
          978,
          979,
          980,
          982,
          982,
          984,
          985,
          986,
          988,
          989,
          990,
          992,
          993,
          994,
          995,
          996,
          998,
          999,
          1000,
          1000,
          1000,
          1000,
          1010,
          1010,
          1010,
          1010,
          1010,
          1010,
          1010,
          1010,
          1020,
          1020,
          1020,
          1020,
          1020,
          1020,
          1020,
          1020,
          1030,
          1030,
          1030,
          1030,
          1030,
          1030,
          1030,
          1030,
          1040,
          1040,
          1040,
          1040,
          1040,
          1040,
          1040,
          1050,
          1050,
          1050,
          1050,
          1050,
          1050,
          1050,
          1050,
          1060,
          1060,
          1060,
          1060,
          1060,
          1060,
          1070,
          1080,
          1100,
          1110,
          1130,
          1150,
          1160,
          1180,
          1190,
          1200,
          1210,
          1210,
          1220,
          1230,
          1240,
          1240,
          1250,
          1260,
          1270,
          1270,
          1280,
          1290,
          1290,
          1300,
          1310,
          1310,
          1320,
          1320,
          1340,
          1360,
          1380,
          1390,
          1410,
          1430,
          1450,
          1460,
          1480,
          1500,
          1590,
          1680,
          1690,
          1780,
          1790,
          1720,
          1750,
          1720,
          1770,
          1900,
          1890,
          1950,
          2090,
          2130,
          2150,
          2020,
          1670,
          1630,
          1970,
          2420,
          2680,
          2770,
          2920,
          3180,
          3070,
          3280,
          3400,
          3180,
          3160,
          3150,
          2960,
          2770,
          2480,
          2380,
          2500,
          2460,
          2460,
          2610,
          2640,
          2850,
          2810,
          2890,
          2820,
          2740,
          2710,
          2780,
          2810,
          2830,
          2800,
          2880,
          3000,
          3380,
          3550,
          3790,
          3940,
          4080,
          4240,
          4400,
          4630,
          4860,
          4980,
          5050,
          5240,
          5420,
          5430,
          5210,
          5120,
          5090,
          5080,
          4870,
          4920,
          4960
         ],
         "yaxis": "y"
        },
        {
         "hovertemplate": "Country=Russia<br>Year=%{x}<br>GDP per Capita (USD)=%{y}<extra></extra>",
         "legendgroup": "Russia",
         "line": {
          "color": "#00cc96",
          "dash": "solid"
         },
         "marker": {
          "symbol": "circle"
         },
         "mode": "lines",
         "name": "Russia",
         "orientation": "v",
         "showlegend": true,
         "type": "scatter",
         "x": [
          1800,
          1801,
          1802,
          1803,
          1804,
          1805,
          1806,
          1807,
          1808,
          1809,
          1810,
          1811,
          1812,
          1813,
          1814,
          1815,
          1816,
          1817,
          1818,
          1819,
          1820,
          1821,
          1822,
          1823,
          1824,
          1825,
          1826,
          1827,
          1828,
          1829,
          1830,
          1831,
          1832,
          1833,
          1834,
          1835,
          1836,
          1837,
          1838,
          1839,
          1840,
          1841,
          1842,
          1843,
          1844,
          1845,
          1846,
          1847,
          1848,
          1849,
          1850,
          1851,
          1852,
          1853,
          1854,
          1855,
          1856,
          1857,
          1858,
          1859,
          1860,
          1861,
          1862,
          1863,
          1864,
          1865,
          1866,
          1867,
          1868,
          1869,
          1870,
          1871,
          1872,
          1873,
          1874,
          1875,
          1876,
          1877,
          1878,
          1879,
          1880,
          1881,
          1882,
          1883,
          1884,
          1885,
          1886,
          1887,
          1888,
          1889,
          1890,
          1891,
          1892,
          1893,
          1894,
          1895,
          1896,
          1897,
          1898,
          1899,
          1900,
          1901,
          1902,
          1903,
          1904,
          1905,
          1906,
          1907,
          1908,
          1909,
          1910,
          1911,
          1912,
          1913,
          1914,
          1915,
          1916,
          1917,
          1918,
          1919,
          1920,
          1921,
          1922,
          1923,
          1924,
          1925,
          1926,
          1927,
          1928,
          1929,
          1930,
          1931,
          1932,
          1933,
          1934,
          1935,
          1936,
          1937,
          1938,
          1939,
          1940,
          1941,
          1942,
          1943,
          1944,
          1945,
          1946,
          1947,
          1948,
          1949,
          1950,
          1951,
          1952,
          1953,
          1954,
          1955,
          1956,
          1957,
          1958,
          1959,
          1960,
          1961,
          1962,
          1963,
          1964,
          1965,
          1966,
          1967,
          1968,
          1969,
          1970,
          1971,
          1972,
          1973,
          1974,
          1975,
          1976,
          1977,
          1978,
          1979,
          1980,
          1981,
          1982,
          1983,
          1984,
          1985,
          1986,
          1987,
          1988,
          1989,
          1990,
          1991,
          1992,
          1993,
          1994,
          1995,
          1996,
          1997,
          1998,
          1999,
          2000,
          2001,
          2002,
          2003,
          2004,
          2005,
          2006,
          2007,
          2008,
          2009,
          2010,
          2011,
          2012,
          2013,
          2014,
          2015,
          2016,
          2017,
          2018,
          2019,
          2020,
          2021,
          2022
         ],
         "xaxis": "x",
         "y": [
          1600,
          1600,
          1600,
          1600,
          1600,
          1600,
          1600,
          1600,
          1600,
          1600,
          1600,
          1600,
          1600,
          1600,
          1600,
          1600,
          1600,
          1600,
          1600,
          1600,
          1600,
          1600,
          1600,
          1600,
          1600,
          1610,
          1610,
          1620,
          1620,
          1630,
          1630,
          1640,
          1650,
          1650,
          1660,
          1660,
          1670,
          1670,
          1680,
          1690,
          1690,
          1700,
          1700,
          1710,
          1720,
          1720,
          1730,
          1730,
          1740,
          1750,
          1750,
          1760,
          1760,
          1770,
          1780,
          1780,
          1790,
          1800,
          1800,
          1810,
          1810,
          1820,
          1830,
          1830,
          1840,
          1850,
          1850,
          1860,
          1860,
          1870,
          1880,
          1880,
          1890,
          1900,
          1900,
          1910,
          1920,
          1920,
          1930,
          1940,
          1940,
          1950,
          1960,
          1960,
          1970,
          1980,
          1900,
          2210,
          2120,
          1970,
          1950,
          1780,
          1950,
          2200,
          2490,
          2300,
          2530,
          2480,
          2540,
          2680,
          2620,
          2680,
          2900,
          2690,
          2970,
          2620,
          2500,
          2390,
          2610,
          2700,
          2870,
          2650,
          2850,
          2990,
          2840,
          2920,
          2590,
          2260,
          1380,
          1190,
          1190,
          1090,
          1260,
          1450,
          1840,
          2290,
          2570,
          2670,
          2810,
          2840,
          2960,
          2960,
          2900,
          2990,
          3240,
          3670,
          3890,
          4180,
          4140,
          4280,
          4070,
          3980,
          3900,
          3820,
          3740,
          3670,
          3590,
          3980,
          4490,
          4900,
          5290,
          5220,
          5450,
          5580,
          5740,
          6100,
          6560,
          6560,
          6910,
          6690,
          7180,
          7640,
          8150,
          8430,
          8940,
          9410,
          10100,
          10700,
          11400,
          11700,
          12700,
          13200,
          13600,
          14700,
          15200,
          15800,
          16300,
          16700,
          17000,
          17200,
          17800,
          18000,
          18100,
          18400,
          18500,
          18800,
          19200,
          19200,
          19500,
          19700,
          19200,
          18400,
          15900,
          14700,
          13000,
          12600,
          12200,
          12500,
          12000,
          12900,
          14300,
          15200,
          16000,
          17400,
          18800,
          20100,
          21900,
          23800,
          25100,
          23200,
          24200,
          25200,
          26100,
          26500,
          26200,
          25600,
          25600,
          26000,
          26700,
          27300,
          26600,
          28200,
          27700
         ],
         "yaxis": "y"
        },
        {
         "hovertemplate": "Country=USA<br>Year=%{x}<br>GDP per Capita (USD)=%{y}<extra></extra>",
         "legendgroup": "USA",
         "line": {
          "color": "#ab63fa",
          "dash": "solid"
         },
         "marker": {
          "symbol": "circle"
         },
         "mode": "lines",
         "name": "USA",
         "orientation": "v",
         "showlegend": true,
         "type": "scatter",
         "x": [
          1800,
          1801,
          1802,
          1803,
          1804,
          1805,
          1806,
          1807,
          1808,
          1809,
          1810,
          1811,
          1812,
          1813,
          1814,
          1815,
          1816,
          1817,
          1818,
          1819,
          1820,
          1821,
          1822,
          1823,
          1824,
          1825,
          1826,
          1827,
          1828,
          1829,
          1830,
          1831,
          1832,
          1833,
          1834,
          1835,
          1836,
          1837,
          1838,
          1839,
          1840,
          1841,
          1842,
          1843,
          1844,
          1845,
          1846,
          1847,
          1848,
          1849,
          1850,
          1851,
          1852,
          1853,
          1854,
          1855,
          1856,
          1857,
          1858,
          1859,
          1860,
          1861,
          1862,
          1863,
          1864,
          1865,
          1866,
          1867,
          1868,
          1869,
          1870,
          1871,
          1872,
          1873,
          1874,
          1875,
          1876,
          1877,
          1878,
          1879,
          1880,
          1881,
          1882,
          1883,
          1884,
          1885,
          1886,
          1887,
          1888,
          1889,
          1890,
          1891,
          1892,
          1893,
          1894,
          1895,
          1896,
          1897,
          1898,
          1899,
          1900,
          1901,
          1902,
          1903,
          1904,
          1905,
          1906,
          1907,
          1908,
          1909,
          1910,
          1911,
          1912,
          1913,
          1914,
          1915,
          1916,
          1917,
          1918,
          1919,
          1920,
          1921,
          1922,
          1923,
          1924,
          1925,
          1926,
          1927,
          1928,
          1929,
          1930,
          1931,
          1932,
          1933,
          1934,
          1935,
          1936,
          1937,
          1938,
          1939,
          1940,
          1941,
          1942,
          1943,
          1944,
          1945,
          1946,
          1947,
          1948,
          1949,
          1950,
          1951,
          1952,
          1953,
          1954,
          1955,
          1956,
          1957,
          1958,
          1959,
          1960,
          1961,
          1962,
          1963,
          1964,
          1965,
          1966,
          1967,
          1968,
          1969,
          1970,
          1971,
          1972,
          1973,
          1974,
          1975,
          1976,
          1977,
          1978,
          1979,
          1980,
          1981,
          1982,
          1983,
          1984,
          1985,
          1986,
          1987,
          1988,
          1989,
          1990,
          1991,
          1992,
          1993,
          1994,
          1995,
          1996,
          1997,
          1998,
          1999,
          2000,
          2001,
          2002,
          2003,
          2004,
          2005,
          2006,
          2007,
          2008,
          2009,
          2010,
          2011,
          2012,
          2013,
          2014,
          2015,
          2016,
          2017,
          2018,
          2019,
          2020,
          2021,
          2022
         ],
         "xaxis": "x",
         "y": [
          2910,
          2970,
          3020,
          2960,
          2960,
          3030,
          3080,
          3110,
          2890,
          3040,
          3120,
          3180,
          3130,
          3160,
          3220,
          3210,
          3080,
          3080,
          3080,
          3080,
          3060,
          3110,
          3190,
          3160,
          3250,
          3320,
          3340,
          3350,
          3350,
          3240,
          3480,
          3690,
          3830,
          3960,
          3770,
          3910,
          3970,
          3850,
          3810,
          4000,
          3800,
          3720,
          3690,
          3750,
          3950,
          4010,
          4040,
          4140,
          4250,
          4140,
          4160,
          4320,
          4550,
          4860,
          4870,
          4760,
          4860,
          4760,
          4780,
          4910,
          5040,
          4940,
          5090,
          5420,
          5600,
          5310,
          5270,
          5440,
          5510,
          5660,
          5500,
          5630,
          5710,
          5860,
          5680,
          5840,
          5780,
          5840,
          5950,
          6540,
          7160,
          7230,
          7510,
          7510,
          7470,
          7350,
          7410,
          7570,
          7380,
          7680,
          7630,
          7800,
          8380,
          7820,
          7450,
          8200,
          7880,
          8480,
          8500,
          9110,
          9200,
          10000,
          9940,
          10200,
          9920,
          10400,
          11400,
          11400,
          10300,
          11200,
          11000,
          11100,
          11400,
          11600,
          10400,
          10500,
          11700,
          11200,
          12000,
          12000,
          11600,
          11100,
          11500,
          12700,
          12700,
          12800,
          13300,
          13200,
          13100,
          13700,
          12200,
          11400,
          9590,
          9210,
          9920,
          11100,
          12100,
          12900,
          12000,
          12800,
          13700,
          15500,
          17000,
          18300,
          19300,
          18700,
          16800,
          16200,
          16700,
          16000,
          17200,
          18200,
          18500,
          19000,
          18600,
          19500,
          19500,
          19500,
          19000,
          20000,
          20100,
          20300,
          21100,
          21700,
          22600,
          23700,
          25000,
          25300,
          26300,
          26800,
          26500,
          27000,
          28100,
          29400,
          29000,
          28600,
          29800,
          30900,
          32200,
          32900,
          32500,
          33000,
          32000,
          33100,
          35200,
          36200,
          37100,
          38000,
          39200,
          40200,
          40500,
          39900,
          40700,
          41200,
          42300,
          42900,
          44000,
          45300,
          46800,
          48400,
          49800,
          49700,
          50000,
          50900,
          52400,
          53600,
          54600,
          55100,
          54600,
          52600,
          53600,
          54000,
          54900,
          55600,
          56600,
          57900,
          58500,
          59500,
          61000,
          62200,
          60200,
          63600,
          64600
         ],
         "yaxis": "y"
        }
       ],
       "layout": {
        "autosize": true,
        "legend": {
         "title": {
          "text": "Country"
         },
         "tracegroupgap": 0
        },
        "template": {
         "data": {
          "bar": [
           {
            "error_x": {
             "color": "#2a3f5f"
            },
            "error_y": {
             "color": "#2a3f5f"
            },
            "marker": {
             "line": {
              "color": "#E5ECF6",
              "width": 0.5
             },
             "pattern": {
              "fillmode": "overlay",
              "size": 10,
              "solidity": 0.2
             }
            },
            "type": "bar"
           }
          ],
          "barpolar": [
           {
            "marker": {
             "line": {
              "color": "#E5ECF6",
              "width": 0.5
             },
             "pattern": {
              "fillmode": "overlay",
              "size": 10,
              "solidity": 0.2
             }
            },
            "type": "barpolar"
           }
          ],
          "carpet": [
           {
            "aaxis": {
             "endlinecolor": "#2a3f5f",
             "gridcolor": "white",
             "linecolor": "white",
             "minorgridcolor": "white",
             "startlinecolor": "#2a3f5f"
            },
            "baxis": {
             "endlinecolor": "#2a3f5f",
             "gridcolor": "white",
             "linecolor": "white",
             "minorgridcolor": "white",
             "startlinecolor": "#2a3f5f"
            },
            "type": "carpet"
           }
          ],
          "choropleth": [
           {
            "colorbar": {
             "outlinewidth": 0,
             "ticks": ""
            },
            "type": "choropleth"
           }
          ],
          "contour": [
           {
            "colorbar": {
             "outlinewidth": 0,
             "ticks": ""
            },
            "colorscale": [
             [
              0,
              "#0d0887"
             ],
             [
              0.1111111111111111,
              "#46039f"
             ],
             [
              0.2222222222222222,
              "#7201a8"
             ],
             [
              0.3333333333333333,
              "#9c179e"
             ],
             [
              0.4444444444444444,
              "#bd3786"
             ],
             [
              0.5555555555555556,
              "#d8576b"
             ],
             [
              0.6666666666666666,
              "#ed7953"
             ],
             [
              0.7777777777777778,
              "#fb9f3a"
             ],
             [
              0.8888888888888888,
              "#fdca26"
             ],
             [
              1,
              "#f0f921"
             ]
            ],
            "type": "contour"
           }
          ],
          "contourcarpet": [
           {
            "colorbar": {
             "outlinewidth": 0,
             "ticks": ""
            },
            "type": "contourcarpet"
           }
          ],
          "heatmap": [
           {
            "colorbar": {
             "outlinewidth": 0,
             "ticks": ""
            },
            "colorscale": [
             [
              0,
              "#0d0887"
             ],
             [
              0.1111111111111111,
              "#46039f"
             ],
             [
              0.2222222222222222,
              "#7201a8"
             ],
             [
              0.3333333333333333,
              "#9c179e"
             ],
             [
              0.4444444444444444,
              "#bd3786"
             ],
             [
              0.5555555555555556,
              "#d8576b"
             ],
             [
              0.6666666666666666,
              "#ed7953"
             ],
             [
              0.7777777777777778,
              "#fb9f3a"
             ],
             [
              0.8888888888888888,
              "#fdca26"
             ],
             [
              1,
              "#f0f921"
             ]
            ],
            "type": "heatmap"
           }
          ],
          "heatmapgl": [
           {
            "colorbar": {
             "outlinewidth": 0,
             "ticks": ""
            },
            "colorscale": [
             [
              0,
              "#0d0887"
             ],
             [
              0.1111111111111111,
              "#46039f"
             ],
             [
              0.2222222222222222,
              "#7201a8"
             ],
             [
              0.3333333333333333,
              "#9c179e"
             ],
             [
              0.4444444444444444,
              "#bd3786"
             ],
             [
              0.5555555555555556,
              "#d8576b"
             ],
             [
              0.6666666666666666,
              "#ed7953"
             ],
             [
              0.7777777777777778,
              "#fb9f3a"
             ],
             [
              0.8888888888888888,
              "#fdca26"
             ],
             [
              1,
              "#f0f921"
             ]
            ],
            "type": "heatmapgl"
           }
          ],
          "histogram": [
           {
            "marker": {
             "pattern": {
              "fillmode": "overlay",
              "size": 10,
              "solidity": 0.2
             }
            },
            "type": "histogram"
           }
          ],
          "histogram2d": [
           {
            "colorbar": {
             "outlinewidth": 0,
             "ticks": ""
            },
            "colorscale": [
             [
              0,
              "#0d0887"
             ],
             [
              0.1111111111111111,
              "#46039f"
             ],
             [
              0.2222222222222222,
              "#7201a8"
             ],
             [
              0.3333333333333333,
              "#9c179e"
             ],
             [
              0.4444444444444444,
              "#bd3786"
             ],
             [
              0.5555555555555556,
              "#d8576b"
             ],
             [
              0.6666666666666666,
              "#ed7953"
             ],
             [
              0.7777777777777778,
              "#fb9f3a"
             ],
             [
              0.8888888888888888,
              "#fdca26"
             ],
             [
              1,
              "#f0f921"
             ]
            ],
            "type": "histogram2d"
           }
          ],
          "histogram2dcontour": [
           {
            "colorbar": {
             "outlinewidth": 0,
             "ticks": ""
            },
            "colorscale": [
             [
              0,
              "#0d0887"
             ],
             [
              0.1111111111111111,
              "#46039f"
             ],
             [
              0.2222222222222222,
              "#7201a8"
             ],
             [
              0.3333333333333333,
              "#9c179e"
             ],
             [
              0.4444444444444444,
              "#bd3786"
             ],
             [
              0.5555555555555556,
              "#d8576b"
             ],
             [
              0.6666666666666666,
              "#ed7953"
             ],
             [
              0.7777777777777778,
              "#fb9f3a"
             ],
             [
              0.8888888888888888,
              "#fdca26"
             ],
             [
              1,
              "#f0f921"
             ]
            ],
            "type": "histogram2dcontour"
           }
          ],
          "mesh3d": [
           {
            "colorbar": {
             "outlinewidth": 0,
             "ticks": ""
            },
            "type": "mesh3d"
           }
          ],
          "parcoords": [
           {
            "line": {
             "colorbar": {
              "outlinewidth": 0,
              "ticks": ""
             }
            },
            "type": "parcoords"
           }
          ],
          "pie": [
           {
            "automargin": true,
            "type": "pie"
           }
          ],
          "scatter": [
           {
            "fillpattern": {
             "fillmode": "overlay",
             "size": 10,
             "solidity": 0.2
            },
            "type": "scatter"
           }
          ],
          "scatter3d": [
           {
            "line": {
             "colorbar": {
              "outlinewidth": 0,
              "ticks": ""
             }
            },
            "marker": {
             "colorbar": {
              "outlinewidth": 0,
              "ticks": ""
             }
            },
            "type": "scatter3d"
           }
          ],
          "scattercarpet": [
           {
            "marker": {
             "colorbar": {
              "outlinewidth": 0,
              "ticks": ""
             }
            },
            "type": "scattercarpet"
           }
          ],
          "scattergeo": [
           {
            "marker": {
             "colorbar": {
              "outlinewidth": 0,
              "ticks": ""
             }
            },
            "type": "scattergeo"
           }
          ],
          "scattergl": [
           {
            "marker": {
             "colorbar": {
              "outlinewidth": 0,
              "ticks": ""
             }
            },
            "type": "scattergl"
           }
          ],
          "scattermapbox": [
           {
            "marker": {
             "colorbar": {
              "outlinewidth": 0,
              "ticks": ""
             }
            },
            "type": "scattermapbox"
           }
          ],
          "scatterpolar": [
           {
            "marker": {
             "colorbar": {
              "outlinewidth": 0,
              "ticks": ""
             }
            },
            "type": "scatterpolar"
           }
          ],
          "scatterpolargl": [
           {
            "marker": {
             "colorbar": {
              "outlinewidth": 0,
              "ticks": ""
             }
            },
            "type": "scatterpolargl"
           }
          ],
          "scatterternary": [
           {
            "marker": {
             "colorbar": {
              "outlinewidth": 0,
              "ticks": ""
             }
            },
            "type": "scatterternary"
           }
          ],
          "surface": [
           {
            "colorbar": {
             "outlinewidth": 0,
             "ticks": ""
            },
            "colorscale": [
             [
              0,
              "#0d0887"
             ],
             [
              0.1111111111111111,
              "#46039f"
             ],
             [
              0.2222222222222222,
              "#7201a8"
             ],
             [
              0.3333333333333333,
              "#9c179e"
             ],
             [
              0.4444444444444444,
              "#bd3786"
             ],
             [
              0.5555555555555556,
              "#d8576b"
             ],
             [
              0.6666666666666666,
              "#ed7953"
             ],
             [
              0.7777777777777778,
              "#fb9f3a"
             ],
             [
              0.8888888888888888,
              "#fdca26"
             ],
             [
              1,
              "#f0f921"
             ]
            ],
            "type": "surface"
           }
          ],
          "table": [
           {
            "cells": {
             "fill": {
              "color": "#EBF0F8"
             },
             "line": {
              "color": "white"
             }
            },
            "header": {
             "fill": {
              "color": "#C8D4E3"
             },
             "line": {
              "color": "white"
             }
            },
            "type": "table"
           }
          ]
         },
         "layout": {
          "annotationdefaults": {
           "arrowcolor": "#2a3f5f",
           "arrowhead": 0,
           "arrowwidth": 1
          },
          "autotypenumbers": "strict",
          "coloraxis": {
           "colorbar": {
            "outlinewidth": 0,
            "ticks": ""
           }
          },
          "colorscale": {
           "diverging": [
            [
             0,
             "#8e0152"
            ],
            [
             0.1,
             "#c51b7d"
            ],
            [
             0.2,
             "#de77ae"
            ],
            [
             0.3,
             "#f1b6da"
            ],
            [
             0.4,
             "#fde0ef"
            ],
            [
             0.5,
             "#f7f7f7"
            ],
            [
             0.6,
             "#e6f5d0"
            ],
            [
             0.7,
             "#b8e186"
            ],
            [
             0.8,
             "#7fbc41"
            ],
            [
             0.9,
             "#4d9221"
            ],
            [
             1,
             "#276419"
            ]
           ],
           "sequential": [
            [
             0,
             "#0d0887"
            ],
            [
             0.1111111111111111,
             "#46039f"
            ],
            [
             0.2222222222222222,
             "#7201a8"
            ],
            [
             0.3333333333333333,
             "#9c179e"
            ],
            [
             0.4444444444444444,
             "#bd3786"
            ],
            [
             0.5555555555555556,
             "#d8576b"
            ],
            [
             0.6666666666666666,
             "#ed7953"
            ],
            [
             0.7777777777777778,
             "#fb9f3a"
            ],
            [
             0.8888888888888888,
             "#fdca26"
            ],
            [
             1,
             "#f0f921"
            ]
           ],
           "sequentialminus": [
            [
             0,
             "#0d0887"
            ],
            [
             0.1111111111111111,
             "#46039f"
            ],
            [
             0.2222222222222222,
             "#7201a8"
            ],
            [
             0.3333333333333333,
             "#9c179e"
            ],
            [
             0.4444444444444444,
             "#bd3786"
            ],
            [
             0.5555555555555556,
             "#d8576b"
            ],
            [
             0.6666666666666666,
             "#ed7953"
            ],
            [
             0.7777777777777778,
             "#fb9f3a"
            ],
            [
             0.8888888888888888,
             "#fdca26"
            ],
            [
             1,
             "#f0f921"
            ]
           ]
          },
          "colorway": [
           "#636efa",
           "#EF553B",
           "#00cc96",
           "#ab63fa",
           "#FFA15A",
           "#19d3f3",
           "#FF6692",
           "#B6E880",
           "#FF97FF",
           "#FECB52"
          ],
          "font": {
           "color": "#2a3f5f"
          },
          "geo": {
           "bgcolor": "white",
           "lakecolor": "white",
           "landcolor": "#E5ECF6",
           "showlakes": true,
           "showland": true,
           "subunitcolor": "white"
          },
          "hoverlabel": {
           "align": "left"
          },
          "hovermode": "closest",
          "mapbox": {
           "style": "light"
          },
          "paper_bgcolor": "white",
          "plot_bgcolor": "#E5ECF6",
          "polar": {
           "angularaxis": {
            "gridcolor": "white",
            "linecolor": "white",
            "ticks": ""
           },
           "bgcolor": "#E5ECF6",
           "radialaxis": {
            "gridcolor": "white",
            "linecolor": "white",
            "ticks": ""
           }
          },
          "scene": {
           "xaxis": {
            "backgroundcolor": "#E5ECF6",
            "gridcolor": "white",
            "gridwidth": 2,
            "linecolor": "white",
            "showbackground": true,
            "ticks": "",
            "zerolinecolor": "white"
           },
           "yaxis": {
            "backgroundcolor": "#E5ECF6",
            "gridcolor": "white",
            "gridwidth": 2,
            "linecolor": "white",
            "showbackground": true,
            "ticks": "",
            "zerolinecolor": "white"
           },
           "zaxis": {
            "backgroundcolor": "#E5ECF6",
            "gridcolor": "white",
            "gridwidth": 2,
            "linecolor": "white",
            "showbackground": true,
            "ticks": "",
            "zerolinecolor": "white"
           }
          },
          "shapedefaults": {
           "line": {
            "color": "#2a3f5f"
           }
          },
          "ternary": {
           "aaxis": {
            "gridcolor": "white",
            "linecolor": "white",
            "ticks": ""
           },
           "baxis": {
            "gridcolor": "white",
            "linecolor": "white",
            "ticks": ""
           },
           "bgcolor": "#E5ECF6",
           "caxis": {
            "gridcolor": "white",
            "linecolor": "white",
            "ticks": ""
           }
          },
          "title": {
           "x": 0.05
          },
          "xaxis": {
           "automargin": true,
           "gridcolor": "white",
           "linecolor": "white",
           "ticks": "",
           "title": {
            "standoff": 15
           },
           "zerolinecolor": "white",
           "zerolinewidth": 2
          },
          "yaxis": {
           "automargin": true,
           "gridcolor": "white",
           "linecolor": "white",
           "ticks": "",
           "title": {
            "standoff": 15
           },
           "zerolinecolor": "white",
           "zerolinewidth": 2
          }
         }
        },
        "title": {
         "text": "GDP per Capita Trends (1800-2022)"
        },
        "xaxis": {
         "anchor": "y",
         "autorange": true,
         "domain": [
          0,
          1
         ],
         "range": [
          1800,
          2022
         ],
         "title": {
          "text": "Year"
         },
         "type": "linear"
        },
        "yaxis": {
         "anchor": "x",
         "autorange": true,
         "domain": [
          0,
          1
         ],
         "range": [
          2.7443593638439086,
          4.91896268400304
         ],
         "title": {
          "text": "GDP per Capita (USD)"
         },
         "type": "log"
        }
       }
      },
      "image/png": "[encoded data removed]",
      "text/html": [
       "<div>                            <div id=\"7a78a81d-43a3-4485-af43-9effc104e181\" class=\"plotly-graph-div\" style=\"height:525px; width:100%;\"></div>            <script type=\"text/javascript\">                require([\"plotly\"], function(Plotly) {                    window.PLOTLYENV=window.PLOTLYENV || {};                                    if (document.getElementById(\"7a78a81d-43a3-4485-af43-9effc104e181\")) {                    Plotly.newPlot(                        \"7a78a81d-43a3-4485-af43-9effc104e181\",                        [{\"hovertemplate\":\"Country=China\\u003cbr\\u003eYear=%{x}\\u003cbr\\u003eGDP per Capita (USD)=%{y}\\u003cextra\\u003e\\u003c\\u002fextra\\u003e\",\"legendgroup\":\"China\",\"line\":{\"color\":\"#636efa\",\"dash\":\"solid\"},\"marker\":{\"symbol\":\"circle\"},\"mode\":\"lines\",\"name\":\"China\",\"orientation\":\"v\",\"showlegend\":true,\"x\":[1800,1801,1802,1803,1804,1805,1806,1807,1808,1809,1810,1811,1812,1813,1814,1815,1816,1817,1818,1819,1820,1821,1822,1823,1824,1825,1826,1827,1828,1829,1830,1831,1832,1833,1834,1835,1836,1837,1838,1839,1840,1841,1842,1843,1844,1845,1846,1847,1848,1849,1850,1851,1852,1853,1854,1855,1856,1857,1858,1859,1860,1861,1862,1863,1864,1865,1866,1867,1868,1869,1870,1871,1872,1873,1874,1875,1876,1877,1878,1879,1880,1881,1882,1883,1884,1885,1886,1887,1888,1889,1890,1891,1892,1893,1894,1895,1896,1897,1898,1899,1900,1901,1902,1903,1904,1905,1906,1907,1908,1909,1910,1911,1912,1913,1914,1915,1916,1917,1918,1919,1920,1921,1922,1923,1924,1925,1926,1927,1928,1929,1930,1931,1932,1933,1934,1935,1936,1937,1938,1939,1940,1941,1942,1943,1944,1945,1946,1947,1948,1949,1950,1951,1952,1953,1954,1955,1956,1957,1958,1959,1960,1961,1962,1963,1964,1965,1966,1967,1968,1969,1970,1971,1972,1973,1974,1975,1976,1977,1978,1979,1980,1981,1982,1983,1984,1985,1986,1987,1988,1989,1990,1991,1992,1993,1994,1995,1996,1997,1998,1999,2000,2001,2002,2003,2004,2005,2006,2007,2008,2009,2010,2011,2012,2013,2014,2015,2016,2017,2018,2019,2020,2021,2022],\"xaxis\":\"x\",\"y\":[1060.0,1060.0,1050.0,1050.0,1050.0,1050.0,1040.0,1040.0,1040.0,1030.0,1030.0,1030.0,1030.0,1020.0,1020.0,1020.0,1020.0,1020.0,1010.0,1010.0,1010.0,1010.0,1000.0,997.0,993.0,989.0,985.0,981.0,976.0,972.0,968.0,969.0,969.0,969.0,970.0,970.0,970.0,971.0,971.0,971.0,972.0,973.0,974.0,975.0,976.0,977.0,978.0,979.0,980.0,981.0,982.0,987.0,992.0,996.0,1000.0,1010.0,1010.0,1020.0,1020.0,1030.0,1030.0,1040.0,1040.0,1050.0,1050.0,1060.0,1060.0,1070.0,1070.0,1080.0,1080.0,1080.0,1080.0,1070.0,1070.0,1070.0,1070.0,1070.0,1060.0,1060.0,1060.0,1060.0,1050.0,1050.0,1050.0,1050.0,1050.0,1040.0,1060.0,1080.0,1100.0,1100.0,1110.0,1110.0,1110.0,1110.0,1110.0,1110.0,1110.0,1110.0,1110.0,1110.0,1100.0,1090.0,1080.0,1080.0,1070.0,1060.0,1060.0,1050.0,1040.0,1040.0,1080.0,1130.0,1130.0,1130.0,1130.0,1130.0,1130.0,1140.0,1140.0,1140.0,1140.0,1140.0,1140.0,1140.0,1140.0,1150.0,1150.0,1150.0,1160.0,1160.0,1190.0,1060.0,1070.0,1150.0,1220.0,1180.0,1150.0,1130.0,1110.0,1070.0,1030.0,992.0,957.0,923.0,890.0,859.0,828.0,799.0,771.0,901.0,976.0,1060.0,948.0,995.0,1040.0,1030.0,1000.0,941.0,879.0,713.0,740.0,811.0,886.0,946.0,935.0,901.0,842.0,888.0,966.0,995.0,959.0,994.0,983.0,1020.0,952.0,975.0,1060.0,1100.0,1130.0,1140.0,1210.0,1280.0,1410.0,1530.0,1600.0,1720.0,1820.0,1830.0,1830.0,1920.0,2100.0,2320.0,2540.0,2750.0,2940.0,3120.0,3270.0,3450.0,3680.0,3920.0,4220.0,4570.0,4970.0,5470.0,6090.0,6880.0,7460.0,8090.0,8880.0,9680.0,10400.0,11100.0,11900.0,12600.0,13400.0,14200.0,15100.0,16000.0,16300.0,17700.0,18200.0],\"yaxis\":\"y\",\"type\":\"scatter\"},{\"hovertemplate\":\"Country=Nigeria\\u003cbr\\u003eYear=%{x}\\u003cbr\\u003eGDP per Capita (USD)=%{y}\\u003cextra\\u003e\\u003c\\u002fextra\\u003e\",\"legendgroup\":\"Nigeria\",\"line\":{\"color\":\"#EF553B\",\"dash\":\"solid\"},\"marker\":{\"symbol\":\"circle\"},\"mode\":\"lines\",\"name\":\"Nigeria\",\"orientation\":\"v\",\"showlegend\":true,\"x\":[1800,1801,1802,1803,1804,1805,1806,1807,1808,1809,1810,1811,1812,1813,1814,1815,1816,1817,1818,1819,1820,1821,1822,1823,1824,1825,1826,1827,1828,1829,1830,1831,1832,1833,1834,1835,1836,1837,1838,1839,1840,1841,1842,1843,1844,1845,1846,1847,1848,1849,1850,1851,1852,1853,1854,1855,1856,1857,1858,1859,1860,1861,1862,1863,1864,1865,1866,1867,1868,1869,1870,1871,1872,1873,1874,1875,1876,1877,1878,1879,1880,1881,1882,1883,1884,1885,1886,1887,1888,1889,1890,1891,1892,1893,1894,1895,1896,1897,1898,1899,1900,1901,1902,1903,1904,1905,1906,1907,1908,1909,1910,1911,1912,1913,1914,1915,1916,1917,1918,1919,1920,1921,1922,1923,1924,1925,1926,1927,1928,1929,1930,1931,1932,1933,1934,1935,1936,1937,1938,1939,1940,1941,1942,1943,1944,1945,1946,1947,1948,1949,1950,1951,1952,1953,1954,1955,1956,1957,1958,1959,1960,1961,1962,1963,1964,1965,1966,1967,1968,1969,1970,1971,1972,1973,1974,1975,1976,1977,1978,1979,1980,1981,1982,1983,1984,1985,1986,1987,1988,1989,1990,1991,1992,1993,1994,1995,1996,1997,1998,1999,2000,2001,2002,2003,2004,2005,2006,2007,2008,2009,2010,2011,2012,2013,2014,2015,2016,2017,2018,2019,2020,2021,2022],\"xaxis\":\"x\",\"y\":[949.0,949.0,949.0,949.0,949.0,949.0,949.0,949.0,949.0,949.0,949.0,949.0,949.0,949.0,949.0,949.0,949.0,949.0,949.0,949.0,949.0,949.0,949.0,949.0,950.0,952.0,953.0,955.0,956.0,957.0,958.0,960.0,961.0,962.0,963.0,965.0,965.0,966.0,968.0,969.0,970.0,972.0,973.0,974.0,975.0,977.0,978.0,979.0,980.0,982.0,982.0,984.0,985.0,986.0,988.0,989.0,990.0,992.0,993.0,994.0,995.0,996.0,998.0,999.0,1000.0,1000.0,1000.0,1000.0,1010.0,1010.0,1010.0,1010.0,1010.0,1010.0,1010.0,1010.0,1020.0,1020.0,1020.0,1020.0,1020.0,1020.0,1020.0,1020.0,1030.0,1030.0,1030.0,1030.0,1030.0,1030.0,1030.0,1030.0,1040.0,1040.0,1040.0,1040.0,1040.0,1040.0,1040.0,1050.0,1050.0,1050.0,1050.0,1050.0,1050.0,1050.0,1050.0,1060.0,1060.0,1060.0,1060.0,1060.0,1060.0,1070.0,1080.0,1100.0,1110.0,1130.0,1150.0,1160.0,1180.0,1190.0,1200.0,1210.0,1210.0,1220.0,1230.0,1240.0,1240.0,1250.0,1260.0,1270.0,1270.0,1280.0,1290.0,1290.0,1300.0,1310.0,1310.0,1320.0,1320.0,1340.0,1360.0,1380.0,1390.0,1410.0,1430.0,1450.0,1460.0,1480.0,1500.0,1590.0,1680.0,1690.0,1780.0,1790.0,1720.0,1750.0,1720.0,1770.0,1900.0,1890.0,1950.0,2090.0,2130.0,2150.0,2020.0,1670.0,1630.0,1970.0,2420.0,2680.0,2770.0,2920.0,3180.0,3070.0,3280.0,3400.0,3180.0,3160.0,3150.0,2960.0,2770.0,2480.0,2380.0,2500.0,2460.0,2460.0,2610.0,2640.0,2850.0,2810.0,2890.0,2820.0,2740.0,2710.0,2780.0,2810.0,2830.0,2800.0,2880.0,3000.0,3380.0,3550.0,3790.0,3940.0,4080.0,4240.0,4400.0,4630.0,4860.0,4980.0,5050.0,5240.0,5420.0,5430.0,5210.0,5120.0,5090.0,5080.0,4870.0,4920.0,4960.0],\"yaxis\":\"y\",\"type\":\"scatter\"},{\"hovertemplate\":\"Country=Russia\\u003cbr\\u003eYear=%{x}\\u003cbr\\u003eGDP per Capita (USD)=%{y}\\u003cextra\\u003e\\u003c\\u002fextra\\u003e\",\"legendgroup\":\"Russia\",\"line\":{\"color\":\"#00cc96\",\"dash\":\"solid\"},\"marker\":{\"symbol\":\"circle\"},\"mode\":\"lines\",\"name\":\"Russia\",\"orientation\":\"v\",\"showlegend\":true,\"x\":[1800,1801,1802,1803,1804,1805,1806,1807,1808,1809,1810,1811,1812,1813,1814,1815,1816,1817,1818,1819,1820,1821,1822,1823,1824,1825,1826,1827,1828,1829,1830,1831,1832,1833,1834,1835,1836,1837,1838,1839,1840,1841,1842,1843,1844,1845,1846,1847,1848,1849,1850,1851,1852,1853,1854,1855,1856,1857,1858,1859,1860,1861,1862,1863,1864,1865,1866,1867,1868,1869,1870,1871,1872,1873,1874,1875,1876,1877,1878,1879,1880,1881,1882,1883,1884,1885,1886,1887,1888,1889,1890,1891,1892,1893,1894,1895,1896,1897,1898,1899,1900,1901,1902,1903,1904,1905,1906,1907,1908,1909,1910,1911,1912,1913,1914,1915,1916,1917,1918,1919,1920,1921,1922,1923,1924,1925,1926,1927,1928,1929,1930,1931,1932,1933,1934,1935,1936,1937,1938,1939,1940,1941,1942,1943,1944,1945,1946,1947,1948,1949,1950,1951,1952,1953,1954,1955,1956,1957,1958,1959,1960,1961,1962,1963,1964,1965,1966,1967,1968,1969,1970,1971,1972,1973,1974,1975,1976,1977,1978,1979,1980,1981,1982,1983,1984,1985,1986,1987,1988,1989,1990,1991,1992,1993,1994,1995,1996,1997,1998,1999,2000,2001,2002,2003,2004,2005,2006,2007,2008,2009,2010,2011,2012,2013,2014,2015,2016,2017,2018,2019,2020,2021,2022],\"xaxis\":\"x\",\"y\":[1600.0,1600.0,1600.0,1600.0,1600.0,1600.0,1600.0,1600.0,1600.0,1600.0,1600.0,1600.0,1600.0,1600.0,1600.0,1600.0,1600.0,1600.0,1600.0,1600.0,1600.0,1600.0,1600.0,1600.0,1600.0,1610.0,1610.0,1620.0,1620.0,1630.0,1630.0,1640.0,1650.0,1650.0,1660.0,1660.0,1670.0,1670.0,1680.0,1690.0,1690.0,1700.0,1700.0,1710.0,1720.0,1720.0,1730.0,1730.0,1740.0,1750.0,1750.0,1760.0,1760.0,1770.0,1780.0,1780.0,1790.0,1800.0,1800.0,1810.0,1810.0,1820.0,1830.0,1830.0,1840.0,1850.0,1850.0,1860.0,1860.0,1870.0,1880.0,1880.0,1890.0,1900.0,1900.0,1910.0,1920.0,1920.0,1930.0,1940.0,1940.0,1950.0,1960.0,1960.0,1970.0,1980.0,1900.0,2210.0,2120.0,1970.0,1950.0,1780.0,1950.0,2200.0,2490.0,2300.0,2530.0,2480.0,2540.0,2680.0,2620.0,2680.0,2900.0,2690.0,2970.0,2620.0,2500.0,2390.0,2610.0,2700.0,2870.0,2650.0,2850.0,2990.0,2840.0,2920.0,2590.0,2260.0,1380.0,1190.0,1190.0,1090.0,1260.0,1450.0,1840.0,2290.0,2570.0,2670.0,2810.0,2840.0,2960.0,2960.0,2900.0,2990.0,3240.0,3670.0,3890.0,4180.0,4140.0,4280.0,4070.0,3980.0,3900.0,3820.0,3740.0,3670.0,3590.0,3980.0,4490.0,4900.0,5290.0,5220.0,5450.0,5580.0,5740.0,6100.0,6560.0,6560.0,6910.0,6690.0,7180.0,7640.0,8150.0,8430.0,8940.0,9410.0,10100.0,10700.0,11400.0,11700.0,12700.0,13200.0,13600.0,14700.0,15200.0,15800.0,16300.0,16700.0,17000.0,17200.0,17800.0,18000.0,18100.0,18400.0,18500.0,18800.0,19200.0,19200.0,19500.0,19700.0,19200.0,18400.0,15900.0,14700.0,13000.0,12600.0,12200.0,12500.0,12000.0,12900.0,14300.0,15200.0,16000.0,17400.0,18800.0,20100.0,21900.0,23800.0,25100.0,23200.0,24200.0,25200.0,26100.0,26500.0,26200.0,25600.0,25600.0,26000.0,26700.0,27300.0,26600.0,28200.0,27700.0],\"yaxis\":\"y\",\"type\":\"scatter\"},{\"hovertemplate\":\"Country=USA\\u003cbr\\u003eYear=%{x}\\u003cbr\\u003eGDP per Capita (USD)=%{y}\\u003cextra\\u003e\\u003c\\u002fextra\\u003e\",\"legendgroup\":\"USA\",\"line\":{\"color\":\"#ab63fa\",\"dash\":\"solid\"},\"marker\":{\"symbol\":\"circle\"},\"mode\":\"lines\",\"name\":\"USA\",\"orientation\":\"v\",\"showlegend\":true,\"x\":[1800,1801,1802,1803,1804,1805,1806,1807,1808,1809,1810,1811,1812,1813,1814,1815,1816,1817,1818,1819,1820,1821,1822,1823,1824,1825,1826,1827,1828,1829,1830,1831,1832,1833,1834,1835,1836,1837,1838,1839,1840,1841,1842,1843,1844,1845,1846,1847,1848,1849,1850,1851,1852,1853,1854,1855,1856,1857,1858,1859,1860,1861,1862,1863,1864,1865,1866,1867,1868,1869,1870,1871,1872,1873,1874,1875,1876,1877,1878,1879,1880,1881,1882,1883,1884,1885,1886,1887,1888,1889,1890,1891,1892,1893,1894,1895,1896,1897,1898,1899,1900,1901,1902,1903,1904,1905,1906,1907,1908,1909,1910,1911,1912,1913,1914,1915,1916,1917,1918,1919,1920,1921,1922,1923,1924,1925,1926,1927,1928,1929,1930,1931,1932,1933,1934,1935,1936,1937,1938,1939,1940,1941,1942,1943,1944,1945,1946,1947,1948,1949,1950,1951,1952,1953,1954,1955,1956,1957,1958,1959,1960,1961,1962,1963,1964,1965,1966,1967,1968,1969,1970,1971,1972,1973,1974,1975,1976,1977,1978,1979,1980,1981,1982,1983,1984,1985,1986,1987,1988,1989,1990,1991,1992,1993,1994,1995,1996,1997,1998,1999,2000,2001,2002,2003,2004,2005,2006,2007,2008,2009,2010,2011,2012,2013,2014,2015,2016,2017,2018,2019,2020,2021,2022],\"xaxis\":\"x\",\"y\":[2910.0,2970.0,3020.0,2960.0,2960.0,3030.0,3080.0,3110.0,2890.0,3040.0,3120.0,3180.0,3130.0,3160.0,3220.0,3210.0,3080.0,3080.0,3080.0,3080.0,3060.0,3110.0,3190.0,3160.0,3250.0,3320.0,3340.0,3350.0,3350.0,3240.0,3480.0,3690.0,3830.0,3960.0,3770.0,3910.0,3970.0,3850.0,3810.0,4000.0,3800.0,3720.0,3690.0,3750.0,3950.0,4010.0,4040.0,4140.0,4250.0,4140.0,4160.0,4320.0,4550.0,4860.0,4870.0,4760.0,4860.0,4760.0,4780.0,4910.0,5040.0,4940.0,5090.0,5420.0,5600.0,5310.0,5270.0,5440.0,5510.0,5660.0,5500.0,5630.0,5710.0,5860.0,5680.0,5840.0,5780.0,5840.0,5950.0,6540.0,7160.0,7230.0,7510.0,7510.0,7470.0,7350.0,7410.0,7570.0,7380.0,7680.0,7630.0,7800.0,8380.0,7820.0,7450.0,8200.0,7880.0,8480.0,8500.0,9110.0,9200.0,10000.0,9940.0,10200.0,9920.0,10400.0,11400.0,11400.0,10300.0,11200.0,11000.0,11100.0,11400.0,11600.0,10400.0,10500.0,11700.0,11200.0,12000.0,12000.0,11600.0,11100.0,11500.0,12700.0,12700.0,12800.0,13300.0,13200.0,13100.0,13700.0,12200.0,11400.0,9590.0,9210.0,9920.0,11100.0,12100.0,12900.0,12000.0,12800.0,13700.0,15500.0,17000.0,18300.0,19300.0,18700.0,16800.0,16200.0,16700.0,16000.0,17200.0,18200.0,18500.0,19000.0,18600.0,19500.0,19500.0,19500.0,19000.0,20000.0,20100.0,20300.0,21100.0,21700.0,22600.0,23700.0,25000.0,25300.0,26300.0,26800.0,26500.0,27000.0,28100.0,29400.0,29000.0,28600.0,29800.0,30900.0,32200.0,32900.0,32500.0,33000.0,32000.0,33100.0,35200.0,36200.0,37100.0,38000.0,39200.0,40200.0,40500.0,39900.0,40700.0,41200.0,42300.0,42900.0,44000.0,45300.0,46800.0,48400.0,49800.0,49700.0,50000.0,50900.0,52400.0,53600.0,54600.0,55100.0,54600.0,52600.0,53600.0,54000.0,54900.0,55600.0,56600.0,57900.0,58500.0,59500.0,61000.0,62200.0,60200.0,63600.0,64600.0],\"yaxis\":\"y\",\"type\":\"scatter\"}],                        {\"template\":{\"data\":{\"histogram2dcontour\":[{\"type\":\"histogram2dcontour\",\"colorbar\":{\"outlinewidth\":0,\"ticks\":\"\"},\"colorscale\":[[0.0,\"#0d0887\"],[0.1111111111111111,\"#46039f\"],[0.2222222222222222,\"#7201a8\"],[0.3333333333333333,\"#9c179e\"],[0.4444444444444444,\"#bd3786\"],[0.5555555555555556,\"#d8576b\"],[0.6666666666666666,\"#ed7953\"],[0.7777777777777778,\"#fb9f3a\"],[0.8888888888888888,\"#fdca26\"],[1.0,\"#f0f921\"]]}],\"choropleth\":[{\"type\":\"choropleth\",\"colorbar\":{\"outlinewidth\":0,\"ticks\":\"\"}}],\"histogram2d\":[{\"type\":\"histogram2d\",\"colorbar\":{\"outlinewidth\":0,\"ticks\":\"\"},\"colorscale\":[[0.0,\"#0d0887\"],[0.1111111111111111,\"#46039f\"],[0.2222222222222222,\"#7201a8\"],[0.3333333333333333,\"#9c179e\"],[0.4444444444444444,\"#bd3786\"],[0.5555555555555556,\"#d8576b\"],[0.6666666666666666,\"#ed7953\"],[0.7777777777777778,\"#fb9f3a\"],[0.8888888888888888,\"#fdca26\"],[1.0,\"#f0f921\"]]}],\"heatmap\":[{\"type\":\"heatmap\",\"colorbar\":{\"outlinewidth\":0,\"ticks\":\"\"},\"colorscale\":[[0.0,\"#0d0887\"],[0.1111111111111111,\"#46039f\"],[0.2222222222222222,\"#7201a8\"],[0.3333333333333333,\"#9c179e\"],[0.4444444444444444,\"#bd3786\"],[0.5555555555555556,\"#d8576b\"],[0.6666666666666666,\"#ed7953\"],[0.7777777777777778,\"#fb9f3a\"],[0.8888888888888888,\"#fdca26\"],[1.0,\"#f0f921\"]]}],\"heatmapgl\":[{\"type\":\"heatmapgl\",\"colorbar\":{\"outlinewidth\":0,\"ticks\":\"\"},\"colorscale\":[[0.0,\"#0d0887\"],[0.1111111111111111,\"#46039f\"],[0.2222222222222222,\"#7201a8\"],[0.3333333333333333,\"#9c179e\"],[0.4444444444444444,\"#bd3786\"],[0.5555555555555556,\"#d8576b\"],[0.6666666666666666,\"#ed7953\"],[0.7777777777777778,\"#fb9f3a\"],[0.8888888888888888,\"#fdca26\"],[1.0,\"#f0f921\"]]}],\"contourcarpet\":[{\"type\":\"contourcarpet\",\"colorbar\":{\"outlinewidth\":0,\"ticks\":\"\"}}],\"contour\":[{\"type\":\"contour\",\"colorbar\":{\"outlinewidth\":0,\"ticks\":\"\"},\"colorscale\":[[0.0,\"#0d0887\"],[0.1111111111111111,\"#46039f\"],[0.2222222222222222,\"#7201a8\"],[0.3333333333333333,\"#9c179e\"],[0.4444444444444444,\"#bd3786\"],[0.5555555555555556,\"#d8576b\"],[0.6666666666666666,\"#ed7953\"],[0.7777777777777778,\"#fb9f3a\"],[0.8888888888888888,\"#fdca26\"],[1.0,\"#f0f921\"]]}],\"surface\":[{\"type\":\"surface\",\"colorbar\":{\"outlinewidth\":0,\"ticks\":\"\"},\"colorscale\":[[0.0,\"#0d0887\"],[0.1111111111111111,\"#46039f\"],[0.2222222222222222,\"#7201a8\"],[0.3333333333333333,\"#9c179e\"],[0.4444444444444444,\"#bd3786\"],[0.5555555555555556,\"#d8576b\"],[0.6666666666666666,\"#ed7953\"],[0.7777777777777778,\"#fb9f3a\"],[0.8888888888888888,\"#fdca26\"],[1.0,\"#f0f921\"]]}],\"mesh3d\":[{\"type\":\"mesh3d\",\"colorbar\":{\"outlinewidth\":0,\"ticks\":\"\"}}],\"scatter\":[{\"fillpattern\":{\"fillmode\":\"overlay\",\"size\":10,\"solidity\":0.2},\"type\":\"scatter\"}],\"parcoords\":[{\"type\":\"parcoords\",\"line\":{\"colorbar\":{\"outlinewidth\":0,\"ticks\":\"\"}}}],\"scatterpolargl\":[{\"type\":\"scatterpolargl\",\"marker\":{\"colorbar\":{\"outlinewidth\":0,\"ticks\":\"\"}}}],\"bar\":[{\"error_x\":{\"color\":\"#2a3f5f\"},\"error_y\":{\"color\":\"#2a3f5f\"},\"marker\":{\"line\":{\"color\":\"#E5ECF6\",\"width\":0.5},\"pattern\":{\"fillmode\":\"overlay\",\"size\":10,\"solidity\":0.2}},\"type\":\"bar\"}],\"scattergeo\":[{\"type\":\"scattergeo\",\"marker\":{\"colorbar\":{\"outlinewidth\":0,\"ticks\":\"\"}}}],\"scatterpolar\":[{\"type\":\"scatterpolar\",\"marker\":{\"colorbar\":{\"outlinewidth\":0,\"ticks\":\"\"}}}],\"histogram\":[{\"marker\":{\"pattern\":{\"fillmode\":\"overlay\",\"size\":10,\"solidity\":0.2}},\"type\":\"histogram\"}],\"scattergl\":[{\"type\":\"scattergl\",\"marker\":{\"colorbar\":{\"outlinewidth\":0,\"ticks\":\"\"}}}],\"scatter3d\":[{\"type\":\"scatter3d\",\"line\":{\"colorbar\":{\"outlinewidth\":0,\"ticks\":\"\"}},\"marker\":{\"colorbar\":{\"outlinewidth\":0,\"ticks\":\"\"}}}],\"scattermapbox\":[{\"type\":\"scattermapbox\",\"marker\":{\"colorbar\":{\"outlinewidth\":0,\"ticks\":\"\"}}}],\"scatterternary\":[{\"type\":\"scatterternary\",\"marker\":{\"colorbar\":{\"outlinewidth\":0,\"ticks\":\"\"}}}],\"scattercarpet\":[{\"type\":\"scattercarpet\",\"marker\":{\"colorbar\":{\"outlinewidth\":0,\"ticks\":\"\"}}}],\"carpet\":[{\"aaxis\":{\"endlinecolor\":\"#2a3f5f\",\"gridcolor\":\"white\",\"linecolor\":\"white\",\"minorgridcolor\":\"white\",\"startlinecolor\":\"#2a3f5f\"},\"baxis\":{\"endlinecolor\":\"#2a3f5f\",\"gridcolor\":\"white\",\"linecolor\":\"white\",\"minorgridcolor\":\"white\",\"startlinecolor\":\"#2a3f5f\"},\"type\":\"carpet\"}],\"table\":[{\"cells\":{\"fill\":{\"color\":\"#EBF0F8\"},\"line\":{\"color\":\"white\"}},\"header\":{\"fill\":{\"color\":\"#C8D4E3\"},\"line\":{\"color\":\"white\"}},\"type\":\"table\"}],\"barpolar\":[{\"marker\":{\"line\":{\"color\":\"#E5ECF6\",\"width\":0.5},\"pattern\":{\"fillmode\":\"overlay\",\"size\":10,\"solidity\":0.2}},\"type\":\"barpolar\"}],\"pie\":[{\"automargin\":true,\"type\":\"pie\"}]},\"layout\":{\"autotypenumbers\":\"strict\",\"colorway\":[\"#636efa\",\"#EF553B\",\"#00cc96\",\"#ab63fa\",\"#FFA15A\",\"#19d3f3\",\"#FF6692\",\"#B6E880\",\"#FF97FF\",\"#FECB52\"],\"font\":{\"color\":\"#2a3f5f\"},\"hovermode\":\"closest\",\"hoverlabel\":{\"align\":\"left\"},\"paper_bgcolor\":\"white\",\"plot_bgcolor\":\"#E5ECF6\",\"polar\":{\"bgcolor\":\"#E5ECF6\",\"angularaxis\":{\"gridcolor\":\"white\",\"linecolor\":\"white\",\"ticks\":\"\"},\"radialaxis\":{\"gridcolor\":\"white\",\"linecolor\":\"white\",\"ticks\":\"\"}},\"ternary\":{\"bgcolor\":\"#E5ECF6\",\"aaxis\":{\"gridcolor\":\"white\",\"linecolor\":\"white\",\"ticks\":\"\"},\"baxis\":{\"gridcolor\":\"white\",\"linecolor\":\"white\",\"ticks\":\"\"},\"caxis\":{\"gridcolor\":\"white\",\"linecolor\":\"white\",\"ticks\":\"\"}},\"coloraxis\":{\"colorbar\":{\"outlinewidth\":0,\"ticks\":\"\"}},\"colorscale\":{\"sequential\":[[0.0,\"#0d0887\"],[0.1111111111111111,\"#46039f\"],[0.2222222222222222,\"#7201a8\"],[0.3333333333333333,\"#9c179e\"],[0.4444444444444444,\"#bd3786\"],[0.5555555555555556,\"#d8576b\"],[0.6666666666666666,\"#ed7953\"],[0.7777777777777778,\"#fb9f3a\"],[0.8888888888888888,\"#fdca26\"],[1.0,\"#f0f921\"]],\"sequentialminus\":[[0.0,\"#0d0887\"],[0.1111111111111111,\"#46039f\"],[0.2222222222222222,\"#7201a8\"],[0.3333333333333333,\"#9c179e\"],[0.4444444444444444,\"#bd3786\"],[0.5555555555555556,\"#d8576b\"],[0.6666666666666666,\"#ed7953\"],[0.7777777777777778,\"#fb9f3a\"],[0.8888888888888888,\"#fdca26\"],[1.0,\"#f0f921\"]],\"diverging\":[[0,\"#8e0152\"],[0.1,\"#c51b7d\"],[0.2,\"#de77ae\"],[0.3,\"#f1b6da\"],[0.4,\"#fde0ef\"],[0.5,\"#f7f7f7\"],[0.6,\"#e6f5d0\"],[0.7,\"#b8e186\"],[0.8,\"#7fbc41\"],[0.9,\"#4d9221\"],[1,\"#276419\"]]},\"xaxis\":{\"gridcolor\":\"white\",\"linecolor\":\"white\",\"ticks\":\"\",\"title\":{\"standoff\":15},\"zerolinecolor\":\"white\",\"automargin\":true,\"zerolinewidth\":2},\"yaxis\":{\"gridcolor\":\"white\",\"linecolor\":\"white\",\"ticks\":\"\",\"title\":{\"standoff\":15},\"zerolinecolor\":\"white\",\"automargin\":true,\"zerolinewidth\":2},\"scene\":{\"xaxis\":{\"backgroundcolor\":\"#E5ECF6\",\"gridcolor\":\"white\",\"linecolor\":\"white\",\"showbackground\":true,\"ticks\":\"\",\"zerolinecolor\":\"white\",\"gridwidth\":2},\"yaxis\":{\"backgroundcolor\":\"#E5ECF6\",\"gridcolor\":\"white\",\"linecolor\":\"white\",\"showbackground\":true,\"ticks\":\"\",\"zerolinecolor\":\"white\",\"gridwidth\":2},\"zaxis\":{\"backgroundcolor\":\"#E5ECF6\",\"gridcolor\":\"white\",\"linecolor\":\"white\",\"showbackground\":true,\"ticks\":\"\",\"zerolinecolor\":\"white\",\"gridwidth\":2}},\"shapedefaults\":{\"line\":{\"color\":\"#2a3f5f\"}},\"annotationdefaults\":{\"arrowcolor\":\"#2a3f5f\",\"arrowhead\":0,\"arrowwidth\":1},\"geo\":{\"bgcolor\":\"white\",\"landcolor\":\"#E5ECF6\",\"subunitcolor\":\"white\",\"showland\":true,\"showlakes\":true,\"lakecolor\":\"white\"},\"title\":{\"x\":0.05},\"mapbox\":{\"style\":\"light\"}}},\"xaxis\":{\"anchor\":\"y\",\"domain\":[0.0,1.0],\"title\":{\"text\":\"Year\"}},\"yaxis\":{\"anchor\":\"x\",\"domain\":[0.0,1.0],\"title\":{\"text\":\"GDP per Capita (USD)\"},\"type\":\"log\"},\"legend\":{\"title\":{\"text\":\"Country\"},\"tracegroupgap\":0},\"title\":{\"text\":\"GDP per Capita Trends (1800-2022)\"}},                        {\"responsive\": true}                    ).then(function(){\n",
       "                            \n",
       "var gd = document.getElementById('7a78a81d-43a3-4485-af43-9effc104e181');\n",
       "var x = new MutationObserver(function (mutations, observer) {{\n",
       "        var display = window.getComputedStyle(gd).display;\n",
       "        if (!display || display === 'none') {{\n",
       "            console.log([gd, 'removed!']);\n",
       "            Plotly.purge(gd);\n",
       "            observer.disconnect();\n",
       "        }}\n",
       "}});\n",
       "\n",
       "// Listen for the removal of the full notebook cells\n",
       "var notebookContainer = gd.closest('#notebook-container');\n",
       "if (notebookContainer) {{\n",
       "    x.observe(notebookContainer, {childList: true});\n",
       "}}\n",
       "\n",
       "// Listen for the clearing of the current output cell\n",
       "var outputEl = gd.closest('.output');\n",
       "if (outputEl) {{\n",
       "    x.observe(outputEl, {childList: true});\n",
       "}}\n",
       "\n",
       "                        })                };                });            </script>        </div>"
      ]
     },
     "metadata": {},
     "output_type": "display_data"
    }
   ],
   "source": [
    "gdp_trend = gapminder_df.query( \"Year >= 1800 & Year <= 2022 & \" \\\n",
    "\"Country in ['China', 'USA', 'Russia', 'Nigeria' ] \" ) \n",
    "\n",
    "fig = px.line(\n",
    "    gdp_trend,\n",
    "    x=\"Year\",\n",
    "    y=\"GDPpcap\",\n",
    "    color=\"Country\",\n",
    "    title=\"GDP per Capita Trends (1800-2022)\",\n",
    "    log_y=True,\n",
    "    labels={\"Year\": \"Year\", \"GDPpcap\": \"GDP per Capita (USD)\"},\n",
    "    hover_name = 'Country'\n",
    ")\n",
    "fig.show()\n"
   ]
  },
  {
   "cell_type": "markdown",
   "id": "ddf8f45c",
   "metadata": {},
   "source": [
    "## Bar chart of population size (top 10)\n",
    "\n",
    "Recreate this [bar chart](https://www.gapminder.org/tools/#$chart-type=barrank&url=v2)"
   ]
  },
  {
   "cell_type": "code",
   "execution_count": 156,
   "id": "480ca57f",
   "metadata": {},
   "outputs": [
    {
     "data": {
      "application/vnd.plotly.v1+json": {
       "config": {
        "plotlyServerURL": "https://plot.ly"
       },
       "data": [
        {
         "alignmentgroup": "True",
         "hovertemplate": "<b>%{hovertext}</b><br><br>Region=Asia<br>Population=%{x}<br>Country=%{y}<extra></extra>",
         "hovertext": [
          "India",
          "China",
          "Indonesia",
          "Pakistan",
          "Bangladesh",
          "Japan",
          "Philippines"
         ],
         "legendgroup": "Asia",
         "marker": {
          "color": "#636efa",
          "pattern": {
           "shape": ""
          }
         },
         "name": "Asia",
         "offsetgroup": "Asia",
         "orientation": "h",
         "showlegend": true,
         "textposition": "auto",
         "texttemplate": "%{x}",
         "type": "bar",
         "x": [
          1440000000,
          1420000000,
          281000000,
          248000000,
          171000000,
          124000000,
          115000000
         ],
         "xaxis": "x",
         "y": [
          "India",
          "China",
          "Indonesia",
          "Pakistan",
          "Bangladesh",
          "Japan",
          "Philippines"
         ],
         "yaxis": "y"
        },
        {
         "alignmentgroup": "True",
         "hovertemplate": "<b>%{hovertext}</b><br><br>Region=Americas<br>Population=%{x}<br>Country=%{y}<extra></extra>",
         "hovertext": [
          "USA",
          "Brazil",
          "Mexico"
         ],
         "legendgroup": "Americas",
         "marker": {
          "color": "#EF553B",
          "pattern": {
           "shape": ""
          }
         },
         "name": "Americas",
         "offsetgroup": "Americas",
         "orientation": "h",
         "showlegend": true,
         "textposition": "auto",
         "texttemplate": "%{x}",
         "type": "bar",
         "x": [
          343000000,
          211000000,
          130000000
         ],
         "xaxis": "x",
         "y": [
          "USA",
          "Brazil",
          "Mexico"
         ],
         "yaxis": "y"
        },
        {
         "alignmentgroup": "True",
         "hovertemplate": "<b>%{hovertext}</b><br><br>Region=Africa<br>Population=%{x}<br>Country=%{y}<extra></extra>",
         "hovertext": [
          "Nigeria",
          "Ethiopia",
          "Egypt",
          "Congo, Dem. Rep."
         ],
         "legendgroup": "Africa",
         "marker": {
          "color": "#00cc96",
          "pattern": {
           "shape": ""
          }
         },
         "name": "Africa",
         "offsetgroup": "Africa",
         "orientation": "h",
         "showlegend": true,
         "textposition": "auto",
         "texttemplate": "%{x}",
         "type": "bar",
         "x": [
          228000000,
          129000000,
          115000000,
          106000000
         ],
         "xaxis": "x",
         "y": [
          "Nigeria",
          "Ethiopia",
          "Egypt",
          "Congo, Dem. Rep."
         ],
         "yaxis": "y"
        },
        {
         "alignmentgroup": "True",
         "hovertemplate": "<b>%{hovertext}</b><br><br>Region=Europe<br>Population=%{x}<br>Country=%{y}<extra></extra>",
         "hovertext": [
          "Russia"
         ],
         "legendgroup": "Europe",
         "marker": {
          "color": "#ab63fa",
          "pattern": {
           "shape": ""
          }
         },
         "name": "Europe",
         "offsetgroup": "Europe",
         "orientation": "h",
         "showlegend": true,
         "textposition": "auto",
         "texttemplate": "%{x}",
         "type": "bar",
         "x": [
          145000000
         ],
         "xaxis": "x",
         "y": [
          "Russia"
         ],
         "yaxis": "y"
        }
       ],
       "layout": {
        "autosize": true,
        "barmode": "relative",
        "legend": {
         "title": {
          "text": "Region"
         },
         "tracegroupgap": 0
        },
        "template": {
         "data": {
          "bar": [
           {
            "error_x": {
             "color": "#2a3f5f"
            },
            "error_y": {
             "color": "#2a3f5f"
            },
            "marker": {
             "line": {
              "color": "#E5ECF6",
              "width": 0.5
             },
             "pattern": {
              "fillmode": "overlay",
              "size": 10,
              "solidity": 0.2
             }
            },
            "type": "bar"
           }
          ],
          "barpolar": [
           {
            "marker": {
             "line": {
              "color": "#E5ECF6",
              "width": 0.5
             },
             "pattern": {
              "fillmode": "overlay",
              "size": 10,
              "solidity": 0.2
             }
            },
            "type": "barpolar"
           }
          ],
          "carpet": [
           {
            "aaxis": {
             "endlinecolor": "#2a3f5f",
             "gridcolor": "white",
             "linecolor": "white",
             "minorgridcolor": "white",
             "startlinecolor": "#2a3f5f"
            },
            "baxis": {
             "endlinecolor": "#2a3f5f",
             "gridcolor": "white",
             "linecolor": "white",
             "minorgridcolor": "white",
             "startlinecolor": "#2a3f5f"
            },
            "type": "carpet"
           }
          ],
          "choropleth": [
           {
            "colorbar": {
             "outlinewidth": 0,
             "ticks": ""
            },
            "type": "choropleth"
           }
          ],
          "contour": [
           {
            "colorbar": {
             "outlinewidth": 0,
             "ticks": ""
            },
            "colorscale": [
             [
              0,
              "#0d0887"
             ],
             [
              0.1111111111111111,
              "#46039f"
             ],
             [
              0.2222222222222222,
              "#7201a8"
             ],
             [
              0.3333333333333333,
              "#9c179e"
             ],
             [
              0.4444444444444444,
              "#bd3786"
             ],
             [
              0.5555555555555556,
              "#d8576b"
             ],
             [
              0.6666666666666666,
              "#ed7953"
             ],
             [
              0.7777777777777778,
              "#fb9f3a"
             ],
             [
              0.8888888888888888,
              "#fdca26"
             ],
             [
              1,
              "#f0f921"
             ]
            ],
            "type": "contour"
           }
          ],
          "contourcarpet": [
           {
            "colorbar": {
             "outlinewidth": 0,
             "ticks": ""
            },
            "type": "contourcarpet"
           }
          ],
          "heatmap": [
           {
            "colorbar": {
             "outlinewidth": 0,
             "ticks": ""
            },
            "colorscale": [
             [
              0,
              "#0d0887"
             ],
             [
              0.1111111111111111,
              "#46039f"
             ],
             [
              0.2222222222222222,
              "#7201a8"
             ],
             [
              0.3333333333333333,
              "#9c179e"
             ],
             [
              0.4444444444444444,
              "#bd3786"
             ],
             [
              0.5555555555555556,
              "#d8576b"
             ],
             [
              0.6666666666666666,
              "#ed7953"
             ],
             [
              0.7777777777777778,
              "#fb9f3a"
             ],
             [
              0.8888888888888888,
              "#fdca26"
             ],
             [
              1,
              "#f0f921"
             ]
            ],
            "type": "heatmap"
           }
          ],
          "heatmapgl": [
           {
            "colorbar": {
             "outlinewidth": 0,
             "ticks": ""
            },
            "colorscale": [
             [
              0,
              "#0d0887"
             ],
             [
              0.1111111111111111,
              "#46039f"
             ],
             [
              0.2222222222222222,
              "#7201a8"
             ],
             [
              0.3333333333333333,
              "#9c179e"
             ],
             [
              0.4444444444444444,
              "#bd3786"
             ],
             [
              0.5555555555555556,
              "#d8576b"
             ],
             [
              0.6666666666666666,
              "#ed7953"
             ],
             [
              0.7777777777777778,
              "#fb9f3a"
             ],
             [
              0.8888888888888888,
              "#fdca26"
             ],
             [
              1,
              "#f0f921"
             ]
            ],
            "type": "heatmapgl"
           }
          ],
          "histogram": [
           {
            "marker": {
             "pattern": {
              "fillmode": "overlay",
              "size": 10,
              "solidity": 0.2
             }
            },
            "type": "histogram"
           }
          ],
          "histogram2d": [
           {
            "colorbar": {
             "outlinewidth": 0,
             "ticks": ""
            },
            "colorscale": [
             [
              0,
              "#0d0887"
             ],
             [
              0.1111111111111111,
              "#46039f"
             ],
             [
              0.2222222222222222,
              "#7201a8"
             ],
             [
              0.3333333333333333,
              "#9c179e"
             ],
             [
              0.4444444444444444,
              "#bd3786"
             ],
             [
              0.5555555555555556,
              "#d8576b"
             ],
             [
              0.6666666666666666,
              "#ed7953"
             ],
             [
              0.7777777777777778,
              "#fb9f3a"
             ],
             [
              0.8888888888888888,
              "#fdca26"
             ],
             [
              1,
              "#f0f921"
             ]
            ],
            "type": "histogram2d"
           }
          ],
          "histogram2dcontour": [
           {
            "colorbar": {
             "outlinewidth": 0,
             "ticks": ""
            },
            "colorscale": [
             [
              0,
              "#0d0887"
             ],
             [
              0.1111111111111111,
              "#46039f"
             ],
             [
              0.2222222222222222,
              "#7201a8"
             ],
             [
              0.3333333333333333,
              "#9c179e"
             ],
             [
              0.4444444444444444,
              "#bd3786"
             ],
             [
              0.5555555555555556,
              "#d8576b"
             ],
             [
              0.6666666666666666,
              "#ed7953"
             ],
             [
              0.7777777777777778,
              "#fb9f3a"
             ],
             [
              0.8888888888888888,
              "#fdca26"
             ],
             [
              1,
              "#f0f921"
             ]
            ],
            "type": "histogram2dcontour"
           }
          ],
          "mesh3d": [
           {
            "colorbar": {
             "outlinewidth": 0,
             "ticks": ""
            },
            "type": "mesh3d"
           }
          ],
          "parcoords": [
           {
            "line": {
             "colorbar": {
              "outlinewidth": 0,
              "ticks": ""
             }
            },
            "type": "parcoords"
           }
          ],
          "pie": [
           {
            "automargin": true,
            "type": "pie"
           }
          ],
          "scatter": [
           {
            "fillpattern": {
             "fillmode": "overlay",
             "size": 10,
             "solidity": 0.2
            },
            "type": "scatter"
           }
          ],
          "scatter3d": [
           {
            "line": {
             "colorbar": {
              "outlinewidth": 0,
              "ticks": ""
             }
            },
            "marker": {
             "colorbar": {
              "outlinewidth": 0,
              "ticks": ""
             }
            },
            "type": "scatter3d"
           }
          ],
          "scattercarpet": [
           {
            "marker": {
             "colorbar": {
              "outlinewidth": 0,
              "ticks": ""
             }
            },
            "type": "scattercarpet"
           }
          ],
          "scattergeo": [
           {
            "marker": {
             "colorbar": {
              "outlinewidth": 0,
              "ticks": ""
             }
            },
            "type": "scattergeo"
           }
          ],
          "scattergl": [
           {
            "marker": {
             "colorbar": {
              "outlinewidth": 0,
              "ticks": ""
             }
            },
            "type": "scattergl"
           }
          ],
          "scattermapbox": [
           {
            "marker": {
             "colorbar": {
              "outlinewidth": 0,
              "ticks": ""
             }
            },
            "type": "scattermapbox"
           }
          ],
          "scatterpolar": [
           {
            "marker": {
             "colorbar": {
              "outlinewidth": 0,
              "ticks": ""
             }
            },
            "type": "scatterpolar"
           }
          ],
          "scatterpolargl": [
           {
            "marker": {
             "colorbar": {
              "outlinewidth": 0,
              "ticks": ""
             }
            },
            "type": "scatterpolargl"
           }
          ],
          "scatterternary": [
           {
            "marker": {
             "colorbar": {
              "outlinewidth": 0,
              "ticks": ""
             }
            },
            "type": "scatterternary"
           }
          ],
          "surface": [
           {
            "colorbar": {
             "outlinewidth": 0,
             "ticks": ""
            },
            "colorscale": [
             [
              0,
              "#0d0887"
             ],
             [
              0.1111111111111111,
              "#46039f"
             ],
             [
              0.2222222222222222,
              "#7201a8"
             ],
             [
              0.3333333333333333,
              "#9c179e"
             ],
             [
              0.4444444444444444,
              "#bd3786"
             ],
             [
              0.5555555555555556,
              "#d8576b"
             ],
             [
              0.6666666666666666,
              "#ed7953"
             ],
             [
              0.7777777777777778,
              "#fb9f3a"
             ],
             [
              0.8888888888888888,
              "#fdca26"
             ],
             [
              1,
              "#f0f921"
             ]
            ],
            "type": "surface"
           }
          ],
          "table": [
           {
            "cells": {
             "fill": {
              "color": "#EBF0F8"
             },
             "line": {
              "color": "white"
             }
            },
            "header": {
             "fill": {
              "color": "#C8D4E3"
             },
             "line": {
              "color": "white"
             }
            },
            "type": "table"
           }
          ]
         },
         "layout": {
          "annotationdefaults": {
           "arrowcolor": "#2a3f5f",
           "arrowhead": 0,
           "arrowwidth": 1
          },
          "autotypenumbers": "strict",
          "coloraxis": {
           "colorbar": {
            "outlinewidth": 0,
            "ticks": ""
           }
          },
          "colorscale": {
           "diverging": [
            [
             0,
             "#8e0152"
            ],
            [
             0.1,
             "#c51b7d"
            ],
            [
             0.2,
             "#de77ae"
            ],
            [
             0.3,
             "#f1b6da"
            ],
            [
             0.4,
             "#fde0ef"
            ],
            [
             0.5,
             "#f7f7f7"
            ],
            [
             0.6,
             "#e6f5d0"
            ],
            [
             0.7,
             "#b8e186"
            ],
            [
             0.8,
             "#7fbc41"
            ],
            [
             0.9,
             "#4d9221"
            ],
            [
             1,
             "#276419"
            ]
           ],
           "sequential": [
            [
             0,
             "#0d0887"
            ],
            [
             0.1111111111111111,
             "#46039f"
            ],
            [
             0.2222222222222222,
             "#7201a8"
            ],
            [
             0.3333333333333333,
             "#9c179e"
            ],
            [
             0.4444444444444444,
             "#bd3786"
            ],
            [
             0.5555555555555556,
             "#d8576b"
            ],
            [
             0.6666666666666666,
             "#ed7953"
            ],
            [
             0.7777777777777778,
             "#fb9f3a"
            ],
            [
             0.8888888888888888,
             "#fdca26"
            ],
            [
             1,
             "#f0f921"
            ]
           ],
           "sequentialminus": [
            [
             0,
             "#0d0887"
            ],
            [
             0.1111111111111111,
             "#46039f"
            ],
            [
             0.2222222222222222,
             "#7201a8"
            ],
            [
             0.3333333333333333,
             "#9c179e"
            ],
            [
             0.4444444444444444,
             "#bd3786"
            ],
            [
             0.5555555555555556,
             "#d8576b"
            ],
            [
             0.6666666666666666,
             "#ed7953"
            ],
            [
             0.7777777777777778,
             "#fb9f3a"
            ],
            [
             0.8888888888888888,
             "#fdca26"
            ],
            [
             1,
             "#f0f921"
            ]
           ]
          },
          "colorway": [
           "#636efa",
           "#EF553B",
           "#00cc96",
           "#ab63fa",
           "#FFA15A",
           "#19d3f3",
           "#FF6692",
           "#B6E880",
           "#FF97FF",
           "#FECB52"
          ],
          "font": {
           "color": "#2a3f5f"
          },
          "geo": {
           "bgcolor": "white",
           "lakecolor": "white",
           "landcolor": "#E5ECF6",
           "showlakes": true,
           "showland": true,
           "subunitcolor": "white"
          },
          "hoverlabel": {
           "align": "left"
          },
          "hovermode": "closest",
          "mapbox": {
           "style": "light"
          },
          "paper_bgcolor": "white",
          "plot_bgcolor": "#E5ECF6",
          "polar": {
           "angularaxis": {
            "gridcolor": "white",
            "linecolor": "white",
            "ticks": ""
           },
           "bgcolor": "#E5ECF6",
           "radialaxis": {
            "gridcolor": "white",
            "linecolor": "white",
            "ticks": ""
           }
          },
          "scene": {
           "xaxis": {
            "backgroundcolor": "#E5ECF6",
            "gridcolor": "white",
            "gridwidth": 2,
            "linecolor": "white",
            "showbackground": true,
            "ticks": "",
            "zerolinecolor": "white"
           },
           "yaxis": {
            "backgroundcolor": "#E5ECF6",
            "gridcolor": "white",
            "gridwidth": 2,
            "linecolor": "white",
            "showbackground": true,
            "ticks": "",
            "zerolinecolor": "white"
           },
           "zaxis": {
            "backgroundcolor": "#E5ECF6",
            "gridcolor": "white",
            "gridwidth": 2,
            "linecolor": "white",
            "showbackground": true,
            "ticks": "",
            "zerolinecolor": "white"
           }
          },
          "shapedefaults": {
           "line": {
            "color": "#2a3f5f"
           }
          },
          "ternary": {
           "aaxis": {
            "gridcolor": "white",
            "linecolor": "white",
            "ticks": ""
           },
           "baxis": {
            "gridcolor": "white",
            "linecolor": "white",
            "ticks": ""
           },
           "bgcolor": "#E5ECF6",
           "caxis": {
            "gridcolor": "white",
            "linecolor": "white",
            "ticks": ""
           }
          },
          "title": {
           "x": 0.05
          },
          "xaxis": {
           "automargin": true,
           "gridcolor": "white",
           "linecolor": "white",
           "ticks": "",
           "title": {
            "standoff": 15
           },
           "zerolinecolor": "white",
           "zerolinewidth": 2
          },
          "yaxis": {
           "automargin": true,
           "gridcolor": "white",
           "linecolor": "white",
           "ticks": "",
           "title": {
            "standoff": 15
           },
           "zerolinecolor": "white",
           "zerolinewidth": 2
          }
         }
        },
        "title": {
         "text": "Population Size Rank"
        },
        "xaxis": {
         "anchor": "y",
         "autorange": true,
         "domain": [
          0,
          1
         ],
         "range": [
          0,
          1515789473.6842105
         ],
         "title": {
          "text": "Population"
         },
         "type": "linear"
        },
        "yaxis": {
         "anchor": "x",
         "autorange": true,
         "categoryorder": "total ascending",
         "domain": [
          0,
          1
         ],
         "range": [
          -0.5,
          14.5
         ],
         "title": {
          "text": "Country"
         },
         "type": "category"
        }
       }
      },
      "image/png": "[encoded data removed]",
      "text/html": [
       "<div>                            <div id=\"2f9ac0b7-9bbd-4087-a189-5187672d5aed\" class=\"plotly-graph-div\" style=\"height:525px; width:100%;\"></div>            <script type=\"text/javascript\">                require([\"plotly\"], function(Plotly) {                    window.PLOTLYENV=window.PLOTLYENV || {};                                    if (document.getElementById(\"2f9ac0b7-9bbd-4087-a189-5187672d5aed\")) {                    Plotly.newPlot(                        \"2f9ac0b7-9bbd-4087-a189-5187672d5aed\",                        [{\"alignmentgroup\":\"True\",\"hovertemplate\":\"\\u003cb\\u003e%{hovertext}\\u003c\\u002fb\\u003e\\u003cbr\\u003e\\u003cbr\\u003eRegion=Asia\\u003cbr\\u003ePopulation=%{x}\\u003cbr\\u003eCountry=%{y}\\u003cextra\\u003e\\u003c\\u002fextra\\u003e\",\"hovertext\":[\"India\",\"China\",\"Indonesia\",\"Pakistan\",\"Bangladesh\",\"Japan\",\"Philippines\"],\"legendgroup\":\"Asia\",\"marker\":{\"color\":\"#636efa\",\"pattern\":{\"shape\":\"\"}},\"name\":\"Asia\",\"offsetgroup\":\"Asia\",\"orientation\":\"h\",\"showlegend\":true,\"textposition\":\"auto\",\"texttemplate\":\"%{x}\",\"x\":[1440000000.0,1420000000.0,281000000.0,248000000.0,171000000.0,124000000.0,115000000.0],\"xaxis\":\"x\",\"y\":[\"India\",\"China\",\"Indonesia\",\"Pakistan\",\"Bangladesh\",\"Japan\",\"Philippines\"],\"yaxis\":\"y\",\"type\":\"bar\"},{\"alignmentgroup\":\"True\",\"hovertemplate\":\"\\u003cb\\u003e%{hovertext}\\u003c\\u002fb\\u003e\\u003cbr\\u003e\\u003cbr\\u003eRegion=Americas\\u003cbr\\u003ePopulation=%{x}\\u003cbr\\u003eCountry=%{y}\\u003cextra\\u003e\\u003c\\u002fextra\\u003e\",\"hovertext\":[\"USA\",\"Brazil\",\"Mexico\"],\"legendgroup\":\"Americas\",\"marker\":{\"color\":\"#EF553B\",\"pattern\":{\"shape\":\"\"}},\"name\":\"Americas\",\"offsetgroup\":\"Americas\",\"orientation\":\"h\",\"showlegend\":true,\"textposition\":\"auto\",\"texttemplate\":\"%{x}\",\"x\":[343000000.0,211000000.0,130000000.0],\"xaxis\":\"x\",\"y\":[\"USA\",\"Brazil\",\"Mexico\"],\"yaxis\":\"y\",\"type\":\"bar\"},{\"alignmentgroup\":\"True\",\"hovertemplate\":\"\\u003cb\\u003e%{hovertext}\\u003c\\u002fb\\u003e\\u003cbr\\u003e\\u003cbr\\u003eRegion=Africa\\u003cbr\\u003ePopulation=%{x}\\u003cbr\\u003eCountry=%{y}\\u003cextra\\u003e\\u003c\\u002fextra\\u003e\",\"hovertext\":[\"Nigeria\",\"Ethiopia\",\"Egypt\",\"Congo, Dem. Rep.\"],\"legendgroup\":\"Africa\",\"marker\":{\"color\":\"#00cc96\",\"pattern\":{\"shape\":\"\"}},\"name\":\"Africa\",\"offsetgroup\":\"Africa\",\"orientation\":\"h\",\"showlegend\":true,\"textposition\":\"auto\",\"texttemplate\":\"%{x}\",\"x\":[228000000.0,129000000.0,115000000.0,106000000.0],\"xaxis\":\"x\",\"y\":[\"Nigeria\",\"Ethiopia\",\"Egypt\",\"Congo, Dem. Rep.\"],\"yaxis\":\"y\",\"type\":\"bar\"},{\"alignmentgroup\":\"True\",\"hovertemplate\":\"\\u003cb\\u003e%{hovertext}\\u003c\\u002fb\\u003e\\u003cbr\\u003e\\u003cbr\\u003eRegion=Europe\\u003cbr\\u003ePopulation=%{x}\\u003cbr\\u003eCountry=%{y}\\u003cextra\\u003e\\u003c\\u002fextra\\u003e\",\"hovertext\":[\"Russia\"],\"legendgroup\":\"Europe\",\"marker\":{\"color\":\"#ab63fa\",\"pattern\":{\"shape\":\"\"}},\"name\":\"Europe\",\"offsetgroup\":\"Europe\",\"orientation\":\"h\",\"showlegend\":true,\"textposition\":\"auto\",\"texttemplate\":\"%{x}\",\"x\":[145000000.0],\"xaxis\":\"x\",\"y\":[\"Russia\"],\"yaxis\":\"y\",\"type\":\"bar\"}],                        {\"template\":{\"data\":{\"histogram2dcontour\":[{\"type\":\"histogram2dcontour\",\"colorbar\":{\"outlinewidth\":0,\"ticks\":\"\"},\"colorscale\":[[0.0,\"#0d0887\"],[0.1111111111111111,\"#46039f\"],[0.2222222222222222,\"#7201a8\"],[0.3333333333333333,\"#9c179e\"],[0.4444444444444444,\"#bd3786\"],[0.5555555555555556,\"#d8576b\"],[0.6666666666666666,\"#ed7953\"],[0.7777777777777778,\"#fb9f3a\"],[0.8888888888888888,\"#fdca26\"],[1.0,\"#f0f921\"]]}],\"choropleth\":[{\"type\":\"choropleth\",\"colorbar\":{\"outlinewidth\":0,\"ticks\":\"\"}}],\"histogram2d\":[{\"type\":\"histogram2d\",\"colorbar\":{\"outlinewidth\":0,\"ticks\":\"\"},\"colorscale\":[[0.0,\"#0d0887\"],[0.1111111111111111,\"#46039f\"],[0.2222222222222222,\"#7201a8\"],[0.3333333333333333,\"#9c179e\"],[0.4444444444444444,\"#bd3786\"],[0.5555555555555556,\"#d8576b\"],[0.6666666666666666,\"#ed7953\"],[0.7777777777777778,\"#fb9f3a\"],[0.8888888888888888,\"#fdca26\"],[1.0,\"#f0f921\"]]}],\"heatmap\":[{\"type\":\"heatmap\",\"colorbar\":{\"outlinewidth\":0,\"ticks\":\"\"},\"colorscale\":[[0.0,\"#0d0887\"],[0.1111111111111111,\"#46039f\"],[0.2222222222222222,\"#7201a8\"],[0.3333333333333333,\"#9c179e\"],[0.4444444444444444,\"#bd3786\"],[0.5555555555555556,\"#d8576b\"],[0.6666666666666666,\"#ed7953\"],[0.7777777777777778,\"#fb9f3a\"],[0.8888888888888888,\"#fdca26\"],[1.0,\"#f0f921\"]]}],\"heatmapgl\":[{\"type\":\"heatmapgl\",\"colorbar\":{\"outlinewidth\":0,\"ticks\":\"\"},\"colorscale\":[[0.0,\"#0d0887\"],[0.1111111111111111,\"#46039f\"],[0.2222222222222222,\"#7201a8\"],[0.3333333333333333,\"#9c179e\"],[0.4444444444444444,\"#bd3786\"],[0.5555555555555556,\"#d8576b\"],[0.6666666666666666,\"#ed7953\"],[0.7777777777777778,\"#fb9f3a\"],[0.8888888888888888,\"#fdca26\"],[1.0,\"#f0f921\"]]}],\"contourcarpet\":[{\"type\":\"contourcarpet\",\"colorbar\":{\"outlinewidth\":0,\"ticks\":\"\"}}],\"contour\":[{\"type\":\"contour\",\"colorbar\":{\"outlinewidth\":0,\"ticks\":\"\"},\"colorscale\":[[0.0,\"#0d0887\"],[0.1111111111111111,\"#46039f\"],[0.2222222222222222,\"#7201a8\"],[0.3333333333333333,\"#9c179e\"],[0.4444444444444444,\"#bd3786\"],[0.5555555555555556,\"#d8576b\"],[0.6666666666666666,\"#ed7953\"],[0.7777777777777778,\"#fb9f3a\"],[0.8888888888888888,\"#fdca26\"],[1.0,\"#f0f921\"]]}],\"surface\":[{\"type\":\"surface\",\"colorbar\":{\"outlinewidth\":0,\"ticks\":\"\"},\"colorscale\":[[0.0,\"#0d0887\"],[0.1111111111111111,\"#46039f\"],[0.2222222222222222,\"#7201a8\"],[0.3333333333333333,\"#9c179e\"],[0.4444444444444444,\"#bd3786\"],[0.5555555555555556,\"#d8576b\"],[0.6666666666666666,\"#ed7953\"],[0.7777777777777778,\"#fb9f3a\"],[0.8888888888888888,\"#fdca26\"],[1.0,\"#f0f921\"]]}],\"mesh3d\":[{\"type\":\"mesh3d\",\"colorbar\":{\"outlinewidth\":0,\"ticks\":\"\"}}],\"scatter\":[{\"fillpattern\":{\"fillmode\":\"overlay\",\"size\":10,\"solidity\":0.2},\"type\":\"scatter\"}],\"parcoords\":[{\"type\":\"parcoords\",\"line\":{\"colorbar\":{\"outlinewidth\":0,\"ticks\":\"\"}}}],\"scatterpolargl\":[{\"type\":\"scatterpolargl\",\"marker\":{\"colorbar\":{\"outlinewidth\":0,\"ticks\":\"\"}}}],\"bar\":[{\"error_x\":{\"color\":\"#2a3f5f\"},\"error_y\":{\"color\":\"#2a3f5f\"},\"marker\":{\"line\":{\"color\":\"#E5ECF6\",\"width\":0.5},\"pattern\":{\"fillmode\":\"overlay\",\"size\":10,\"solidity\":0.2}},\"type\":\"bar\"}],\"scattergeo\":[{\"type\":\"scattergeo\",\"marker\":{\"colorbar\":{\"outlinewidth\":0,\"ticks\":\"\"}}}],\"scatterpolar\":[{\"type\":\"scatterpolar\",\"marker\":{\"colorbar\":{\"outlinewidth\":0,\"ticks\":\"\"}}}],\"histogram\":[{\"marker\":{\"pattern\":{\"fillmode\":\"overlay\",\"size\":10,\"solidity\":0.2}},\"type\":\"histogram\"}],\"scattergl\":[{\"type\":\"scattergl\",\"marker\":{\"colorbar\":{\"outlinewidth\":0,\"ticks\":\"\"}}}],\"scatter3d\":[{\"type\":\"scatter3d\",\"line\":{\"colorbar\":{\"outlinewidth\":0,\"ticks\":\"\"}},\"marker\":{\"colorbar\":{\"outlinewidth\":0,\"ticks\":\"\"}}}],\"scattermapbox\":[{\"type\":\"scattermapbox\",\"marker\":{\"colorbar\":{\"outlinewidth\":0,\"ticks\":\"\"}}}],\"scatterternary\":[{\"type\":\"scatterternary\",\"marker\":{\"colorbar\":{\"outlinewidth\":0,\"ticks\":\"\"}}}],\"scattercarpet\":[{\"type\":\"scattercarpet\",\"marker\":{\"colorbar\":{\"outlinewidth\":0,\"ticks\":\"\"}}}],\"carpet\":[{\"aaxis\":{\"endlinecolor\":\"#2a3f5f\",\"gridcolor\":\"white\",\"linecolor\":\"white\",\"minorgridcolor\":\"white\",\"startlinecolor\":\"#2a3f5f\"},\"baxis\":{\"endlinecolor\":\"#2a3f5f\",\"gridcolor\":\"white\",\"linecolor\":\"white\",\"minorgridcolor\":\"white\",\"startlinecolor\":\"#2a3f5f\"},\"type\":\"carpet\"}],\"table\":[{\"cells\":{\"fill\":{\"color\":\"#EBF0F8\"},\"line\":{\"color\":\"white\"}},\"header\":{\"fill\":{\"color\":\"#C8D4E3\"},\"line\":{\"color\":\"white\"}},\"type\":\"table\"}],\"barpolar\":[{\"marker\":{\"line\":{\"color\":\"#E5ECF6\",\"width\":0.5},\"pattern\":{\"fillmode\":\"overlay\",\"size\":10,\"solidity\":0.2}},\"type\":\"barpolar\"}],\"pie\":[{\"automargin\":true,\"type\":\"pie\"}]},\"layout\":{\"autotypenumbers\":\"strict\",\"colorway\":[\"#636efa\",\"#EF553B\",\"#00cc96\",\"#ab63fa\",\"#FFA15A\",\"#19d3f3\",\"#FF6692\",\"#B6E880\",\"#FF97FF\",\"#FECB52\"],\"font\":{\"color\":\"#2a3f5f\"},\"hovermode\":\"closest\",\"hoverlabel\":{\"align\":\"left\"},\"paper_bgcolor\":\"white\",\"plot_bgcolor\":\"#E5ECF6\",\"polar\":{\"bgcolor\":\"#E5ECF6\",\"angularaxis\":{\"gridcolor\":\"white\",\"linecolor\":\"white\",\"ticks\":\"\"},\"radialaxis\":{\"gridcolor\":\"white\",\"linecolor\":\"white\",\"ticks\":\"\"}},\"ternary\":{\"bgcolor\":\"#E5ECF6\",\"aaxis\":{\"gridcolor\":\"white\",\"linecolor\":\"white\",\"ticks\":\"\"},\"baxis\":{\"gridcolor\":\"white\",\"linecolor\":\"white\",\"ticks\":\"\"},\"caxis\":{\"gridcolor\":\"white\",\"linecolor\":\"white\",\"ticks\":\"\"}},\"coloraxis\":{\"colorbar\":{\"outlinewidth\":0,\"ticks\":\"\"}},\"colorscale\":{\"sequential\":[[0.0,\"#0d0887\"],[0.1111111111111111,\"#46039f\"],[0.2222222222222222,\"#7201a8\"],[0.3333333333333333,\"#9c179e\"],[0.4444444444444444,\"#bd3786\"],[0.5555555555555556,\"#d8576b\"],[0.6666666666666666,\"#ed7953\"],[0.7777777777777778,\"#fb9f3a\"],[0.8888888888888888,\"#fdca26\"],[1.0,\"#f0f921\"]],\"sequentialminus\":[[0.0,\"#0d0887\"],[0.1111111111111111,\"#46039f\"],[0.2222222222222222,\"#7201a8\"],[0.3333333333333333,\"#9c179e\"],[0.4444444444444444,\"#bd3786\"],[0.5555555555555556,\"#d8576b\"],[0.6666666666666666,\"#ed7953\"],[0.7777777777777778,\"#fb9f3a\"],[0.8888888888888888,\"#fdca26\"],[1.0,\"#f0f921\"]],\"diverging\":[[0,\"#8e0152\"],[0.1,\"#c51b7d\"],[0.2,\"#de77ae\"],[0.3,\"#f1b6da\"],[0.4,\"#fde0ef\"],[0.5,\"#f7f7f7\"],[0.6,\"#e6f5d0\"],[0.7,\"#b8e186\"],[0.8,\"#7fbc41\"],[0.9,\"#4d9221\"],[1,\"#276419\"]]},\"xaxis\":{\"gridcolor\":\"white\",\"linecolor\":\"white\",\"ticks\":\"\",\"title\":{\"standoff\":15},\"zerolinecolor\":\"white\",\"automargin\":true,\"zerolinewidth\":2},\"yaxis\":{\"gridcolor\":\"white\",\"linecolor\":\"white\",\"ticks\":\"\",\"title\":{\"standoff\":15},\"zerolinecolor\":\"white\",\"automargin\":true,\"zerolinewidth\":2},\"scene\":{\"xaxis\":{\"backgroundcolor\":\"#E5ECF6\",\"gridcolor\":\"white\",\"linecolor\":\"white\",\"showbackground\":true,\"ticks\":\"\",\"zerolinecolor\":\"white\",\"gridwidth\":2},\"yaxis\":{\"backgroundcolor\":\"#E5ECF6\",\"gridcolor\":\"white\",\"linecolor\":\"white\",\"showbackground\":true,\"ticks\":\"\",\"zerolinecolor\":\"white\",\"gridwidth\":2},\"zaxis\":{\"backgroundcolor\":\"#E5ECF6\",\"gridcolor\":\"white\",\"linecolor\":\"white\",\"showbackground\":true,\"ticks\":\"\",\"zerolinecolor\":\"white\",\"gridwidth\":2}},\"shapedefaults\":{\"line\":{\"color\":\"#2a3f5f\"}},\"annotationdefaults\":{\"arrowcolor\":\"#2a3f5f\",\"arrowhead\":0,\"arrowwidth\":1},\"geo\":{\"bgcolor\":\"white\",\"landcolor\":\"#E5ECF6\",\"subunitcolor\":\"white\",\"showland\":true,\"showlakes\":true,\"lakecolor\":\"white\"},\"title\":{\"x\":0.05},\"mapbox\":{\"style\":\"light\"}}},\"xaxis\":{\"anchor\":\"y\",\"domain\":[0.0,1.0],\"title\":{\"text\":\"Population\"}},\"yaxis\":{\"anchor\":\"x\",\"domain\":[0.0,1.0],\"title\":{\"text\":\"Country\"},\"categoryorder\":\"total ascending\"},\"legend\":{\"title\":{\"text\":\"Region\"},\"tracegroupgap\":0},\"title\":{\"text\":\"Population Size Rank\"},\"barmode\":\"relative\"},                        {\"responsive\": true}                    ).then(function(){\n",
       "                            \n",
       "var gd = document.getElementById('2f9ac0b7-9bbd-4087-a189-5187672d5aed');\n",
       "var x = new MutationObserver(function (mutations, observer) {{\n",
       "        var display = window.getComputedStyle(gd).display;\n",
       "        if (!display || display === 'none') {{\n",
       "            console.log([gd, 'removed!']);\n",
       "            Plotly.purge(gd);\n",
       "            observer.disconnect();\n",
       "        }}\n",
       "}});\n",
       "\n",
       "// Listen for the removal of the full notebook cells\n",
       "var notebookContainer = gd.closest('#notebook-container');\n",
       "if (notebookContainer) {{\n",
       "    x.observe(notebookContainer, {childList: true});\n",
       "}}\n",
       "\n",
       "// Listen for the clearing of the current output cell\n",
       "var outputEl = gd.closest('.output');\n",
       "if (outputEl) {{\n",
       "    x.observe(outputEl, {childList: true});\n",
       "}}\n",
       "\n",
       "                        })                };                });            </script>        </div>"
      ]
     },
     "metadata": {},
     "output_type": "display_data"
    }
   ],
   "source": [
    "pop_rank = gapminder_df.query('Year == 2023') \\\n",
    "    .sort_values(by='Population', ascending=False).head(15)\n",
    "\n",
    "fig = px.bar(\n",
    "    pop_rank,\n",
    "    x='Population',\n",
    "    y='Country',\n",
    "    orientation='h',\n",
    "    title='Population Size Rank',\n",
    "    color='Region',  \n",
    "    text_auto = True,\n",
    "    hover_name = 'Country'\n",
    ")\n",
    "\n",
    "fig.update_layout(yaxis={'categoryorder': 'total ascending'})\n",
    "\n",
    "fig.show()"
   ]
  },
  {
   "cell_type": "markdown",
   "id": "def01887",
   "metadata": {},
   "source": [
    "## World Map with Population bubbles\n",
    "\n",
    "Recreate this [map](https://www.gapminder.org/tools/#$chart-type=map&url=v2)"
   ]
  },
  {
   "cell_type": "code",
   "execution_count": 164,
   "id": "623b7bb3",
   "metadata": {},
   "outputs": [
    {
     "data": {
      "application/vnd.plotly.v1+json": {
       "config": {
        "plotlyServerURL": "https://plot.ly"
       },
       "data": [
        {
         "geo": "geo",
         "hovertemplate": "<b>%{hovertext}</b><br><br>Region=Asia<br>Population=%{marker.size}<br>Latitude=%{lat}<br>Longitude=%{lon}<extra></extra>",
         "hovertext": [
          "Afghanistan",
          "Australia",
          "Bahrain",
          "Bangladesh",
          "Bhutan",
          "Brunei",
          "Cambodia",
          "China",
          "Fiji",
          "Hong Kong, China",
          "India",
          "Indonesia",
          "Iran",
          "Iraq",
          "Israel",
          "Japan",
          "Jordan",
          "Kazakhstan",
          "Kiribati",
          "Kuwait",
          "Kyrgyz Republic",
          "Lao",
          "Lebanon",
          "Malaysia",
          "Maldives",
          "Marshall Islands",
          "Micronesia, Fed. Sts.",
          "Mongolia",
          "Myanmar",
          "Nauru",
          "Nepal",
          "New Zealand",
          "North Korea",
          "Oman",
          "Pakistan",
          "Palau",
          "Palestine",
          "Papua New Guinea",
          "Philippines",
          "Qatar",
          "Samoa",
          "Saudi Arabia",
          "Singapore",
          "Solomon Islands",
          "South Korea",
          "Sri Lanka",
          "Syria",
          "Taiwan",
          "Tajikistan",
          "Thailand",
          "Timor-Leste",
          "Tonga",
          "Turkmenistan",
          "Tuvalu",
          "UAE",
          "Uzbekistan",
          "Vanuatu",
          "Vietnam",
          "Yemen"
         ],
         "lat": [
          33,
          -25,
          26.03333,
          24,
          27.5,
          4.5,
          13,
          35,
          -18,
          22.28552,
          22,
          -5,
          32,
          33,
          31.5,
          35.68536,
          31,
          48,
          1.421,
          29.36972,
          41.5,
          18,
          33.83333,
          2.5,
          3.2,
          7.113,
          6.924,
          46,
          21,
          -0.517,
          28,
          -42,
          40,
          21,
          30,
          7.503,
          31.92157,
          -6,
          13,
          25.27932,
          -13.8,
          25,
          1.28967,
          -8,
          36.5,
          7.75,
          35,
          24,
          39,
          15.5,
          -8.83333,
          -20,
          39.75,
          -8.51719,
          23.75,
          41.66667,
          -16,
          16.16667,
          15.5
         ],
         "legendgroup": "Asia",
         "lon": [
          66,
          135,
          50.55,
          90,
          90.5,
          114.66667,
          105,
          105,
          178,
          114.15769,
          79,
          120,
          53,
          44,
          34.75,
          139.75309,
          36,
          68,
          172.984,
          47.97833,
          75,
          105,
          35.83333,
          112.5,
          73,
          171.236,
          158.162,
          105,
          96,
          166.933,
          84,
          174,
          127,
          57,
          70,
          134.621,
          35.20329,
          147,
          122,
          51.52245,
          -172.13333,
          45,
          103.85007,
          159,
          127.75,
          80.75,
          38,
          121,
          71,
          101,
          125.75,
          -175,
          59.66667,
          179.14478,
          54.5,
          63.83333,
          167,
          107.83333,
          47.5
         ],
         "marker": {
          "color": "#636efa",
          "size": [
           41500000,
           26500000,
           1570000,
           171000000,
           786000,
           459000,
           17400000,
           1420000000,
           924000,
           7440000,
           1440000000,
           281000000,
           90600000,
           45100000,
           9260000,
           124000000,
           11400000,
           20300000,
           133000,
           4840000,
           7070000,
           7660000,
           5770000,
           35100000,
           526000,
           38800,
           113000,
           3430000,
           54100000,
           11900,
           29700000,
           5170000,
           26400000,
           5050000,
           248000000,
           17700,
           5410000,
           10400000,
           115000000,
           2980000,
           217000,
           33300000,
           5790000,
           800000,
           51700000,
           23000000,
           23600000,
           23300000,
           10400000,
           71700000,
           1380000,
           105000,
           7360000,
           9820,
           10600000,
           35700000,
           320000,
           100000000,
           39400000
          ],
          "sizemode": "area",
          "sizeref": 576000,
          "symbol": "circle"
         },
         "mode": "markers",
         "name": "Asia",
         "showlegend": true,
         "type": "scattergeo"
        },
        {
         "geo": "geo",
         "hovertemplate": "<b>%{hovertext}</b><br><br>Region=Europe<br>Population=%{marker.size}<br>Latitude=%{lat}<br>Longitude=%{lon}<extra></extra>",
         "hovertext": [
          "Albania",
          "Andorra",
          "Armenia",
          "Austria",
          "Azerbaijan",
          "Belarus",
          "Belgium",
          "Bosnia and Herzegovina",
          "Bulgaria",
          "Croatia",
          "Cyprus",
          "Czech Republic",
          "Denmark",
          "Estonia",
          "Finland",
          "France",
          "Georgia",
          "Germany",
          "Greece",
          "Hungary",
          "Iceland",
          "Ireland",
          "Italy",
          "Latvia",
          "Liechtenstein",
          "Lithuania",
          "Luxembourg",
          "Malta",
          "Moldova",
          "Monaco",
          "Montenegro",
          "Netherlands",
          "Norway",
          "Poland",
          "Portugal",
          "Romania",
          "Russia",
          "San Marino",
          "Serbia",
          "Slovak Republic",
          "Slovenia",
          "Spain",
          "Sweden",
          "Switzerland",
          "Turkey",
          "UK",
          "Ukraine"
         ],
         "lat": [
          41,
          42.50779,
          40.25,
          47.33333,
          40.5,
          53,
          50.75,
          44.25,
          42.66667,
          45.16667,
          35,
          49.75,
          56,
          59,
          64,
          46,
          41.99998,
          51.5,
          39,
          47,
          65,
          53,
          42.83333,
          57,
          47.16667,
          55.41667,
          49.61167,
          35.91667,
          47.25,
          43.73333,
          42.75,
          52.25,
          62,
          52,
          39.6945,
          46,
          60,
          43.93667,
          44.81892,
          48.66667,
          46.08333,
          40,
          62,
          47.00016,
          39,
          54.75844,
          49
         ],
         "legendgroup": "Europe",
         "lon": [
          20,
          1.52109,
          45,
          13.33333,
          47.5,
          28,
          4.5,
          17.83333,
          25.25,
          15.5,
          33,
          15,
          10,
          26,
          26,
          2,
          43.4999,
          10.5,
          22,
          20,
          -18,
          -8,
          12.83333,
          25,
          9.53333,
          24,
          6.13,
          14.43333,
          28.58333,
          7.41667,
          19.25,
          5.75,
          10,
          20,
          -8.13057,
          25,
          100,
          12.44639,
          20.45998,
          19.5,
          15,
          -4,
          15,
          8.01427,
          35,
          -2.69531,
          32
         ],
         "marker": {
          "color": "#EF553B",
          "size": [
           2810000,
           80900,
           2940000,
           9130000,
           10300000,
           9120000,
           11700000,
           3190000,
           6800000,
           3900000,
           1340000,
           10800000,
           5950000,
           1370000,
           5600000,
           66400000,
           3810000,
           84500000,
           10200000,
           9690000,
           388000,
           5200000,
           59500000,
           1880000,
           39600,
           2850000,
           665000,
           533000,
           3070000,
           39000,
           634000,
           18100000,
           5520000,
           38800000,
           10400000,
           19100000,
           145000000,
           33700,
           6770000,
           5520000,
           2120000,
           47900000,
           10600000,
           8870000,
           87300000,
           68700000,
           37700000
          ],
          "sizemode": "area",
          "sizeref": 576000,
          "symbol": "circle"
         },
         "mode": "markers",
         "name": "Europe",
         "showlegend": true,
         "type": "scattergeo"
        },
        {
         "geo": "geo",
         "hovertemplate": "<b>%{hovertext}</b><br><br>Region=Africa<br>Population=%{marker.size}<br>Latitude=%{lat}<br>Longitude=%{lon}<extra></extra>",
         "hovertext": [
          "Algeria",
          "Angola",
          "Benin",
          "Botswana",
          "Burkina Faso",
          "Burundi",
          "Cameroon",
          "Cape Verde",
          "Central African Republic",
          "Chad",
          "Comoros",
          "Congo, Dem. Rep.",
          "Congo, Rep.",
          "Cote d'Ivoire",
          "Djibouti",
          "Egypt",
          "Equatorial Guinea",
          "Eritrea",
          "Ethiopia",
          "Gabon",
          "Gambia",
          "Ghana",
          "Guinea",
          "Guinea-Bissau",
          "Kenya",
          "Lesotho",
          "Liberia",
          "Libya",
          "Madagascar",
          "Malawi",
          "Mali",
          "Mauritania",
          "Mauritius",
          "Morocco",
          "Mozambique",
          "Namibia",
          "Niger",
          "Nigeria",
          "Rwanda",
          "Sao Tome and Principe",
          "Senegal",
          "Seychelles",
          "Sierra Leone",
          "Somalia",
          "South Africa",
          "South Sudan",
          "Sudan",
          "Tanzania",
          "Togo",
          "Tunisia",
          "Uganda",
          "Zambia",
          "Zimbabwe"
         ],
         "lat": [
          28,
          -12.5,
          9.5,
          -22,
          12.5,
          -3.5,
          6,
          16,
          7,
          15,
          -12.23333,
          -2.5,
          -1,
          8,
          11.58901,
          27,
          1.7,
          15,
          9,
          -1,
          13.5,
          8.1,
          10.83333,
          12,
          1,
          -29.5,
          6.5,
          28,
          -20,
          -13.5,
          18,
          20.25,
          -20.3,
          32,
          -18.25,
          -22,
          18,
          10,
          -2,
          1,
          14.5,
          -4.58333,
          8.5,
          6,
          -29,
          7.5,
          16,
          -6,
          8.66667,
          34,
          1.25,
          -14.33333,
          -19
         ],
         "legendgroup": "Africa",
         "lon": [
          3,
          18.5,
          2.25,
          24,
          -1.66667,
          30,
          12.5,
          -24,
          21,
          19,
          44.44553,
          23.5,
          15.5,
          -5.5,
          43.14503,
          30,
          10.5,
          39,
          39.5,
          11.75,
          -15.5,
          -1.2,
          -10.66667,
          -15,
          38,
          28.25,
          -9.5,
          17,
          47,
          34,
          -2,
          -10.5,
          57.58333,
          -6,
          35,
          17,
          9,
          8,
          30,
          7,
          -14.25,
          55.66667,
          -11.5,
          48,
          24,
          30,
          30,
          35,
          1.08333,
          9,
          32.5,
          28.5,
          29.75
         ],
         "marker": {
          "color": "#00cc96",
          "size": [
           46200000,
           36700000,
           14100000,
           2480000,
           23000000,
           13700000,
           28400000,
           522000,
           5150000,
           19300000,
           850000,
           106000000,
           6180000,
           31200000,
           1150000,
           115000000,
           1850000,
           3470000,
           129000000,
           2480000,
           2700000,
           33800000,
           14400000,
           2150000,
           55300000,
           2310000,
           5490000,
           7310000,
           31200000,
           21100000,
           23800000,
           5020000,
           1270000,
           37700000,
           33600000,
           2960000,
           26200000,
           228000000,
           14000000,
           231000,
           18100000,
           128000,
           8460000,
           18400000,
           63200000,
           11500000,
           50000000,
           66600000,
           9300000,
           12200000,
           48700000,
           20700000,
           16300000
          ],
          "sizemode": "area",
          "sizeref": 576000,
          "symbol": "circle"
         },
         "mode": "markers",
         "name": "Africa",
         "showlegend": true,
         "type": "scattergeo"
        },
        {
         "geo": "geo",
         "hovertemplate": "<b>%{hovertext}</b><br><br>Region=Americas<br>Population=%{marker.size}<br>Latitude=%{lat}<br>Longitude=%{lon}<extra></extra>",
         "hovertext": [
          "Antigua and Barbuda",
          "Argentina",
          "Bahamas",
          "Barbados",
          "Belize",
          "Bolivia",
          "Brazil",
          "Canada",
          "Chile",
          "Colombia",
          "Costa Rica",
          "Cuba",
          "Dominica",
          "Dominican Republic",
          "Ecuador",
          "El Salvador",
          "Grenada",
          "Guatemala",
          "Guyana",
          "Haiti",
          "Honduras",
          "Jamaica",
          "Mexico",
          "Nicaragua",
          "Panama",
          "Paraguay",
          "Peru",
          "St. Kitts and Nevis",
          "St. Lucia",
          "St. Vincent and the Grenadines",
          "Suriname",
          "Trinidad and Tobago",
          "USA",
          "Uruguay",
          "Venezuela"
         ],
         "lat": [
          17.05,
          -34,
          25.04082,
          13.16667,
          17.49952,
          -17,
          -10,
          60.10867,
          -33.45694,
          4,
          10,
          22,
          15.5,
          19,
          -1.25,
          13.83333,
          12.11667,
          14.64072,
          5,
          19,
          15,
          18.16667,
          19.42847,
          13,
          8.9936,
          -23.33333,
          -10,
          17.33333,
          13.88333,
          13.08333,
          4,
          11,
          39.76,
          -33,
          8
         ],
         "legendgroup": "Americas",
         "lon": [
          -61.8,
          -64,
          -77.37122,
          -59.53333,
          -88.19756,
          -65,
          -55,
          -113.64258,
          -70.64827,
          -73.25,
          -84,
          -79.5,
          -61.33333,
          -70.66667,
          -78.25,
          -88.91667,
          -61.66667,
          -90.51327,
          -59,
          -72.41667,
          -86.5,
          -77.25,
          -99.12766,
          -85,
          -79.51973,
          -58,
          -75.25,
          -62.75,
          -60.96667,
          -61.2,
          -56,
          -61,
          -98.5,
          -56,
          -66
         ],
         "marker": {
          "color": "#ab63fa",
          "size": [
           93300,
           45500000,
           399000,
           282000,
           411000,
           12200000,
           211000000,
           39300000,
           19700000,
           52300000,
           5110000,
           11000000,
           66500,
           11300000,
           18000000,
           6310000,
           117000,
           18100000,
           826000,
           11600000,
           10600000,
           2840000,
           130000000,
           6820000,
           4460000,
           6840000,
           33800000,
           46800,
           179000,
           101000,
           629000,
           1500000,
           343000000,
           3390000,
           28300000
          ],
          "sizemode": "area",
          "sizeref": 576000,
          "symbol": "circle"
         },
         "mode": "markers",
         "name": "Americas",
         "showlegend": true,
         "type": "scattergeo"
        }
       ],
       "layout": {
        "autosize": true,
        "geo": {
         "center": {
          "lat": -4.137374199410086,
          "lon": 16.88268777001761
         },
         "domain": {
          "x": [
           0,
           1
          ],
          "y": [
           0,
           1
          ]
         },
         "projection": {
          "rotation": {
           "lon": 16.88268777001761
          },
          "scale": 0.9075191574986277
         },
         "scope": "world"
        },
        "legend": {
         "itemsizing": "constant",
         "title": {
          "text": "Region"
         },
         "tracegroupgap": 0
        },
        "margin": {
         "t": 60
        },
        "template": {
         "data": {
          "bar": [
           {
            "error_x": {
             "color": "#2a3f5f"
            },
            "error_y": {
             "color": "#2a3f5f"
            },
            "marker": {
             "line": {
              "color": "#E5ECF6",
              "width": 0.5
             },
             "pattern": {
              "fillmode": "overlay",
              "size": 10,
              "solidity": 0.2
             }
            },
            "type": "bar"
           }
          ],
          "barpolar": [
           {
            "marker": {
             "line": {
              "color": "#E5ECF6",
              "width": 0.5
             },
             "pattern": {
              "fillmode": "overlay",
              "size": 10,
              "solidity": 0.2
             }
            },
            "type": "barpolar"
           }
          ],
          "carpet": [
           {
            "aaxis": {
             "endlinecolor": "#2a3f5f",
             "gridcolor": "white",
             "linecolor": "white",
             "minorgridcolor": "white",
             "startlinecolor": "#2a3f5f"
            },
            "baxis": {
             "endlinecolor": "#2a3f5f",
             "gridcolor": "white",
             "linecolor": "white",
             "minorgridcolor": "white",
             "startlinecolor": "#2a3f5f"
            },
            "type": "carpet"
           }
          ],
          "choropleth": [
           {
            "colorbar": {
             "outlinewidth": 0,
             "ticks": ""
            },
            "type": "choropleth"
           }
          ],
          "contour": [
           {
            "colorbar": {
             "outlinewidth": 0,
             "ticks": ""
            },
            "colorscale": [
             [
              0,
              "#0d0887"
             ],
             [
              0.1111111111111111,
              "#46039f"
             ],
             [
              0.2222222222222222,
              "#7201a8"
             ],
             [
              0.3333333333333333,
              "#9c179e"
             ],
             [
              0.4444444444444444,
              "#bd3786"
             ],
             [
              0.5555555555555556,
              "#d8576b"
             ],
             [
              0.6666666666666666,
              "#ed7953"
             ],
             [
              0.7777777777777778,
              "#fb9f3a"
             ],
             [
              0.8888888888888888,
              "#fdca26"
             ],
             [
              1,
              "#f0f921"
             ]
            ],
            "type": "contour"
           }
          ],
          "contourcarpet": [
           {
            "colorbar": {
             "outlinewidth": 0,
             "ticks": ""
            },
            "type": "contourcarpet"
           }
          ],
          "heatmap": [
           {
            "colorbar": {
             "outlinewidth": 0,
             "ticks": ""
            },
            "colorscale": [
             [
              0,
              "#0d0887"
             ],
             [
              0.1111111111111111,
              "#46039f"
             ],
             [
              0.2222222222222222,
              "#7201a8"
             ],
             [
              0.3333333333333333,
              "#9c179e"
             ],
             [
              0.4444444444444444,
              "#bd3786"
             ],
             [
              0.5555555555555556,
              "#d8576b"
             ],
             [
              0.6666666666666666,
              "#ed7953"
             ],
             [
              0.7777777777777778,
              "#fb9f3a"
             ],
             [
              0.8888888888888888,
              "#fdca26"
             ],
             [
              1,
              "#f0f921"
             ]
            ],
            "type": "heatmap"
           }
          ],
          "heatmapgl": [
           {
            "colorbar": {
             "outlinewidth": 0,
             "ticks": ""
            },
            "colorscale": [
             [
              0,
              "#0d0887"
             ],
             [
              0.1111111111111111,
              "#46039f"
             ],
             [
              0.2222222222222222,
              "#7201a8"
             ],
             [
              0.3333333333333333,
              "#9c179e"
             ],
             [
              0.4444444444444444,
              "#bd3786"
             ],
             [
              0.5555555555555556,
              "#d8576b"
             ],
             [
              0.6666666666666666,
              "#ed7953"
             ],
             [
              0.7777777777777778,
              "#fb9f3a"
             ],
             [
              0.8888888888888888,
              "#fdca26"
             ],
             [
              1,
              "#f0f921"
             ]
            ],
            "type": "heatmapgl"
           }
          ],
          "histogram": [
           {
            "marker": {
             "pattern": {
              "fillmode": "overlay",
              "size": 10,
              "solidity": 0.2
             }
            },
            "type": "histogram"
           }
          ],
          "histogram2d": [
           {
            "colorbar": {
             "outlinewidth": 0,
             "ticks": ""
            },
            "colorscale": [
             [
              0,
              "#0d0887"
             ],
             [
              0.1111111111111111,
              "#46039f"
             ],
             [
              0.2222222222222222,
              "#7201a8"
             ],
             [
              0.3333333333333333,
              "#9c179e"
             ],
             [
              0.4444444444444444,
              "#bd3786"
             ],
             [
              0.5555555555555556,
              "#d8576b"
             ],
             [
              0.6666666666666666,
              "#ed7953"
             ],
             [
              0.7777777777777778,
              "#fb9f3a"
             ],
             [
              0.8888888888888888,
              "#fdca26"
             ],
             [
              1,
              "#f0f921"
             ]
            ],
            "type": "histogram2d"
           }
          ],
          "histogram2dcontour": [
           {
            "colorbar": {
             "outlinewidth": 0,
             "ticks": ""
            },
            "colorscale": [
             [
              0,
              "#0d0887"
             ],
             [
              0.1111111111111111,
              "#46039f"
             ],
             [
              0.2222222222222222,
              "#7201a8"
             ],
             [
              0.3333333333333333,
              "#9c179e"
             ],
             [
              0.4444444444444444,
              "#bd3786"
             ],
             [
              0.5555555555555556,
              "#d8576b"
             ],
             [
              0.6666666666666666,
              "#ed7953"
             ],
             [
              0.7777777777777778,
              "#fb9f3a"
             ],
             [
              0.8888888888888888,
              "#fdca26"
             ],
             [
              1,
              "#f0f921"
             ]
            ],
            "type": "histogram2dcontour"
           }
          ],
          "mesh3d": [
           {
            "colorbar": {
             "outlinewidth": 0,
             "ticks": ""
            },
            "type": "mesh3d"
           }
          ],
          "parcoords": [
           {
            "line": {
             "colorbar": {
              "outlinewidth": 0,
              "ticks": ""
             }
            },
            "type": "parcoords"
           }
          ],
          "pie": [
           {
            "automargin": true,
            "type": "pie"
           }
          ],
          "scatter": [
           {
            "fillpattern": {
             "fillmode": "overlay",
             "size": 10,
             "solidity": 0.2
            },
            "type": "scatter"
           }
          ],
          "scatter3d": [
           {
            "line": {
             "colorbar": {
              "outlinewidth": 0,
              "ticks": ""
             }
            },
            "marker": {
             "colorbar": {
              "outlinewidth": 0,
              "ticks": ""
             }
            },
            "type": "scatter3d"
           }
          ],
          "scattercarpet": [
           {
            "marker": {
             "colorbar": {
              "outlinewidth": 0,
              "ticks": ""
             }
            },
            "type": "scattercarpet"
           }
          ],
          "scattergeo": [
           {
            "marker": {
             "colorbar": {
              "outlinewidth": 0,
              "ticks": ""
             }
            },
            "type": "scattergeo"
           }
          ],
          "scattergl": [
           {
            "marker": {
             "colorbar": {
              "outlinewidth": 0,
              "ticks": ""
             }
            },
            "type": "scattergl"
           }
          ],
          "scattermapbox": [
           {
            "marker": {
             "colorbar": {
              "outlinewidth": 0,
              "ticks": ""
             }
            },
            "type": "scattermapbox"
           }
          ],
          "scatterpolar": [
           {
            "marker": {
             "colorbar": {
              "outlinewidth": 0,
              "ticks": ""
             }
            },
            "type": "scatterpolar"
           }
          ],
          "scatterpolargl": [
           {
            "marker": {
             "colorbar": {
              "outlinewidth": 0,
              "ticks": ""
             }
            },
            "type": "scatterpolargl"
           }
          ],
          "scatterternary": [
           {
            "marker": {
             "colorbar": {
              "outlinewidth": 0,
              "ticks": ""
             }
            },
            "type": "scatterternary"
           }
          ],
          "surface": [
           {
            "colorbar": {
             "outlinewidth": 0,
             "ticks": ""
            },
            "colorscale": [
             [
              0,
              "#0d0887"
             ],
             [
              0.1111111111111111,
              "#46039f"
             ],
             [
              0.2222222222222222,
              "#7201a8"
             ],
             [
              0.3333333333333333,
              "#9c179e"
             ],
             [
              0.4444444444444444,
              "#bd3786"
             ],
             [
              0.5555555555555556,
              "#d8576b"
             ],
             [
              0.6666666666666666,
              "#ed7953"
             ],
             [
              0.7777777777777778,
              "#fb9f3a"
             ],
             [
              0.8888888888888888,
              "#fdca26"
             ],
             [
              1,
              "#f0f921"
             ]
            ],
            "type": "surface"
           }
          ],
          "table": [
           {
            "cells": {
             "fill": {
              "color": "#EBF0F8"
             },
             "line": {
              "color": "white"
             }
            },
            "header": {
             "fill": {
              "color": "#C8D4E3"
             },
             "line": {
              "color": "white"
             }
            },
            "type": "table"
           }
          ]
         },
         "layout": {
          "annotationdefaults": {
           "arrowcolor": "#2a3f5f",
           "arrowhead": 0,
           "arrowwidth": 1
          },
          "autotypenumbers": "strict",
          "coloraxis": {
           "colorbar": {
            "outlinewidth": 0,
            "ticks": ""
           }
          },
          "colorscale": {
           "diverging": [
            [
             0,
             "#8e0152"
            ],
            [
             0.1,
             "#c51b7d"
            ],
            [
             0.2,
             "#de77ae"
            ],
            [
             0.3,
             "#f1b6da"
            ],
            [
             0.4,
             "#fde0ef"
            ],
            [
             0.5,
             "#f7f7f7"
            ],
            [
             0.6,
             "#e6f5d0"
            ],
            [
             0.7,
             "#b8e186"
            ],
            [
             0.8,
             "#7fbc41"
            ],
            [
             0.9,
             "#4d9221"
            ],
            [
             1,
             "#276419"
            ]
           ],
           "sequential": [
            [
             0,
             "#0d0887"
            ],
            [
             0.1111111111111111,
             "#46039f"
            ],
            [
             0.2222222222222222,
             "#7201a8"
            ],
            [
             0.3333333333333333,
             "#9c179e"
            ],
            [
             0.4444444444444444,
             "#bd3786"
            ],
            [
             0.5555555555555556,
             "#d8576b"
            ],
            [
             0.6666666666666666,
             "#ed7953"
            ],
            [
             0.7777777777777778,
             "#fb9f3a"
            ],
            [
             0.8888888888888888,
             "#fdca26"
            ],
            [
             1,
             "#f0f921"
            ]
           ],
           "sequentialminus": [
            [
             0,
             "#0d0887"
            ],
            [
             0.1111111111111111,
             "#46039f"
            ],
            [
             0.2222222222222222,
             "#7201a8"
            ],
            [
             0.3333333333333333,
             "#9c179e"
            ],
            [
             0.4444444444444444,
             "#bd3786"
            ],
            [
             0.5555555555555556,
             "#d8576b"
            ],
            [
             0.6666666666666666,
             "#ed7953"
            ],
            [
             0.7777777777777778,
             "#fb9f3a"
            ],
            [
             0.8888888888888888,
             "#fdca26"
            ],
            [
             1,
             "#f0f921"
            ]
           ]
          },
          "colorway": [
           "#636efa",
           "#EF553B",
           "#00cc96",
           "#ab63fa",
           "#FFA15A",
           "#19d3f3",
           "#FF6692",
           "#B6E880",
           "#FF97FF",
           "#FECB52"
          ],
          "font": {
           "color": "#2a3f5f"
          },
          "geo": {
           "bgcolor": "white",
           "lakecolor": "white",
           "landcolor": "#E5ECF6",
           "showlakes": true,
           "showland": true,
           "subunitcolor": "white"
          },
          "hoverlabel": {
           "align": "left"
          },
          "hovermode": "closest",
          "mapbox": {
           "style": "light"
          },
          "paper_bgcolor": "white",
          "plot_bgcolor": "#E5ECF6",
          "polar": {
           "angularaxis": {
            "gridcolor": "white",
            "linecolor": "white",
            "ticks": ""
           },
           "bgcolor": "#E5ECF6",
           "radialaxis": {
            "gridcolor": "white",
            "linecolor": "white",
            "ticks": ""
           }
          },
          "scene": {
           "xaxis": {
            "backgroundcolor": "#E5ECF6",
            "gridcolor": "white",
            "gridwidth": 2,
            "linecolor": "white",
            "showbackground": true,
            "ticks": "",
            "zerolinecolor": "white"
           },
           "yaxis": {
            "backgroundcolor": "#E5ECF6",
            "gridcolor": "white",
            "gridwidth": 2,
            "linecolor": "white",
            "showbackground": true,
            "ticks": "",
            "zerolinecolor": "white"
           },
           "zaxis": {
            "backgroundcolor": "#E5ECF6",
            "gridcolor": "white",
            "gridwidth": 2,
            "linecolor": "white",
            "showbackground": true,
            "ticks": "",
            "zerolinecolor": "white"
           }
          },
          "shapedefaults": {
           "line": {
            "color": "#2a3f5f"
           }
          },
          "ternary": {
           "aaxis": {
            "gridcolor": "white",
            "linecolor": "white",
            "ticks": ""
           },
           "baxis": {
            "gridcolor": "white",
            "linecolor": "white",
            "ticks": ""
           },
           "bgcolor": "#E5ECF6",
           "caxis": {
            "gridcolor": "white",
            "linecolor": "white",
            "ticks": ""
           }
          },
          "title": {
           "x": 0.05
          },
          "xaxis": {
           "automargin": true,
           "gridcolor": "white",
           "linecolor": "white",
           "ticks": "",
           "title": {
            "standoff": 15
           },
           "zerolinecolor": "white",
           "zerolinewidth": 2
          },
          "yaxis": {
           "automargin": true,
           "gridcolor": "white",
           "linecolor": "white",
           "ticks": "",
           "title": {
            "standoff": 15
           },
           "zerolinecolor": "white",
           "zerolinewidth": 2
          }
         }
        }
       }
      },
      "image/png": "[encoded data removed]",
      "text/html": [
       "<div>                            <div id=\"598ff4f3-3e09-4287-9b25-c1524c89b395\" class=\"plotly-graph-div\" style=\"height:525px; width:100%;\"></div>            <script type=\"text/javascript\">                require([\"plotly\"], function(Plotly) {                    window.PLOTLYENV=window.PLOTLYENV || {};                                    if (document.getElementById(\"598ff4f3-3e09-4287-9b25-c1524c89b395\")) {                    Plotly.newPlot(                        \"598ff4f3-3e09-4287-9b25-c1524c89b395\",                        [{\"geo\":\"geo\",\"hovertemplate\":\"\\u003cb\\u003e%{hovertext}\\u003c\\u002fb\\u003e\\u003cbr\\u003e\\u003cbr\\u003eRegion=Asia\\u003cbr\\u003ePopulation=%{marker.size}\\u003cbr\\u003eLatitude=%{lat}\\u003cbr\\u003eLongitude=%{lon}\\u003cextra\\u003e\\u003c\\u002fextra\\u003e\",\"hovertext\":[\"Afghanistan\",\"Australia\",\"Bahrain\",\"Bangladesh\",\"Bhutan\",\"Brunei\",\"Cambodia\",\"China\",\"Fiji\",\"Hong Kong, China\",\"India\",\"Indonesia\",\"Iran\",\"Iraq\",\"Israel\",\"Japan\",\"Jordan\",\"Kazakhstan\",\"Kiribati\",\"Kuwait\",\"Kyrgyz Republic\",\"Lao\",\"Lebanon\",\"Malaysia\",\"Maldives\",\"Marshall Islands\",\"Micronesia, Fed. Sts.\",\"Mongolia\",\"Myanmar\",\"Nauru\",\"Nepal\",\"New Zealand\",\"North Korea\",\"Oman\",\"Pakistan\",\"Palau\",\"Palestine\",\"Papua New Guinea\",\"Philippines\",\"Qatar\",\"Samoa\",\"Saudi Arabia\",\"Singapore\",\"Solomon Islands\",\"South Korea\",\"Sri Lanka\",\"Syria\",\"Taiwan\",\"Tajikistan\",\"Thailand\",\"Timor-Leste\",\"Tonga\",\"Turkmenistan\",\"Tuvalu\",\"UAE\",\"Uzbekistan\",\"Vanuatu\",\"Vietnam\",\"Yemen\"],\"lat\":[33.0,-25.0,26.03333,24.0,27.5,4.5,13.0,35.0,-18.0,22.28552,22.0,-5.0,32.0,33.0,31.5,35.68536,31.0,48.0,1.421,29.36972,41.5,18.0,33.83333,2.5,3.2,7.113,6.924,46.0,21.0,-0.517,28.0,-42.0,40.0,21.0,30.0,7.503,31.92157,-6.0,13.0,25.27932,-13.8,25.0,1.28967,-8.0,36.5,7.75,35.0,24.0,39.0,15.5,-8.83333,-20.0,39.75,-8.51719,23.75,41.66667,-16.0,16.16667,15.5],\"legendgroup\":\"Asia\",\"lon\":[66.0,135.0,50.55,90.0,90.5,114.66667,105.0,105.0,178.0,114.15769,79.0,120.0,53.0,44.0,34.75,139.75309,36.0,68.0,172.984,47.97833,75.0,105.0,35.83333,112.5,73.0,171.236,158.162,105.0,96.0,166.933,84.0,174.0,127.0,57.0,70.0,134.621,35.20329,147.0,122.0,51.52245,-172.13333,45.0,103.85007,159.0,127.75,80.75,38.0,121.0,71.0,101.0,125.75,-175.0,59.66667,179.14478,54.5,63.83333,167.0,107.83333,47.5],\"marker\":{\"color\":\"#636efa\",\"size\":[41500000.0,26500000.0,1570000.0,171000000.0,786000.0,459000.0,17400000.0,1420000000.0,924000.0,7440000.0,1440000000.0,281000000.0,90600000.0,45100000.0,9260000.0,124000000.0,11400000.0,20300000.0,133000.0,4840000.0,7070000.0,7660000.0,5770000.0,35100000.0,526000.0,38800.0,113000.0,3430000.0,54100000.0,11900.0,29700000.0,5170000.0,26400000.0,5050000.0,248000000.0,17700.0,5410000.0,10400000.0,115000000.0,2980000.0,217000.0,33300000.0,5790000.0,800000.0,51700000.0,23000000.0,23600000.0,23300000.0,10400000.0,71700000.0,1380000.0,105000.0,7360000.0,9820.0,10600000.0,35700000.0,320000.0,100000000.0,39400000.0],\"sizemode\":\"area\",\"sizeref\":576000.0,\"symbol\":\"circle\"},\"mode\":\"markers\",\"name\":\"Asia\",\"showlegend\":true,\"type\":\"scattergeo\"},{\"geo\":\"geo\",\"hovertemplate\":\"\\u003cb\\u003e%{hovertext}\\u003c\\u002fb\\u003e\\u003cbr\\u003e\\u003cbr\\u003eRegion=Europe\\u003cbr\\u003ePopulation=%{marker.size}\\u003cbr\\u003eLatitude=%{lat}\\u003cbr\\u003eLongitude=%{lon}\\u003cextra\\u003e\\u003c\\u002fextra\\u003e\",\"hovertext\":[\"Albania\",\"Andorra\",\"Armenia\",\"Austria\",\"Azerbaijan\",\"Belarus\",\"Belgium\",\"Bosnia and Herzegovina\",\"Bulgaria\",\"Croatia\",\"Cyprus\",\"Czech Republic\",\"Denmark\",\"Estonia\",\"Finland\",\"France\",\"Georgia\",\"Germany\",\"Greece\",\"Hungary\",\"Iceland\",\"Ireland\",\"Italy\",\"Latvia\",\"Liechtenstein\",\"Lithuania\",\"Luxembourg\",\"Malta\",\"Moldova\",\"Monaco\",\"Montenegro\",\"Netherlands\",\"Norway\",\"Poland\",\"Portugal\",\"Romania\",\"Russia\",\"San Marino\",\"Serbia\",\"Slovak Republic\",\"Slovenia\",\"Spain\",\"Sweden\",\"Switzerland\",\"Turkey\",\"UK\",\"Ukraine\"],\"lat\":[41.0,42.50779,40.25,47.33333,40.5,53.0,50.75,44.25,42.66667,45.16667,35.0,49.75,56.0,59.0,64.0,46.0,41.99998,51.5,39.0,47.0,65.0,53.0,42.83333,57.0,47.16667,55.41667,49.61167,35.91667,47.25,43.73333,42.75,52.25,62.0,52.0,39.6945,46.0,60.0,43.93667,44.81892,48.66667,46.08333,40.0,62.0,47.00016,39.0,54.75844,49.0],\"legendgroup\":\"Europe\",\"lon\":[20.0,1.52109,45.0,13.33333,47.5,28.0,4.5,17.83333,25.25,15.5,33.0,15.0,10.0,26.0,26.0,2.0,43.4999,10.5,22.0,20.0,-18.0,-8.0,12.83333,25.0,9.53333,24.0,6.13,14.43333,28.58333,7.41667,19.25,5.75,10.0,20.0,-8.13057,25.0,100.0,12.44639,20.45998,19.5,15.0,-4.0,15.0,8.01427,35.0,-2.69531,32.0],\"marker\":{\"color\":\"#EF553B\",\"size\":[2810000.0,80900.0,2940000.0,9130000.0,10300000.0,9120000.0,11700000.0,3190000.0,6800000.0,3900000.0,1340000.0,10800000.0,5950000.0,1370000.0,5600000.0,66400000.0,3810000.0,84500000.0,10200000.0,9690000.0,388000.0,5200000.0,59500000.0,1880000.0,39600.0,2850000.0,665000.0,533000.0,3070000.0,39000.0,634000.0,18100000.0,5520000.0,38800000.0,10400000.0,19100000.0,145000000.0,33700.0,6770000.0,5520000.0,2120000.0,47900000.0,10600000.0,8870000.0,87300000.0,68700000.0,37700000.0],\"sizemode\":\"area\",\"sizeref\":576000.0,\"symbol\":\"circle\"},\"mode\":\"markers\",\"name\":\"Europe\",\"showlegend\":true,\"type\":\"scattergeo\"},{\"geo\":\"geo\",\"hovertemplate\":\"\\u003cb\\u003e%{hovertext}\\u003c\\u002fb\\u003e\\u003cbr\\u003e\\u003cbr\\u003eRegion=Africa\\u003cbr\\u003ePopulation=%{marker.size}\\u003cbr\\u003eLatitude=%{lat}\\u003cbr\\u003eLongitude=%{lon}\\u003cextra\\u003e\\u003c\\u002fextra\\u003e\",\"hovertext\":[\"Algeria\",\"Angola\",\"Benin\",\"Botswana\",\"Burkina Faso\",\"Burundi\",\"Cameroon\",\"Cape Verde\",\"Central African Republic\",\"Chad\",\"Comoros\",\"Congo, Dem. Rep.\",\"Congo, Rep.\",\"Cote d'Ivoire\",\"Djibouti\",\"Egypt\",\"Equatorial Guinea\",\"Eritrea\",\"Ethiopia\",\"Gabon\",\"Gambia\",\"Ghana\",\"Guinea\",\"Guinea-Bissau\",\"Kenya\",\"Lesotho\",\"Liberia\",\"Libya\",\"Madagascar\",\"Malawi\",\"Mali\",\"Mauritania\",\"Mauritius\",\"Morocco\",\"Mozambique\",\"Namibia\",\"Niger\",\"Nigeria\",\"Rwanda\",\"Sao Tome and Principe\",\"Senegal\",\"Seychelles\",\"Sierra Leone\",\"Somalia\",\"South Africa\",\"South Sudan\",\"Sudan\",\"Tanzania\",\"Togo\",\"Tunisia\",\"Uganda\",\"Zambia\",\"Zimbabwe\"],\"lat\":[28.0,-12.5,9.5,-22.0,12.5,-3.5,6.0,16.0,7.0,15.0,-12.23333,-2.5,-1.0,8.0,11.58901,27.0,1.7,15.0,9.0,-1.0,13.5,8.1,10.83333,12.0,1.0,-29.5,6.5,28.0,-20.0,-13.5,18.0,20.25,-20.3,32.0,-18.25,-22.0,18.0,10.0,-2.0,1.0,14.5,-4.58333,8.5,6.0,-29.0,7.5,16.0,-6.0,8.66667,34.0,1.25,-14.33333,-19.0],\"legendgroup\":\"Africa\",\"lon\":[3.0,18.5,2.25,24.0,-1.66667,30.0,12.5,-24.0,21.0,19.0,44.44553,23.5,15.5,-5.5,43.14503,30.0,10.5,39.0,39.5,11.75,-15.5,-1.2,-10.66667,-15.0,38.0,28.25,-9.5,17.0,47.0,34.0,-2.0,-10.5,57.58333,-6.0,35.0,17.0,9.0,8.0,30.0,7.0,-14.25,55.66667,-11.5,48.0,24.0,30.0,30.0,35.0,1.08333,9.0,32.5,28.5,29.75],\"marker\":{\"color\":\"#00cc96\",\"size\":[46200000.0,36700000.0,14100000.0,2480000.0,23000000.0,13700000.0,28400000.0,522000.0,5150000.0,19300000.0,850000.0,106000000.0,6180000.0,31200000.0,1150000.0,115000000.0,1850000.0,3470000.0,129000000.0,2480000.0,2700000.0,33800000.0,14400000.0,2150000.0,55300000.0,2310000.0,5490000.0,7310000.0,31200000.0,21100000.0,23800000.0,5020000.0,1270000.0,37700000.0,33600000.0,2960000.0,26200000.0,228000000.0,14000000.0,231000.0,18100000.0,128000.0,8460000.0,18400000.0,63200000.0,11500000.0,50000000.0,66600000.0,9300000.0,12200000.0,48700000.0,20700000.0,16300000.0],\"sizemode\":\"area\",\"sizeref\":576000.0,\"symbol\":\"circle\"},\"mode\":\"markers\",\"name\":\"Africa\",\"showlegend\":true,\"type\":\"scattergeo\"},{\"geo\":\"geo\",\"hovertemplate\":\"\\u003cb\\u003e%{hovertext}\\u003c\\u002fb\\u003e\\u003cbr\\u003e\\u003cbr\\u003eRegion=Americas\\u003cbr\\u003ePopulation=%{marker.size}\\u003cbr\\u003eLatitude=%{lat}\\u003cbr\\u003eLongitude=%{lon}\\u003cextra\\u003e\\u003c\\u002fextra\\u003e\",\"hovertext\":[\"Antigua and Barbuda\",\"Argentina\",\"Bahamas\",\"Barbados\",\"Belize\",\"Bolivia\",\"Brazil\",\"Canada\",\"Chile\",\"Colombia\",\"Costa Rica\",\"Cuba\",\"Dominica\",\"Dominican Republic\",\"Ecuador\",\"El Salvador\",\"Grenada\",\"Guatemala\",\"Guyana\",\"Haiti\",\"Honduras\",\"Jamaica\",\"Mexico\",\"Nicaragua\",\"Panama\",\"Paraguay\",\"Peru\",\"St. Kitts and Nevis\",\"St. Lucia\",\"St. Vincent and the Grenadines\",\"Suriname\",\"Trinidad and Tobago\",\"USA\",\"Uruguay\",\"Venezuela\"],\"lat\":[17.05,-34.0,25.04082,13.16667,17.49952,-17.0,-10.0,60.10867,-33.45694,4.0,10.0,22.0,15.5,19.0,-1.25,13.83333,12.11667,14.64072,5.0,19.0,15.0,18.16667,19.42847,13.0,8.9936,-23.33333,-10.0,17.33333,13.88333,13.08333,4.0,11.0,39.76,-33.0,8.0],\"legendgroup\":\"Americas\",\"lon\":[-61.8,-64.0,-77.37122,-59.53333,-88.19756,-65.0,-55.0,-113.64258,-70.64827,-73.25,-84.0,-79.5,-61.33333,-70.66667,-78.25,-88.91667,-61.66667,-90.51327,-59.0,-72.41667,-86.5,-77.25,-99.12766,-85.0,-79.51973,-58.0,-75.25,-62.75,-60.96667,-61.2,-56.0,-61.0,-98.5,-56.0,-66.0],\"marker\":{\"color\":\"#ab63fa\",\"size\":[93300.0,45500000.0,399000.0,282000.0,411000.0,12200000.0,211000000.0,39300000.0,19700000.0,52300000.0,5110000.0,11000000.0,66500.0,11300000.0,18000000.0,6310000.0,117000.0,18100000.0,826000.0,11600000.0,10600000.0,2840000.0,130000000.0,6820000.0,4460000.0,6840000.0,33800000.0,46800.0,179000.0,101000.0,629000.0,1500000.0,343000000.0,3390000.0,28300000.0],\"sizemode\":\"area\",\"sizeref\":576000.0,\"symbol\":\"circle\"},\"mode\":\"markers\",\"name\":\"Americas\",\"showlegend\":true,\"type\":\"scattergeo\"}],                        {\"template\":{\"data\":{\"histogram2dcontour\":[{\"type\":\"histogram2dcontour\",\"colorbar\":{\"outlinewidth\":0,\"ticks\":\"\"},\"colorscale\":[[0.0,\"#0d0887\"],[0.1111111111111111,\"#46039f\"],[0.2222222222222222,\"#7201a8\"],[0.3333333333333333,\"#9c179e\"],[0.4444444444444444,\"#bd3786\"],[0.5555555555555556,\"#d8576b\"],[0.6666666666666666,\"#ed7953\"],[0.7777777777777778,\"#fb9f3a\"],[0.8888888888888888,\"#fdca26\"],[1.0,\"#f0f921\"]]}],\"choropleth\":[{\"type\":\"choropleth\",\"colorbar\":{\"outlinewidth\":0,\"ticks\":\"\"}}],\"histogram2d\":[{\"type\":\"histogram2d\",\"colorbar\":{\"outlinewidth\":0,\"ticks\":\"\"},\"colorscale\":[[0.0,\"#0d0887\"],[0.1111111111111111,\"#46039f\"],[0.2222222222222222,\"#7201a8\"],[0.3333333333333333,\"#9c179e\"],[0.4444444444444444,\"#bd3786\"],[0.5555555555555556,\"#d8576b\"],[0.6666666666666666,\"#ed7953\"],[0.7777777777777778,\"#fb9f3a\"],[0.8888888888888888,\"#fdca26\"],[1.0,\"#f0f921\"]]}],\"heatmap\":[{\"type\":\"heatmap\",\"colorbar\":{\"outlinewidth\":0,\"ticks\":\"\"},\"colorscale\":[[0.0,\"#0d0887\"],[0.1111111111111111,\"#46039f\"],[0.2222222222222222,\"#7201a8\"],[0.3333333333333333,\"#9c179e\"],[0.4444444444444444,\"#bd3786\"],[0.5555555555555556,\"#d8576b\"],[0.6666666666666666,\"#ed7953\"],[0.7777777777777778,\"#fb9f3a\"],[0.8888888888888888,\"#fdca26\"],[1.0,\"#f0f921\"]]}],\"heatmapgl\":[{\"type\":\"heatmapgl\",\"colorbar\":{\"outlinewidth\":0,\"ticks\":\"\"},\"colorscale\":[[0.0,\"#0d0887\"],[0.1111111111111111,\"#46039f\"],[0.2222222222222222,\"#7201a8\"],[0.3333333333333333,\"#9c179e\"],[0.4444444444444444,\"#bd3786\"],[0.5555555555555556,\"#d8576b\"],[0.6666666666666666,\"#ed7953\"],[0.7777777777777778,\"#fb9f3a\"],[0.8888888888888888,\"#fdca26\"],[1.0,\"#f0f921\"]]}],\"contourcarpet\":[{\"type\":\"contourcarpet\",\"colorbar\":{\"outlinewidth\":0,\"ticks\":\"\"}}],\"contour\":[{\"type\":\"contour\",\"colorbar\":{\"outlinewidth\":0,\"ticks\":\"\"},\"colorscale\":[[0.0,\"#0d0887\"],[0.1111111111111111,\"#46039f\"],[0.2222222222222222,\"#7201a8\"],[0.3333333333333333,\"#9c179e\"],[0.4444444444444444,\"#bd3786\"],[0.5555555555555556,\"#d8576b\"],[0.6666666666666666,\"#ed7953\"],[0.7777777777777778,\"#fb9f3a\"],[0.8888888888888888,\"#fdca26\"],[1.0,\"#f0f921\"]]}],\"surface\":[{\"type\":\"surface\",\"colorbar\":{\"outlinewidth\":0,\"ticks\":\"\"},\"colorscale\":[[0.0,\"#0d0887\"],[0.1111111111111111,\"#46039f\"],[0.2222222222222222,\"#7201a8\"],[0.3333333333333333,\"#9c179e\"],[0.4444444444444444,\"#bd3786\"],[0.5555555555555556,\"#d8576b\"],[0.6666666666666666,\"#ed7953\"],[0.7777777777777778,\"#fb9f3a\"],[0.8888888888888888,\"#fdca26\"],[1.0,\"#f0f921\"]]}],\"mesh3d\":[{\"type\":\"mesh3d\",\"colorbar\":{\"outlinewidth\":0,\"ticks\":\"\"}}],\"scatter\":[{\"fillpattern\":{\"fillmode\":\"overlay\",\"size\":10,\"solidity\":0.2},\"type\":\"scatter\"}],\"parcoords\":[{\"type\":\"parcoords\",\"line\":{\"colorbar\":{\"outlinewidth\":0,\"ticks\":\"\"}}}],\"scatterpolargl\":[{\"type\":\"scatterpolargl\",\"marker\":{\"colorbar\":{\"outlinewidth\":0,\"ticks\":\"\"}}}],\"bar\":[{\"error_x\":{\"color\":\"#2a3f5f\"},\"error_y\":{\"color\":\"#2a3f5f\"},\"marker\":{\"line\":{\"color\":\"#E5ECF6\",\"width\":0.5},\"pattern\":{\"fillmode\":\"overlay\",\"size\":10,\"solidity\":0.2}},\"type\":\"bar\"}],\"scattergeo\":[{\"type\":\"scattergeo\",\"marker\":{\"colorbar\":{\"outlinewidth\":0,\"ticks\":\"\"}}}],\"scatterpolar\":[{\"type\":\"scatterpolar\",\"marker\":{\"colorbar\":{\"outlinewidth\":0,\"ticks\":\"\"}}}],\"histogram\":[{\"marker\":{\"pattern\":{\"fillmode\":\"overlay\",\"size\":10,\"solidity\":0.2}},\"type\":\"histogram\"}],\"scattergl\":[{\"type\":\"scattergl\",\"marker\":{\"colorbar\":{\"outlinewidth\":0,\"ticks\":\"\"}}}],\"scatter3d\":[{\"type\":\"scatter3d\",\"line\":{\"colorbar\":{\"outlinewidth\":0,\"ticks\":\"\"}},\"marker\":{\"colorbar\":{\"outlinewidth\":0,\"ticks\":\"\"}}}],\"scattermapbox\":[{\"type\":\"scattermapbox\",\"marker\":{\"colorbar\":{\"outlinewidth\":0,\"ticks\":\"\"}}}],\"scatterternary\":[{\"type\":\"scatterternary\",\"marker\":{\"colorbar\":{\"outlinewidth\":0,\"ticks\":\"\"}}}],\"scattercarpet\":[{\"type\":\"scattercarpet\",\"marker\":{\"colorbar\":{\"outlinewidth\":0,\"ticks\":\"\"}}}],\"carpet\":[{\"aaxis\":{\"endlinecolor\":\"#2a3f5f\",\"gridcolor\":\"white\",\"linecolor\":\"white\",\"minorgridcolor\":\"white\",\"startlinecolor\":\"#2a3f5f\"},\"baxis\":{\"endlinecolor\":\"#2a3f5f\",\"gridcolor\":\"white\",\"linecolor\":\"white\",\"minorgridcolor\":\"white\",\"startlinecolor\":\"#2a3f5f\"},\"type\":\"carpet\"}],\"table\":[{\"cells\":{\"fill\":{\"color\":\"#EBF0F8\"},\"line\":{\"color\":\"white\"}},\"header\":{\"fill\":{\"color\":\"#C8D4E3\"},\"line\":{\"color\":\"white\"}},\"type\":\"table\"}],\"barpolar\":[{\"marker\":{\"line\":{\"color\":\"#E5ECF6\",\"width\":0.5},\"pattern\":{\"fillmode\":\"overlay\",\"size\":10,\"solidity\":0.2}},\"type\":\"barpolar\"}],\"pie\":[{\"automargin\":true,\"type\":\"pie\"}]},\"layout\":{\"autotypenumbers\":\"strict\",\"colorway\":[\"#636efa\",\"#EF553B\",\"#00cc96\",\"#ab63fa\",\"#FFA15A\",\"#19d3f3\",\"#FF6692\",\"#B6E880\",\"#FF97FF\",\"#FECB52\"],\"font\":{\"color\":\"#2a3f5f\"},\"hovermode\":\"closest\",\"hoverlabel\":{\"align\":\"left\"},\"paper_bgcolor\":\"white\",\"plot_bgcolor\":\"#E5ECF6\",\"polar\":{\"bgcolor\":\"#E5ECF6\",\"angularaxis\":{\"gridcolor\":\"white\",\"linecolor\":\"white\",\"ticks\":\"\"},\"radialaxis\":{\"gridcolor\":\"white\",\"linecolor\":\"white\",\"ticks\":\"\"}},\"ternary\":{\"bgcolor\":\"#E5ECF6\",\"aaxis\":{\"gridcolor\":\"white\",\"linecolor\":\"white\",\"ticks\":\"\"},\"baxis\":{\"gridcolor\":\"white\",\"linecolor\":\"white\",\"ticks\":\"\"},\"caxis\":{\"gridcolor\":\"white\",\"linecolor\":\"white\",\"ticks\":\"\"}},\"coloraxis\":{\"colorbar\":{\"outlinewidth\":0,\"ticks\":\"\"}},\"colorscale\":{\"sequential\":[[0.0,\"#0d0887\"],[0.1111111111111111,\"#46039f\"],[0.2222222222222222,\"#7201a8\"],[0.3333333333333333,\"#9c179e\"],[0.4444444444444444,\"#bd3786\"],[0.5555555555555556,\"#d8576b\"],[0.6666666666666666,\"#ed7953\"],[0.7777777777777778,\"#fb9f3a\"],[0.8888888888888888,\"#fdca26\"],[1.0,\"#f0f921\"]],\"sequentialminus\":[[0.0,\"#0d0887\"],[0.1111111111111111,\"#46039f\"],[0.2222222222222222,\"#7201a8\"],[0.3333333333333333,\"#9c179e\"],[0.4444444444444444,\"#bd3786\"],[0.5555555555555556,\"#d8576b\"],[0.6666666666666666,\"#ed7953\"],[0.7777777777777778,\"#fb9f3a\"],[0.8888888888888888,\"#fdca26\"],[1.0,\"#f0f921\"]],\"diverging\":[[0,\"#8e0152\"],[0.1,\"#c51b7d\"],[0.2,\"#de77ae\"],[0.3,\"#f1b6da\"],[0.4,\"#fde0ef\"],[0.5,\"#f7f7f7\"],[0.6,\"#e6f5d0\"],[0.7,\"#b8e186\"],[0.8,\"#7fbc41\"],[0.9,\"#4d9221\"],[1,\"#276419\"]]},\"xaxis\":{\"gridcolor\":\"white\",\"linecolor\":\"white\",\"ticks\":\"\",\"title\":{\"standoff\":15},\"zerolinecolor\":\"white\",\"automargin\":true,\"zerolinewidth\":2},\"yaxis\":{\"gridcolor\":\"white\",\"linecolor\":\"white\",\"ticks\":\"\",\"title\":{\"standoff\":15},\"zerolinecolor\":\"white\",\"automargin\":true,\"zerolinewidth\":2},\"scene\":{\"xaxis\":{\"backgroundcolor\":\"#E5ECF6\",\"gridcolor\":\"white\",\"linecolor\":\"white\",\"showbackground\":true,\"ticks\":\"\",\"zerolinecolor\":\"white\",\"gridwidth\":2},\"yaxis\":{\"backgroundcolor\":\"#E5ECF6\",\"gridcolor\":\"white\",\"linecolor\":\"white\",\"showbackground\":true,\"ticks\":\"\",\"zerolinecolor\":\"white\",\"gridwidth\":2},\"zaxis\":{\"backgroundcolor\":\"#E5ECF6\",\"gridcolor\":\"white\",\"linecolor\":\"white\",\"showbackground\":true,\"ticks\":\"\",\"zerolinecolor\":\"white\",\"gridwidth\":2}},\"shapedefaults\":{\"line\":{\"color\":\"#2a3f5f\"}},\"annotationdefaults\":{\"arrowcolor\":\"#2a3f5f\",\"arrowhead\":0,\"arrowwidth\":1},\"geo\":{\"bgcolor\":\"white\",\"landcolor\":\"#E5ECF6\",\"subunitcolor\":\"white\",\"showland\":true,\"showlakes\":true,\"lakecolor\":\"white\"},\"title\":{\"x\":0.05},\"mapbox\":{\"style\":\"light\"}}},\"geo\":{\"domain\":{\"x\":[0.0,1.0],\"y\":[0.0,1.0]},\"center\":{},\"scope\":\"world\"},\"legend\":{\"title\":{\"text\":\"Region\"},\"tracegroupgap\":0,\"itemsizing\":\"constant\"},\"margin\":{\"t\":60}},                        {\"responsive\": true}                    ).then(function(){\n",
       "                            \n",
       "var gd = document.getElementById('598ff4f3-3e09-4287-9b25-c1524c89b395');\n",
       "var x = new MutationObserver(function (mutations, observer) {{\n",
       "        var display = window.getComputedStyle(gd).display;\n",
       "        if (!display || display === 'none') {{\n",
       "            console.log([gd, 'removed!']);\n",
       "            Plotly.purge(gd);\n",
       "            observer.disconnect();\n",
       "        }}\n",
       "}});\n",
       "\n",
       "// Listen for the removal of the full notebook cells\n",
       "var notebookContainer = gd.closest('#notebook-container');\n",
       "if (notebookContainer) {{\n",
       "    x.observe(notebookContainer, {childList: true});\n",
       "}}\n",
       "\n",
       "// Listen for the clearing of the current output cell\n",
       "var outputEl = gd.closest('.output');\n",
       "if (outputEl) {{\n",
       "    x.observe(outputEl, {childList: true});\n",
       "}}\n",
       "\n",
       "                        })                };                });            </script>        </div>"
      ]
     },
     "metadata": {},
     "output_type": "display_data"
    }
   ],
   "source": [
    "map_df = gapminder_df.query('Year == 2023')\n",
    "\n",
    "fig = px.scatter_geo(\n",
    "    map_df,\n",
    "    lat = 'Latitude',         # Column for latitude coordinates\n",
    "    lon = 'Longitude',        # Column for longitude coordinates   \n",
    "    size='Population',           \n",
    "    color='Region',              \n",
    "    size_max = 50,\n",
    "    hover_name='Country',\n",
    "    scope='world',               \n",
    ")\n",
    "fig.show()"
   ]
  },
  {
   "cell_type": "code",
   "execution_count": null,
   "id": "027f638e-a498-4d3c-a8fa-e649c5e93969",
   "metadata": {},
   "outputs": [],
   "source": []
  }
 ],
 "metadata": {
  "kernelspec": {
   "display_name": "Python 3 (ipykernel)",
   "language": "python",
   "name": "python3"
  },
  "language_info": {
   "codemirror_mode": {
    "name": "ipython",
    "version": 3
   },
   "file_extension": ".py",
   "mimetype": "text/x-python",
   "name": "python",
   "nbconvert_exporter": "python",
   "pygments_lexer": "ipython3",
   "version": "3.12.4"
  }
 },
 "nbformat": 4,
 "nbformat_minor": 5
}
