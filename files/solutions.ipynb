{
 "cells": [
  {
   "cell_type": "markdown",
   "id": "f0ddd049-fb6f-4a15-91bc-76bcac03406e",
   "metadata": {},
   "source": [
    "## Import Libraries"
   ]
  },
  {
   "cell_type": "code",
   "execution_count": 1,
   "id": "919cc5b8",
   "metadata": {},
   "outputs": [],
   "source": [
    "import pandas as pd\n",
    "import plotly.express as px"
   ]
  },
  {
   "cell_type": "markdown",
   "id": "b5c44e08-63be-45ab-a01e-6108ec14d482",
   "metadata": {},
   "source": [
    "## Load Data"
   ]
  },
  {
   "cell_type": "code",
   "execution_count": 2,
   "id": "231bcbee-cace-4d52-889c-6c2976264fdf",
   "metadata": {},
   "outputs": [
    {
     "data": {
      "application/vnd.microsoft.datawrangler.viewer.v0+json": {
       "columns": [
        {
         "name": "index",
         "rawType": "int64",
         "type": "integer"
        },
        {
         "name": "Country",
         "rawType": "object",
         "type": "string"
        },
        {
         "name": "Year",
         "rawType": "int64",
         "type": "integer"
        },
        {
         "name": "Population",
         "rawType": "float64",
         "type": "float"
        },
        {
         "name": "Life Expectancy",
         "rawType": "float64",
         "type": "float"
        },
        {
         "name": "GDPpcap",
         "rawType": "float64",
         "type": "float"
        },
        {
         "name": "region",
         "rawType": "object",
         "type": "string"
        },
        {
         "name": "Longitude",
         "rawType": "float64",
         "type": "float"
        },
        {
         "name": "Latitude",
         "rawType": "float64",
         "type": "float"
        },
        {
         "name": "eight_regions",
         "rawType": "object",
         "type": "string"
        }
       ],
       "ref": "324c0659-e4a4-4d00-a24c-5a5078878c7f",
       "rows": [
        [
         "0",
         "Afghanistan",
         "1800",
         "3280000.0",
         "28.2",
         "481.0",
         "asia",
         "66.0",
         "33.0",
         "asia_west"
        ],
        [
         "1",
         "Afghanistan",
         "1801",
         "3280000.0",
         "28.2",
         "481.0",
         "asia",
         "66.0",
         "33.0",
         "asia_west"
        ],
        [
         "2",
         "Afghanistan",
         "1802",
         "3280000.0",
         "28.2",
         "481.0",
         "asia",
         "66.0",
         "33.0",
         "asia_west"
        ],
        [
         "3",
         "Afghanistan",
         "1803",
         "3280000.0",
         "28.2",
         "481.0",
         "asia",
         "66.0",
         "33.0",
         "asia_west"
        ],
        [
         "4",
         "Afghanistan",
         "1804",
         "3280000.0",
         "28.2",
         "481.0",
         "asia",
         "66.0",
         "33.0",
         "asia_west"
        ],
        [
         "5",
         "Afghanistan",
         "1805",
         "3280000.0",
         "28.2",
         "481.0",
         "asia",
         "66.0",
         "33.0",
         "asia_west"
        ],
        [
         "6",
         "Afghanistan",
         "1806",
         "3280000.0",
         "28.1",
         "481.0",
         "asia",
         "66.0",
         "33.0",
         "asia_west"
        ],
        [
         "7",
         "Afghanistan",
         "1807",
         "3280000.0",
         "28.1",
         "481.0",
         "asia",
         "66.0",
         "33.0",
         "asia_west"
        ],
        [
         "8",
         "Afghanistan",
         "1808",
         "3280000.0",
         "28.1",
         "481.0",
         "asia",
         "66.0",
         "33.0",
         "asia_west"
        ],
        [
         "9",
         "Afghanistan",
         "1809",
         "3280000.0",
         "28.1",
         "481.0",
         "asia",
         "66.0",
         "33.0",
         "asia_west"
        ]
       ],
       "shape": {
        "columns": 9,
        "rows": 10
       }
      },
      "text/html": [
       "<div>\n",
       "<style scoped>\n",
       "    .dataframe tbody tr th:only-of-type {\n",
       "        vertical-align: middle;\n",
       "    }\n",
       "\n",
       "    .dataframe tbody tr th {\n",
       "        vertical-align: top;\n",
       "    }\n",
       "\n",
       "    .dataframe thead th {\n",
       "        text-align: right;\n",
       "    }\n",
       "</style>\n",
       "<table border=\"1\" class=\"dataframe\">\n",
       "  <thead>\n",
       "    <tr style=\"text-align: right;\">\n",
       "      <th></th>\n",
       "      <th>Country</th>\n",
       "      <th>Year</th>\n",
       "      <th>Population</th>\n",
       "      <th>Life Expectancy</th>\n",
       "      <th>GDPpcap</th>\n",
       "      <th>region</th>\n",
       "      <th>Longitude</th>\n",
       "      <th>Latitude</th>\n",
       "      <th>eight_regions</th>\n",
       "    </tr>\n",
       "  </thead>\n",
       "  <tbody>\n",
       "    <tr>\n",
       "      <th>0</th>\n",
       "      <td>Afghanistan</td>\n",
       "      <td>1800</td>\n",
       "      <td>3280000.0</td>\n",
       "      <td>28.2</td>\n",
       "      <td>481.0</td>\n",
       "      <td>asia</td>\n",
       "      <td>66.0</td>\n",
       "      <td>33.0</td>\n",
       "      <td>asia_west</td>\n",
       "    </tr>\n",
       "    <tr>\n",
       "      <th>1</th>\n",
       "      <td>Afghanistan</td>\n",
       "      <td>1801</td>\n",
       "      <td>3280000.0</td>\n",
       "      <td>28.2</td>\n",
       "      <td>481.0</td>\n",
       "      <td>asia</td>\n",
       "      <td>66.0</td>\n",
       "      <td>33.0</td>\n",
       "      <td>asia_west</td>\n",
       "    </tr>\n",
       "    <tr>\n",
       "      <th>2</th>\n",
       "      <td>Afghanistan</td>\n",
       "      <td>1802</td>\n",
       "      <td>3280000.0</td>\n",
       "      <td>28.2</td>\n",
       "      <td>481.0</td>\n",
       "      <td>asia</td>\n",
       "      <td>66.0</td>\n",
       "      <td>33.0</td>\n",
       "      <td>asia_west</td>\n",
       "    </tr>\n",
       "    <tr>\n",
       "      <th>3</th>\n",
       "      <td>Afghanistan</td>\n",
       "      <td>1803</td>\n",
       "      <td>3280000.0</td>\n",
       "      <td>28.2</td>\n",
       "      <td>481.0</td>\n",
       "      <td>asia</td>\n",
       "      <td>66.0</td>\n",
       "      <td>33.0</td>\n",
       "      <td>asia_west</td>\n",
       "    </tr>\n",
       "    <tr>\n",
       "      <th>4</th>\n",
       "      <td>Afghanistan</td>\n",
       "      <td>1804</td>\n",
       "      <td>3280000.0</td>\n",
       "      <td>28.2</td>\n",
       "      <td>481.0</td>\n",
       "      <td>asia</td>\n",
       "      <td>66.0</td>\n",
       "      <td>33.0</td>\n",
       "      <td>asia_west</td>\n",
       "    </tr>\n",
       "    <tr>\n",
       "      <th>5</th>\n",
       "      <td>Afghanistan</td>\n",
       "      <td>1805</td>\n",
       "      <td>3280000.0</td>\n",
       "      <td>28.2</td>\n",
       "      <td>481.0</td>\n",
       "      <td>asia</td>\n",
       "      <td>66.0</td>\n",
       "      <td>33.0</td>\n",
       "      <td>asia_west</td>\n",
       "    </tr>\n",
       "    <tr>\n",
       "      <th>6</th>\n",
       "      <td>Afghanistan</td>\n",
       "      <td>1806</td>\n",
       "      <td>3280000.0</td>\n",
       "      <td>28.1</td>\n",
       "      <td>481.0</td>\n",
       "      <td>asia</td>\n",
       "      <td>66.0</td>\n",
       "      <td>33.0</td>\n",
       "      <td>asia_west</td>\n",
       "    </tr>\n",
       "    <tr>\n",
       "      <th>7</th>\n",
       "      <td>Afghanistan</td>\n",
       "      <td>1807</td>\n",
       "      <td>3280000.0</td>\n",
       "      <td>28.1</td>\n",
       "      <td>481.0</td>\n",
       "      <td>asia</td>\n",
       "      <td>66.0</td>\n",
       "      <td>33.0</td>\n",
       "      <td>asia_west</td>\n",
       "    </tr>\n",
       "    <tr>\n",
       "      <th>8</th>\n",
       "      <td>Afghanistan</td>\n",
       "      <td>1808</td>\n",
       "      <td>3280000.0</td>\n",
       "      <td>28.1</td>\n",
       "      <td>481.0</td>\n",
       "      <td>asia</td>\n",
       "      <td>66.0</td>\n",
       "      <td>33.0</td>\n",
       "      <td>asia_west</td>\n",
       "    </tr>\n",
       "    <tr>\n",
       "      <th>9</th>\n",
       "      <td>Afghanistan</td>\n",
       "      <td>1809</td>\n",
       "      <td>3280000.0</td>\n",
       "      <td>28.1</td>\n",
       "      <td>481.0</td>\n",
       "      <td>asia</td>\n",
       "      <td>66.0</td>\n",
       "      <td>33.0</td>\n",
       "      <td>asia_west</td>\n",
       "    </tr>\n",
       "  </tbody>\n",
       "</table>\n",
       "</div>"
      ],
      "text/plain": [
       "       Country  Year  Population  Life Expectancy  GDPpcap region  Longitude  \\\n",
       "0  Afghanistan  1800   3280000.0             28.2    481.0   asia       66.0   \n",
       "1  Afghanistan  1801   3280000.0             28.2    481.0   asia       66.0   \n",
       "2  Afghanistan  1802   3280000.0             28.2    481.0   asia       66.0   \n",
       "3  Afghanistan  1803   3280000.0             28.2    481.0   asia       66.0   \n",
       "4  Afghanistan  1804   3280000.0             28.2    481.0   asia       66.0   \n",
       "5  Afghanistan  1805   3280000.0             28.2    481.0   asia       66.0   \n",
       "6  Afghanistan  1806   3280000.0             28.1    481.0   asia       66.0   \n",
       "7  Afghanistan  1807   3280000.0             28.1    481.0   asia       66.0   \n",
       "8  Afghanistan  1808   3280000.0             28.1    481.0   asia       66.0   \n",
       "9  Afghanistan  1809   3280000.0             28.1    481.0   asia       66.0   \n",
       "\n",
       "   Latitude eight_regions  \n",
       "0      33.0     asia_west  \n",
       "1      33.0     asia_west  \n",
       "2      33.0     asia_west  \n",
       "3      33.0     asia_west  \n",
       "4      33.0     asia_west  \n",
       "5      33.0     asia_west  \n",
       "6      33.0     asia_west  \n",
       "7      33.0     asia_west  \n",
       "8      33.0     asia_west  \n",
       "9      33.0     asia_west  "
      ]
     },
     "execution_count": 2,
     "metadata": {},
     "output_type": "execute_result"
    }
   ],
   "source": [
    "# Import Gapminder Data\n",
    "gapminder_df = pd.read_csv(\"gapminder_data.csv\")\n",
    "gapminder_df.head(10)"
   ]
  },
  {
   "cell_type": "markdown",
   "id": "d52a5a72-41da-4db3-bd65-669d37c0fc62",
   "metadata": {},
   "source": [
    "## Filter Data"
   ]
  },
  {
   "cell_type": "code",
   "execution_count": 3,
   "id": "d3de7be1-8d77-4a3f-a480-593480a6a1e9",
   "metadata": {},
   "outputs": [
    {
     "data": {
      "application/vnd.microsoft.datawrangler.viewer.v0+json": {
       "columns": [
        {
         "name": "index",
         "rawType": "int64",
         "type": "integer"
        },
        {
         "name": "Country",
         "rawType": "object",
         "type": "string"
        },
        {
         "name": "Year",
         "rawType": "int64",
         "type": "integer"
        },
        {
         "name": "Population",
         "rawType": "float64",
         "type": "float"
        },
        {
         "name": "Life Expectancy",
         "rawType": "float64",
         "type": "float"
        },
        {
         "name": "GDPpcap",
         "rawType": "float64",
         "type": "float"
        },
        {
         "name": "region",
         "rawType": "object",
         "type": "string"
        },
        {
         "name": "Longitude",
         "rawType": "float64",
         "type": "float"
        },
        {
         "name": "Latitude",
         "rawType": "float64",
         "type": "float"
        },
        {
         "name": "eight_regions",
         "rawType": "object",
         "type": "string"
        }
       ],
       "ref": "c1ce62de-5316-45ef-bd6b-dab44595ff71",
       "rows": [
        [
         "10575",
         "China",
         "1990",
         "1150000000.0",
         "68.1",
         "1830.0",
         "asia",
         "105.0",
         "35.0",
         "east_asia_pacific"
        ],
        [
         "10576",
         "China",
         "1991",
         "1170000000.0",
         "68.4",
         "1920.0",
         "asia",
         "105.0",
         "35.0",
         "east_asia_pacific"
        ],
        [
         "10577",
         "China",
         "1992",
         "1180000000.0",
         "68.7",
         "2100.0",
         "asia",
         "105.0",
         "35.0",
         "east_asia_pacific"
        ],
        [
         "10578",
         "China",
         "1993",
         "1200000000.0",
         "69.0",
         "2320.0",
         "asia",
         "105.0",
         "35.0",
         "east_asia_pacific"
        ],
        [
         "10579",
         "China",
         "1994",
         "1210000000.0",
         "69.4",
         "2540.0",
         "asia",
         "105.0",
         "35.0",
         "east_asia_pacific"
        ],
        [
         "10580",
         "China",
         "1995",
         "1220000000.0",
         "69.8",
         "2750.0",
         "asia",
         "105.0",
         "35.0",
         "east_asia_pacific"
        ],
        [
         "10581",
         "China",
         "1996",
         "1230000000.0",
         "70.1",
         "2940.0",
         "asia",
         "105.0",
         "35.0",
         "east_asia_pacific"
        ],
        [
         "10582",
         "China",
         "1997",
         "1240000000.0",
         "70.5",
         "3120.0",
         "asia",
         "105.0",
         "35.0",
         "east_asia_pacific"
        ],
        [
         "10583",
         "China",
         "1998",
         "1250000000.0",
         "70.9",
         "3270.0",
         "asia",
         "105.0",
         "35.0",
         "east_asia_pacific"
        ],
        [
         "10584",
         "China",
         "1999",
         "1260000000.0",
         "71.2",
         "3450.0",
         "asia",
         "105.0",
         "35.0",
         "east_asia_pacific"
        ]
       ],
       "shape": {
        "columns": 9,
        "rows": 10
       }
      },
      "text/html": [
       "<div>\n",
       "<style scoped>\n",
       "    .dataframe tbody tr th:only-of-type {\n",
       "        vertical-align: middle;\n",
       "    }\n",
       "\n",
       "    .dataframe tbody tr th {\n",
       "        vertical-align: top;\n",
       "    }\n",
       "\n",
       "    .dataframe thead th {\n",
       "        text-align: right;\n",
       "    }\n",
       "</style>\n",
       "<table border=\"1\" class=\"dataframe\">\n",
       "  <thead>\n",
       "    <tr style=\"text-align: right;\">\n",
       "      <th></th>\n",
       "      <th>Country</th>\n",
       "      <th>Year</th>\n",
       "      <th>Population</th>\n",
       "      <th>Life Expectancy</th>\n",
       "      <th>GDPpcap</th>\n",
       "      <th>region</th>\n",
       "      <th>Longitude</th>\n",
       "      <th>Latitude</th>\n",
       "      <th>eight_regions</th>\n",
       "    </tr>\n",
       "  </thead>\n",
       "  <tbody>\n",
       "    <tr>\n",
       "      <th>10575</th>\n",
       "      <td>China</td>\n",
       "      <td>1990</td>\n",
       "      <td>1.150000e+09</td>\n",
       "      <td>68.1</td>\n",
       "      <td>1830.0</td>\n",
       "      <td>asia</td>\n",
       "      <td>105.0</td>\n",
       "      <td>35.0</td>\n",
       "      <td>east_asia_pacific</td>\n",
       "    </tr>\n",
       "    <tr>\n",
       "      <th>10576</th>\n",
       "      <td>China</td>\n",
       "      <td>1991</td>\n",
       "      <td>1.170000e+09</td>\n",
       "      <td>68.4</td>\n",
       "      <td>1920.0</td>\n",
       "      <td>asia</td>\n",
       "      <td>105.0</td>\n",
       "      <td>35.0</td>\n",
       "      <td>east_asia_pacific</td>\n",
       "    </tr>\n",
       "    <tr>\n",
       "      <th>10577</th>\n",
       "      <td>China</td>\n",
       "      <td>1992</td>\n",
       "      <td>1.180000e+09</td>\n",
       "      <td>68.7</td>\n",
       "      <td>2100.0</td>\n",
       "      <td>asia</td>\n",
       "      <td>105.0</td>\n",
       "      <td>35.0</td>\n",
       "      <td>east_asia_pacific</td>\n",
       "    </tr>\n",
       "    <tr>\n",
       "      <th>10578</th>\n",
       "      <td>China</td>\n",
       "      <td>1993</td>\n",
       "      <td>1.200000e+09</td>\n",
       "      <td>69.0</td>\n",
       "      <td>2320.0</td>\n",
       "      <td>asia</td>\n",
       "      <td>105.0</td>\n",
       "      <td>35.0</td>\n",
       "      <td>east_asia_pacific</td>\n",
       "    </tr>\n",
       "    <tr>\n",
       "      <th>10579</th>\n",
       "      <td>China</td>\n",
       "      <td>1994</td>\n",
       "      <td>1.210000e+09</td>\n",
       "      <td>69.4</td>\n",
       "      <td>2540.0</td>\n",
       "      <td>asia</td>\n",
       "      <td>105.0</td>\n",
       "      <td>35.0</td>\n",
       "      <td>east_asia_pacific</td>\n",
       "    </tr>\n",
       "    <tr>\n",
       "      <th>10580</th>\n",
       "      <td>China</td>\n",
       "      <td>1995</td>\n",
       "      <td>1.220000e+09</td>\n",
       "      <td>69.8</td>\n",
       "      <td>2750.0</td>\n",
       "      <td>asia</td>\n",
       "      <td>105.0</td>\n",
       "      <td>35.0</td>\n",
       "      <td>east_asia_pacific</td>\n",
       "    </tr>\n",
       "    <tr>\n",
       "      <th>10581</th>\n",
       "      <td>China</td>\n",
       "      <td>1996</td>\n",
       "      <td>1.230000e+09</td>\n",
       "      <td>70.1</td>\n",
       "      <td>2940.0</td>\n",
       "      <td>asia</td>\n",
       "      <td>105.0</td>\n",
       "      <td>35.0</td>\n",
       "      <td>east_asia_pacific</td>\n",
       "    </tr>\n",
       "    <tr>\n",
       "      <th>10582</th>\n",
       "      <td>China</td>\n",
       "      <td>1997</td>\n",
       "      <td>1.240000e+09</td>\n",
       "      <td>70.5</td>\n",
       "      <td>3120.0</td>\n",
       "      <td>asia</td>\n",
       "      <td>105.0</td>\n",
       "      <td>35.0</td>\n",
       "      <td>east_asia_pacific</td>\n",
       "    </tr>\n",
       "    <tr>\n",
       "      <th>10583</th>\n",
       "      <td>China</td>\n",
       "      <td>1998</td>\n",
       "      <td>1.250000e+09</td>\n",
       "      <td>70.9</td>\n",
       "      <td>3270.0</td>\n",
       "      <td>asia</td>\n",
       "      <td>105.0</td>\n",
       "      <td>35.0</td>\n",
       "      <td>east_asia_pacific</td>\n",
       "    </tr>\n",
       "    <tr>\n",
       "      <th>10584</th>\n",
       "      <td>China</td>\n",
       "      <td>1999</td>\n",
       "      <td>1.260000e+09</td>\n",
       "      <td>71.2</td>\n",
       "      <td>3450.0</td>\n",
       "      <td>asia</td>\n",
       "      <td>105.0</td>\n",
       "      <td>35.0</td>\n",
       "      <td>east_asia_pacific</td>\n",
       "    </tr>\n",
       "  </tbody>\n",
       "</table>\n",
       "</div>"
      ],
      "text/plain": [
       "      Country  Year    Population  Life Expectancy  GDPpcap region  Longitude  \\\n",
       "10575   China  1990  1.150000e+09             68.1   1830.0   asia      105.0   \n",
       "10576   China  1991  1.170000e+09             68.4   1920.0   asia      105.0   \n",
       "10577   China  1992  1.180000e+09             68.7   2100.0   asia      105.0   \n",
       "10578   China  1993  1.200000e+09             69.0   2320.0   asia      105.0   \n",
       "10579   China  1994  1.210000e+09             69.4   2540.0   asia      105.0   \n",
       "10580   China  1995  1.220000e+09             69.8   2750.0   asia      105.0   \n",
       "10581   China  1996  1.230000e+09             70.1   2940.0   asia      105.0   \n",
       "10582   China  1997  1.240000e+09             70.5   3120.0   asia      105.0   \n",
       "10583   China  1998  1.250000e+09             70.9   3270.0   asia      105.0   \n",
       "10584   China  1999  1.260000e+09             71.2   3450.0   asia      105.0   \n",
       "\n",
       "       Latitude      eight_regions  \n",
       "10575      35.0  east_asia_pacific  \n",
       "10576      35.0  east_asia_pacific  \n",
       "10577      35.0  east_asia_pacific  \n",
       "10578      35.0  east_asia_pacific  \n",
       "10579      35.0  east_asia_pacific  \n",
       "10580      35.0  east_asia_pacific  \n",
       "10581      35.0  east_asia_pacific  \n",
       "10582      35.0  east_asia_pacific  \n",
       "10583      35.0  east_asia_pacific  \n",
       "10584      35.0  east_asia_pacific  "
      ]
     },
     "execution_count": 3,
     "metadata": {},
     "output_type": "execute_result"
    }
   ],
   "source": [
    "gapminder_df.query(' Year >= 1990 & Year <= 2020 & Country == \"China\"').head(10)\n"
   ]
  },
  {
   "cell_type": "markdown",
   "id": "88592564-5286-4348-b7d0-37e91410eeab",
   "metadata": {},
   "source": [
    "## Plot World Poster"
   ]
  },
  {
   "cell_type": "code",
   "execution_count": 4,
   "id": "d9e21ab9",
   "metadata": {},
   "outputs": [
    {
     "data": {
      "application/vnd.plotly.v1+json": {
       "config": {
        "plotlyServerURL": "https://plot.ly"
       },
       "data": [
        {
         "hovertemplate": "GDPpcap=%{x}<br>Life Expectancy=%{y}<extra></extra>",
         "legendgroup": "",
         "marker": {
          "color": "#636efa",
          "symbol": "circle"
         },
         "mode": "markers",
         "name": "",
         "orientation": "v",
         "showlegend": false,
         "type": "scatter",
         "x": [
          2080,
          13700,
          11600,
          56300,
          6600,
          22900,
          22000,
          14300,
          49600,
          56100,
          14400,
          33400,
          49800,
          5470,
          16000,
          19300,
          51600,
          8860,
          3160,
          11800,
          8530,
          14900,
          15100,
          14700,
          61400,
          23300,
          2110,
          730,
          4460,
          3770,
          49000,
          7920,
          861,
          1560,
          24900,
          16000,
          14600,
          3290,
          1060,
          3580,
          20800,
          5180,
          29300,
          9450,
          40100,
          41000,
          56000,
          4780,
          12400,
          18200,
          11000,
          11800,
          8970,
          16000,
          1760,
          36600,
          2180,
          13200,
          48700,
          46000,
          14500,
          2060,
          14900,
          53700,
          5360,
          29600,
          15400,
          8670,
          2550,
          1770,
          12800,
          3110,
          5610,
          59600,
          32700,
          56000,
          6570,
          11900,
          14100,
          10300,
          85400,
          41200,
          42200,
          10200,
          41400,
          9350,
          26600,
          4600,
          1930,
          45400,
          5280,
          7840,
          30700,
          17200,
          2490,
          1460,
          19700,
          37100,
          112000,
          1590,
          1520,
          27600,
          21000,
          2220,
          45400,
          5710,
          5570,
          23700,
          20000,
          3340,
          12700,
          206000,
          12500,
          21500,
          8210,
          1280,
          5110,
          10000,
          10400,
          3920,
          56100,
          43400,
          5400,
          1220,
          5080,
          1910,
          65000,
          33800,
          5160,
          17500,
          6250,
          32800,
          3980,
          13600,
          12800,
          8730,
          33100,
          35000,
          90700,
          30000,
          27300,
          2190,
          6350,
          60100,
          4030,
          46100,
          3430,
          18300,
          31700,
          1660,
          97700,
          32100,
          39000,
          2540,
          1210,
          13800,
          42700,
          426,
          40400,
          13500,
          31100,
          15500,
          14200,
          4130,
          18400,
          52500,
          69000,
          3650,
          51300,
          3580,
          2580,
          18000,
          3740,
          2070,
          6340,
          25700,
          11100,
          28200,
          15800,
          4830,
          71500,
          46300,
          62200,
          2250,
          12800,
          23800,
          7400,
          3140,
          7800,
          10300,
          2000,
          3320,
          2200
         ],
         "xaxis": "x",
         "y": [
          63.3,
          78.5,
          76.2,
          82.2,
          65.1,
          76.3,
          76.6,
          75.7,
          82.9,
          82.2,
          71,
          73.4,
          77,
          74.5,
          76.2,
          74,
          81.4,
          74.5,
          64.5,
          73.2,
          72,
          77,
          62.3,
          75.8,
          74.4,
          73.3,
          61.7,
          63.8,
          69.9,
          63.4,
          82.2,
          73.7,
          52.4,
          60.4,
          80.2,
          77.6,
          80.2,
          68.7,
          65,
          65.4,
          80.1,
          64.3,
          78.7,
          78.7,
          80.8,
          79.5,
          81.1,
          66.8,
          72.3,
          73.2,
          76.4,
          71,
          75.7,
          66,
          63.8,
          78,
          68.8,
          68.4,
          81.9,
          82.9,
          67.8,
          66.7,
          73.4,
          81.2,
          66.3,
          80.9,
          73.3,
          72.6,
          61.2,
          61,
          67.3,
          63.8,
          72.1,
          85.3,
          76.6,
          84.1,
          70.8,
          71.4,
          77.8,
          73.3,
          82,
          83,
          83.1,
          76.3,
          84.8,
          78.2,
          71.9,
          66.5,
          60.8,
          81.5,
          73.4,
          69,
          75.9,
          76.6,
          51.8,
          66.1,
          75.9,
          76.2,
          82.9,
          65.5,
          64.7,
          75,
          79.1,
          61.8,
          82.6,
          65.5,
          70.8,
          75.5,
          75.6,
          64.1,
          74.3,
          80.1,
          68.1,
          75.9,
          73.3,
          58.4,
          69.5,
          65.2,
          63.4,
          71.1,
          81.7,
          81.8,
          75.4,
          62.5,
          64.3,
          73.2,
          82.9,
          74,
          65.9,
          67.5,
          74.8,
          80,
          64.7,
          76.6,
          80.3,
          71.8,
          78.1,
          81.7,
          76.3,
          75.5,
          73,
          68.7,
          70.5,
          82.2,
          70.9,
          74.5,
          68.5,
          75.7,
          73.6,
          61.8,
          84.8,
          77.6,
          81.4,
          59.2,
          58.5,
          65.1,
          82.9,
          63.7,
          83.1,
          77.3,
          72.1,
          75.1,
          73,
          70.5,
          72.7,
          82.8,
          84,
          73.9,
          80.3,
          69.6,
          67.2,
          78.4,
          70.6,
          65,
          73,
          74.9,
          77.7,
          78.4,
          70.8,
          67.9,
          73.9,
          81.1,
          78.9,
          66.2,
          73.8,
          77.5,
          68.4,
          65.5,
          75,
          74.5,
          67.7,
          63.2,
          61
         ],
         "yaxis": "y"
        }
       ],
       "layout": {
        "legend": {
         "tracegroupgap": 0
        },
        "margin": {
         "t": 60
        },
        "template": {
         "data": {
          "bar": [
           {
            "error_x": {
             "color": "#2a3f5f"
            },
            "error_y": {
             "color": "#2a3f5f"
            },
            "marker": {
             "line": {
              "color": "#E5ECF6",
              "width": 0.5
             },
             "pattern": {
              "fillmode": "overlay",
              "size": 10,
              "solidity": 0.2
             }
            },
            "type": "bar"
           }
          ],
          "barpolar": [
           {
            "marker": {
             "line": {
              "color": "#E5ECF6",
              "width": 0.5
             },
             "pattern": {
              "fillmode": "overlay",
              "size": 10,
              "solidity": 0.2
             }
            },
            "type": "barpolar"
           }
          ],
          "carpet": [
           {
            "aaxis": {
             "endlinecolor": "#2a3f5f",
             "gridcolor": "white",
             "linecolor": "white",
             "minorgridcolor": "white",
             "startlinecolor": "#2a3f5f"
            },
            "baxis": {
             "endlinecolor": "#2a3f5f",
             "gridcolor": "white",
             "linecolor": "white",
             "minorgridcolor": "white",
             "startlinecolor": "#2a3f5f"
            },
            "type": "carpet"
           }
          ],
          "choropleth": [
           {
            "colorbar": {
             "outlinewidth": 0,
             "ticks": ""
            },
            "type": "choropleth"
           }
          ],
          "contour": [
           {
            "colorbar": {
             "outlinewidth": 0,
             "ticks": ""
            },
            "colorscale": [
             [
              0,
              "#0d0887"
             ],
             [
              0.1111111111111111,
              "#46039f"
             ],
             [
              0.2222222222222222,
              "#7201a8"
             ],
             [
              0.3333333333333333,
              "#9c179e"
             ],
             [
              0.4444444444444444,
              "#bd3786"
             ],
             [
              0.5555555555555556,
              "#d8576b"
             ],
             [
              0.6666666666666666,
              "#ed7953"
             ],
             [
              0.7777777777777778,
              "#fb9f3a"
             ],
             [
              0.8888888888888888,
              "#fdca26"
             ],
             [
              1,
              "#f0f921"
             ]
            ],
            "type": "contour"
           }
          ],
          "contourcarpet": [
           {
            "colorbar": {
             "outlinewidth": 0,
             "ticks": ""
            },
            "type": "contourcarpet"
           }
          ],
          "heatmap": [
           {
            "colorbar": {
             "outlinewidth": 0,
             "ticks": ""
            },
            "colorscale": [
             [
              0,
              "#0d0887"
             ],
             [
              0.1111111111111111,
              "#46039f"
             ],
             [
              0.2222222222222222,
              "#7201a8"
             ],
             [
              0.3333333333333333,
              "#9c179e"
             ],
             [
              0.4444444444444444,
              "#bd3786"
             ],
             [
              0.5555555555555556,
              "#d8576b"
             ],
             [
              0.6666666666666666,
              "#ed7953"
             ],
             [
              0.7777777777777778,
              "#fb9f3a"
             ],
             [
              0.8888888888888888,
              "#fdca26"
             ],
             [
              1,
              "#f0f921"
             ]
            ],
            "type": "heatmap"
           }
          ],
          "heatmapgl": [
           {
            "colorbar": {
             "outlinewidth": 0,
             "ticks": ""
            },
            "colorscale": [
             [
              0,
              "#0d0887"
             ],
             [
              0.1111111111111111,
              "#46039f"
             ],
             [
              0.2222222222222222,
              "#7201a8"
             ],
             [
              0.3333333333333333,
              "#9c179e"
             ],
             [
              0.4444444444444444,
              "#bd3786"
             ],
             [
              0.5555555555555556,
              "#d8576b"
             ],
             [
              0.6666666666666666,
              "#ed7953"
             ],
             [
              0.7777777777777778,
              "#fb9f3a"
             ],
             [
              0.8888888888888888,
              "#fdca26"
             ],
             [
              1,
              "#f0f921"
             ]
            ],
            "type": "heatmapgl"
           }
          ],
          "histogram": [
           {
            "marker": {
             "pattern": {
              "fillmode": "overlay",
              "size": 10,
              "solidity": 0.2
             }
            },
            "type": "histogram"
           }
          ],
          "histogram2d": [
           {
            "colorbar": {
             "outlinewidth": 0,
             "ticks": ""
            },
            "colorscale": [
             [
              0,
              "#0d0887"
             ],
             [
              0.1111111111111111,
              "#46039f"
             ],
             [
              0.2222222222222222,
              "#7201a8"
             ],
             [
              0.3333333333333333,
              "#9c179e"
             ],
             [
              0.4444444444444444,
              "#bd3786"
             ],
             [
              0.5555555555555556,
              "#d8576b"
             ],
             [
              0.6666666666666666,
              "#ed7953"
             ],
             [
              0.7777777777777778,
              "#fb9f3a"
             ],
             [
              0.8888888888888888,
              "#fdca26"
             ],
             [
              1,
              "#f0f921"
             ]
            ],
            "type": "histogram2d"
           }
          ],
          "histogram2dcontour": [
           {
            "colorbar": {
             "outlinewidth": 0,
             "ticks": ""
            },
            "colorscale": [
             [
              0,
              "#0d0887"
             ],
             [
              0.1111111111111111,
              "#46039f"
             ],
             [
              0.2222222222222222,
              "#7201a8"
             ],
             [
              0.3333333333333333,
              "#9c179e"
             ],
             [
              0.4444444444444444,
              "#bd3786"
             ],
             [
              0.5555555555555556,
              "#d8576b"
             ],
             [
              0.6666666666666666,
              "#ed7953"
             ],
             [
              0.7777777777777778,
              "#fb9f3a"
             ],
             [
              0.8888888888888888,
              "#fdca26"
             ],
             [
              1,
              "#f0f921"
             ]
            ],
            "type": "histogram2dcontour"
           }
          ],
          "mesh3d": [
           {
            "colorbar": {
             "outlinewidth": 0,
             "ticks": ""
            },
            "type": "mesh3d"
           }
          ],
          "parcoords": [
           {
            "line": {
             "colorbar": {
              "outlinewidth": 0,
              "ticks": ""
             }
            },
            "type": "parcoords"
           }
          ],
          "pie": [
           {
            "automargin": true,
            "type": "pie"
           }
          ],
          "scatter": [
           {
            "fillpattern": {
             "fillmode": "overlay",
             "size": 10,
             "solidity": 0.2
            },
            "type": "scatter"
           }
          ],
          "scatter3d": [
           {
            "line": {
             "colorbar": {
              "outlinewidth": 0,
              "ticks": ""
             }
            },
            "marker": {
             "colorbar": {
              "outlinewidth": 0,
              "ticks": ""
             }
            },
            "type": "scatter3d"
           }
          ],
          "scattercarpet": [
           {
            "marker": {
             "colorbar": {
              "outlinewidth": 0,
              "ticks": ""
             }
            },
            "type": "scattercarpet"
           }
          ],
          "scattergeo": [
           {
            "marker": {
             "colorbar": {
              "outlinewidth": 0,
              "ticks": ""
             }
            },
            "type": "scattergeo"
           }
          ],
          "scattergl": [
           {
            "marker": {
             "colorbar": {
              "outlinewidth": 0,
              "ticks": ""
             }
            },
            "type": "scattergl"
           }
          ],
          "scattermapbox": [
           {
            "marker": {
             "colorbar": {
              "outlinewidth": 0,
              "ticks": ""
             }
            },
            "type": "scattermapbox"
           }
          ],
          "scatterpolar": [
           {
            "marker": {
             "colorbar": {
              "outlinewidth": 0,
              "ticks": ""
             }
            },
            "type": "scatterpolar"
           }
          ],
          "scatterpolargl": [
           {
            "marker": {
             "colorbar": {
              "outlinewidth": 0,
              "ticks": ""
             }
            },
            "type": "scatterpolargl"
           }
          ],
          "scatterternary": [
           {
            "marker": {
             "colorbar": {
              "outlinewidth": 0,
              "ticks": ""
             }
            },
            "type": "scatterternary"
           }
          ],
          "surface": [
           {
            "colorbar": {
             "outlinewidth": 0,
             "ticks": ""
            },
            "colorscale": [
             [
              0,
              "#0d0887"
             ],
             [
              0.1111111111111111,
              "#46039f"
             ],
             [
              0.2222222222222222,
              "#7201a8"
             ],
             [
              0.3333333333333333,
              "#9c179e"
             ],
             [
              0.4444444444444444,
              "#bd3786"
             ],
             [
              0.5555555555555556,
              "#d8576b"
             ],
             [
              0.6666666666666666,
              "#ed7953"
             ],
             [
              0.7777777777777778,
              "#fb9f3a"
             ],
             [
              0.8888888888888888,
              "#fdca26"
             ],
             [
              1,
              "#f0f921"
             ]
            ],
            "type": "surface"
           }
          ],
          "table": [
           {
            "cells": {
             "fill": {
              "color": "#EBF0F8"
             },
             "line": {
              "color": "white"
             }
            },
            "header": {
             "fill": {
              "color": "#C8D4E3"
             },
             "line": {
              "color": "white"
             }
            },
            "type": "table"
           }
          ]
         },
         "layout": {
          "annotationdefaults": {
           "arrowcolor": "#2a3f5f",
           "arrowhead": 0,
           "arrowwidth": 1
          },
          "autotypenumbers": "strict",
          "coloraxis": {
           "colorbar": {
            "outlinewidth": 0,
            "ticks": ""
           }
          },
          "colorscale": {
           "diverging": [
            [
             0,
             "#8e0152"
            ],
            [
             0.1,
             "#c51b7d"
            ],
            [
             0.2,
             "#de77ae"
            ],
            [
             0.3,
             "#f1b6da"
            ],
            [
             0.4,
             "#fde0ef"
            ],
            [
             0.5,
             "#f7f7f7"
            ],
            [
             0.6,
             "#e6f5d0"
            ],
            [
             0.7,
             "#b8e186"
            ],
            [
             0.8,
             "#7fbc41"
            ],
            [
             0.9,
             "#4d9221"
            ],
            [
             1,
             "#276419"
            ]
           ],
           "sequential": [
            [
             0,
             "#0d0887"
            ],
            [
             0.1111111111111111,
             "#46039f"
            ],
            [
             0.2222222222222222,
             "#7201a8"
            ],
            [
             0.3333333333333333,
             "#9c179e"
            ],
            [
             0.4444444444444444,
             "#bd3786"
            ],
            [
             0.5555555555555556,
             "#d8576b"
            ],
            [
             0.6666666666666666,
             "#ed7953"
            ],
            [
             0.7777777777777778,
             "#fb9f3a"
            ],
            [
             0.8888888888888888,
             "#fdca26"
            ],
            [
             1,
             "#f0f921"
            ]
           ],
           "sequentialminus": [
            [
             0,
             "#0d0887"
            ],
            [
             0.1111111111111111,
             "#46039f"
            ],
            [
             0.2222222222222222,
             "#7201a8"
            ],
            [
             0.3333333333333333,
             "#9c179e"
            ],
            [
             0.4444444444444444,
             "#bd3786"
            ],
            [
             0.5555555555555556,
             "#d8576b"
            ],
            [
             0.6666666666666666,
             "#ed7953"
            ],
            [
             0.7777777777777778,
             "#fb9f3a"
            ],
            [
             0.8888888888888888,
             "#fdca26"
            ],
            [
             1,
             "#f0f921"
            ]
           ]
          },
          "colorway": [
           "#636efa",
           "#EF553B",
           "#00cc96",
           "#ab63fa",
           "#FFA15A",
           "#19d3f3",
           "#FF6692",
           "#B6E880",
           "#FF97FF",
           "#FECB52"
          ],
          "font": {
           "color": "#2a3f5f"
          },
          "geo": {
           "bgcolor": "white",
           "lakecolor": "white",
           "landcolor": "#E5ECF6",
           "showlakes": true,
           "showland": true,
           "subunitcolor": "white"
          },
          "hoverlabel": {
           "align": "left"
          },
          "hovermode": "closest",
          "mapbox": {
           "style": "light"
          },
          "paper_bgcolor": "white",
          "plot_bgcolor": "#E5ECF6",
          "polar": {
           "angularaxis": {
            "gridcolor": "white",
            "linecolor": "white",
            "ticks": ""
           },
           "bgcolor": "#E5ECF6",
           "radialaxis": {
            "gridcolor": "white",
            "linecolor": "white",
            "ticks": ""
           }
          },
          "scene": {
           "xaxis": {
            "backgroundcolor": "#E5ECF6",
            "gridcolor": "white",
            "gridwidth": 2,
            "linecolor": "white",
            "showbackground": true,
            "ticks": "",
            "zerolinecolor": "white"
           },
           "yaxis": {
            "backgroundcolor": "#E5ECF6",
            "gridcolor": "white",
            "gridwidth": 2,
            "linecolor": "white",
            "showbackground": true,
            "ticks": "",
            "zerolinecolor": "white"
           },
           "zaxis": {
            "backgroundcolor": "#E5ECF6",
            "gridcolor": "white",
            "gridwidth": 2,
            "linecolor": "white",
            "showbackground": true,
            "ticks": "",
            "zerolinecolor": "white"
           }
          },
          "shapedefaults": {
           "line": {
            "color": "#2a3f5f"
           }
          },
          "ternary": {
           "aaxis": {
            "gridcolor": "white",
            "linecolor": "white",
            "ticks": ""
           },
           "baxis": {
            "gridcolor": "white",
            "linecolor": "white",
            "ticks": ""
           },
           "bgcolor": "#E5ECF6",
           "caxis": {
            "gridcolor": "white",
            "linecolor": "white",
            "ticks": ""
           }
          },
          "title": {
           "x": 0.05
          },
          "xaxis": {
           "automargin": true,
           "gridcolor": "white",
           "linecolor": "white",
           "ticks": "",
           "title": {
            "standoff": 15
           },
           "zerolinecolor": "white",
           "zerolinewidth": 2
          },
          "yaxis": {
           "automargin": true,
           "gridcolor": "white",
           "linecolor": "white",
           "ticks": "",
           "title": {
            "standoff": 15
           },
           "zerolinecolor": "white",
           "zerolinewidth": 2
          }
         }
        },
        "xaxis": {
         "anchor": "y",
         "domain": [
          0,
          1
         ],
         "title": {
          "text": "GDPpcap"
         }
        },
        "yaxis": {
         "anchor": "x",
         "domain": [
          0,
          1
         ],
         "title": {
          "text": "Life Expectancy"
         }
        }
       }
      }
     },
     "metadata": {},
     "output_type": "display_data"
    }
   ],
   "source": [
    "gwp_2019 = gapminder_df.query('Year == 2019' )\n",
    "\n",
    "fig = px.scatter(\n",
    "    gwp_2019,\n",
    "    x='GDPpcap',\n",
    "    y='Life Expectancy'\n",
    "   )\n",
    "\n",
    "fig.show()"
   ]
  },
  {
   "cell_type": "code",
   "execution_count": 5,
   "id": "bb45e0fc",
   "metadata": {
    "vscode": {
     "languageId": "javascript"
    }
   },
   "outputs": [
    {
     "data": {
      "application/vnd.plotly.v1+json": {
       "config": {
        "plotlyServerURL": "https://plot.ly"
       },
       "data": [
        {
         "hovertemplate": "region=asia<br>GDP per Capita (USD)=%{x}<br>Life Expectancy (Years)=%{y}<br>Population (Millions)=%{marker.size}<extra></extra>",
         "legendgroup": "asia",
         "marker": {
          "color": "#636efa",
          "size": [
           37900000,
           25500000,
           1490000,
           165000000,
           765000,
           443000,
           16500000,
           1420000000,
           915000,
           7490000,
           1390000000,
           272000000,
           87100000,
           41200000,
           8660000,
           127000000,
           10700000,
           19200000,
           124000,
           4440000,
           6490000,
           7240000,
           5790000,
           33400000,
           488000,
           44000,
           110000,
           3230000,
           52600000,
           11600,
           28400000,
           4990000,
           26000000,
           4590000,
           231000000,
           17800,
           4960000,
           9610000,
           111000000,
           2800000,
           210000,
           30500000,
           5670000,
           728000,
           51800000,
           22400000,
           20400000,
           23700000,
           9530000,
           71500000,
           1300000,
           106000,
           6800000,
           10600,
           9380000,
           33000000,
           292000,
           97200000,
           35100000
          ],
          "sizemode": "area",
          "sizeref": 394444.44444444444,
          "symbol": "circle"
         },
         "mode": "markers",
         "name": "asia",
         "orientation": "v",
         "showlegend": true,
         "type": "scatter",
         "x": [
          2080,
          49600,
          49800,
          5470,
          11800,
          61400,
          4460,
          16000,
          13200,
          59600,
          6570,
          11900,
          14100,
          10300,
          41200,
          41400,
          9350,
          26600,
          1930,
          45400,
          5280,
          7840,
          17200,
          27600,
          21000,
          5710,
          3340,
          12500,
          5110,
          10400,
          3920,
          43400,
          1910,
          33800,
          5160,
          17500,
          6250,
          3980,
          8730,
          90700,
          6350,
          46100,
          97700,
          2540,
          42700,
          13500,
          3650,
          51300,
          3580,
          18000,
          3740,
          6340,
          15800,
          4830,
          71500,
          7400,
          3140,
          10300,
          2000
         ],
         "xaxis": "x",
         "y": [
          63.3,
          82.9,
          77,
          74.5,
          73.2,
          74.4,
          69.9,
          77.6,
          68.4,
          85.3,
          70.8,
          71.4,
          77.8,
          73.3,
          83,
          84.8,
          78.2,
          71.9,
          60.8,
          81.5,
          73.4,
          69,
          76.6,
          75,
          79.1,
          65.5,
          64.1,
          68.1,
          69.5,
          63.4,
          71.1,
          81.8,
          73.2,
          74,
          65.9,
          67.5,
          74.8,
          64.7,
          71.8,
          76.3,
          70.5,
          74.5,
          84.8,
          59.2,
          82.9,
          77.3,
          73.9,
          80.3,
          69.6,
          78.4,
          70.6,
          73,
          70.8,
          67.9,
          73.9,
          68.4,
          65.5,
          74.5,
          67.7
         ],
         "yaxis": "y"
        },
        {
         "hovertemplate": "region=europe<br>GDP per Capita (USD)=%{x}<br>Life Expectancy (Years)=%{y}<br>Population (Millions)=%{marker.size}<extra></extra>",
         "legendgroup": "europe",
         "marker": {
          "color": "#EF553B",
          "size": [
           2890000,
           76500,
           2900000,
           8880000,
           10100000,
           9440000,
           11500000,
           3350000,
           6980000,
           3990000,
           1290000,
           10600000,
           5810000,
           1330000,
           5520000,
           65700000,
           3800000,
           83600000,
           10700000,
           9770000,
           361000,
           4930000,
           60100000,
           1910000,
           2800000,
           620000,
           504000,
           3110000,
           38100,
           612000,
           17500000,
           5350000,
           38200000,
           10300000,
           19500000,
           147000000,
           34700,
           6970000,
           5450000,
           2080000,
           47400000,
           10300000,
           8580000,
           85400000,
           67100000,
           45000000
          ],
          "sizemode": "area",
          "sizeref": 394444.44444444444,
          "symbol": "circle"
         },
         "mode": "markers",
         "name": "europe",
         "orientation": "v",
         "showlegend": true,
         "type": "scatter",
         "x": [
          13700,
          56300,
          14300,
          56100,
          14400,
          19300,
          51600,
          14900,
          23300,
          29300,
          40100,
          41000,
          56000,
          36600,
          48700,
          46000,
          14900,
          53700,
          29600,
          32700,
          56000,
          85400,
          42200,
          30700,
          37100,
          112000,
          45400,
          12700,
          206000,
          21500,
          56100,
          65000,
          33100,
          35000,
          30000,
          27300,
          60100,
          18300,
          32100,
          39000,
          40400,
          52500,
          69000,
          28200,
          46300,
          12800
         ],
         "xaxis": "x",
         "y": [
          78.5,
          82.2,
          75.7,
          82.2,
          71,
          74,
          81.4,
          77,
          73.3,
          78.7,
          80.8,
          79.5,
          81.1,
          78,
          81.9,
          82.9,
          73.4,
          81.2,
          80.9,
          76.6,
          84.1,
          82,
          83.1,
          75.9,
          76.2,
          82.9,
          82.6,
          74.3,
          80.1,
          75.9,
          81.7,
          82.9,
          78.1,
          81.7,
          75.5,
          73,
          82.2,
          75.7,
          77.6,
          81.4,
          83.1,
          82.8,
          84,
          78.4,
          81.1,
          73.8
         ],
         "yaxis": "y"
        },
        {
         "hovertemplate": "region=africa<br>GDP per Capita (USD)=%{x}<br>Life Expectancy (Years)=%{y}<br>Population (Millions)=%{marker.size}<extra></extra>",
         "legendgroup": "africa",
         "marker": {
          "color": "#00cc96",
          "size": [
           43300000,
           32400000,
           12700000,
           2330000,
           21000000,
           12300000,
           25500000,
           514000,
           4940000,
           16700000,
           787000,
           92900000,
           5620000,
           28200000,
           1090000,
           108000000,
           1670000,
           3240000,
           116000000,
           2270000,
           2460000,
           31300000,
           13000000,
           1970000,
           51200000,
           2210000,
           5040000,
           6950000,
           28200000,
           19000000,
           21100000,
           4470000,
           1290000,
           36200000,
           29900000,
           2650000,
           22900000,
           209000000,
           12800000,
           213000,
           16400000,
           118000,
           7730000,
           16000000,
           59600000,
           10400000,
           45500000,
           59200000,
           8460000,
           11900000,
           43000000,
           18500000,
           15300000
          ],
          "sizemode": "area",
          "sizeref": 394444.44444444444,
          "symbol": "circle"
         },
         "mode": "markers",
         "name": "africa",
         "orientation": "v",
         "showlegend": true,
         "type": "scatter",
         "x": [
          11600,
          6600,
          3160,
          15100,
          2110,
          730,
          3770,
          7920,
          861,
          1560,
          3290,
          1060,
          3580,
          5180,
          4780,
          11800,
          16000,
          1760,
          2180,
          14500,
          2060,
          5360,
          2550,
          1770,
          4600,
          2490,
          1460,
          19700,
          1590,
          1520,
          2220,
          5570,
          23700,
          8210,
          1280,
          10000,
          1220,
          5080,
          2190,
          4030,
          3430,
          31700,
          1660,
          1210,
          13800,
          426,
          4130,
          2580,
          2070,
          11100,
          2250,
          3320,
          2200
         ],
         "xaxis": "x",
         "y": [
          76.2,
          65.1,
          64.5,
          62.3,
          61.7,
          63.8,
          63.4,
          73.7,
          52.4,
          60.4,
          68.7,
          65,
          65.4,
          64.3,
          66.8,
          71,
          66,
          63.8,
          68.8,
          67.8,
          66.7,
          66.3,
          61.2,
          61,
          66.5,
          51.8,
          66.1,
          75.9,
          65.5,
          64.7,
          61.8,
          70.8,
          75.5,
          73.3,
          58.4,
          65.2,
          62.5,
          64.3,
          68.7,
          70.9,
          68.5,
          73.6,
          61.8,
          58.5,
          65.1,
          63.7,
          70.5,
          67.2,
          65,
          77.7,
          66.2,
          63.2,
          61
         ],
         "yaxis": "y"
        },
        {
         "hovertemplate": "region=americas<br>GDP per Capita (USD)=%{x}<br>Life Expectancy (Years)=%{y}<br>Population (Millions)=%{marker.size}<extra></extra>",
         "legendgroup": "americas",
         "marker": {
          "color": "#ab63fa",
          "size": [
           91400,
           45000000,
           395000,
           281000,
           386000,
           11700000,
           207000000,
           37800000,
           19200000,
           49900000,
           5000000,
           11200000,
           67900,
           10900000,
           17300000,
           6220000,
           116000,
           17100000,
           808000,
           11100000,
           9940000,
           2820000,
           126000000,
           6480000,
           4230000,
           6520000,
           32400000,
           47000,
           178000,
           104000,
           606000,
           1480000,
           338000000,
           3400000,
           28900000
          ],
          "sizemode": "area",
          "sizeref": 394444.44444444444,
          "symbol": "circle"
         },
         "mode": "markers",
         "name": "americas",
         "orientation": "v",
         "showlegend": true,
         "type": "scatter",
         "x": [
          22900,
          22000,
          33400,
          16000,
          8860,
          8530,
          14700,
          49000,
          24900,
          14600,
          20800,
          9450,
          12400,
          18200,
          11000,
          8970,
          15400,
          8670,
          12800,
          3110,
          5610,
          10200,
          20000,
          5400,
          32800,
          13600,
          12800,
          31100,
          15500,
          14200,
          18400,
          25700,
          62200,
          23800,
          7800
         ],
         "xaxis": "x",
         "y": [
          76.3,
          76.6,
          73.4,
          76.2,
          74.5,
          72,
          75.8,
          82.2,
          80.2,
          80.2,
          80.1,
          78.7,
          72.3,
          73.2,
          76.4,
          75.7,
          73.3,
          72.6,
          67.3,
          63.8,
          72.1,
          76.3,
          75.6,
          75.4,
          80,
          76.6,
          80.3,
          72.1,
          75.1,
          73,
          72.7,
          74.9,
          78.9,
          77.5,
          75
         ],
         "yaxis": "y"
        }
       ],
       "layout": {
        "legend": {
         "itemsizing": "constant",
         "title": {
          "text": "region"
         },
         "tracegroupgap": 0
        },
        "template": {
         "data": {
          "bar": [
           {
            "error_x": {
             "color": "#2a3f5f"
            },
            "error_y": {
             "color": "#2a3f5f"
            },
            "marker": {
             "line": {
              "color": "#E5ECF6",
              "width": 0.5
             },
             "pattern": {
              "fillmode": "overlay",
              "size": 10,
              "solidity": 0.2
             }
            },
            "type": "bar"
           }
          ],
          "barpolar": [
           {
            "marker": {
             "line": {
              "color": "#E5ECF6",
              "width": 0.5
             },
             "pattern": {
              "fillmode": "overlay",
              "size": 10,
              "solidity": 0.2
             }
            },
            "type": "barpolar"
           }
          ],
          "carpet": [
           {
            "aaxis": {
             "endlinecolor": "#2a3f5f",
             "gridcolor": "white",
             "linecolor": "white",
             "minorgridcolor": "white",
             "startlinecolor": "#2a3f5f"
            },
            "baxis": {
             "endlinecolor": "#2a3f5f",
             "gridcolor": "white",
             "linecolor": "white",
             "minorgridcolor": "white",
             "startlinecolor": "#2a3f5f"
            },
            "type": "carpet"
           }
          ],
          "choropleth": [
           {
            "colorbar": {
             "outlinewidth": 0,
             "ticks": ""
            },
            "type": "choropleth"
           }
          ],
          "contour": [
           {
            "colorbar": {
             "outlinewidth": 0,
             "ticks": ""
            },
            "colorscale": [
             [
              0,
              "#0d0887"
             ],
             [
              0.1111111111111111,
              "#46039f"
             ],
             [
              0.2222222222222222,
              "#7201a8"
             ],
             [
              0.3333333333333333,
              "#9c179e"
             ],
             [
              0.4444444444444444,
              "#bd3786"
             ],
             [
              0.5555555555555556,
              "#d8576b"
             ],
             [
              0.6666666666666666,
              "#ed7953"
             ],
             [
              0.7777777777777778,
              "#fb9f3a"
             ],
             [
              0.8888888888888888,
              "#fdca26"
             ],
             [
              1,
              "#f0f921"
             ]
            ],
            "type": "contour"
           }
          ],
          "contourcarpet": [
           {
            "colorbar": {
             "outlinewidth": 0,
             "ticks": ""
            },
            "type": "contourcarpet"
           }
          ],
          "heatmap": [
           {
            "colorbar": {
             "outlinewidth": 0,
             "ticks": ""
            },
            "colorscale": [
             [
              0,
              "#0d0887"
             ],
             [
              0.1111111111111111,
              "#46039f"
             ],
             [
              0.2222222222222222,
              "#7201a8"
             ],
             [
              0.3333333333333333,
              "#9c179e"
             ],
             [
              0.4444444444444444,
              "#bd3786"
             ],
             [
              0.5555555555555556,
              "#d8576b"
             ],
             [
              0.6666666666666666,
              "#ed7953"
             ],
             [
              0.7777777777777778,
              "#fb9f3a"
             ],
             [
              0.8888888888888888,
              "#fdca26"
             ],
             [
              1,
              "#f0f921"
             ]
            ],
            "type": "heatmap"
           }
          ],
          "heatmapgl": [
           {
            "colorbar": {
             "outlinewidth": 0,
             "ticks": ""
            },
            "colorscale": [
             [
              0,
              "#0d0887"
             ],
             [
              0.1111111111111111,
              "#46039f"
             ],
             [
              0.2222222222222222,
              "#7201a8"
             ],
             [
              0.3333333333333333,
              "#9c179e"
             ],
             [
              0.4444444444444444,
              "#bd3786"
             ],
             [
              0.5555555555555556,
              "#d8576b"
             ],
             [
              0.6666666666666666,
              "#ed7953"
             ],
             [
              0.7777777777777778,
              "#fb9f3a"
             ],
             [
              0.8888888888888888,
              "#fdca26"
             ],
             [
              1,
              "#f0f921"
             ]
            ],
            "type": "heatmapgl"
           }
          ],
          "histogram": [
           {
            "marker": {
             "pattern": {
              "fillmode": "overlay",
              "size": 10,
              "solidity": 0.2
             }
            },
            "type": "histogram"
           }
          ],
          "histogram2d": [
           {
            "colorbar": {
             "outlinewidth": 0,
             "ticks": ""
            },
            "colorscale": [
             [
              0,
              "#0d0887"
             ],
             [
              0.1111111111111111,
              "#46039f"
             ],
             [
              0.2222222222222222,
              "#7201a8"
             ],
             [
              0.3333333333333333,
              "#9c179e"
             ],
             [
              0.4444444444444444,
              "#bd3786"
             ],
             [
              0.5555555555555556,
              "#d8576b"
             ],
             [
              0.6666666666666666,
              "#ed7953"
             ],
             [
              0.7777777777777778,
              "#fb9f3a"
             ],
             [
              0.8888888888888888,
              "#fdca26"
             ],
             [
              1,
              "#f0f921"
             ]
            ],
            "type": "histogram2d"
           }
          ],
          "histogram2dcontour": [
           {
            "colorbar": {
             "outlinewidth": 0,
             "ticks": ""
            },
            "colorscale": [
             [
              0,
              "#0d0887"
             ],
             [
              0.1111111111111111,
              "#46039f"
             ],
             [
              0.2222222222222222,
              "#7201a8"
             ],
             [
              0.3333333333333333,
              "#9c179e"
             ],
             [
              0.4444444444444444,
              "#bd3786"
             ],
             [
              0.5555555555555556,
              "#d8576b"
             ],
             [
              0.6666666666666666,
              "#ed7953"
             ],
             [
              0.7777777777777778,
              "#fb9f3a"
             ],
             [
              0.8888888888888888,
              "#fdca26"
             ],
             [
              1,
              "#f0f921"
             ]
            ],
            "type": "histogram2dcontour"
           }
          ],
          "mesh3d": [
           {
            "colorbar": {
             "outlinewidth": 0,
             "ticks": ""
            },
            "type": "mesh3d"
           }
          ],
          "parcoords": [
           {
            "line": {
             "colorbar": {
              "outlinewidth": 0,
              "ticks": ""
             }
            },
            "type": "parcoords"
           }
          ],
          "pie": [
           {
            "automargin": true,
            "type": "pie"
           }
          ],
          "scatter": [
           {
            "fillpattern": {
             "fillmode": "overlay",
             "size": 10,
             "solidity": 0.2
            },
            "type": "scatter"
           }
          ],
          "scatter3d": [
           {
            "line": {
             "colorbar": {
              "outlinewidth": 0,
              "ticks": ""
             }
            },
            "marker": {
             "colorbar": {
              "outlinewidth": 0,
              "ticks": ""
             }
            },
            "type": "scatter3d"
           }
          ],
          "scattercarpet": [
           {
            "marker": {
             "colorbar": {
              "outlinewidth": 0,
              "ticks": ""
             }
            },
            "type": "scattercarpet"
           }
          ],
          "scattergeo": [
           {
            "marker": {
             "colorbar": {
              "outlinewidth": 0,
              "ticks": ""
             }
            },
            "type": "scattergeo"
           }
          ],
          "scattergl": [
           {
            "marker": {
             "colorbar": {
              "outlinewidth": 0,
              "ticks": ""
             }
            },
            "type": "scattergl"
           }
          ],
          "scattermapbox": [
           {
            "marker": {
             "colorbar": {
              "outlinewidth": 0,
              "ticks": ""
             }
            },
            "type": "scattermapbox"
           }
          ],
          "scatterpolar": [
           {
            "marker": {
             "colorbar": {
              "outlinewidth": 0,
              "ticks": ""
             }
            },
            "type": "scatterpolar"
           }
          ],
          "scatterpolargl": [
           {
            "marker": {
             "colorbar": {
              "outlinewidth": 0,
              "ticks": ""
             }
            },
            "type": "scatterpolargl"
           }
          ],
          "scatterternary": [
           {
            "marker": {
             "colorbar": {
              "outlinewidth": 0,
              "ticks": ""
             }
            },
            "type": "scatterternary"
           }
          ],
          "surface": [
           {
            "colorbar": {
             "outlinewidth": 0,
             "ticks": ""
            },
            "colorscale": [
             [
              0,
              "#0d0887"
             ],
             [
              0.1111111111111111,
              "#46039f"
             ],
             [
              0.2222222222222222,
              "#7201a8"
             ],
             [
              0.3333333333333333,
              "#9c179e"
             ],
             [
              0.4444444444444444,
              "#bd3786"
             ],
             [
              0.5555555555555556,
              "#d8576b"
             ],
             [
              0.6666666666666666,
              "#ed7953"
             ],
             [
              0.7777777777777778,
              "#fb9f3a"
             ],
             [
              0.8888888888888888,
              "#fdca26"
             ],
             [
              1,
              "#f0f921"
             ]
            ],
            "type": "surface"
           }
          ],
          "table": [
           {
            "cells": {
             "fill": {
              "color": "#EBF0F8"
             },
             "line": {
              "color": "white"
             }
            },
            "header": {
             "fill": {
              "color": "#C8D4E3"
             },
             "line": {
              "color": "white"
             }
            },
            "type": "table"
           }
          ]
         },
         "layout": {
          "annotationdefaults": {
           "arrowcolor": "#2a3f5f",
           "arrowhead": 0,
           "arrowwidth": 1
          },
          "autotypenumbers": "strict",
          "coloraxis": {
           "colorbar": {
            "outlinewidth": 0,
            "ticks": ""
           }
          },
          "colorscale": {
           "diverging": [
            [
             0,
             "#8e0152"
            ],
            [
             0.1,
             "#c51b7d"
            ],
            [
             0.2,
             "#de77ae"
            ],
            [
             0.3,
             "#f1b6da"
            ],
            [
             0.4,
             "#fde0ef"
            ],
            [
             0.5,
             "#f7f7f7"
            ],
            [
             0.6,
             "#e6f5d0"
            ],
            [
             0.7,
             "#b8e186"
            ],
            [
             0.8,
             "#7fbc41"
            ],
            [
             0.9,
             "#4d9221"
            ],
            [
             1,
             "#276419"
            ]
           ],
           "sequential": [
            [
             0,
             "#0d0887"
            ],
            [
             0.1111111111111111,
             "#46039f"
            ],
            [
             0.2222222222222222,
             "#7201a8"
            ],
            [
             0.3333333333333333,
             "#9c179e"
            ],
            [
             0.4444444444444444,
             "#bd3786"
            ],
            [
             0.5555555555555556,
             "#d8576b"
            ],
            [
             0.6666666666666666,
             "#ed7953"
            ],
            [
             0.7777777777777778,
             "#fb9f3a"
            ],
            [
             0.8888888888888888,
             "#fdca26"
            ],
            [
             1,
             "#f0f921"
            ]
           ],
           "sequentialminus": [
            [
             0,
             "#0d0887"
            ],
            [
             0.1111111111111111,
             "#46039f"
            ],
            [
             0.2222222222222222,
             "#7201a8"
            ],
            [
             0.3333333333333333,
             "#9c179e"
            ],
            [
             0.4444444444444444,
             "#bd3786"
            ],
            [
             0.5555555555555556,
             "#d8576b"
            ],
            [
             0.6666666666666666,
             "#ed7953"
            ],
            [
             0.7777777777777778,
             "#fb9f3a"
            ],
            [
             0.8888888888888888,
             "#fdca26"
            ],
            [
             1,
             "#f0f921"
            ]
           ]
          },
          "colorway": [
           "#636efa",
           "#EF553B",
           "#00cc96",
           "#ab63fa",
           "#FFA15A",
           "#19d3f3",
           "#FF6692",
           "#B6E880",
           "#FF97FF",
           "#FECB52"
          ],
          "font": {
           "color": "#2a3f5f"
          },
          "geo": {
           "bgcolor": "white",
           "lakecolor": "white",
           "landcolor": "#E5ECF6",
           "showlakes": true,
           "showland": true,
           "subunitcolor": "white"
          },
          "hoverlabel": {
           "align": "left"
          },
          "hovermode": "closest",
          "mapbox": {
           "style": "light"
          },
          "paper_bgcolor": "white",
          "plot_bgcolor": "#E5ECF6",
          "polar": {
           "angularaxis": {
            "gridcolor": "white",
            "linecolor": "white",
            "ticks": ""
           },
           "bgcolor": "#E5ECF6",
           "radialaxis": {
            "gridcolor": "white",
            "linecolor": "white",
            "ticks": ""
           }
          },
          "scene": {
           "xaxis": {
            "backgroundcolor": "#E5ECF6",
            "gridcolor": "white",
            "gridwidth": 2,
            "linecolor": "white",
            "showbackground": true,
            "ticks": "",
            "zerolinecolor": "white"
           },
           "yaxis": {
            "backgroundcolor": "#E5ECF6",
            "gridcolor": "white",
            "gridwidth": 2,
            "linecolor": "white",
            "showbackground": true,
            "ticks": "",
            "zerolinecolor": "white"
           },
           "zaxis": {
            "backgroundcolor": "#E5ECF6",
            "gridcolor": "white",
            "gridwidth": 2,
            "linecolor": "white",
            "showbackground": true,
            "ticks": "",
            "zerolinecolor": "white"
           }
          },
          "shapedefaults": {
           "line": {
            "color": "#2a3f5f"
           }
          },
          "ternary": {
           "aaxis": {
            "gridcolor": "white",
            "linecolor": "white",
            "ticks": ""
           },
           "baxis": {
            "gridcolor": "white",
            "linecolor": "white",
            "ticks": ""
           },
           "bgcolor": "#E5ECF6",
           "caxis": {
            "gridcolor": "white",
            "linecolor": "white",
            "ticks": ""
           }
          },
          "title": {
           "x": 0.05
          },
          "xaxis": {
           "automargin": true,
           "gridcolor": "white",
           "linecolor": "white",
           "ticks": "",
           "title": {
            "standoff": 15
           },
           "zerolinecolor": "white",
           "zerolinewidth": 2
          },
          "yaxis": {
           "automargin": true,
           "gridcolor": "white",
           "linecolor": "white",
           "ticks": "",
           "title": {
            "standoff": 15
           },
           "zerolinecolor": "white",
           "zerolinewidth": 2
          }
         }
        },
        "title": {
         "text": "Life Expectancy vs GDP per Capita (2019)"
        },
        "xaxis": {
         "anchor": "y",
         "domain": [
          0,
          1
         ],
         "title": {
          "text": "GDP per Capita (USD)"
         },
         "type": "log"
        },
        "yaxis": {
         "anchor": "x",
         "domain": [
          0,
          1
         ],
         "title": {
          "text": "Life Expectancy (Years)"
         }
        }
       }
      }
     },
     "metadata": {},
     "output_type": "display_data"
    }
   ],
   "source": [
    "fig = px.scatter(\n",
    "    gwp_2019,\n",
    "    x='GDPpcap',\n",
    "    y='Life Expectancy',\n",
    "    color='region',\n",
    "    size='Population',\n",
    "    log_x=True,\n",
    "    size_max = 60,\n",
    "    title='Life Expectancy vs GDP per Capita (2019)',\n",
    "    labels={\n",
    "        'GDPpcap': 'GDP per Capita (USD)',\n",
    "        'Life Expectancy': 'Life Expectancy (Years)',\n",
    "        'Population': 'Population (Millions)'\n",
    "    },\n",
    "    )\n",
    "    \n",
    "fig.show()"
   ]
  },
  {
   "cell_type": "markdown",
   "id": "d882e13d-1d5b-4055-b763-9125c5c3e117",
   "metadata": {},
   "source": [
    "## Line plot of GDP Trends\n",
    "\n",
    "Recreate this [line plot](https://www.gapminder.org/tools/#$chart-type=linechart&url=v2)"
   ]
  },
  {
   "cell_type": "code",
   "execution_count": 6,
   "id": "effe012e-7f61-4405-b7b3-98b0a14f87c8",
   "metadata": {},
   "outputs": [
    {
     "data": {
      "application/vnd.plotly.v1+json": {
       "config": {
        "plotlyServerURL": "https://plot.ly"
       },
       "data": [
        {
         "hovertemplate": "Country=China<br>Year=%{x}<br>GDP per Capita (USD)=%{y}<extra></extra>",
         "legendgroup": "China",
         "line": {
          "color": "#636efa",
          "dash": "solid"
         },
         "marker": {
          "symbol": "circle"
         },
         "mode": "lines",
         "name": "China",
         "orientation": "v",
         "showlegend": true,
         "type": "scatter",
         "x": [
          1800,
          1801,
          1802,
          1803,
          1804,
          1805,
          1806,
          1807,
          1808,
          1809,
          1810,
          1811,
          1812,
          1813,
          1814,
          1815,
          1816,
          1817,
          1818,
          1819,
          1820,
          1821,
          1822,
          1823,
          1824,
          1825,
          1826,
          1827,
          1828,
          1829,
          1830,
          1831,
          1832,
          1833,
          1834,
          1835,
          1836,
          1837,
          1838,
          1839,
          1840,
          1841,
          1842,
          1843,
          1844,
          1845,
          1846,
          1847,
          1848,
          1849,
          1850,
          1851,
          1852,
          1853,
          1854,
          1855,
          1856,
          1857,
          1858,
          1859,
          1860,
          1861,
          1862,
          1863,
          1864,
          1865,
          1866,
          1867,
          1868,
          1869,
          1870,
          1871,
          1872,
          1873,
          1874,
          1875,
          1876,
          1877,
          1878,
          1879,
          1880,
          1881,
          1882,
          1883,
          1884,
          1885,
          1886,
          1887,
          1888,
          1889,
          1890,
          1891,
          1892,
          1893,
          1894,
          1895,
          1896,
          1897,
          1898,
          1899,
          1900,
          1901,
          1902,
          1903,
          1904,
          1905,
          1906,
          1907,
          1908,
          1909,
          1910,
          1911,
          1912,
          1913,
          1914,
          1915,
          1916,
          1917,
          1918,
          1919,
          1920,
          1921,
          1922,
          1923,
          1924,
          1925,
          1926,
          1927,
          1928,
          1929,
          1930,
          1931,
          1932,
          1933,
          1934,
          1935,
          1936,
          1937,
          1938,
          1939,
          1940,
          1941,
          1942,
          1943,
          1944,
          1945,
          1946,
          1947,
          1948,
          1949,
          1950,
          1951,
          1952,
          1953,
          1954,
          1955,
          1956,
          1957,
          1958,
          1959,
          1960,
          1961,
          1962,
          1963,
          1964,
          1965,
          1966,
          1967,
          1968,
          1969,
          1970,
          1971,
          1972,
          1973,
          1974,
          1975,
          1976,
          1977,
          1978,
          1979,
          1980,
          1981,
          1982,
          1983,
          1984,
          1985,
          1986,
          1987,
          1988,
          1989,
          1990,
          1991,
          1992,
          1993,
          1994,
          1995,
          1996,
          1997,
          1998,
          1999,
          2000,
          2001,
          2002,
          2003,
          2004,
          2005,
          2006,
          2007,
          2008,
          2009,
          2010,
          2011,
          2012,
          2013,
          2014,
          2015,
          2016,
          2017,
          2018,
          2019,
          2020,
          2021,
          2022,
          2023
         ],
         "xaxis": "x",
         "y": [
          1060,
          1060,
          1050,
          1050,
          1050,
          1050,
          1040,
          1040,
          1040,
          1030,
          1030,
          1030,
          1030,
          1020,
          1020,
          1020,
          1020,
          1020,
          1010,
          1010,
          1010,
          1010,
          1000,
          997,
          993,
          989,
          985,
          981,
          976,
          972,
          968,
          969,
          969,
          969,
          970,
          970,
          970,
          971,
          971,
          971,
          972,
          973,
          974,
          975,
          976,
          977,
          978,
          979,
          980,
          981,
          982,
          987,
          992,
          996,
          1000,
          1010,
          1010,
          1020,
          1020,
          1030,
          1030,
          1040,
          1040,
          1050,
          1050,
          1060,
          1060,
          1070,
          1070,
          1080,
          1080,
          1080,
          1080,
          1070,
          1070,
          1070,
          1070,
          1070,
          1060,
          1060,
          1060,
          1060,
          1050,
          1050,
          1050,
          1050,
          1050,
          1040,
          1060,
          1080,
          1100,
          1100,
          1110,
          1110,
          1110,
          1110,
          1110,
          1110,
          1110,
          1110,
          1110,
          1110,
          1100,
          1090,
          1080,
          1080,
          1070,
          1060,
          1060,
          1050,
          1040,
          1040,
          1080,
          1130,
          1130,
          1130,
          1130,
          1130,
          1130,
          1140,
          1140,
          1140,
          1140,
          1140,
          1140,
          1140,
          1140,
          1150,
          1150,
          1150,
          1160,
          1160,
          1190,
          1060,
          1070,
          1150,
          1220,
          1180,
          1150,
          1130,
          1110,
          1070,
          1030,
          992,
          957,
          923,
          890,
          859,
          828,
          799,
          771,
          901,
          976,
          1060,
          948,
          995,
          1040,
          1030,
          1000,
          941,
          879,
          713,
          740,
          811,
          886,
          946,
          935,
          901,
          842,
          888,
          966,
          995,
          959,
          994,
          983,
          1020,
          952,
          975,
          1060,
          1100,
          1130,
          1140,
          1210,
          1280,
          1410,
          1530,
          1600,
          1720,
          1820,
          1830,
          1830,
          1920,
          2100,
          2320,
          2540,
          2750,
          2940,
          3120,
          3270,
          3450,
          3680,
          3920,
          4220,
          4570,
          4970,
          5470,
          6090,
          6880,
          7460,
          8090,
          8880,
          9680,
          10400,
          11100,
          11900,
          12600,
          13400,
          14200,
          15100,
          16000,
          16300,
          17700,
          18200,
          19200
         ],
         "yaxis": "y"
        },
        {
         "hovertemplate": "Country=Nigeria<br>Year=%{x}<br>GDP per Capita (USD)=%{y}<extra></extra>",
         "legendgroup": "Nigeria",
         "line": {
          "color": "#EF553B",
          "dash": "solid"
         },
         "marker": {
          "symbol": "circle"
         },
         "mode": "lines",
         "name": "Nigeria",
         "orientation": "v",
         "showlegend": true,
         "type": "scatter",
         "x": [
          1800,
          1801,
          1802,
          1803,
          1804,
          1805,
          1806,
          1807,
          1808,
          1809,
          1810,
          1811,
          1812,
          1813,
          1814,
          1815,
          1816,
          1817,
          1818,
          1819,
          1820,
          1821,
          1822,
          1823,
          1824,
          1825,
          1826,
          1827,
          1828,
          1829,
          1830,
          1831,
          1832,
          1833,
          1834,
          1835,
          1836,
          1837,
          1838,
          1839,
          1840,
          1841,
          1842,
          1843,
          1844,
          1845,
          1846,
          1847,
          1848,
          1849,
          1850,
          1851,
          1852,
          1853,
          1854,
          1855,
          1856,
          1857,
          1858,
          1859,
          1860,
          1861,
          1862,
          1863,
          1864,
          1865,
          1866,
          1867,
          1868,
          1869,
          1870,
          1871,
          1872,
          1873,
          1874,
          1875,
          1876,
          1877,
          1878,
          1879,
          1880,
          1881,
          1882,
          1883,
          1884,
          1885,
          1886,
          1887,
          1888,
          1889,
          1890,
          1891,
          1892,
          1893,
          1894,
          1895,
          1896,
          1897,
          1898,
          1899,
          1900,
          1901,
          1902,
          1903,
          1904,
          1905,
          1906,
          1907,
          1908,
          1909,
          1910,
          1911,
          1912,
          1913,
          1914,
          1915,
          1916,
          1917,
          1918,
          1919,
          1920,
          1921,
          1922,
          1923,
          1924,
          1925,
          1926,
          1927,
          1928,
          1929,
          1930,
          1931,
          1932,
          1933,
          1934,
          1935,
          1936,
          1937,
          1938,
          1939,
          1940,
          1941,
          1942,
          1943,
          1944,
          1945,
          1946,
          1947,
          1948,
          1949,
          1950,
          1951,
          1952,
          1953,
          1954,
          1955,
          1956,
          1957,
          1958,
          1959,
          1960,
          1961,
          1962,
          1963,
          1964,
          1965,
          1966,
          1967,
          1968,
          1969,
          1970,
          1971,
          1972,
          1973,
          1974,
          1975,
          1976,
          1977,
          1978,
          1979,
          1980,
          1981,
          1982,
          1983,
          1984,
          1985,
          1986,
          1987,
          1988,
          1989,
          1990,
          1991,
          1992,
          1993,
          1994,
          1995,
          1996,
          1997,
          1998,
          1999,
          2000,
          2001,
          2002,
          2003,
          2004,
          2005,
          2006,
          2007,
          2008,
          2009,
          2010,
          2011,
          2012,
          2013,
          2014,
          2015,
          2016,
          2017,
          2018,
          2019,
          2020,
          2021,
          2022,
          2023
         ],
         "xaxis": "x",
         "y": [
          949,
          949,
          949,
          949,
          949,
          949,
          949,
          949,
          949,
          949,
          949,
          949,
          949,
          949,
          949,
          949,
          949,
          949,
          949,
          949,
          949,
          949,
          949,
          949,
          950,
          952,
          953,
          955,
          956,
          957,
          958,
          960,
          961,
          962,
          963,
          965,
          965,
          966,
          968,
          969,
          970,
          972,
          973,
          974,
          975,
          977,
          978,
          979,
          980,
          982,
          982,
          984,
          985,
          986,
          988,
          989,
          990,
          992,
          993,
          994,
          995,
          996,
          998,
          999,
          1000,
          1000,
          1000,
          1000,
          1010,
          1010,
          1010,
          1010,
          1010,
          1010,
          1010,
          1010,
          1020,
          1020,
          1020,
          1020,
          1020,
          1020,
          1020,
          1020,
          1030,
          1030,
          1030,
          1030,
          1030,
          1030,
          1030,
          1030,
          1040,
          1040,
          1040,
          1040,
          1040,
          1040,
          1040,
          1050,
          1050,
          1050,
          1050,
          1050,
          1050,
          1050,
          1050,
          1060,
          1060,
          1060,
          1060,
          1060,
          1060,
          1070,
          1080,
          1100,
          1110,
          1130,
          1150,
          1160,
          1180,
          1190,
          1200,
          1210,
          1210,
          1220,
          1230,
          1240,
          1240,
          1250,
          1260,
          1270,
          1270,
          1280,
          1290,
          1290,
          1300,
          1310,
          1310,
          1320,
          1320,
          1340,
          1360,
          1380,
          1390,
          1410,
          1430,
          1450,
          1460,
          1480,
          1500,
          1590,
          1680,
          1690,
          1780,
          1790,
          1720,
          1750,
          1720,
          1770,
          1900,
          1890,
          1950,
          2090,
          2130,
          2150,
          2020,
          1670,
          1630,
          1970,
          2420,
          2680,
          2770,
          2920,
          3180,
          3070,
          3280,
          3400,
          3180,
          3160,
          3150,
          2960,
          2770,
          2480,
          2380,
          2500,
          2460,
          2460,
          2610,
          2640,
          2850,
          2810,
          2890,
          2820,
          2740,
          2710,
          2780,
          2810,
          2830,
          2800,
          2880,
          3000,
          3380,
          3550,
          3790,
          3940,
          4080,
          4240,
          4400,
          4630,
          4860,
          4980,
          5050,
          5240,
          5420,
          5430,
          5210,
          5120,
          5090,
          5080,
          4870,
          4920,
          4960,
          4990
         ],
         "yaxis": "y"
        },
        {
         "hovertemplate": "Country=Russia<br>Year=%{x}<br>GDP per Capita (USD)=%{y}<extra></extra>",
         "legendgroup": "Russia",
         "line": {
          "color": "#00cc96",
          "dash": "solid"
         },
         "marker": {
          "symbol": "circle"
         },
         "mode": "lines",
         "name": "Russia",
         "orientation": "v",
         "showlegend": true,
         "type": "scatter",
         "x": [
          1800,
          1801,
          1802,
          1803,
          1804,
          1805,
          1806,
          1807,
          1808,
          1809,
          1810,
          1811,
          1812,
          1813,
          1814,
          1815,
          1816,
          1817,
          1818,
          1819,
          1820,
          1821,
          1822,
          1823,
          1824,
          1825,
          1826,
          1827,
          1828,
          1829,
          1830,
          1831,
          1832,
          1833,
          1834,
          1835,
          1836,
          1837,
          1838,
          1839,
          1840,
          1841,
          1842,
          1843,
          1844,
          1845,
          1846,
          1847,
          1848,
          1849,
          1850,
          1851,
          1852,
          1853,
          1854,
          1855,
          1856,
          1857,
          1858,
          1859,
          1860,
          1861,
          1862,
          1863,
          1864,
          1865,
          1866,
          1867,
          1868,
          1869,
          1870,
          1871,
          1872,
          1873,
          1874,
          1875,
          1876,
          1877,
          1878,
          1879,
          1880,
          1881,
          1882,
          1883,
          1884,
          1885,
          1886,
          1887,
          1888,
          1889,
          1890,
          1891,
          1892,
          1893,
          1894,
          1895,
          1896,
          1897,
          1898,
          1899,
          1900,
          1901,
          1902,
          1903,
          1904,
          1905,
          1906,
          1907,
          1908,
          1909,
          1910,
          1911,
          1912,
          1913,
          1914,
          1915,
          1916,
          1917,
          1918,
          1919,
          1920,
          1921,
          1922,
          1923,
          1924,
          1925,
          1926,
          1927,
          1928,
          1929,
          1930,
          1931,
          1932,
          1933,
          1934,
          1935,
          1936,
          1937,
          1938,
          1939,
          1940,
          1941,
          1942,
          1943,
          1944,
          1945,
          1946,
          1947,
          1948,
          1949,
          1950,
          1951,
          1952,
          1953,
          1954,
          1955,
          1956,
          1957,
          1958,
          1959,
          1960,
          1961,
          1962,
          1963,
          1964,
          1965,
          1966,
          1967,
          1968,
          1969,
          1970,
          1971,
          1972,
          1973,
          1974,
          1975,
          1976,
          1977,
          1978,
          1979,
          1980,
          1981,
          1982,
          1983,
          1984,
          1985,
          1986,
          1987,
          1988,
          1989,
          1990,
          1991,
          1992,
          1993,
          1994,
          1995,
          1996,
          1997,
          1998,
          1999,
          2000,
          2001,
          2002,
          2003,
          2004,
          2005,
          2006,
          2007,
          2008,
          2009,
          2010,
          2011,
          2012,
          2013,
          2014,
          2015,
          2016,
          2017,
          2018,
          2019,
          2020,
          2021,
          2022,
          2023
         ],
         "xaxis": "x",
         "y": [
          1600,
          1600,
          1600,
          1600,
          1600,
          1600,
          1600,
          1600,
          1600,
          1600,
          1600,
          1600,
          1600,
          1600,
          1600,
          1600,
          1600,
          1600,
          1600,
          1600,
          1600,
          1600,
          1600,
          1600,
          1600,
          1610,
          1610,
          1620,
          1620,
          1630,
          1630,
          1640,
          1650,
          1650,
          1660,
          1660,
          1670,
          1670,
          1680,
          1690,
          1690,
          1700,
          1700,
          1710,
          1720,
          1720,
          1730,
          1730,
          1740,
          1750,
          1750,
          1760,
          1760,
          1770,
          1780,
          1780,
          1790,
          1800,
          1800,
          1810,
          1810,
          1820,
          1830,
          1830,
          1840,
          1850,
          1850,
          1860,
          1860,
          1870,
          1880,
          1880,
          1890,
          1900,
          1900,
          1910,
          1920,
          1920,
          1930,
          1940,
          1940,
          1950,
          1960,
          1960,
          1970,
          1980,
          1900,
          2210,
          2120,
          1970,
          1950,
          1780,
          1950,
          2200,
          2490,
          2300,
          2530,
          2480,
          2540,
          2680,
          2620,
          2680,
          2900,
          2690,
          2970,
          2620,
          2500,
          2390,
          2610,
          2700,
          2870,
          2650,
          2850,
          2990,
          2840,
          2920,
          2590,
          2260,
          1380,
          1190,
          1190,
          1090,
          1260,
          1450,
          1840,
          2290,
          2570,
          2670,
          2810,
          2840,
          2960,
          2960,
          2900,
          2990,
          3240,
          3670,
          3890,
          4180,
          4140,
          4280,
          4070,
          3980,
          3900,
          3820,
          3740,
          3670,
          3590,
          3980,
          4490,
          4900,
          5290,
          5220,
          5450,
          5580,
          5740,
          6100,
          6560,
          6560,
          6910,
          6690,
          7180,
          7640,
          8150,
          8430,
          8940,
          9410,
          10100,
          10700,
          11400,
          11700,
          12700,
          13200,
          13600,
          14700,
          15200,
          15800,
          16300,
          16700,
          17000,
          17200,
          17800,
          18000,
          18100,
          18400,
          18500,
          18800,
          19200,
          19200,
          19500,
          19700,
          19200,
          18400,
          15900,
          14700,
          13000,
          12600,
          12200,
          12500,
          12000,
          12900,
          14300,
          15200,
          16000,
          17400,
          18800,
          20100,
          21900,
          23800,
          25100,
          23200,
          24200,
          25200,
          26100,
          26500,
          26200,
          25600,
          25600,
          26000,
          26700,
          27300,
          26600,
          28200,
          27700,
          28800
         ],
         "yaxis": "y"
        },
        {
         "hovertemplate": "Country=USA<br>Year=%{x}<br>GDP per Capita (USD)=%{y}<extra></extra>",
         "legendgroup": "USA",
         "line": {
          "color": "#ab63fa",
          "dash": "solid"
         },
         "marker": {
          "symbol": "circle"
         },
         "mode": "lines",
         "name": "USA",
         "orientation": "v",
         "showlegend": true,
         "type": "scatter",
         "x": [
          1800,
          1801,
          1802,
          1803,
          1804,
          1805,
          1806,
          1807,
          1808,
          1809,
          1810,
          1811,
          1812,
          1813,
          1814,
          1815,
          1816,
          1817,
          1818,
          1819,
          1820,
          1821,
          1822,
          1823,
          1824,
          1825,
          1826,
          1827,
          1828,
          1829,
          1830,
          1831,
          1832,
          1833,
          1834,
          1835,
          1836,
          1837,
          1838,
          1839,
          1840,
          1841,
          1842,
          1843,
          1844,
          1845,
          1846,
          1847,
          1848,
          1849,
          1850,
          1851,
          1852,
          1853,
          1854,
          1855,
          1856,
          1857,
          1858,
          1859,
          1860,
          1861,
          1862,
          1863,
          1864,
          1865,
          1866,
          1867,
          1868,
          1869,
          1870,
          1871,
          1872,
          1873,
          1874,
          1875,
          1876,
          1877,
          1878,
          1879,
          1880,
          1881,
          1882,
          1883,
          1884,
          1885,
          1886,
          1887,
          1888,
          1889,
          1890,
          1891,
          1892,
          1893,
          1894,
          1895,
          1896,
          1897,
          1898,
          1899,
          1900,
          1901,
          1902,
          1903,
          1904,
          1905,
          1906,
          1907,
          1908,
          1909,
          1910,
          1911,
          1912,
          1913,
          1914,
          1915,
          1916,
          1917,
          1918,
          1919,
          1920,
          1921,
          1922,
          1923,
          1924,
          1925,
          1926,
          1927,
          1928,
          1929,
          1930,
          1931,
          1932,
          1933,
          1934,
          1935,
          1936,
          1937,
          1938,
          1939,
          1940,
          1941,
          1942,
          1943,
          1944,
          1945,
          1946,
          1947,
          1948,
          1949,
          1950,
          1951,
          1952,
          1953,
          1954,
          1955,
          1956,
          1957,
          1958,
          1959,
          1960,
          1961,
          1962,
          1963,
          1964,
          1965,
          1966,
          1967,
          1968,
          1969,
          1970,
          1971,
          1972,
          1973,
          1974,
          1975,
          1976,
          1977,
          1978,
          1979,
          1980,
          1981,
          1982,
          1983,
          1984,
          1985,
          1986,
          1987,
          1988,
          1989,
          1990,
          1991,
          1992,
          1993,
          1994,
          1995,
          1996,
          1997,
          1998,
          1999,
          2000,
          2001,
          2002,
          2003,
          2004,
          2005,
          2006,
          2007,
          2008,
          2009,
          2010,
          2011,
          2012,
          2013,
          2014,
          2015,
          2016,
          2017,
          2018,
          2019,
          2020,
          2021,
          2022,
          2023
         ],
         "xaxis": "x",
         "y": [
          2910,
          2970,
          3020,
          2960,
          2960,
          3030,
          3080,
          3110,
          2890,
          3040,
          3120,
          3180,
          3130,
          3160,
          3220,
          3210,
          3080,
          3080,
          3080,
          3080,
          3060,
          3110,
          3190,
          3160,
          3250,
          3320,
          3340,
          3350,
          3350,
          3240,
          3480,
          3690,
          3830,
          3960,
          3770,
          3910,
          3970,
          3850,
          3810,
          4000,
          3800,
          3720,
          3690,
          3750,
          3950,
          4010,
          4040,
          4140,
          4250,
          4140,
          4160,
          4320,
          4550,
          4860,
          4870,
          4760,
          4860,
          4760,
          4780,
          4910,
          5040,
          4940,
          5090,
          5420,
          5600,
          5310,
          5270,
          5440,
          5510,
          5660,
          5500,
          5630,
          5710,
          5860,
          5680,
          5840,
          5780,
          5840,
          5950,
          6540,
          7160,
          7230,
          7510,
          7510,
          7470,
          7350,
          7410,
          7570,
          7380,
          7680,
          7630,
          7800,
          8380,
          7820,
          7450,
          8200,
          7880,
          8480,
          8500,
          9110,
          9200,
          10000,
          9940,
          10200,
          9920,
          10400,
          11400,
          11400,
          10300,
          11200,
          11000,
          11100,
          11400,
          11600,
          10400,
          10500,
          11700,
          11200,
          12000,
          12000,
          11600,
          11100,
          11500,
          12700,
          12700,
          12800,
          13300,
          13200,
          13100,
          13700,
          12200,
          11400,
          9590,
          9210,
          9920,
          11100,
          12100,
          12900,
          12000,
          12800,
          13700,
          15500,
          17000,
          18300,
          19300,
          18700,
          16800,
          16200,
          16700,
          16000,
          17200,
          18200,
          18500,
          19000,
          18600,
          19500,
          19500,
          19500,
          19000,
          20000,
          20100,
          20300,
          21100,
          21700,
          22600,
          23700,
          25000,
          25300,
          26300,
          26800,
          26500,
          27000,
          28100,
          29400,
          29000,
          28600,
          29800,
          30900,
          32200,
          32900,
          32500,
          33000,
          32000,
          33100,
          35200,
          36200,
          37100,
          38000,
          39200,
          40200,
          40500,
          39900,
          40700,
          41200,
          42300,
          42900,
          44000,
          45300,
          46800,
          48400,
          49800,
          49700,
          50000,
          50900,
          52400,
          53600,
          54600,
          55100,
          54600,
          52600,
          53600,
          54000,
          54900,
          55600,
          56600,
          57900,
          58500,
          59500,
          61000,
          62200,
          60200,
          63600,
          64600,
          65900
         ],
         "yaxis": "y"
        }
       ],
       "layout": {
        "legend": {
         "title": {
          "text": "Country"
         },
         "tracegroupgap": 0
        },
        "template": {
         "data": {
          "bar": [
           {
            "error_x": {
             "color": "#2a3f5f"
            },
            "error_y": {
             "color": "#2a3f5f"
            },
            "marker": {
             "line": {
              "color": "#E5ECF6",
              "width": 0.5
             },
             "pattern": {
              "fillmode": "overlay",
              "size": 10,
              "solidity": 0.2
             }
            },
            "type": "bar"
           }
          ],
          "barpolar": [
           {
            "marker": {
             "line": {
              "color": "#E5ECF6",
              "width": 0.5
             },
             "pattern": {
              "fillmode": "overlay",
              "size": 10,
              "solidity": 0.2
             }
            },
            "type": "barpolar"
           }
          ],
          "carpet": [
           {
            "aaxis": {
             "endlinecolor": "#2a3f5f",
             "gridcolor": "white",
             "linecolor": "white",
             "minorgridcolor": "white",
             "startlinecolor": "#2a3f5f"
            },
            "baxis": {
             "endlinecolor": "#2a3f5f",
             "gridcolor": "white",
             "linecolor": "white",
             "minorgridcolor": "white",
             "startlinecolor": "#2a3f5f"
            },
            "type": "carpet"
           }
          ],
          "choropleth": [
           {
            "colorbar": {
             "outlinewidth": 0,
             "ticks": ""
            },
            "type": "choropleth"
           }
          ],
          "contour": [
           {
            "colorbar": {
             "outlinewidth": 0,
             "ticks": ""
            },
            "colorscale": [
             [
              0,
              "#0d0887"
             ],
             [
              0.1111111111111111,
              "#46039f"
             ],
             [
              0.2222222222222222,
              "#7201a8"
             ],
             [
              0.3333333333333333,
              "#9c179e"
             ],
             [
              0.4444444444444444,
              "#bd3786"
             ],
             [
              0.5555555555555556,
              "#d8576b"
             ],
             [
              0.6666666666666666,
              "#ed7953"
             ],
             [
              0.7777777777777778,
              "#fb9f3a"
             ],
             [
              0.8888888888888888,
              "#fdca26"
             ],
             [
              1,
              "#f0f921"
             ]
            ],
            "type": "contour"
           }
          ],
          "contourcarpet": [
           {
            "colorbar": {
             "outlinewidth": 0,
             "ticks": ""
            },
            "type": "contourcarpet"
           }
          ],
          "heatmap": [
           {
            "colorbar": {
             "outlinewidth": 0,
             "ticks": ""
            },
            "colorscale": [
             [
              0,
              "#0d0887"
             ],
             [
              0.1111111111111111,
              "#46039f"
             ],
             [
              0.2222222222222222,
              "#7201a8"
             ],
             [
              0.3333333333333333,
              "#9c179e"
             ],
             [
              0.4444444444444444,
              "#bd3786"
             ],
             [
              0.5555555555555556,
              "#d8576b"
             ],
             [
              0.6666666666666666,
              "#ed7953"
             ],
             [
              0.7777777777777778,
              "#fb9f3a"
             ],
             [
              0.8888888888888888,
              "#fdca26"
             ],
             [
              1,
              "#f0f921"
             ]
            ],
            "type": "heatmap"
           }
          ],
          "heatmapgl": [
           {
            "colorbar": {
             "outlinewidth": 0,
             "ticks": ""
            },
            "colorscale": [
             [
              0,
              "#0d0887"
             ],
             [
              0.1111111111111111,
              "#46039f"
             ],
             [
              0.2222222222222222,
              "#7201a8"
             ],
             [
              0.3333333333333333,
              "#9c179e"
             ],
             [
              0.4444444444444444,
              "#bd3786"
             ],
             [
              0.5555555555555556,
              "#d8576b"
             ],
             [
              0.6666666666666666,
              "#ed7953"
             ],
             [
              0.7777777777777778,
              "#fb9f3a"
             ],
             [
              0.8888888888888888,
              "#fdca26"
             ],
             [
              1,
              "#f0f921"
             ]
            ],
            "type": "heatmapgl"
           }
          ],
          "histogram": [
           {
            "marker": {
             "pattern": {
              "fillmode": "overlay",
              "size": 10,
              "solidity": 0.2
             }
            },
            "type": "histogram"
           }
          ],
          "histogram2d": [
           {
            "colorbar": {
             "outlinewidth": 0,
             "ticks": ""
            },
            "colorscale": [
             [
              0,
              "#0d0887"
             ],
             [
              0.1111111111111111,
              "#46039f"
             ],
             [
              0.2222222222222222,
              "#7201a8"
             ],
             [
              0.3333333333333333,
              "#9c179e"
             ],
             [
              0.4444444444444444,
              "#bd3786"
             ],
             [
              0.5555555555555556,
              "#d8576b"
             ],
             [
              0.6666666666666666,
              "#ed7953"
             ],
             [
              0.7777777777777778,
              "#fb9f3a"
             ],
             [
              0.8888888888888888,
              "#fdca26"
             ],
             [
              1,
              "#f0f921"
             ]
            ],
            "type": "histogram2d"
           }
          ],
          "histogram2dcontour": [
           {
            "colorbar": {
             "outlinewidth": 0,
             "ticks": ""
            },
            "colorscale": [
             [
              0,
              "#0d0887"
             ],
             [
              0.1111111111111111,
              "#46039f"
             ],
             [
              0.2222222222222222,
              "#7201a8"
             ],
             [
              0.3333333333333333,
              "#9c179e"
             ],
             [
              0.4444444444444444,
              "#bd3786"
             ],
             [
              0.5555555555555556,
              "#d8576b"
             ],
             [
              0.6666666666666666,
              "#ed7953"
             ],
             [
              0.7777777777777778,
              "#fb9f3a"
             ],
             [
              0.8888888888888888,
              "#fdca26"
             ],
             [
              1,
              "#f0f921"
             ]
            ],
            "type": "histogram2dcontour"
           }
          ],
          "mesh3d": [
           {
            "colorbar": {
             "outlinewidth": 0,
             "ticks": ""
            },
            "type": "mesh3d"
           }
          ],
          "parcoords": [
           {
            "line": {
             "colorbar": {
              "outlinewidth": 0,
              "ticks": ""
             }
            },
            "type": "parcoords"
           }
          ],
          "pie": [
           {
            "automargin": true,
            "type": "pie"
           }
          ],
          "scatter": [
           {
            "fillpattern": {
             "fillmode": "overlay",
             "size": 10,
             "solidity": 0.2
            },
            "type": "scatter"
           }
          ],
          "scatter3d": [
           {
            "line": {
             "colorbar": {
              "outlinewidth": 0,
              "ticks": ""
             }
            },
            "marker": {
             "colorbar": {
              "outlinewidth": 0,
              "ticks": ""
             }
            },
            "type": "scatter3d"
           }
          ],
          "scattercarpet": [
           {
            "marker": {
             "colorbar": {
              "outlinewidth": 0,
              "ticks": ""
             }
            },
            "type": "scattercarpet"
           }
          ],
          "scattergeo": [
           {
            "marker": {
             "colorbar": {
              "outlinewidth": 0,
              "ticks": ""
             }
            },
            "type": "scattergeo"
           }
          ],
          "scattergl": [
           {
            "marker": {
             "colorbar": {
              "outlinewidth": 0,
              "ticks": ""
             }
            },
            "type": "scattergl"
           }
          ],
          "scattermapbox": [
           {
            "marker": {
             "colorbar": {
              "outlinewidth": 0,
              "ticks": ""
             }
            },
            "type": "scattermapbox"
           }
          ],
          "scatterpolar": [
           {
            "marker": {
             "colorbar": {
              "outlinewidth": 0,
              "ticks": ""
             }
            },
            "type": "scatterpolar"
           }
          ],
          "scatterpolargl": [
           {
            "marker": {
             "colorbar": {
              "outlinewidth": 0,
              "ticks": ""
             }
            },
            "type": "scatterpolargl"
           }
          ],
          "scatterternary": [
           {
            "marker": {
             "colorbar": {
              "outlinewidth": 0,
              "ticks": ""
             }
            },
            "type": "scatterternary"
           }
          ],
          "surface": [
           {
            "colorbar": {
             "outlinewidth": 0,
             "ticks": ""
            },
            "colorscale": [
             [
              0,
              "#0d0887"
             ],
             [
              0.1111111111111111,
              "#46039f"
             ],
             [
              0.2222222222222222,
              "#7201a8"
             ],
             [
              0.3333333333333333,
              "#9c179e"
             ],
             [
              0.4444444444444444,
              "#bd3786"
             ],
             [
              0.5555555555555556,
              "#d8576b"
             ],
             [
              0.6666666666666666,
              "#ed7953"
             ],
             [
              0.7777777777777778,
              "#fb9f3a"
             ],
             [
              0.8888888888888888,
              "#fdca26"
             ],
             [
              1,
              "#f0f921"
             ]
            ],
            "type": "surface"
           }
          ],
          "table": [
           {
            "cells": {
             "fill": {
              "color": "#EBF0F8"
             },
             "line": {
              "color": "white"
             }
            },
            "header": {
             "fill": {
              "color": "#C8D4E3"
             },
             "line": {
              "color": "white"
             }
            },
            "type": "table"
           }
          ]
         },
         "layout": {
          "annotationdefaults": {
           "arrowcolor": "#2a3f5f",
           "arrowhead": 0,
           "arrowwidth": 1
          },
          "autotypenumbers": "strict",
          "coloraxis": {
           "colorbar": {
            "outlinewidth": 0,
            "ticks": ""
           }
          },
          "colorscale": {
           "diverging": [
            [
             0,
             "#8e0152"
            ],
            [
             0.1,
             "#c51b7d"
            ],
            [
             0.2,
             "#de77ae"
            ],
            [
             0.3,
             "#f1b6da"
            ],
            [
             0.4,
             "#fde0ef"
            ],
            [
             0.5,
             "#f7f7f7"
            ],
            [
             0.6,
             "#e6f5d0"
            ],
            [
             0.7,
             "#b8e186"
            ],
            [
             0.8,
             "#7fbc41"
            ],
            [
             0.9,
             "#4d9221"
            ],
            [
             1,
             "#276419"
            ]
           ],
           "sequential": [
            [
             0,
             "#0d0887"
            ],
            [
             0.1111111111111111,
             "#46039f"
            ],
            [
             0.2222222222222222,
             "#7201a8"
            ],
            [
             0.3333333333333333,
             "#9c179e"
            ],
            [
             0.4444444444444444,
             "#bd3786"
            ],
            [
             0.5555555555555556,
             "#d8576b"
            ],
            [
             0.6666666666666666,
             "#ed7953"
            ],
            [
             0.7777777777777778,
             "#fb9f3a"
            ],
            [
             0.8888888888888888,
             "#fdca26"
            ],
            [
             1,
             "#f0f921"
            ]
           ],
           "sequentialminus": [
            [
             0,
             "#0d0887"
            ],
            [
             0.1111111111111111,
             "#46039f"
            ],
            [
             0.2222222222222222,
             "#7201a8"
            ],
            [
             0.3333333333333333,
             "#9c179e"
            ],
            [
             0.4444444444444444,
             "#bd3786"
            ],
            [
             0.5555555555555556,
             "#d8576b"
            ],
            [
             0.6666666666666666,
             "#ed7953"
            ],
            [
             0.7777777777777778,
             "#fb9f3a"
            ],
            [
             0.8888888888888888,
             "#fdca26"
            ],
            [
             1,
             "#f0f921"
            ]
           ]
          },
          "colorway": [
           "#636efa",
           "#EF553B",
           "#00cc96",
           "#ab63fa",
           "#FFA15A",
           "#19d3f3",
           "#FF6692",
           "#B6E880",
           "#FF97FF",
           "#FECB52"
          ],
          "font": {
           "color": "#2a3f5f"
          },
          "geo": {
           "bgcolor": "white",
           "lakecolor": "white",
           "landcolor": "#E5ECF6",
           "showlakes": true,
           "showland": true,
           "subunitcolor": "white"
          },
          "hoverlabel": {
           "align": "left"
          },
          "hovermode": "closest",
          "mapbox": {
           "style": "light"
          },
          "paper_bgcolor": "white",
          "plot_bgcolor": "#E5ECF6",
          "polar": {
           "angularaxis": {
            "gridcolor": "white",
            "linecolor": "white",
            "ticks": ""
           },
           "bgcolor": "#E5ECF6",
           "radialaxis": {
            "gridcolor": "white",
            "linecolor": "white",
            "ticks": ""
           }
          },
          "scene": {
           "xaxis": {
            "backgroundcolor": "#E5ECF6",
            "gridcolor": "white",
            "gridwidth": 2,
            "linecolor": "white",
            "showbackground": true,
            "ticks": "",
            "zerolinecolor": "white"
           },
           "yaxis": {
            "backgroundcolor": "#E5ECF6",
            "gridcolor": "white",
            "gridwidth": 2,
            "linecolor": "white",
            "showbackground": true,
            "ticks": "",
            "zerolinecolor": "white"
           },
           "zaxis": {
            "backgroundcolor": "#E5ECF6",
            "gridcolor": "white",
            "gridwidth": 2,
            "linecolor": "white",
            "showbackground": true,
            "ticks": "",
            "zerolinecolor": "white"
           }
          },
          "shapedefaults": {
           "line": {
            "color": "#2a3f5f"
           }
          },
          "ternary": {
           "aaxis": {
            "gridcolor": "white",
            "linecolor": "white",
            "ticks": ""
           },
           "baxis": {
            "gridcolor": "white",
            "linecolor": "white",
            "ticks": ""
           },
           "bgcolor": "#E5ECF6",
           "caxis": {
            "gridcolor": "white",
            "linecolor": "white",
            "ticks": ""
           }
          },
          "title": {
           "x": 0.05
          },
          "xaxis": {
           "automargin": true,
           "gridcolor": "white",
           "linecolor": "white",
           "ticks": "",
           "title": {
            "standoff": 15
           },
           "zerolinecolor": "white",
           "zerolinewidth": 2
          },
          "yaxis": {
           "automargin": true,
           "gridcolor": "white",
           "linecolor": "white",
           "ticks": "",
           "title": {
            "standoff": 15
           },
           "zerolinecolor": "white",
           "zerolinewidth": 2
          }
         }
        },
        "title": {
         "text": "GDP per Capita Trends (1800-2023)"
        },
        "xaxis": {
         "anchor": "y",
         "domain": [
          0,
          1
         ],
         "title": {
          "text": "Year"
         }
        },
        "yaxis": {
         "anchor": "x",
         "domain": [
          0,
          1
         ],
         "title": {
          "text": "GDP per Capita (USD)"
         },
         "type": "log"
        }
       }
      }
     },
     "metadata": {},
     "output_type": "display_data"
    }
   ],
   "source": [
    "gdp_trend = gapminder_df.query( \"Year >= 1800 & Year <= 2023 & \" \\\n",
    "\"Country in ['China', 'USA', 'Russia', 'Nigeria' ] \" ) \n",
    "\n",
    "fig = px.line(\n",
    "    gdp_trend,\n",
    "    x=\"Year\",\n",
    "    y=\"GDPpcap\",\n",
    "    color=\"Country\",\n",
    "    title=\"GDP per Capita Trends (1800-2023)\",\n",
    "    log_y=True,\n",
    "    labels={\"Year\": \"Year\", \"GDPpcap\": \"GDP per Capita (USD)\"},\n",
    ")\n",
    "fig.show()\n"
   ]
  },
  {
   "cell_type": "markdown",
   "id": "ddf8f45c",
   "metadata": {},
   "source": [
    "## Bar chart of population size (top 15)\n",
    "\n",
    "Recreate this [bar chart](https://www.gapminder.org/tools/#$chart-type=barrank&url=v2)"
   ]
  },
  {
   "cell_type": "code",
   "execution_count": 7,
   "id": "480ca57f",
   "metadata": {},
   "outputs": [
    {
     "data": {
      "application/vnd.plotly.v1+json": {
       "config": {
        "plotlyServerURL": "https://plot.ly"
       },
       "data": [
        {
         "alignmentgroup": "True",
         "hovertemplate": "Country=%{y}<br>Population=%{x}<extra></extra>",
         "legendgroup": "India",
         "marker": {
          "color": "#636efa",
          "pattern": {
           "shape": ""
          }
         },
         "name": "India",
         "offsetgroup": "India",
         "orientation": "h",
         "showlegend": true,
         "textposition": "auto",
         "type": "bar",
         "x": [
          1440000000
         ],
         "xaxis": "x",
         "y": [
          "India"
         ],
         "yaxis": "y"
        },
        {
         "alignmentgroup": "True",
         "hovertemplate": "Country=%{y}<br>Population=%{x}<extra></extra>",
         "legendgroup": "China",
         "marker": {
          "color": "#EF553B",
          "pattern": {
           "shape": ""
          }
         },
         "name": "China",
         "offsetgroup": "China",
         "orientation": "h",
         "showlegend": true,
         "textposition": "auto",
         "type": "bar",
         "x": [
          1420000000
         ],
         "xaxis": "x",
         "y": [
          "China"
         ],
         "yaxis": "y"
        },
        {
         "alignmentgroup": "True",
         "hovertemplate": "Country=%{y}<br>Population=%{x}<extra></extra>",
         "legendgroup": "USA",
         "marker": {
          "color": "#00cc96",
          "pattern": {
           "shape": ""
          }
         },
         "name": "USA",
         "offsetgroup": "USA",
         "orientation": "h",
         "showlegend": true,
         "textposition": "auto",
         "type": "bar",
         "x": [
          343000000
         ],
         "xaxis": "x",
         "y": [
          "USA"
         ],
         "yaxis": "y"
        },
        {
         "alignmentgroup": "True",
         "hovertemplate": "Country=%{y}<br>Population=%{x}<extra></extra>",
         "legendgroup": "Indonesia",
         "marker": {
          "color": "#ab63fa",
          "pattern": {
           "shape": ""
          }
         },
         "name": "Indonesia",
         "offsetgroup": "Indonesia",
         "orientation": "h",
         "showlegend": true,
         "textposition": "auto",
         "type": "bar",
         "x": [
          281000000
         ],
         "xaxis": "x",
         "y": [
          "Indonesia"
         ],
         "yaxis": "y"
        },
        {
         "alignmentgroup": "True",
         "hovertemplate": "Country=%{y}<br>Population=%{x}<extra></extra>",
         "legendgroup": "Pakistan",
         "marker": {
          "color": "#FFA15A",
          "pattern": {
           "shape": ""
          }
         },
         "name": "Pakistan",
         "offsetgroup": "Pakistan",
         "orientation": "h",
         "showlegend": true,
         "textposition": "auto",
         "type": "bar",
         "x": [
          248000000
         ],
         "xaxis": "x",
         "y": [
          "Pakistan"
         ],
         "yaxis": "y"
        },
        {
         "alignmentgroup": "True",
         "hovertemplate": "Country=%{y}<br>Population=%{x}<extra></extra>",
         "legendgroup": "Nigeria",
         "marker": {
          "color": "#19d3f3",
          "pattern": {
           "shape": ""
          }
         },
         "name": "Nigeria",
         "offsetgroup": "Nigeria",
         "orientation": "h",
         "showlegend": true,
         "textposition": "auto",
         "type": "bar",
         "x": [
          228000000
         ],
         "xaxis": "x",
         "y": [
          "Nigeria"
         ],
         "yaxis": "y"
        },
        {
         "alignmentgroup": "True",
         "hovertemplate": "Country=%{y}<br>Population=%{x}<extra></extra>",
         "legendgroup": "Brazil",
         "marker": {
          "color": "#FF6692",
          "pattern": {
           "shape": ""
          }
         },
         "name": "Brazil",
         "offsetgroup": "Brazil",
         "orientation": "h",
         "showlegend": true,
         "textposition": "auto",
         "type": "bar",
         "x": [
          211000000
         ],
         "xaxis": "x",
         "y": [
          "Brazil"
         ],
         "yaxis": "y"
        },
        {
         "alignmentgroup": "True",
         "hovertemplate": "Country=%{y}<br>Population=%{x}<extra></extra>",
         "legendgroup": "Bangladesh",
         "marker": {
          "color": "#B6E880",
          "pattern": {
           "shape": ""
          }
         },
         "name": "Bangladesh",
         "offsetgroup": "Bangladesh",
         "orientation": "h",
         "showlegend": true,
         "textposition": "auto",
         "type": "bar",
         "x": [
          171000000
         ],
         "xaxis": "x",
         "y": [
          "Bangladesh"
         ],
         "yaxis": "y"
        },
        {
         "alignmentgroup": "True",
         "hovertemplate": "Country=%{y}<br>Population=%{x}<extra></extra>",
         "legendgroup": "Russia",
         "marker": {
          "color": "#FF97FF",
          "pattern": {
           "shape": ""
          }
         },
         "name": "Russia",
         "offsetgroup": "Russia",
         "orientation": "h",
         "showlegend": true,
         "textposition": "auto",
         "type": "bar",
         "x": [
          145000000
         ],
         "xaxis": "x",
         "y": [
          "Russia"
         ],
         "yaxis": "y"
        },
        {
         "alignmentgroup": "True",
         "hovertemplate": "Country=%{y}<br>Population=%{x}<extra></extra>",
         "legendgroup": "Mexico",
         "marker": {
          "color": "#FECB52",
          "pattern": {
           "shape": ""
          }
         },
         "name": "Mexico",
         "offsetgroup": "Mexico",
         "orientation": "h",
         "showlegend": true,
         "textposition": "auto",
         "type": "bar",
         "x": [
          130000000
         ],
         "xaxis": "x",
         "y": [
          "Mexico"
         ],
         "yaxis": "y"
        },
        {
         "alignmentgroup": "True",
         "hovertemplate": "Country=%{y}<br>Population=%{x}<extra></extra>",
         "legendgroup": "Ethiopia",
         "marker": {
          "color": "#636efa",
          "pattern": {
           "shape": ""
          }
         },
         "name": "Ethiopia",
         "offsetgroup": "Ethiopia",
         "orientation": "h",
         "showlegend": true,
         "textposition": "auto",
         "type": "bar",
         "x": [
          129000000
         ],
         "xaxis": "x",
         "y": [
          "Ethiopia"
         ],
         "yaxis": "y"
        },
        {
         "alignmentgroup": "True",
         "hovertemplate": "Country=%{y}<br>Population=%{x}<extra></extra>",
         "legendgroup": "Japan",
         "marker": {
          "color": "#EF553B",
          "pattern": {
           "shape": ""
          }
         },
         "name": "Japan",
         "offsetgroup": "Japan",
         "orientation": "h",
         "showlegend": true,
         "textposition": "auto",
         "type": "bar",
         "x": [
          124000000
         ],
         "xaxis": "x",
         "y": [
          "Japan"
         ],
         "yaxis": "y"
        },
        {
         "alignmentgroup": "True",
         "hovertemplate": "Country=%{y}<br>Population=%{x}<extra></extra>",
         "legendgroup": "Egypt",
         "marker": {
          "color": "#00cc96",
          "pattern": {
           "shape": ""
          }
         },
         "name": "Egypt",
         "offsetgroup": "Egypt",
         "orientation": "h",
         "showlegend": true,
         "textposition": "auto",
         "type": "bar",
         "x": [
          115000000
         ],
         "xaxis": "x",
         "y": [
          "Egypt"
         ],
         "yaxis": "y"
        },
        {
         "alignmentgroup": "True",
         "hovertemplate": "Country=%{y}<br>Population=%{x}<extra></extra>",
         "legendgroup": "Philippines",
         "marker": {
          "color": "#ab63fa",
          "pattern": {
           "shape": ""
          }
         },
         "name": "Philippines",
         "offsetgroup": "Philippines",
         "orientation": "h",
         "showlegend": true,
         "textposition": "auto",
         "type": "bar",
         "x": [
          115000000
         ],
         "xaxis": "x",
         "y": [
          "Philippines"
         ],
         "yaxis": "y"
        },
        {
         "alignmentgroup": "True",
         "hovertemplate": "Country=%{y}<br>Population=%{x}<extra></extra>",
         "legendgroup": "Congo, Dem. Rep.",
         "marker": {
          "color": "#FFA15A",
          "pattern": {
           "shape": ""
          }
         },
         "name": "Congo, Dem. Rep.",
         "offsetgroup": "Congo, Dem. Rep.",
         "orientation": "h",
         "showlegend": true,
         "textposition": "auto",
         "type": "bar",
         "x": [
          106000000
         ],
         "xaxis": "x",
         "y": [
          "Congo, Dem. Rep."
         ],
         "yaxis": "y"
        }
       ],
       "layout": {
        "barmode": "relative",
        "legend": {
         "title": {
          "text": "Country"
         },
         "tracegroupgap": 0
        },
        "template": {
         "data": {
          "bar": [
           {
            "error_x": {
             "color": "#2a3f5f"
            },
            "error_y": {
             "color": "#2a3f5f"
            },
            "marker": {
             "line": {
              "color": "#E5ECF6",
              "width": 0.5
             },
             "pattern": {
              "fillmode": "overlay",
              "size": 10,
              "solidity": 0.2
             }
            },
            "type": "bar"
           }
          ],
          "barpolar": [
           {
            "marker": {
             "line": {
              "color": "#E5ECF6",
              "width": 0.5
             },
             "pattern": {
              "fillmode": "overlay",
              "size": 10,
              "solidity": 0.2
             }
            },
            "type": "barpolar"
           }
          ],
          "carpet": [
           {
            "aaxis": {
             "endlinecolor": "#2a3f5f",
             "gridcolor": "white",
             "linecolor": "white",
             "minorgridcolor": "white",
             "startlinecolor": "#2a3f5f"
            },
            "baxis": {
             "endlinecolor": "#2a3f5f",
             "gridcolor": "white",
             "linecolor": "white",
             "minorgridcolor": "white",
             "startlinecolor": "#2a3f5f"
            },
            "type": "carpet"
           }
          ],
          "choropleth": [
           {
            "colorbar": {
             "outlinewidth": 0,
             "ticks": ""
            },
            "type": "choropleth"
           }
          ],
          "contour": [
           {
            "colorbar": {
             "outlinewidth": 0,
             "ticks": ""
            },
            "colorscale": [
             [
              0,
              "#0d0887"
             ],
             [
              0.1111111111111111,
              "#46039f"
             ],
             [
              0.2222222222222222,
              "#7201a8"
             ],
             [
              0.3333333333333333,
              "#9c179e"
             ],
             [
              0.4444444444444444,
              "#bd3786"
             ],
             [
              0.5555555555555556,
              "#d8576b"
             ],
             [
              0.6666666666666666,
              "#ed7953"
             ],
             [
              0.7777777777777778,
              "#fb9f3a"
             ],
             [
              0.8888888888888888,
              "#fdca26"
             ],
             [
              1,
              "#f0f921"
             ]
            ],
            "type": "contour"
           }
          ],
          "contourcarpet": [
           {
            "colorbar": {
             "outlinewidth": 0,
             "ticks": ""
            },
            "type": "contourcarpet"
           }
          ],
          "heatmap": [
           {
            "colorbar": {
             "outlinewidth": 0,
             "ticks": ""
            },
            "colorscale": [
             [
              0,
              "#0d0887"
             ],
             [
              0.1111111111111111,
              "#46039f"
             ],
             [
              0.2222222222222222,
              "#7201a8"
             ],
             [
              0.3333333333333333,
              "#9c179e"
             ],
             [
              0.4444444444444444,
              "#bd3786"
             ],
             [
              0.5555555555555556,
              "#d8576b"
             ],
             [
              0.6666666666666666,
              "#ed7953"
             ],
             [
              0.7777777777777778,
              "#fb9f3a"
             ],
             [
              0.8888888888888888,
              "#fdca26"
             ],
             [
              1,
              "#f0f921"
             ]
            ],
            "type": "heatmap"
           }
          ],
          "heatmapgl": [
           {
            "colorbar": {
             "outlinewidth": 0,
             "ticks": ""
            },
            "colorscale": [
             [
              0,
              "#0d0887"
             ],
             [
              0.1111111111111111,
              "#46039f"
             ],
             [
              0.2222222222222222,
              "#7201a8"
             ],
             [
              0.3333333333333333,
              "#9c179e"
             ],
             [
              0.4444444444444444,
              "#bd3786"
             ],
             [
              0.5555555555555556,
              "#d8576b"
             ],
             [
              0.6666666666666666,
              "#ed7953"
             ],
             [
              0.7777777777777778,
              "#fb9f3a"
             ],
             [
              0.8888888888888888,
              "#fdca26"
             ],
             [
              1,
              "#f0f921"
             ]
            ],
            "type": "heatmapgl"
           }
          ],
          "histogram": [
           {
            "marker": {
             "pattern": {
              "fillmode": "overlay",
              "size": 10,
              "solidity": 0.2
             }
            },
            "type": "histogram"
           }
          ],
          "histogram2d": [
           {
            "colorbar": {
             "outlinewidth": 0,
             "ticks": ""
            },
            "colorscale": [
             [
              0,
              "#0d0887"
             ],
             [
              0.1111111111111111,
              "#46039f"
             ],
             [
              0.2222222222222222,
              "#7201a8"
             ],
             [
              0.3333333333333333,
              "#9c179e"
             ],
             [
              0.4444444444444444,
              "#bd3786"
             ],
             [
              0.5555555555555556,
              "#d8576b"
             ],
             [
              0.6666666666666666,
              "#ed7953"
             ],
             [
              0.7777777777777778,
              "#fb9f3a"
             ],
             [
              0.8888888888888888,
              "#fdca26"
             ],
             [
              1,
              "#f0f921"
             ]
            ],
            "type": "histogram2d"
           }
          ],
          "histogram2dcontour": [
           {
            "colorbar": {
             "outlinewidth": 0,
             "ticks": ""
            },
            "colorscale": [
             [
              0,
              "#0d0887"
             ],
             [
              0.1111111111111111,
              "#46039f"
             ],
             [
              0.2222222222222222,
              "#7201a8"
             ],
             [
              0.3333333333333333,
              "#9c179e"
             ],
             [
              0.4444444444444444,
              "#bd3786"
             ],
             [
              0.5555555555555556,
              "#d8576b"
             ],
             [
              0.6666666666666666,
              "#ed7953"
             ],
             [
              0.7777777777777778,
              "#fb9f3a"
             ],
             [
              0.8888888888888888,
              "#fdca26"
             ],
             [
              1,
              "#f0f921"
             ]
            ],
            "type": "histogram2dcontour"
           }
          ],
          "mesh3d": [
           {
            "colorbar": {
             "outlinewidth": 0,
             "ticks": ""
            },
            "type": "mesh3d"
           }
          ],
          "parcoords": [
           {
            "line": {
             "colorbar": {
              "outlinewidth": 0,
              "ticks": ""
             }
            },
            "type": "parcoords"
           }
          ],
          "pie": [
           {
            "automargin": true,
            "type": "pie"
           }
          ],
          "scatter": [
           {
            "fillpattern": {
             "fillmode": "overlay",
             "size": 10,
             "solidity": 0.2
            },
            "type": "scatter"
           }
          ],
          "scatter3d": [
           {
            "line": {
             "colorbar": {
              "outlinewidth": 0,
              "ticks": ""
             }
            },
            "marker": {
             "colorbar": {
              "outlinewidth": 0,
              "ticks": ""
             }
            },
            "type": "scatter3d"
           }
          ],
          "scattercarpet": [
           {
            "marker": {
             "colorbar": {
              "outlinewidth": 0,
              "ticks": ""
             }
            },
            "type": "scattercarpet"
           }
          ],
          "scattergeo": [
           {
            "marker": {
             "colorbar": {
              "outlinewidth": 0,
              "ticks": ""
             }
            },
            "type": "scattergeo"
           }
          ],
          "scattergl": [
           {
            "marker": {
             "colorbar": {
              "outlinewidth": 0,
              "ticks": ""
             }
            },
            "type": "scattergl"
           }
          ],
          "scattermapbox": [
           {
            "marker": {
             "colorbar": {
              "outlinewidth": 0,
              "ticks": ""
             }
            },
            "type": "scattermapbox"
           }
          ],
          "scatterpolar": [
           {
            "marker": {
             "colorbar": {
              "outlinewidth": 0,
              "ticks": ""
             }
            },
            "type": "scatterpolar"
           }
          ],
          "scatterpolargl": [
           {
            "marker": {
             "colorbar": {
              "outlinewidth": 0,
              "ticks": ""
             }
            },
            "type": "scatterpolargl"
           }
          ],
          "scatterternary": [
           {
            "marker": {
             "colorbar": {
              "outlinewidth": 0,
              "ticks": ""
             }
            },
            "type": "scatterternary"
           }
          ],
          "surface": [
           {
            "colorbar": {
             "outlinewidth": 0,
             "ticks": ""
            },
            "colorscale": [
             [
              0,
              "#0d0887"
             ],
             [
              0.1111111111111111,
              "#46039f"
             ],
             [
              0.2222222222222222,
              "#7201a8"
             ],
             [
              0.3333333333333333,
              "#9c179e"
             ],
             [
              0.4444444444444444,
              "#bd3786"
             ],
             [
              0.5555555555555556,
              "#d8576b"
             ],
             [
              0.6666666666666666,
              "#ed7953"
             ],
             [
              0.7777777777777778,
              "#fb9f3a"
             ],
             [
              0.8888888888888888,
              "#fdca26"
             ],
             [
              1,
              "#f0f921"
             ]
            ],
            "type": "surface"
           }
          ],
          "table": [
           {
            "cells": {
             "fill": {
              "color": "#EBF0F8"
             },
             "line": {
              "color": "white"
             }
            },
            "header": {
             "fill": {
              "color": "#C8D4E3"
             },
             "line": {
              "color": "white"
             }
            },
            "type": "table"
           }
          ]
         },
         "layout": {
          "annotationdefaults": {
           "arrowcolor": "#2a3f5f",
           "arrowhead": 0,
           "arrowwidth": 1
          },
          "autotypenumbers": "strict",
          "coloraxis": {
           "colorbar": {
            "outlinewidth": 0,
            "ticks": ""
           }
          },
          "colorscale": {
           "diverging": [
            [
             0,
             "#8e0152"
            ],
            [
             0.1,
             "#c51b7d"
            ],
            [
             0.2,
             "#de77ae"
            ],
            [
             0.3,
             "#f1b6da"
            ],
            [
             0.4,
             "#fde0ef"
            ],
            [
             0.5,
             "#f7f7f7"
            ],
            [
             0.6,
             "#e6f5d0"
            ],
            [
             0.7,
             "#b8e186"
            ],
            [
             0.8,
             "#7fbc41"
            ],
            [
             0.9,
             "#4d9221"
            ],
            [
             1,
             "#276419"
            ]
           ],
           "sequential": [
            [
             0,
             "#0d0887"
            ],
            [
             0.1111111111111111,
             "#46039f"
            ],
            [
             0.2222222222222222,
             "#7201a8"
            ],
            [
             0.3333333333333333,
             "#9c179e"
            ],
            [
             0.4444444444444444,
             "#bd3786"
            ],
            [
             0.5555555555555556,
             "#d8576b"
            ],
            [
             0.6666666666666666,
             "#ed7953"
            ],
            [
             0.7777777777777778,
             "#fb9f3a"
            ],
            [
             0.8888888888888888,
             "#fdca26"
            ],
            [
             1,
             "#f0f921"
            ]
           ],
           "sequentialminus": [
            [
             0,
             "#0d0887"
            ],
            [
             0.1111111111111111,
             "#46039f"
            ],
            [
             0.2222222222222222,
             "#7201a8"
            ],
            [
             0.3333333333333333,
             "#9c179e"
            ],
            [
             0.4444444444444444,
             "#bd3786"
            ],
            [
             0.5555555555555556,
             "#d8576b"
            ],
            [
             0.6666666666666666,
             "#ed7953"
            ],
            [
             0.7777777777777778,
             "#fb9f3a"
            ],
            [
             0.8888888888888888,
             "#fdca26"
            ],
            [
             1,
             "#f0f921"
            ]
           ]
          },
          "colorway": [
           "#636efa",
           "#EF553B",
           "#00cc96",
           "#ab63fa",
           "#FFA15A",
           "#19d3f3",
           "#FF6692",
           "#B6E880",
           "#FF97FF",
           "#FECB52"
          ],
          "font": {
           "color": "#2a3f5f"
          },
          "geo": {
           "bgcolor": "white",
           "lakecolor": "white",
           "landcolor": "#E5ECF6",
           "showlakes": true,
           "showland": true,
           "subunitcolor": "white"
          },
          "hoverlabel": {
           "align": "left"
          },
          "hovermode": "closest",
          "mapbox": {
           "style": "light"
          },
          "paper_bgcolor": "white",
          "plot_bgcolor": "#E5ECF6",
          "polar": {
           "angularaxis": {
            "gridcolor": "white",
            "linecolor": "white",
            "ticks": ""
           },
           "bgcolor": "#E5ECF6",
           "radialaxis": {
            "gridcolor": "white",
            "linecolor": "white",
            "ticks": ""
           }
          },
          "scene": {
           "xaxis": {
            "backgroundcolor": "#E5ECF6",
            "gridcolor": "white",
            "gridwidth": 2,
            "linecolor": "white",
            "showbackground": true,
            "ticks": "",
            "zerolinecolor": "white"
           },
           "yaxis": {
            "backgroundcolor": "#E5ECF6",
            "gridcolor": "white",
            "gridwidth": 2,
            "linecolor": "white",
            "showbackground": true,
            "ticks": "",
            "zerolinecolor": "white"
           },
           "zaxis": {
            "backgroundcolor": "#E5ECF6",
            "gridcolor": "white",
            "gridwidth": 2,
            "linecolor": "white",
            "showbackground": true,
            "ticks": "",
            "zerolinecolor": "white"
           }
          },
          "shapedefaults": {
           "line": {
            "color": "#2a3f5f"
           }
          },
          "ternary": {
           "aaxis": {
            "gridcolor": "white",
            "linecolor": "white",
            "ticks": ""
           },
           "baxis": {
            "gridcolor": "white",
            "linecolor": "white",
            "ticks": ""
           },
           "bgcolor": "#E5ECF6",
           "caxis": {
            "gridcolor": "white",
            "linecolor": "white",
            "ticks": ""
           }
          },
          "title": {
           "x": 0.05
          },
          "xaxis": {
           "automargin": true,
           "gridcolor": "white",
           "linecolor": "white",
           "ticks": "",
           "title": {
            "standoff": 15
           },
           "zerolinecolor": "white",
           "zerolinewidth": 2
          },
          "yaxis": {
           "automargin": true,
           "gridcolor": "white",
           "linecolor": "white",
           "ticks": "",
           "title": {
            "standoff": 15
           },
           "zerolinecolor": "white",
           "zerolinewidth": 2
          }
         }
        },
        "title": {
         "text": "Population Size Rank"
        },
        "xaxis": {
         "anchor": "y",
         "domain": [
          0,
          1
         ],
         "title": {
          "text": "Population"
         }
        },
        "yaxis": {
         "anchor": "x",
         "categoryarray": [
          "Congo, Dem. Rep.",
          "Philippines",
          "Egypt",
          "Japan",
          "Ethiopia",
          "Mexico",
          "Russia",
          "Bangladesh",
          "Brazil",
          "Nigeria",
          "Pakistan",
          "Indonesia",
          "USA",
          "China",
          "India"
         ],
         "categoryorder": "array",
         "domain": [
          0,
          1
         ],
         "title": {
          "text": "Country"
         }
        }
       }
      }
     },
     "metadata": {},
     "output_type": "display_data"
    }
   ],
   "source": [
    "pop_rank = gapminder_df.query('Year == 2023') \\\n",
    "    .sort_values(by='Population', ascending=False).head(15)\n",
    "\n",
    "fig = px.bar(\n",
    "    pop_rank,\n",
    "    x='Population',\n",
    "    y='Country',\n",
    "    orientation='h',\n",
    "    title='Population Size Rank',\n",
    "    color='Country',  # Color by Country for distinct colors per bar\n",
    ")\n",
    "fig.show()"
   ]
  },
  {
   "cell_type": "markdown",
   "id": "def01887",
   "metadata": {},
   "source": [
    "## World Map with Population bubbles\n",
    "\n",
    "Recreate this [map](https://www.gapminder.org/tools/#$chart-type=map&url=v2)"
   ]
  },
  {
   "cell_type": "code",
   "execution_count": 8,
   "id": "623b7bb3",
   "metadata": {},
   "outputs": [
    {
     "data": {
      "application/vnd.plotly.v1+json": {
       "config": {
        "plotlyServerURL": "https://plot.ly"
       },
       "data": [
        {
         "geo": "geo",
         "hovertemplate": "<b>%{hovertext}</b><br><br>region=asia<br>Population=%{marker.size}<br>Latitude=%{lat}<br>Longitude=%{lon}<extra></extra>",
         "hovertext": [
          "Afghanistan",
          "Australia",
          "Bahrain",
          "Bangladesh",
          "Bhutan",
          "Brunei",
          "Cambodia",
          "China",
          "Fiji",
          "Hong Kong, China",
          "India",
          "Indonesia",
          "Iran",
          "Iraq",
          "Israel",
          "Japan",
          "Jordan",
          "Kazakhstan",
          "Kiribati",
          "Kuwait",
          "Kyrgyz Republic",
          "Lao",
          "Lebanon",
          "Malaysia",
          "Maldives",
          "Marshall Islands",
          "Micronesia, Fed. Sts.",
          "Mongolia",
          "Myanmar",
          "Nauru",
          "Nepal",
          "New Zealand",
          "North Korea",
          "Oman",
          "Pakistan",
          "Palau",
          "Palestine",
          "Papua New Guinea",
          "Philippines",
          "Qatar",
          "Samoa",
          "Saudi Arabia",
          "Singapore",
          "Solomon Islands",
          "South Korea",
          "Sri Lanka",
          "Syria",
          "Taiwan",
          "Tajikistan",
          "Thailand",
          "Timor-Leste",
          "Tonga",
          "Turkmenistan",
          "Tuvalu",
          "UAE",
          "Uzbekistan",
          "Vanuatu",
          "Vietnam",
          "Yemen"
         ],
         "lat": [
          33,
          -25,
          26.03333,
          24,
          27.5,
          4.5,
          13,
          35,
          -18,
          22.28552,
          22,
          -5,
          32,
          33,
          31.5,
          35.68536,
          31,
          48,
          1.421,
          29.36972,
          41.5,
          18,
          33.83333,
          2.5,
          3.2,
          7.113,
          6.924,
          46,
          21,
          -0.517,
          28,
          -42,
          40,
          21,
          30,
          7.503,
          31.92157,
          -6,
          13,
          25.27932,
          -13.8,
          25,
          1.28967,
          -8,
          36.5,
          7.75,
          35,
          24,
          39,
          15.5,
          -8.83333,
          -20,
          39.75,
          -8.51719,
          23.75,
          41.66667,
          -16,
          16.16667,
          15.5
         ],
         "legendgroup": "asia",
         "lon": [
          66,
          135,
          50.55,
          90,
          90.5,
          114.66667,
          105,
          105,
          178,
          114.15769,
          79,
          120,
          53,
          44,
          34.75,
          139.75309,
          36,
          68,
          172.984,
          47.97833,
          75,
          105,
          35.83333,
          112.5,
          73,
          171.236,
          158.162,
          105,
          96,
          166.933,
          84,
          174,
          127,
          57,
          70,
          134.621,
          35.20329,
          147,
          122,
          51.52245,
          -172.13333,
          45,
          103.85007,
          159,
          127.75,
          80.75,
          38,
          121,
          71,
          101,
          125.75,
          -175,
          59.66667,
          179.14478,
          54.5,
          63.83333,
          167,
          107.83333,
          47.5
         ],
         "marker": {
          "color": "#636efa",
          "size": [
           41500000,
           26500000,
           1570000,
           171000000,
           786000,
           459000,
           17400000,
           1420000000,
           924000,
           7440000,
           1440000000,
           281000000,
           90600000,
           45100000,
           9260000,
           124000000,
           11400000,
           20300000,
           133000,
           4840000,
           7070000,
           7660000,
           5770000,
           35100000,
           526000,
           38800,
           113000,
           3430000,
           54100000,
           11900,
           29700000,
           5170000,
           26400000,
           5050000,
           248000000,
           17700,
           5410000,
           10400000,
           115000000,
           2980000,
           217000,
           33300000,
           5790000,
           800000,
           51700000,
           23000000,
           23600000,
           23300000,
           10400000,
           71700000,
           1380000,
           105000,
           7360000,
           9820,
           10600000,
           35700000,
           320000,
           100000000,
           39400000
          ],
          "sizemode": "area",
          "sizeref": 576000,
          "symbol": "circle"
         },
         "mode": "markers",
         "name": "asia",
         "showlegend": true,
         "type": "scattergeo"
        },
        {
         "geo": "geo",
         "hovertemplate": "<b>%{hovertext}</b><br><br>region=europe<br>Population=%{marker.size}<br>Latitude=%{lat}<br>Longitude=%{lon}<extra></extra>",
         "hovertext": [
          "Albania",
          "Andorra",
          "Armenia",
          "Austria",
          "Azerbaijan",
          "Belarus",
          "Belgium",
          "Bosnia and Herzegovina",
          "Bulgaria",
          "Croatia",
          "Cyprus",
          "Czech Republic",
          "Denmark",
          "Estonia",
          "Finland",
          "France",
          "Georgia",
          "Germany",
          "Greece",
          "Hungary",
          "Iceland",
          "Ireland",
          "Italy",
          "Latvia",
          "Lithuania",
          "Luxembourg",
          "Malta",
          "Moldova",
          "Monaco",
          "Montenegro",
          "Netherlands",
          "Norway",
          "Poland",
          "Portugal",
          "Romania",
          "Russia",
          "San Marino",
          "Serbia",
          "Slovak Republic",
          "Slovenia",
          "Spain",
          "Sweden",
          "Switzerland",
          "Turkey",
          "UK",
          "Ukraine"
         ],
         "lat": [
          41,
          42.50779,
          40.25,
          47.33333,
          40.5,
          53,
          50.75,
          44.25,
          42.66667,
          45.16667,
          35,
          49.75,
          56,
          59,
          64,
          46,
          41.99998,
          51.5,
          39,
          47,
          65,
          53,
          42.83333,
          57,
          55.41667,
          49.61167,
          35.91667,
          47.25,
          43.73333,
          42.75,
          52.25,
          62,
          52,
          39.6945,
          46,
          60,
          43.93667,
          44.81892,
          48.66667,
          46.08333,
          40,
          62,
          47.00016,
          39,
          54.75844,
          49
         ],
         "legendgroup": "europe",
         "lon": [
          20,
          1.52109,
          45,
          13.33333,
          47.5,
          28,
          4.5,
          17.83333,
          25.25,
          15.5,
          33,
          15,
          10,
          26,
          26,
          2,
          43.4999,
          10.5,
          22,
          20,
          -18,
          -8,
          12.83333,
          25,
          24,
          6.13,
          14.43333,
          28.58333,
          7.41667,
          19.25,
          5.75,
          10,
          20,
          -8.13057,
          25,
          100,
          12.44639,
          20.45998,
          19.5,
          15,
          -4,
          15,
          8.01427,
          35,
          -2.69531,
          32
         ],
         "marker": {
          "color": "#EF553B",
          "size": [
           2810000,
           80900,
           2940000,
           9130000,
           10300000,
           9120000,
           11700000,
           3190000,
           6800000,
           3900000,
           1340000,
           10800000,
           5950000,
           1370000,
           5600000,
           66400000,
           3810000,
           84500000,
           10200000,
           9690000,
           388000,
           5200000,
           59500000,
           1880000,
           2850000,
           665000,
           533000,
           3070000,
           39000,
           634000,
           18100000,
           5520000,
           38800000,
           10400000,
           19100000,
           145000000,
           33700,
           6770000,
           5520000,
           2120000,
           47900000,
           10600000,
           8870000,
           87300000,
           68700000,
           37700000
          ],
          "sizemode": "area",
          "sizeref": 576000,
          "symbol": "circle"
         },
         "mode": "markers",
         "name": "europe",
         "showlegend": true,
         "type": "scattergeo"
        },
        {
         "geo": "geo",
         "hovertemplate": "<b>%{hovertext}</b><br><br>region=africa<br>Population=%{marker.size}<br>Latitude=%{lat}<br>Longitude=%{lon}<extra></extra>",
         "hovertext": [
          "Algeria",
          "Angola",
          "Benin",
          "Botswana",
          "Burkina Faso",
          "Burundi",
          "Cameroon",
          "Cape Verde",
          "Central African Republic",
          "Chad",
          "Comoros",
          "Congo, Dem. Rep.",
          "Congo, Rep.",
          "Cote d'Ivoire",
          "Djibouti",
          "Egypt",
          "Equatorial Guinea",
          "Eritrea",
          "Ethiopia",
          "Gabon",
          "Gambia",
          "Ghana",
          "Guinea",
          "Guinea-Bissau",
          "Kenya",
          "Lesotho",
          "Liberia",
          "Libya",
          "Madagascar",
          "Malawi",
          "Mali",
          "Mauritania",
          "Mauritius",
          "Morocco",
          "Mozambique",
          "Namibia",
          "Niger",
          "Nigeria",
          "Rwanda",
          "Sao Tome and Principe",
          "Senegal",
          "Seychelles",
          "Sierra Leone",
          "Somalia",
          "South Africa",
          "South Sudan",
          "Sudan",
          "Tanzania",
          "Togo",
          "Tunisia",
          "Uganda",
          "Zambia",
          "Zimbabwe"
         ],
         "lat": [
          28,
          -12.5,
          9.5,
          -22,
          12.5,
          -3.5,
          6,
          16,
          7,
          15,
          -12.23333,
          -2.5,
          -1,
          8,
          11.58901,
          27,
          1.7,
          15,
          9,
          -1,
          13.5,
          8.1,
          10.83333,
          12,
          1,
          -29.5,
          6.5,
          28,
          -20,
          -13.5,
          18,
          20.25,
          -20.3,
          32,
          -18.25,
          -22,
          18,
          10,
          -2,
          1,
          14.5,
          -4.58333,
          8.5,
          6,
          -29,
          7.5,
          16,
          -6,
          8.66667,
          34,
          1.25,
          -14.33333,
          -19
         ],
         "legendgroup": "africa",
         "lon": [
          3,
          18.5,
          2.25,
          24,
          -1.66667,
          30,
          12.5,
          -24,
          21,
          19,
          44.44553,
          23.5,
          15.5,
          -5.5,
          43.14503,
          30,
          10.5,
          39,
          39.5,
          11.75,
          -15.5,
          -1.2,
          -10.66667,
          -15,
          38,
          28.25,
          -9.5,
          17,
          47,
          34,
          -2,
          -10.5,
          57.58333,
          -6,
          35,
          17,
          9,
          8,
          30,
          7,
          -14.25,
          55.66667,
          -11.5,
          48,
          24,
          30,
          30,
          35,
          1.08333,
          9,
          32.5,
          28.5,
          29.75
         ],
         "marker": {
          "color": "#00cc96",
          "size": [
           46200000,
           36700000,
           14100000,
           2480000,
           23000000,
           13700000,
           28400000,
           522000,
           5150000,
           19300000,
           850000,
           106000000,
           6180000,
           31200000,
           1150000,
           115000000,
           1850000,
           3470000,
           129000000,
           2480000,
           2700000,
           33800000,
           14400000,
           2150000,
           55300000,
           2310000,
           5490000,
           7310000,
           31200000,
           21100000,
           23800000,
           5020000,
           1270000,
           37700000,
           33600000,
           2960000,
           26200000,
           228000000,
           14000000,
           231000,
           18100000,
           128000,
           8460000,
           18400000,
           63200000,
           11500000,
           50000000,
           66600000,
           9300000,
           12200000,
           48700000,
           20700000,
           16300000
          ],
          "sizemode": "area",
          "sizeref": 576000,
          "symbol": "circle"
         },
         "mode": "markers",
         "name": "africa",
         "showlegend": true,
         "type": "scattergeo"
        },
        {
         "geo": "geo",
         "hovertemplate": "<b>%{hovertext}</b><br><br>region=americas<br>Population=%{marker.size}<br>Latitude=%{lat}<br>Longitude=%{lon}<extra></extra>",
         "hovertext": [
          "Antigua and Barbuda",
          "Argentina",
          "Bahamas",
          "Barbados",
          "Belize",
          "Bolivia",
          "Brazil",
          "Canada",
          "Chile",
          "Colombia",
          "Costa Rica",
          "Cuba",
          "Dominica",
          "Dominican Republic",
          "Ecuador",
          "El Salvador",
          "Grenada",
          "Guatemala",
          "Guyana",
          "Haiti",
          "Honduras",
          "Jamaica",
          "Mexico",
          "Nicaragua",
          "Panama",
          "Paraguay",
          "Peru",
          "St. Kitts and Nevis",
          "St. Lucia",
          "St. Vincent and the Grenadines",
          "Suriname",
          "Trinidad and Tobago",
          "USA",
          "Uruguay",
          "Venezuela"
         ],
         "lat": [
          17.05,
          -34,
          25.04082,
          13.16667,
          17.49952,
          -17,
          -10,
          60.10867,
          -33.45694,
          4,
          10,
          22,
          15.5,
          19,
          -1.25,
          13.83333,
          12.11667,
          14.64072,
          5,
          19,
          15,
          18.16667,
          19.42847,
          13,
          8.9936,
          -23.33333,
          -10,
          17.33333,
          13.88333,
          13.08333,
          4,
          11,
          39.76,
          -33,
          8
         ],
         "legendgroup": "americas",
         "lon": [
          -61.8,
          -64,
          -77.37122,
          -59.53333,
          -88.19756,
          -65,
          -55,
          -113.64258,
          -70.64827,
          -73.25,
          -84,
          -79.5,
          -61.33333,
          -70.66667,
          -78.25,
          -88.91667,
          -61.66667,
          -90.51327,
          -59,
          -72.41667,
          -86.5,
          -77.25,
          -99.12766,
          -85,
          -79.51973,
          -58,
          -75.25,
          -62.75,
          -60.96667,
          -61.2,
          -56,
          -61,
          -98.5,
          -56,
          -66
         ],
         "marker": {
          "color": "#ab63fa",
          "size": [
           93300,
           45500000,
           399000,
           282000,
           411000,
           12200000,
           211000000,
           39300000,
           19700000,
           52300000,
           5110000,
           11000000,
           66500,
           11300000,
           18000000,
           6310000,
           117000,
           18100000,
           826000,
           11600000,
           10600000,
           2840000,
           130000000,
           6820000,
           4460000,
           6840000,
           33800000,
           46800,
           179000,
           101000,
           629000,
           1500000,
           343000000,
           3390000,
           28300000
          ],
          "sizemode": "area",
          "sizeref": 576000,
          "symbol": "circle"
         },
         "mode": "markers",
         "name": "americas",
         "showlegend": true,
         "type": "scattergeo"
        }
       ],
       "layout": {
        "geo": {
         "center": {},
         "domain": {
          "x": [
           0,
           1
          ],
          "y": [
           0,
           1
          ]
         },
         "scope": "world"
        },
        "legend": {
         "itemsizing": "constant",
         "title": {
          "text": "region"
         },
         "tracegroupgap": 0
        },
        "margin": {
         "t": 60
        },
        "template": {
         "data": {
          "bar": [
           {
            "error_x": {
             "color": "#2a3f5f"
            },
            "error_y": {
             "color": "#2a3f5f"
            },
            "marker": {
             "line": {
              "color": "#E5ECF6",
              "width": 0.5
             },
             "pattern": {
              "fillmode": "overlay",
              "size": 10,
              "solidity": 0.2
             }
            },
            "type": "bar"
           }
          ],
          "barpolar": [
           {
            "marker": {
             "line": {
              "color": "#E5ECF6",
              "width": 0.5
             },
             "pattern": {
              "fillmode": "overlay",
              "size": 10,
              "solidity": 0.2
             }
            },
            "type": "barpolar"
           }
          ],
          "carpet": [
           {
            "aaxis": {
             "endlinecolor": "#2a3f5f",
             "gridcolor": "white",
             "linecolor": "white",
             "minorgridcolor": "white",
             "startlinecolor": "#2a3f5f"
            },
            "baxis": {
             "endlinecolor": "#2a3f5f",
             "gridcolor": "white",
             "linecolor": "white",
             "minorgridcolor": "white",
             "startlinecolor": "#2a3f5f"
            },
            "type": "carpet"
           }
          ],
          "choropleth": [
           {
            "colorbar": {
             "outlinewidth": 0,
             "ticks": ""
            },
            "type": "choropleth"
           }
          ],
          "contour": [
           {
            "colorbar": {
             "outlinewidth": 0,
             "ticks": ""
            },
            "colorscale": [
             [
              0,
              "#0d0887"
             ],
             [
              0.1111111111111111,
              "#46039f"
             ],
             [
              0.2222222222222222,
              "#7201a8"
             ],
             [
              0.3333333333333333,
              "#9c179e"
             ],
             [
              0.4444444444444444,
              "#bd3786"
             ],
             [
              0.5555555555555556,
              "#d8576b"
             ],
             [
              0.6666666666666666,
              "#ed7953"
             ],
             [
              0.7777777777777778,
              "#fb9f3a"
             ],
             [
              0.8888888888888888,
              "#fdca26"
             ],
             [
              1,
              "#f0f921"
             ]
            ],
            "type": "contour"
           }
          ],
          "contourcarpet": [
           {
            "colorbar": {
             "outlinewidth": 0,
             "ticks": ""
            },
            "type": "contourcarpet"
           }
          ],
          "heatmap": [
           {
            "colorbar": {
             "outlinewidth": 0,
             "ticks": ""
            },
            "colorscale": [
             [
              0,
              "#0d0887"
             ],
             [
              0.1111111111111111,
              "#46039f"
             ],
             [
              0.2222222222222222,
              "#7201a8"
             ],
             [
              0.3333333333333333,
              "#9c179e"
             ],
             [
              0.4444444444444444,
              "#bd3786"
             ],
             [
              0.5555555555555556,
              "#d8576b"
             ],
             [
              0.6666666666666666,
              "#ed7953"
             ],
             [
              0.7777777777777778,
              "#fb9f3a"
             ],
             [
              0.8888888888888888,
              "#fdca26"
             ],
             [
              1,
              "#f0f921"
             ]
            ],
            "type": "heatmap"
           }
          ],
          "heatmapgl": [
           {
            "colorbar": {
             "outlinewidth": 0,
             "ticks": ""
            },
            "colorscale": [
             [
              0,
              "#0d0887"
             ],
             [
              0.1111111111111111,
              "#46039f"
             ],
             [
              0.2222222222222222,
              "#7201a8"
             ],
             [
              0.3333333333333333,
              "#9c179e"
             ],
             [
              0.4444444444444444,
              "#bd3786"
             ],
             [
              0.5555555555555556,
              "#d8576b"
             ],
             [
              0.6666666666666666,
              "#ed7953"
             ],
             [
              0.7777777777777778,
              "#fb9f3a"
             ],
             [
              0.8888888888888888,
              "#fdca26"
             ],
             [
              1,
              "#f0f921"
             ]
            ],
            "type": "heatmapgl"
           }
          ],
          "histogram": [
           {
            "marker": {
             "pattern": {
              "fillmode": "overlay",
              "size": 10,
              "solidity": 0.2
             }
            },
            "type": "histogram"
           }
          ],
          "histogram2d": [
           {
            "colorbar": {
             "outlinewidth": 0,
             "ticks": ""
            },
            "colorscale": [
             [
              0,
              "#0d0887"
             ],
             [
              0.1111111111111111,
              "#46039f"
             ],
             [
              0.2222222222222222,
              "#7201a8"
             ],
             [
              0.3333333333333333,
              "#9c179e"
             ],
             [
              0.4444444444444444,
              "#bd3786"
             ],
             [
              0.5555555555555556,
              "#d8576b"
             ],
             [
              0.6666666666666666,
              "#ed7953"
             ],
             [
              0.7777777777777778,
              "#fb9f3a"
             ],
             [
              0.8888888888888888,
              "#fdca26"
             ],
             [
              1,
              "#f0f921"
             ]
            ],
            "type": "histogram2d"
           }
          ],
          "histogram2dcontour": [
           {
            "colorbar": {
             "outlinewidth": 0,
             "ticks": ""
            },
            "colorscale": [
             [
              0,
              "#0d0887"
             ],
             [
              0.1111111111111111,
              "#46039f"
             ],
             [
              0.2222222222222222,
              "#7201a8"
             ],
             [
              0.3333333333333333,
              "#9c179e"
             ],
             [
              0.4444444444444444,
              "#bd3786"
             ],
             [
              0.5555555555555556,
              "#d8576b"
             ],
             [
              0.6666666666666666,
              "#ed7953"
             ],
             [
              0.7777777777777778,
              "#fb9f3a"
             ],
             [
              0.8888888888888888,
              "#fdca26"
             ],
             [
              1,
              "#f0f921"
             ]
            ],
            "type": "histogram2dcontour"
           }
          ],
          "mesh3d": [
           {
            "colorbar": {
             "outlinewidth": 0,
             "ticks": ""
            },
            "type": "mesh3d"
           }
          ],
          "parcoords": [
           {
            "line": {
             "colorbar": {
              "outlinewidth": 0,
              "ticks": ""
             }
            },
            "type": "parcoords"
           }
          ],
          "pie": [
           {
            "automargin": true,
            "type": "pie"
           }
          ],
          "scatter": [
           {
            "fillpattern": {
             "fillmode": "overlay",
             "size": 10,
             "solidity": 0.2
            },
            "type": "scatter"
           }
          ],
          "scatter3d": [
           {
            "line": {
             "colorbar": {
              "outlinewidth": 0,
              "ticks": ""
             }
            },
            "marker": {
             "colorbar": {
              "outlinewidth": 0,
              "ticks": ""
             }
            },
            "type": "scatter3d"
           }
          ],
          "scattercarpet": [
           {
            "marker": {
             "colorbar": {
              "outlinewidth": 0,
              "ticks": ""
             }
            },
            "type": "scattercarpet"
           }
          ],
          "scattergeo": [
           {
            "marker": {
             "colorbar": {
              "outlinewidth": 0,
              "ticks": ""
             }
            },
            "type": "scattergeo"
           }
          ],
          "scattergl": [
           {
            "marker": {
             "colorbar": {
              "outlinewidth": 0,
              "ticks": ""
             }
            },
            "type": "scattergl"
           }
          ],
          "scattermapbox": [
           {
            "marker": {
             "colorbar": {
              "outlinewidth": 0,
              "ticks": ""
             }
            },
            "type": "scattermapbox"
           }
          ],
          "scatterpolar": [
           {
            "marker": {
             "colorbar": {
              "outlinewidth": 0,
              "ticks": ""
             }
            },
            "type": "scatterpolar"
           }
          ],
          "scatterpolargl": [
           {
            "marker": {
             "colorbar": {
              "outlinewidth": 0,
              "ticks": ""
             }
            },
            "type": "scatterpolargl"
           }
          ],
          "scatterternary": [
           {
            "marker": {
             "colorbar": {
              "outlinewidth": 0,
              "ticks": ""
             }
            },
            "type": "scatterternary"
           }
          ],
          "surface": [
           {
            "colorbar": {
             "outlinewidth": 0,
             "ticks": ""
            },
            "colorscale": [
             [
              0,
              "#0d0887"
             ],
             [
              0.1111111111111111,
              "#46039f"
             ],
             [
              0.2222222222222222,
              "#7201a8"
             ],
             [
              0.3333333333333333,
              "#9c179e"
             ],
             [
              0.4444444444444444,
              "#bd3786"
             ],
             [
              0.5555555555555556,
              "#d8576b"
             ],
             [
              0.6666666666666666,
              "#ed7953"
             ],
             [
              0.7777777777777778,
              "#fb9f3a"
             ],
             [
              0.8888888888888888,
              "#fdca26"
             ],
             [
              1,
              "#f0f921"
             ]
            ],
            "type": "surface"
           }
          ],
          "table": [
           {
            "cells": {
             "fill": {
              "color": "#EBF0F8"
             },
             "line": {
              "color": "white"
             }
            },
            "header": {
             "fill": {
              "color": "#C8D4E3"
             },
             "line": {
              "color": "white"
             }
            },
            "type": "table"
           }
          ]
         },
         "layout": {
          "annotationdefaults": {
           "arrowcolor": "#2a3f5f",
           "arrowhead": 0,
           "arrowwidth": 1
          },
          "autotypenumbers": "strict",
          "coloraxis": {
           "colorbar": {
            "outlinewidth": 0,
            "ticks": ""
           }
          },
          "colorscale": {
           "diverging": [
            [
             0,
             "#8e0152"
            ],
            [
             0.1,
             "#c51b7d"
            ],
            [
             0.2,
             "#de77ae"
            ],
            [
             0.3,
             "#f1b6da"
            ],
            [
             0.4,
             "#fde0ef"
            ],
            [
             0.5,
             "#f7f7f7"
            ],
            [
             0.6,
             "#e6f5d0"
            ],
            [
             0.7,
             "#b8e186"
            ],
            [
             0.8,
             "#7fbc41"
            ],
            [
             0.9,
             "#4d9221"
            ],
            [
             1,
             "#276419"
            ]
           ],
           "sequential": [
            [
             0,
             "#0d0887"
            ],
            [
             0.1111111111111111,
             "#46039f"
            ],
            [
             0.2222222222222222,
             "#7201a8"
            ],
            [
             0.3333333333333333,
             "#9c179e"
            ],
            [
             0.4444444444444444,
             "#bd3786"
            ],
            [
             0.5555555555555556,
             "#d8576b"
            ],
            [
             0.6666666666666666,
             "#ed7953"
            ],
            [
             0.7777777777777778,
             "#fb9f3a"
            ],
            [
             0.8888888888888888,
             "#fdca26"
            ],
            [
             1,
             "#f0f921"
            ]
           ],
           "sequentialminus": [
            [
             0,
             "#0d0887"
            ],
            [
             0.1111111111111111,
             "#46039f"
            ],
            [
             0.2222222222222222,
             "#7201a8"
            ],
            [
             0.3333333333333333,
             "#9c179e"
            ],
            [
             0.4444444444444444,
             "#bd3786"
            ],
            [
             0.5555555555555556,
             "#d8576b"
            ],
            [
             0.6666666666666666,
             "#ed7953"
            ],
            [
             0.7777777777777778,
             "#fb9f3a"
            ],
            [
             0.8888888888888888,
             "#fdca26"
            ],
            [
             1,
             "#f0f921"
            ]
           ]
          },
          "colorway": [
           "#636efa",
           "#EF553B",
           "#00cc96",
           "#ab63fa",
           "#FFA15A",
           "#19d3f3",
           "#FF6692",
           "#B6E880",
           "#FF97FF",
           "#FECB52"
          ],
          "font": {
           "color": "#2a3f5f"
          },
          "geo": {
           "bgcolor": "white",
           "lakecolor": "white",
           "landcolor": "#E5ECF6",
           "showlakes": true,
           "showland": true,
           "subunitcolor": "white"
          },
          "hoverlabel": {
           "align": "left"
          },
          "hovermode": "closest",
          "mapbox": {
           "style": "light"
          },
          "paper_bgcolor": "white",
          "plot_bgcolor": "#E5ECF6",
          "polar": {
           "angularaxis": {
            "gridcolor": "white",
            "linecolor": "white",
            "ticks": ""
           },
           "bgcolor": "#E5ECF6",
           "radialaxis": {
            "gridcolor": "white",
            "linecolor": "white",
            "ticks": ""
           }
          },
          "scene": {
           "xaxis": {
            "backgroundcolor": "#E5ECF6",
            "gridcolor": "white",
            "gridwidth": 2,
            "linecolor": "white",
            "showbackground": true,
            "ticks": "",
            "zerolinecolor": "white"
           },
           "yaxis": {
            "backgroundcolor": "#E5ECF6",
            "gridcolor": "white",
            "gridwidth": 2,
            "linecolor": "white",
            "showbackground": true,
            "ticks": "",
            "zerolinecolor": "white"
           },
           "zaxis": {
            "backgroundcolor": "#E5ECF6",
            "gridcolor": "white",
            "gridwidth": 2,
            "linecolor": "white",
            "showbackground": true,
            "ticks": "",
            "zerolinecolor": "white"
           }
          },
          "shapedefaults": {
           "line": {
            "color": "#2a3f5f"
           }
          },
          "ternary": {
           "aaxis": {
            "gridcolor": "white",
            "linecolor": "white",
            "ticks": ""
           },
           "baxis": {
            "gridcolor": "white",
            "linecolor": "white",
            "ticks": ""
           },
           "bgcolor": "#E5ECF6",
           "caxis": {
            "gridcolor": "white",
            "linecolor": "white",
            "ticks": ""
           }
          },
          "title": {
           "x": 0.05
          },
          "xaxis": {
           "automargin": true,
           "gridcolor": "white",
           "linecolor": "white",
           "ticks": "",
           "title": {
            "standoff": 15
           },
           "zerolinecolor": "white",
           "zerolinewidth": 2
          },
          "yaxis": {
           "automargin": true,
           "gridcolor": "white",
           "linecolor": "white",
           "ticks": "",
           "title": {
            "standoff": 15
           },
           "zerolinecolor": "white",
           "zerolinewidth": 2
          }
         }
        }
       }
      }
     },
     "metadata": {},
     "output_type": "display_data"
    }
   ],
   "source": [
    "map_df = gapminder_df.query('Year == 2023')\n",
    "\n",
    "fig = px.scatter_geo(\n",
    "    map_df,\n",
    "    lat = 'Latitude',         # Column for latitude coordinates\n",
    "    lon = 'Longitude',        # Column for longitude coordinates   \n",
    "    size='Population',           # Column for bubble size (population)\n",
    "    color='region',              # Column for bubble color (world regions)\n",
    "    hover_name='Country',        # Column for Country name on hover\n",
    "    scope='world',               # Map scope (e.g., 'world', 'asia', 'europe')\n",
    "    size_max = 50\n",
    ")\n",
    "fig.show()"
   ]
  }
 ],
 "metadata": {
  "kernelspec": {
   "display_name": "base",
   "language": "python",
   "name": "python3"
  },
  "language_info": {
   "codemirror_mode": {
    "name": "ipython",
    "version": 3
   },
   "file_extension": ".py",
   "mimetype": "text/x-python",
   "name": "python",
   "nbconvert_exporter": "python",
   "pygments_lexer": "ipython3",
   "version": "3.12.4"
  }
 },
 "nbformat": 4,
 "nbformat_minor": 5
}
