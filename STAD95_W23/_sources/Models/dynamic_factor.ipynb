{
  "nbformat": 4,
  "nbformat_minor": 0,
  "metadata": {
    "colab": {
      "provenance": []
    },
    "kernelspec": {
      "name": "python3",
      "display_name": "Python 3"
    },
    "language_info": {
      "name": "python"
    }
  },
  "cells": [
    {
      "cell_type": "code",
      "source": [
        "import statsmodels.api as sm\n",
        "import statsmodels.tsa.statespace as statespace\n",
        "from statsmodels.tsa.statespace.dynamic_factor import DynamicFactor\n",
        "import pandas as pd\n",
        "import numpy as np\n",
        "import datetime\n",
        "import os\n",
        "import seaborn as sns\n",
        "import matplotlib.pyplot as plt\n",
        "from sklearn import model_selection\n",
        "from sklearn.preprocessing import MinMaxScaler"
      ],
      "metadata": {
        "id": "uiuNzMVNluPt"
      },
      "execution_count": null,
      "outputs": []
    },
    {
      "cell_type": "code",
      "execution_count": null,
      "metadata": {
        "id": "Hnf5tmh6lOlB"
      },
      "outputs": [],
      "source": [
        "df = pd.read_csv('final_daily.csv')\n",
        "df['date']=pd.to_datetime(df['date'])\n",
        "df=df[df['date']<datetime.datetime(2023,1,1)]"
      ]
    },
    {
      "cell_type": "code",
      "source": [
        "df1=df[['date','price']]\n",
        "df2=df[['date','demand']]"
      ],
      "metadata": {
        "id": "yH3s1fRKl13f"
      },
      "execution_count": null,
      "outputs": []
    },
    {
      "cell_type": "code",
      "source": [
        "price_train=df1[df1['date']<datetime.datetime(2022,1,1)]\n",
        "price_test=df1[df1['date']>=datetime.datetime(2022,1,1)]\n",
        "demand_train=df2[df2['date']<datetime.datetime(2022,1,1)]\n",
        "demand_test=df2[df2['date']>=datetime.datetime(2022,1,1)]"
      ],
      "metadata": {
        "id": "-Z5CfMjil5vT"
      },
      "execution_count": null,
      "outputs": []
    },
    {
      "cell_type": "code",
      "source": [
        "price_train2 = price_train.drop(['date'], axis = 1)"
      ],
      "metadata": {
        "id": "lU9pDCPysrsS"
      },
      "execution_count": null,
      "outputs": []
    },
    {
      "cell_type": "code",
      "source": [
        "# price_train=price_train.set_index('Date')\n",
        "# price_test=price_test.set_index('Date')\n",
        "# demand_train=demand_train.set_index('Date')\n",
        "# demand_test=demand_test.set_index('Date')"
      ],
      "metadata": {
        "id": "0L9UlwkQl6HV"
      },
      "execution_count": null,
      "outputs": []
    },
    {
      "cell_type": "code",
      "source": [
        "# scaler = MinMaxScaler()\n",
        "# price_train_tmp = scaler.fit_transform(price_train)\n",
        "# price_test_tmp = scaler.transform(price_test)"
      ],
      "metadata": {
        "id": "LLoJ0flRpGzu"
      },
      "execution_count": null,
      "outputs": []
    },
    {
      "cell_type": "code",
      "source": [
        "# price_train['Price'] = price_train_tmp\n",
        "# price_test['Price'] = price_test_tmp"
      ],
      "metadata": {
        "id": "BDzvyza-p3zl"
      },
      "execution_count": null,
      "outputs": []
    },
    {
      "cell_type": "code",
      "source": [
        "# # Create a dynamic factor model\n",
        "# mod_dfm = sm.tsa.DynamicFactorMQ(price_train, k_factors=1, factor_order=2)\n",
        "# # Note that mod_dfm is an instance of the DynamicFactorMQ class\n",
        "\n",
        "# # Fit the model via maximum likelihood, using the EM algorithm\n",
        "# res_dfm = mod_dfm.fit()\n",
        "# # Note that res_dfm is an instance of the DynamicFactorMQResults class\n",
        "\n",
        "# # Show the summary of results\n",
        "# print(res_dfm.summary())\n",
        "\n",
        "# forecast = res_dfm.predict(start = datetime.datetime(2022,1,1),end=datetime.datetime(2023,1,1),dynamic=True)\n",
        "# forecast = scaler.inverse_transform(np.array(forecast).reshape(-1, 1))\n",
        "# forecast = pd.DataFrame(forecast).rename(columns={'predicted_mean':'Price'})\n",
        "# MSE = np.square(forecast-price_test).mean()"
      ],
      "metadata": {
        "id": "q9_KJTyLl_xf"
      },
      "execution_count": null,
      "outputs": []
    },
    {
      "cell_type": "code",
      "source": [
        "# dat = pd.concat([price_train, demand_train], axis=1)\n",
        "# scaler2 = MinMaxScaler()\n",
        "# dat = scaler2.fit_transform(dat)\n",
        "\n",
        "# m = DynamicFactor(dat, k_factors=1, factor_order=1)\n",
        "# r = m.fit()\n",
        "# prediction = r.get_forecast(8760)\n",
        "\n",
        "# print(prediction.prediction_results.filtered_state)\n",
        "\n",
        "# prediction = np.array(prediction.prediction_results.forecasts).reshape(-1, 2)\n",
        "\n",
        "# prediction = scaler2.inverse_transform(prediction)"
      ],
      "metadata": {
        "id": "R86a6dnLnO5k"
      },
      "execution_count": null,
      "outputs": []
    },
    {
      "cell_type": "code",
      "source": [
        "dfm_forecast = pd.DataFrame()\n",
        "\n",
        "for i in range(-365, 0):\n",
        "    # Create a dynamic factor model\n",
        "    mod_dfm = sm.tsa.DynamicFactorMQ(df['price'].iloc[:len(df) + i], k_factors=1, factor_order=24)\n",
        "\n",
        "    # mod_dfm = sm.tsa.DynamicFactorMQ(df['demand'].iloc[:len(df) + i], k_factors=1, factor_order=24)\n",
        "\n",
        "    # Fit the model via maximum likelihood, using the EM algorithm\n",
        "    res_dfm = mod_dfm.fit()\n",
        "\n",
        "    forecast = res_dfm.forecast(steps=1)\n",
        "    dfm_forecast = pd.concat([dfm_forecast, forecast])"
      ],
      "metadata": {
        "id": "NLIoJFNUqmf4"
      },
      "execution_count": null,
      "outputs": []
    },
    {
      "cell_type": "code",
      "source": [
        "plt.plot(price_test['price'].reset_index(drop=True), label='Truth')\n",
        "# plt.plot(demand_test['demand'].reset_index(drop=True), label='Truth')\n",
        "plt.plot(dfm_forecast.values[:, 0], label='Prediction')\n",
        "plt.legend()"
      ],
      "metadata": {
        "colab": {
          "base_uri": "https://localhost:8080/",
          "height": 282
        },
        "id": "RgWlU0AJqb9z",
        "outputId": "2e534b2f-2d9e-47b3-a301-1c21ba8e2042"
      },
      "execution_count": null,
      "outputs": [
        {
          "output_type": "execute_result",
          "data": {
            "text/plain": [
              "<matplotlib.legend.Legend at 0x7fbed7d0fe80>"
            ]
          },
          "metadata": {},
          "execution_count": 29
        },
        {
          "output_type": "display_data",
          "data": {
            "text/plain": [
              "<Figure size 432x288 with 1 Axes>"
            ],
            "image/png": "[encoded data removed]"
          },
          "metadata": {
            "needs_background": "light"
          }
        }
      ]
    },
    {
      "cell_type": "code",
      "source": [
        "np.square(dfm_forecast.values.reshape(-1, 1) - price_test['price'].values.reshape(-1, 1)).mean()\n",
        "# np.square(dfm_forecast.values.reshape(-1, 1) - demand_test['demand'].values.reshape(-1, 1)).mean()"
      ],
      "metadata": {
        "colab": {
          "base_uri": "https://localhost:8080/"
        },
        "id": "_r_KAx9BBib0",
        "outputId": "3bda4a89-90b7-488b-c82a-5903deb2ec41"
      },
      "execution_count": null,
      "outputs": [
        {
          "output_type": "execute_result",
          "data": {
            "text/plain": [
              "301.6543532276139"
            ]
          },
          "metadata": {},
          "execution_count": 30
        }
      ]
    },
    {
      "cell_type": "code",
      "source": [
        "np.abs(dfm_forecast.values.reshape(-1, 1) - price_test['price'].values.reshape(-1, 1)).mean()\n",
        "# np.abs(dfm_forecast.values.reshape(-1, 1) - demand_test['demand'].values.reshape(-1, 1)).mean()"
      ],
      "metadata": {
        "colab": {
          "base_uri": "https://localhost:8080/"
        },
        "id": "bmYibb4zDDVK",
        "outputId": "f3f44079-1e48-428d-c8a5-f3dbfe1570d5"
      },
      "execution_count": null,
      "outputs": [
        {
          "output_type": "execute_result",
          "data": {
            "text/plain": [
              "13.308240807160207"
            ]
          },
          "metadata": {},
          "execution_count": 31
        }
      ]
    },
    {
      "cell_type": "code",
      "source": [
        "def mape(x, y):\n",
        "  error = abs(x-y)/abs(x)\n",
        "  error[error > 1] = 1\n",
        "  return np.mean(error)\n",
        "\n",
        "mape(dfm_forecast.values.reshape(-1, 1), price_test['price'].values.reshape(-1, 1))\n",
        "# mape(dfm_forecast.values.reshape(-1, 1),demand_test['demand'].values.reshape(-1, 1))"
      ],
      "metadata": {
        "colab": {
          "base_uri": "https://localhost:8080/"
        },
        "id": "I7esXLdvpPmz",
        "outputId": "5aece1d9-3af5-4bf7-9aff-287a6ee348d8"
      },
      "execution_count": null,
      "outputs": [
        {
          "output_type": "execute_result",
          "data": {
            "text/plain": [
              "0.37625822934836045"
            ]
          },
          "metadata": {},
          "execution_count": 32
        }
      ]
    },
    {
      "cell_type": "code",
      "source": [
        "# np.square(df[\"1_lag_pred\"].tail(365) - price_test['price'].values).mean()"
      ],
      "metadata": {
        "id": "3WQEhjFPCroW"
      },
      "execution_count": null,
      "outputs": []
    },
    {
      "cell_type": "code",
      "source": [
        "# np.abs(df[\"1_lag_pred\"].tail(365) - price_test['price'].values).mean()"
      ],
      "metadata": {
        "id": "fzOv531SDFon"
      },
      "execution_count": null,
      "outputs": []
    }
  ]
}