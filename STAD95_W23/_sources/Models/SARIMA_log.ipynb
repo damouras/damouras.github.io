{
 "cells": [
  {
   "cell_type": "code",
   "execution_count": 1,
   "metadata": {},
   "outputs": [
    {
     "name": "stderr",
     "output_type": "stream",
     "text": [
      "/opt/anaconda3/lib/python3.8/site-packages/pandas/core/computation/expressions.py:20: UserWarning: Pandas requires version '2.7.3' or newer of 'numexpr' (version '2.7.1' currently installed).\n",
      "  from pandas.core.computation.check import NUMEXPR_INSTALLED\n"
     ]
    }
   ],
   "source": [
    "%load_ext rpy2.ipython"
   ]
  },
  {
   "cell_type": "code",
   "execution_count": 2,
   "metadata": {},
   "outputs": [
    {
     "name": "stderr",
     "output_type": "stream",
     "text": [
      "R[write to console]: Loading required package: zoo\n",
      "\n",
      "R[write to console]: \n",
      "Attaching package: ‘zoo’\n",
      "\n",
      "\n",
      "R[write to console]: The following objects are masked from ‘package:base’:\n",
      "\n",
      "    as.Date, as.Date.numeric\n",
      "\n",
      "\n",
      "R[write to console]: \n",
      "Attaching package: ‘lubridate’\n",
      "\n",
      "\n",
      "R[write to console]: The following objects are masked from ‘package:base’:\n",
      "\n",
      "    date, intersect, setdiff, union\n",
      "\n",
      "\n"
     ]
    }
   ],
   "source": [
    "%%R\n",
    "raw = read.csv(\"final_daily.csv\")\n",
    "library(xts)\n",
    "library(lubridate)\n",
    "\n",
    "date_time = as_datetime(raw[,1])\n",
    "price = xts( x = raw[,\"price\"], order.by = date_time) \n",
    "demand = xts( x = raw[,\"demand\"], order.by = date_time) \n",
    "\n",
    "demand_train = demand[\"2020/2021\"]; demand_test = demand[\"2022\"]\n",
    "price_train = price[\"2020/2021\"]; price_test = price[\"2022\"]\n",
    "\n",
    "perf = matrix(0, nrow = 3, ncol = 4 )\n",
    "rownames(perf) = c(\"Constant\", \"SARIMA\", \"EWMA\")\n",
    "colnames(perf) = c(\"Demand | MAE\", \"Demand | MSE\", \"Price | MAE\", \"Price|MSE\")\n",
    "\n",
    "perf[1,1] = mean( abs( demand_test - mean(demand_train) ) )\n",
    "perf[1,2] = mean( ( demand_test - mean(demand_train) )^2 )\n",
    "perf[1,3] = mean( abs( price_test - mean(price_train) ) )\n",
    "perf[1,4] = mean( ( price_test - mean(price_train) )^2 )"
   ]
  },
  {
   "cell_type": "code",
   "execution_count": 3,
   "metadata": {},
   "outputs": [
    {
     "name": "stderr",
     "output_type": "stream",
     "text": [
      "R[write to console]: Registered S3 method overwritten by 'quantmod':\n",
      "  method            from\n",
      "  as.zoo.data.frame zoo \n",
      "\n"
     ]
    }
   ],
   "source": [
    "%%R\n",
    "#### Demand ####\n",
    "\n",
    "library(forecast)\n",
    "library(tictoc)\n",
    "# tic(\"auto.arima\")\n",
    "demand_train = log(demand_train)\n",
    "demand_test = log(demand_test)\n",
    "out = auto.arima( ts(demand_train), seasonal = TRUE )\n",
    "## ARIMA(2,0,0)(2,1,0)[24] with drift \n",
    "# toc() \n",
    "## auto.arima: 109.06 sec elapsed ~ 2min\n",
    "demand_fitd = xts( as.numeric(out$fitted), order.by = time(demand_train) )\n",
    "\n",
    "# plot(demand_train); lines(demand_fitd, col = 2)\n",
    "\n",
    "# For 1-step-ahead ARIMA predictions using same model while updating  data\n",
    "# see: https://stats.stackexchange.com/questions/55168/one-step-ahead-forecast-with-new-data-collected-sequentially\n",
    "newfit = Arima( ts( c(demand_train, demand_test)), model = out)\n",
    "\n",
    "library(magrittr)\n",
    "demand_pred = tail( as.numeric(newfit$fitted), n = length(demand_test) ) %>%\n",
    "  xts(x = ., order.by = time(demand_test))\n",
    "\n",
    "demand_test=exp(demand_test)\n",
    "demand_pred=exp(demand_pred)\n",
    "plot(demand_test); lines(demand_pred, col = 2)\n",
    "\n",
    "# In-sample \n",
    "mean( ( demand_train - demand_fitd )^2 )\n",
    "mean( abs( demand_train - demand_fitd ) )\n",
    "\n",
    "# Out-of-sample MAE\n",
    "perf[2,1] = mean( abs( demand_test - demand_pred ) )\n",
    "perf[2,2] = mean( ( demand_test - demand_pred )^2 )"
   ]
  },
  {
   "cell_type": "code",
   "execution_count": 4,
   "metadata": {},
   "outputs": [
    {
     "name": "stdout",
     "output_type": "stream",
     "text": [
      "         Demand | MAE Demand | MSE Price | MAE Price|MSE\n",
      "Constant     34098.96   1623311682    27.84997 1192.8106\n",
      "SARIMA       14370.43    328902644    12.64742  272.3258\n",
      "EWMA             0.00            0     0.00000    0.0000\n"
     ]
    }
   ],
   "source": [
    "%%R\n",
    "#### Price  ####\n",
    "price_train=log(price_train+5)\n",
    "price_test=log(price_test+5)\n",
    "out = auto.arima( ts(price_train), seasonal = TRUE)\n",
    "## ARIMA(1,1,3)(0,0,2)[24] \n",
    "price_fitd = xts( as.numeric(out$fitted), order.by = time(price_train) )\n",
    "price_fitd\n",
    "\n",
    "newfit = Arima( ts( c(price_train, price_test)), model = out)\n",
    "newfit\n",
    "\n",
    "price_pred = tail( as.numeric(newfit$fitted), n = length(price_test) ) %>%\n",
    "  xts(x = ., order.by = time(price_test))\n",
    "\n",
    "price_pred=exp(price_pred)\n",
    "price_test=exp(price_test)\n",
    "plot(price_test); lines(price_pred, col = 2)\n",
    "\n",
    "# In-sample \n",
    "mean( ( price_train - price_fitd )^2 )\n",
    "mean( abs( price_train - price_fitd ) )\n",
    "\n",
    "# Out-of-sample MAE\n",
    "perf[2,3] = mean( abs( price_test - price_pred ) )\n",
    "perf[2,4] = mean( ( price_test - price_pred )^2 )\n",
    "perf"
   ]
  },
  {
   "cell_type": "code",
   "execution_count": 5,
   "metadata": {},
   "outputs": [
    {
     "name": "stdout",
     "output_type": "stream",
     "text": [
      "[1] 0.03841707\n"
     ]
    }
   ],
   "source": [
    "%%R\n",
    "error = abs(demand_test-demand_pred)/abs(demand_test)\n",
    "error[error > 1] = 1\n",
    "mean(error)"
   ]
  },
  {
   "cell_type": "code",
   "execution_count": 6,
   "metadata": {},
   "outputs": [
    {
     "name": "stdout",
     "output_type": "stream",
     "text": [
      "[1] 0.3002373\n"
     ]
    }
   ],
   "source": [
    "%%R\n",
    "error = abs(price_test-price_pred)/abs(price_test)\n",
    "error[error > 1] = 1\n",
    "mean(error)"
   ]
  }
 ],
 "metadata": {
  "kernelspec": {
   "display_name": "Python 3",
   "language": "python",
   "name": "python3"
  },
  "language_info": {
   "codemirror_mode": {
    "name": "ipython",
    "version": 3
   },
   "file_extension": ".py",
   "mimetype": "text/x-python",
   "name": "python",
   "nbconvert_exporter": "python",
   "pygments_lexer": "ipython3",
   "version": "3.8.5"
  }
 },
 "nbformat": 4,
 "nbformat_minor": 4
}
