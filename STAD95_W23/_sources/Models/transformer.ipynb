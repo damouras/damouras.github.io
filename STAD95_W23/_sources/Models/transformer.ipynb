{
  "cells": [
    {
      "cell_type": "code",
      "execution_count": null,
      "metadata": {
        "colab": {
          "base_uri": "https://localhost:8080/"
        },
        "id": "ooPclHwFChG2",
        "outputId": "3fd5364d-17e0-4957-afd3-e160ed33dcb7"
      },
      "outputs": [
        {
          "output_type": "execute_result",
          "data": {
            "text/plain": [
              "<torch._C.Generator at 0x7f260dcaa8f0>"
            ]
          },
          "metadata": {},
          "execution_count": 1
        }
      ],
      "source": [
        "#import required libraries\n",
        "import numpy as np\n",
        "import pandas as pd\n",
        "import matplotlib.pyplot as plt\n",
        "import matplotlib as mpl\n",
        "import math\n",
        "import random\n",
        "\n",
        "from sklearn.base import BaseEstimator\n",
        "from sklearn.base import TransformerMixin\n",
        "from sklearn.preprocessing import MinMaxScaler\n",
        "from sklearn.metrics import mean_squared_error\n",
        "\n",
        "import torch\n",
        "import torch.nn as nn\n",
        "from torch.utils.data import TensorDataset, DataLoader\n",
        "from torch.utils.data import Dataset\n",
        "import torch.optim as optim\n",
        "import torch.distributions as distributions\n",
        "from torch.nn.utils.rnn import pad_sequence, pack_padded_sequence, pad_packed_sequence\n",
        "import torch.nn.functional as F\n",
        "from torch.nn import Module, Parameter\n",
        "from datetime import datetime as dt\n",
        "import datetime\n",
        "\n",
        "device = \"cuda\" if torch.cuda.is_available() else \"cpu\"\n",
        "seed = 67686970\n",
        "random.seed(seed)\n",
        "torch.manual_seed(seed)"
      ]
    },
    {
      "cell_type": "code",
      "execution_count": null,
      "metadata": {
        "id": "94SrZ7Nv7pxi"
      },
      "outputs": [],
      "source": [
        "def read_data():\n",
        "  # Load CSV into dataframe and format\n",
        "  df = pd.read_csv('final_daily.csv')\n",
        "  df['date']=pd.to_datetime(df['date'])\n",
        "  df=df[df['date']<datetime.datetime(2023,1,1)]\n",
        "\n",
        "  variable = ['price', 'demand']\n",
        "\n",
        "  scaler = MinMaxScaler()\n",
        "  df[variable] = scaler.fit_transform(df[variable].values.reshape(-1, len(variable)))\n",
        "\n",
        "  VAL_PERC = 0.30\n",
        "\n",
        "  n_train = int(len(df[:-365]) * (1 - VAL_PERC))\n",
        "\n",
        "  dataframe_train = df[variable][0:n_train]\n",
        "  train_df = dataframe_train.values.reshape(-1, len(variable))\n",
        "\n",
        "  dataframe_val = df[variable][n_train:-365]\n",
        "  val_df = dataframe_val.values.reshape(-1, len(variable))\n",
        "\n",
        "  dataframe_test = df[variable][-365:]\n",
        "  test_df = dataframe_test.values.reshape(-1, len(variable))\n",
        "\n",
        "  dataframe_dataset = df[variable][0:df.shape[0]]\n",
        "  dataset= dataframe_dataset.values.reshape(-1, len(variable))\n",
        "\n",
        "  return df, train_df, val_df, test_df, dataset, scaler"
      ]
    },
    {
      "cell_type": "code",
      "execution_count": null,
      "metadata": {
        "id": "PRv7QZoUuAtH"
      },
      "outputs": [],
      "source": [
        "def to_sequences(dataset, seq_size): # seq_size is Number of time steps to look back \n",
        "                                       #Larger sequences (look further back) may improve forecasting.\n",
        "    x = []\n",
        "    y = []\n",
        "\n",
        "    for i in range(len(dataset)-seq_size-1):\n",
        "        window = dataset[i:(i+seq_size), :]\n",
        "        x.append(window)\n",
        "        y.append(dataset[i+seq_size, :])\n",
        "    print(np.array(x).shape)\n",
        "        \n",
        "    return np.array(x),np.array(y)"
      ]
    },
    {
      "cell_type": "code",
      "execution_count": null,
      "metadata": {
        "id": "JEmerwNpn14P"
      },
      "outputs": [],
      "source": [
        "class EarlyStopping:\n",
        "    \"\"\"Early stops the training if validation loss doesn't improve after a given patience.\"\"\"\n",
        "    def __init__(self, patience=7, verbose=False, delta=0):\n",
        "        \"\"\"\n",
        "        Args:\n",
        "            patience (int): How long to wait after last time validation loss improved.\n",
        "                            Default: 7\n",
        "            verbose (bool): If True, prints a message for each validation loss improvement. \n",
        "                            Default: False\n",
        "            delta (float): Minimum change in the monitored quantity to qualify as an improvement.\n",
        "                            Default: 0\n",
        "        \"\"\"\n",
        "        self.patience = patience\n",
        "        self.verbose = verbose\n",
        "        self.counter = 0\n",
        "        self.best_score = None\n",
        "        self.early_stop = False\n",
        "        self.val_loss_min = np.Inf\n",
        "        self.delta = delta\n",
        "\n",
        "    def __call__(self, val_loss):\n",
        "\n",
        "        score = -val_loss\n",
        "\n",
        "        if self.best_score is None:\n",
        "            self.best_score = score\n",
        "        elif score < self.best_score + self.delta:\n",
        "            self.counter += 1\n",
        "            print(f'EarlyStopping counter: {self.counter} out of {self.patience}')\n",
        "            if self.counter >= self.patience:\n",
        "                self.early_stop = True\n",
        "        else:\n",
        "            self.best_score = score\n",
        "            self.counter = 0"
      ]
    },
    {
      "cell_type": "code",
      "execution_count": null,
      "metadata": {
        "id": "6wD6kP89DFVE"
      },
      "outputs": [],
      "source": [
        "class PositionalEncoding(nn.Module):\n",
        "\n",
        "    def __init__(self, d_model, max_len=10000):\n",
        "        super(PositionalEncoding, self).__init__()       \n",
        "        pe = torch.zeros(max_len, d_model)\n",
        "        position = torch.arange(0, max_len, dtype=torch.float).unsqueeze(1)\n",
        "        div_term = torch.exp(torch.arange(0, d_model, 2).float() * (-math.log(10000.0) / d_model))\n",
        "        pe[:, 0::2] = torch.sin(position * div_term)\n",
        "        pe[:, 1::2] = torch.cos(position * div_term)\n",
        "        pe = pe.unsqueeze(0).transpose(0, 1)\n",
        "        self.register_buffer('pe', pe)\n",
        "\n",
        "    def forward(self, x):\n",
        "        return x + self.pe[:x.size(0), :]        "
      ]
    },
    {
      "cell_type": "code",
      "execution_count": null,
      "metadata": {
        "id": "SvozVVbqHZ-K"
      },
      "outputs": [],
      "source": [
        "class Transformer(nn.Module):\n",
        "    def __init__(self, d_model, feature_size=250, num_layers=1, n_heads=2, dimfeedforward=512, dropout=0.1):\n",
        "        super(Transformer, self).__init__()\n",
        "        \n",
        "        self.src_mask = None\n",
        "        self.d_model = d_model\n",
        "        self.project_inp = nn.Linear(feature_size, d_model)\n",
        "        self.pos_encoder = PositionalEncoding(d_model)\n",
        "        self.encoder_layer = nn.TransformerEncoderLayer(d_model=d_model, nhead=n_heads, dropout=dropout, dim_feedforward=dimfeedforward)\n",
        "        self.transformer_encoder = nn.TransformerEncoder(self.encoder_layer, num_layers=num_layers)\n",
        "        self.ln1 = nn.Linear(d_model, 512)\n",
        "        self.ln2 = nn.Linear(512, 256)\n",
        "        self.decoder = nn.Linear(256, feature_size)\n",
        "        self.relu = nn.ReLU()\n",
        "        self.dropout = nn.Dropout(0.05)\n",
        "        self.init_weights()\n",
        "\n",
        "    def init_weights(self):\n",
        "        initrange = 0.1\n",
        "        self.decoder.bias.data.zero_()\n",
        "        self.decoder.weight.data.uniform_(-initrange, initrange)\n",
        "\n",
        "    def forward(self, src):\n",
        "        if self.src_mask is None or self.src_mask.size(0) != len(src):\n",
        "            device = src.device\n",
        "            mask = self._generate_square_subsequent_mask(seq_size).to(device)\n",
        "            self.src_mask = mask\n",
        "\n",
        "        src = src.view(1, 2, -1)\n",
        "        #src = src.view(src.size()[0], 2, -1)\n",
        "        src = src.permute(2, 0, 1)\n",
        "        src = self.project_inp(src) * math.sqrt(self.d_model)\n",
        "        src = self.pos_encoder(src)\n",
        "        output = self.transformer_encoder(src,self.src_mask)\n",
        "        #output = self.activation(output)\n",
        "        output = output.permute(1, 2, 0)\n",
        "        output = self.ln1(output[:, -1, :])\n",
        "        output = self.dropout(self.relu(output))\n",
        "        output = self.ln2(output)\n",
        "        output = self.dropout(self.relu(output))\n",
        "        output = self.decoder(output)\n",
        "        return output\n",
        "\n",
        "    def _generate_square_subsequent_mask(self, sz):\n",
        "        mask = (torch.triu(torch.ones(sz, sz)) == 1).transpose(0, 1)\n",
        "        mask = mask.float().masked_fill(mask == 0, float('-inf')).masked_fill(mask == 1, float(0.0))\n",
        "        return mask"
      ]
    },
    {
      "cell_type": "code",
      "execution_count": null,
      "metadata": {
        "id": "FLt9qwdbzv7u"
      },
      "outputs": [],
      "source": [
        "class Optimization:\n",
        "    def __init__(self, model, loss_fn, optimizer):\n",
        "        self.model = model\n",
        "        self.loss_fn = loss_fn\n",
        "        self.optimizer = optimizer\n",
        "        self.train_losses = []\n",
        "        self.val_losses = []\n",
        "    \n",
        "    def train_step(self, x, y):\n",
        "        # Sets model to train mode\n",
        "        x = torch.squeeze(x)\n",
        "\n",
        "        self.model.train()\n",
        "\n",
        "        # Makes predictions\n",
        "        yhat = self.model(x)\n",
        "\n",
        "        # Computes loss\n",
        "        loss = self.loss_fn(y, yhat)\n",
        "\n",
        "        # Computes gradients\n",
        "        loss.backward()\n",
        "\n",
        "        # Updates parameters and zeroes gradients\n",
        "        self.optimizer.step()\n",
        "        self.optimizer.zero_grad()\n",
        "\n",
        "        torch.nn.utils.clip_grad_norm_(model.parameters(), 0.25)\n",
        "\n",
        "\n",
        "        # Returns the loss\n",
        "        return yhat, loss.item()\n",
        "\n",
        "\n",
        "    def train(self, train_loader, val_loader, batch_size=64, n_epochs=50, n_features=1):\n",
        "      early_stopping = EarlyStopping(patience=15)\n",
        "\n",
        "\n",
        "      for epoch in range(1, n_epochs + 1):\n",
        "          train_pred = []\n",
        "          val_pred = []\n",
        "          batch_losses = []\n",
        "          validation_loss = 0\n",
        "          training_loss = 0\n",
        "          for x_batch, y_batch in train_loader:\n",
        "              x_batch = x_batch.view([batch_size, -1, n_features]).to(device)\n",
        "              y_batch = y_batch.to(device)\n",
        "              yhat, loss = self.train_step(x_batch, y_batch)\n",
        "              batch_losses.append(loss)\n",
        "              train_pred.append(yhat.detach().numpy())\n",
        "          training_loss = np.mean(batch_losses)\n",
        "          self.train_losses.append(training_loss)\n",
        "\n",
        "          with torch.no_grad():\n",
        "              batch_val_losses = []\n",
        "              for x_val, y_val in val_loader:\n",
        "                  x_val = x_val.view([batch_size, -1, n_features]).to(device)\n",
        "                  y_val = y_val.to(device)\n",
        "                  self.model.eval()\n",
        "                  yhat = self.model(x_val)\n",
        "                  val_loss = self.loss_fn(y_val, yhat).item()\n",
        "                  batch_val_losses.append(val_loss)\n",
        "                  val_pred.append(yhat.numpy())\n",
        "              validation_loss = np.mean(batch_val_losses)\n",
        "              self.val_losses.append(validation_loss)\n",
        "\n",
        "          print(f\"[{epoch}/{n_epochs}] Training loss: {training_loss:.10f}\\t Validation loss: {validation_loss:.10f}\")\n",
        "\n",
        "          # early stopping\n",
        "          early_stopping(validation_loss)\n",
        "          if early_stopping.early_stop:\n",
        "            print(\"We are at epoch:\", epoch)\n",
        "            break\n",
        "      return np.array(train_pred), np.array(val_pred)\n",
        "\n",
        "\n",
        "    def plot_losses(self):\n",
        "      plt.plot(self.train_losses, label=\"Training loss\")\n",
        "      plt.plot(self.val_losses, label=\"Validation loss\")\n",
        "      plt.legend()\n",
        "      plt.title(\"Losses\")\n",
        "      plt.show()\n",
        "      plt.close()\n",
        "    \n",
        "\n",
        "    def evaluate(self, test_loader, batch_size=1, n_features=1):\n",
        "    \n",
        "      with torch.no_grad():\n",
        "          testPredict = []\n",
        "          testValues = []\n",
        "          for x_test, y_test in test_loader:\n",
        "              x_test = x_test.view([batch_size, -1, n_features]).to(device)\n",
        "              y_test = y_test.to(device)\n",
        "              self.model.eval()\n",
        "              yhat = self.model(x_test)\n",
        "              testPredict.append(yhat.to(device).detach().numpy())\n",
        "              testValues.append(y_test.to(device).detach().numpy())\n",
        "\n",
        "      return np.array(testPredict), np.array(testValues)"
      ]
    },
    {
      "cell_type": "code",
      "execution_count": null,
      "metadata": {
        "id": "p25fSLTkDbhI"
      },
      "outputs": [],
      "source": [
        "def plotting (dataset, trainPredict, valPredict, testPredict, fcs = None):\n",
        "# shift train predictions for plotting\n",
        "#we must shift the predictions so that they align on the x-axis with the original dataset. \n",
        "    ext = 0\n",
        "\n",
        "    if fcs is not None:\n",
        "      ext = fcs.shape[0]\n",
        "\n",
        "    trainPredictPlot = np.empty((dataset.shape[0] + ext, dataset.shape[1]))\n",
        "    trainPredictPlot[:, :] = np.nan\n",
        "    trainPredictPlot[seq_size-1:len(trainPredict)+seq_size-1, :] = trainPredict\n",
        "\n",
        "    # shift val predictions for plotting\n",
        "    valPredictPlot = np.empty((dataset.shape[0] + ext, dataset.shape[1]))\n",
        "    valPredictPlot[:, :] = np.nan\n",
        "    valPredictPlot[len(trainPredict)+(seq_size*2)+1-1:len(trainPredict)+len(valPredict)+(seq_size*2), :] = valPredict\n",
        "\n",
        "    # shift test predictions for plotting\n",
        "    testPredictPlot = np.empty((dataset.shape[0] + ext, dataset.shape[1]))\n",
        "    testPredictPlot[:, :] = np.nan\n",
        "    testPredictPlot[len(trainPredict)+len(valPredict)+(seq_size*3)+1:len(trainPredict)+len(valPredict)+len(testPredict)+(seq_size*3)+1, :] = testPredict\n",
        "\n",
        "    if fcs is not None:\n",
        "      fcPredictPlot = np.empty((dataset.shape[0] + ext, dataset.shape[1]))\n",
        "      fcPredictPlot[:, :] = np.nan\n",
        "      fcPredictPlot[len(trainPredict)+len(valPredict)+len(testPredict)+(seq_size*3)+2:len(dataset)+ext-1, :] = fcs\n",
        "\n",
        "    # plot baseline and predictions\n",
        "    plt.plot(dataset, color='k', label='dataset')\n",
        "    plt.plot(trainPredictPlot, color='b', label='train', linestyle='dashed')\n",
        "    plt.plot(valPredictPlot, color='g', label='val', linestyle='dashed')\n",
        "    plt.plot(testPredictPlot, color='r', label='test', linestyle='dashed')\n",
        "    if fcs is not None:\n",
        "      plt.plot(fcPredictPlot, color='m', label='forecasts', linestyle='dashed')\n",
        "    plt.legend(loc=\"upper left\")\n",
        "    plt.title(\"Prediction\")\n",
        "    plt.xlabel(\"Time\")\n",
        "    plt.ylabel(\"Cases\")\n",
        "    mpl.rcParams['figure.dpi'] = 300\n",
        "    plt.show()\n",
        "\n",
        "    return"
      ]
    },
    {
      "cell_type": "code",
      "execution_count": null,
      "metadata": {
        "id": "u1P2Y7UAqGUK"
      },
      "outputs": [],
      "source": [
        "df, train, val, test, dataset, scaler = read_data()"
      ]
    },
    {
      "cell_type": "code",
      "execution_count": null,
      "metadata": {
        "colab": {
          "base_uri": "https://localhost:8080/"
        },
        "id": "0LqGYpoWuRdK",
        "outputId": "11700df6-55b6-4c55-bd9c-b6fe0040526b"
      },
      "outputs": [
        {
          "output_type": "stream",
          "name": "stdout",
          "text": [
            "(494, 16, 2)\n",
            "(203, 16, 2)\n",
            "(348, 16, 2)\n"
          ]
        }
      ],
      "source": [
        "seq_size = 16\n",
        "batch_size = 1\n",
        "\n",
        "# convert dataset into input/output\n",
        "trainX, trainY = to_sequences(train, seq_size)\n",
        "valX, valY = to_sequences(val, seq_size)\n",
        "testX, testY = to_sequences(test, seq_size)\n",
        "\n",
        "train_features = torch.Tensor(trainX)\n",
        "train_targets = torch.Tensor(trainY)\n",
        "\n",
        "val_features = torch.Tensor(valX)\n",
        "val_targets = torch.Tensor(valY)\n",
        "\n",
        "test_features = torch.Tensor(testX)\n",
        "test_targets = torch.Tensor(testY)\n",
        "\n",
        "train = TensorDataset(train_features, train_targets)\n",
        "train_loader = DataLoader(train, batch_size=batch_size, shuffle=False, drop_last=True)\n",
        "\n",
        "val = TensorDataset(val_features, val_targets)\n",
        "val_loader = DataLoader(val, batch_size=batch_size, shuffle=False, drop_last=True)\n",
        "\n",
        "test = TensorDataset(test_features, test_targets)\n",
        "test_loader = DataLoader(test, batch_size=1, shuffle=False, drop_last=False)"
      ]
    },
    {
      "cell_type": "code",
      "execution_count": null,
      "metadata": {
        "colab": {
          "base_uri": "https://localhost:8080/",
          "height": 1000
        },
        "id": "BYhYq-omuWev",
        "outputId": "bf5bc599-d0e3-42a2-802c-def37d48a53d"
      },
      "outputs": [
        {
          "output_type": "stream",
          "name": "stdout",
          "text": [
            "[1/1000] Training loss: 0.0282220245\t Validation loss: 0.0534496529\n",
            "[2/1000] Training loss: 0.0188605760\t Validation loss: 0.0442038085\n",
            "[3/1000] Training loss: 0.0140187707\t Validation loss: 0.0376390716\n",
            "[4/1000] Training loss: 0.0103110507\t Validation loss: 0.0315797666\n",
            "[5/1000] Training loss: 0.0088527978\t Validation loss: 0.0281392526\n",
            "[6/1000] Training loss: 0.0079765030\t Validation loss: 0.0265035916\n",
            "[7/1000] Training loss: 0.0072879054\t Validation loss: 0.0262741903\n",
            "[8/1000] Training loss: 0.0074716129\t Validation loss: 0.0243405041\n",
            "[9/1000] Training loss: 0.0068035671\t Validation loss: 0.0228209224\n",
            "[10/1000] Training loss: 0.0062848863\t Validation loss: 0.0214861287\n",
            "[11/1000] Training loss: 0.0064403029\t Validation loss: 0.0207477895\n",
            "[12/1000] Training loss: 0.0061913321\t Validation loss: 0.0194866911\n",
            "[13/1000] Training loss: 0.0060434417\t Validation loss: 0.0187115897\n",
            "[14/1000] Training loss: 0.0056747173\t Validation loss: 0.0175912610\n",
            "[15/1000] Training loss: 0.0057627074\t Validation loss: 0.0184812746\n",
            "EarlyStopping counter: 1 out of 15\n",
            "[16/1000] Training loss: 0.0058341512\t Validation loss: 0.0178280949\n",
            "EarlyStopping counter: 2 out of 15\n",
            "[17/1000] Training loss: 0.0056505599\t Validation loss: 0.0187692895\n",
            "EarlyStopping counter: 3 out of 15\n",
            "[18/1000] Training loss: 0.0055129521\t Validation loss: 0.0176333227\n",
            "EarlyStopping counter: 4 out of 15\n",
            "[19/1000] Training loss: 0.0055618892\t Validation loss: 0.0170568640\n",
            "[20/1000] Training loss: 0.0052513172\t Validation loss: 0.0168169603\n",
            "[21/1000] Training loss: 0.0055277667\t Validation loss: 0.0175380689\n",
            "EarlyStopping counter: 1 out of 15\n",
            "[22/1000] Training loss: 0.0052961383\t Validation loss: 0.0169787793\n",
            "EarlyStopping counter: 2 out of 15\n",
            "[23/1000] Training loss: 0.0054036215\t Validation loss: 0.0167595938\n",
            "[24/1000] Training loss: 0.0051478197\t Validation loss: 0.0166214081\n",
            "[25/1000] Training loss: 0.0053764244\t Validation loss: 0.0158528930\n",
            "[26/1000] Training loss: 0.0050722773\t Validation loss: 0.0170556824\n",
            "EarlyStopping counter: 1 out of 15\n",
            "[27/1000] Training loss: 0.0049038976\t Validation loss: 0.0162616078\n",
            "EarlyStopping counter: 2 out of 15\n",
            "[28/1000] Training loss: 0.0050512476\t Validation loss: 0.0157453197\n",
            "[29/1000] Training loss: 0.0049281115\t Validation loss: 0.0162445239\n",
            "EarlyStopping counter: 1 out of 15\n",
            "[30/1000] Training loss: 0.0049633489\t Validation loss: 0.0164006838\n",
            "EarlyStopping counter: 2 out of 15\n",
            "[31/1000] Training loss: 0.0050967125\t Validation loss: 0.0152802993\n",
            "[32/1000] Training loss: 0.0048434083\t Validation loss: 0.0154912165\n",
            "EarlyStopping counter: 1 out of 15\n",
            "[33/1000] Training loss: 0.0047116601\t Validation loss: 0.0158128799\n",
            "EarlyStopping counter: 2 out of 15\n",
            "[34/1000] Training loss: 0.0047028405\t Validation loss: 0.0155514321\n",
            "EarlyStopping counter: 3 out of 15\n",
            "[35/1000] Training loss: 0.0046907547\t Validation loss: 0.0157131024\n",
            "EarlyStopping counter: 4 out of 15\n",
            "[36/1000] Training loss: 0.0046553463\t Validation loss: 0.0156331264\n",
            "EarlyStopping counter: 5 out of 15\n",
            "[37/1000] Training loss: 0.0048823479\t Validation loss: 0.0159510504\n",
            "EarlyStopping counter: 6 out of 15\n",
            "[38/1000] Training loss: 0.0045465159\t Validation loss: 0.0153424399\n",
            "EarlyStopping counter: 7 out of 15\n",
            "[39/1000] Training loss: 0.0045181463\t Validation loss: 0.0147993577\n",
            "[40/1000] Training loss: 0.0045623399\t Validation loss: 0.0154358721\n",
            "EarlyStopping counter: 1 out of 15\n",
            "[41/1000] Training loss: 0.0047072575\t Validation loss: 0.0145730330\n",
            "[42/1000] Training loss: 0.0047667680\t Validation loss: 0.0158926737\n",
            "EarlyStopping counter: 1 out of 15\n",
            "[43/1000] Training loss: 0.0044585921\t Validation loss: 0.0149885188\n",
            "EarlyStopping counter: 2 out of 15\n",
            "[44/1000] Training loss: 0.0044929711\t Validation loss: 0.0151707544\n",
            "EarlyStopping counter: 3 out of 15\n",
            "[45/1000] Training loss: 0.0044630601\t Validation loss: 0.0150435098\n",
            "EarlyStopping counter: 4 out of 15\n",
            "[46/1000] Training loss: 0.0043947274\t Validation loss: 0.0150383588\n",
            "EarlyStopping counter: 5 out of 15\n",
            "[47/1000] Training loss: 0.0046677847\t Validation loss: 0.0152945465\n",
            "EarlyStopping counter: 6 out of 15\n",
            "[48/1000] Training loss: 0.0044325723\t Validation loss: 0.0156763741\n",
            "EarlyStopping counter: 7 out of 15\n",
            "[49/1000] Training loss: 0.0046179345\t Validation loss: 0.0161024297\n",
            "EarlyStopping counter: 8 out of 15\n",
            "[50/1000] Training loss: 0.0043308652\t Validation loss: 0.0145657318\n",
            "[51/1000] Training loss: 0.0042906100\t Validation loss: 0.0142891376\n",
            "[52/1000] Training loss: 0.0043893195\t Validation loss: 0.0145485854\n",
            "EarlyStopping counter: 1 out of 15\n",
            "[53/1000] Training loss: 0.0044947207\t Validation loss: 0.0146135032\n",
            "EarlyStopping counter: 2 out of 15\n",
            "[54/1000] Training loss: 0.0041556519\t Validation loss: 0.0141619135\n",
            "[55/1000] Training loss: 0.0044641930\t Validation loss: 0.0138746959\n",
            "[56/1000] Training loss: 0.0043530789\t Validation loss: 0.0150942242\n",
            "EarlyStopping counter: 1 out of 15\n",
            "[57/1000] Training loss: 0.0041343083\t Validation loss: 0.0140940451\n",
            "EarlyStopping counter: 2 out of 15\n",
            "[58/1000] Training loss: 0.0041887946\t Validation loss: 0.0145039047\n",
            "EarlyStopping counter: 3 out of 15\n",
            "[59/1000] Training loss: 0.0042743632\t Validation loss: 0.0139446214\n",
            "EarlyStopping counter: 4 out of 15\n",
            "[60/1000] Training loss: 0.0040889741\t Validation loss: 0.0145121003\n",
            "EarlyStopping counter: 5 out of 15\n",
            "[61/1000] Training loss: 0.0042643917\t Validation loss: 0.0146151343\n",
            "EarlyStopping counter: 6 out of 15\n",
            "[62/1000] Training loss: 0.0042390115\t Validation loss: 0.0141996583\n",
            "EarlyStopping counter: 7 out of 15\n",
            "[63/1000] Training loss: 0.0040689822\t Validation loss: 0.0143519706\n",
            "EarlyStopping counter: 8 out of 15\n",
            "[64/1000] Training loss: 0.0042080000\t Validation loss: 0.0141113696\n",
            "EarlyStopping counter: 9 out of 15\n",
            "[65/1000] Training loss: 0.0041007165\t Validation loss: 0.0146749471\n",
            "EarlyStopping counter: 10 out of 15\n",
            "[66/1000] Training loss: 0.0040983369\t Validation loss: 0.0141240999\n",
            "EarlyStopping counter: 11 out of 15\n",
            "[67/1000] Training loss: 0.0040653884\t Validation loss: 0.0141352748\n",
            "EarlyStopping counter: 12 out of 15\n",
            "[68/1000] Training loss: 0.0040093493\t Validation loss: 0.0140443809\n",
            "EarlyStopping counter: 13 out of 15\n",
            "[69/1000] Training loss: 0.0039034015\t Validation loss: 0.0141646691\n",
            "EarlyStopping counter: 14 out of 15\n",
            "[70/1000] Training loss: 0.0040092424\t Validation loss: 0.0139839084\n",
            "EarlyStopping counter: 15 out of 15\n",
            "We are at epoch: 70\n"
          ]
        },
        {
          "output_type": "display_data",
          "data": {
            "text/plain": [
              "<Figure size 432x288 with 1 Axes>"
            ],
            "image/png": "[encoded data removed]"
          },
          "metadata": {
            "needs_background": "light"
          }
        }
      ],
      "source": [
        "input_dim = seq_size\n",
        "output_dim = trainX.shape[2]\n",
        "hidden_dim = 36\n",
        "layer_dim = 1\n",
        "dropout = 0\n",
        "n_epochs = 1000\n",
        "learning_rate = 1e-5\n",
        "weight_decay = 0\n",
        "\n",
        "model = Transformer(feature_size=output_dim, d_model=input_dim, num_layers=1, dropout=0)\n",
        "\n",
        "loss_fn = nn.MSELoss(reduction=\"mean\")\n",
        "optimizer = optim.Adam(model.parameters(), lr=learning_rate, weight_decay=weight_decay)\n",
        "\n",
        "start = dt.now()\n",
        "\n",
        "opt = Optimization(model=model, loss_fn=loss_fn, optimizer=optimizer)\n",
        "train_pred, val_pred = opt.train(train_loader, val_loader, batch_size=batch_size, n_epochs=n_epochs, n_features=input_dim)\n",
        "opt.plot_losses()\n",
        "\n",
        "testPredict, testValues = opt.evaluate(test_loader, batch_size=1, n_features=input_dim)"
      ]
    },
    {
      "cell_type": "code",
      "execution_count": null,
      "metadata": {
        "id": "RH3BOvnnDe3M"
      },
      "outputs": [],
      "source": [
        "df_train = scaler.inverse_transform(train_pred.reshape(-1, 2))\n",
        "df_val = scaler.inverse_transform(val_pred.reshape(-1, 2))\n",
        "df_test = scaler.inverse_transform(testPredict.reshape(-1, 2))\n",
        "dataset = scaler.inverse_transform(dataset)"
      ]
    },
    {
      "cell_type": "code",
      "execution_count": null,
      "metadata": {
        "colab": {
          "base_uri": "https://localhost:8080/",
          "height": 295
        },
        "id": "YaszTm3yTpEi",
        "outputId": "537e1e68-0cf2-42a0-9745-100531ab5a75"
      },
      "outputs": [
        {
          "output_type": "display_data",
          "data": {
            "text/plain": [
              "<Figure size 432x288 with 1 Axes>"
            ],
            "image/png": "[encoded data removed]"
          },
          "metadata": {
            "needs_background": "light"
          }
        }
      ],
      "source": [
        "plotting (dataset[:, 0].reshape(-1, 1), df_train[:, 0].reshape(-1, 1), df_val[:, 0].reshape(-1, 1), df_test[:, 0].reshape(-1, 1)) #plotting without inverse_transform"
      ]
    },
    {
      "cell_type": "code",
      "execution_count": null,
      "metadata": {
        "colab": {
          "base_uri": "https://localhost:8080/"
        },
        "id": "4-Tb6FydLSzX",
        "outputId": "dc13f273-91e5-4d8f-efce-ed9c8362dacd"
      },
      "outputs": [
        {
          "output_type": "execute_result",
          "data": {
            "text/plain": [
              "621.2875644002302"
            ]
          },
          "metadata": {},
          "execution_count": 14
        }
      ],
      "source": [
        "np.square(df_test[:, 0] - scaler.inverse_transform(testY)[:, 0]).mean()"
      ]
    },
    {
      "cell_type": "code",
      "execution_count": null,
      "metadata": {
        "colab": {
          "base_uri": "https://localhost:8080/"
        },
        "id": "WJ5C0mlhL1aI",
        "outputId": "45b5dede-7134-4aad-a1fd-1799ed85a528"
      },
      "outputs": [
        {
          "output_type": "execute_result",
          "data": {
            "text/plain": [
              "19.793293757743534"
            ]
          },
          "metadata": {},
          "execution_count": 15
        }
      ],
      "source": [
        "np.abs(df_test[:, 0] - scaler.inverse_transform(testY)[:, 0]).mean()"
      ]
    },
    {
      "cell_type": "code",
      "execution_count": null,
      "metadata": {
        "colab": {
          "base_uri": "https://localhost:8080/"
        },
        "id": "sN-iBMz8nU6w",
        "outputId": "dad8261c-0845-46d4-90dc-70299573e962"
      },
      "outputs": [
        {
          "output_type": "execute_result",
          "data": {
            "text/plain": [
              "0.5972092375987983"
            ]
          },
          "metadata": {},
          "execution_count": 16
        }
      ],
      "source": [
        "def mape(x, y):\n",
        "  error = abs(x-y)/abs(x)\n",
        "  error[error > 1] = 1\n",
        "  return np.mean(error)\n",
        "\n",
        "mape(df_test[:, 0], scaler.inverse_transform(testY)[:, 0])"
      ]
    },
    {
      "cell_type": "code",
      "source": [
        "np.square(df_test[:, 1] - scaler.inverse_transform(testY)[:, 1]).mean()"
      ],
      "metadata": {
        "colab": {
          "base_uri": "https://localhost:8080/"
        },
        "id": "TWRYS23oN_NW",
        "outputId": "a433a310-7b06-4dd1-ba22-6af4c6384659"
      },
      "execution_count": null,
      "outputs": [
        {
          "output_type": "execute_result",
          "data": {
            "text/plain": [
              "489325704.1631758"
            ]
          },
          "metadata": {},
          "execution_count": 17
        }
      ]
    },
    {
      "cell_type": "code",
      "source": [
        "np.abs(df_test[:, 1] - scaler.inverse_transform(testY)[:, 1]).mean()"
      ],
      "metadata": {
        "colab": {
          "base_uri": "https://localhost:8080/"
        },
        "id": "OscCtk0HOBdZ",
        "outputId": "9bf50daf-2f67-4102-f53c-5fef3cb671c7"
      },
      "execution_count": null,
      "outputs": [
        {
          "output_type": "execute_result",
          "data": {
            "text/plain": [
              "17509.55028735632"
            ]
          },
          "metadata": {},
          "execution_count": 18
        }
      ]
    },
    {
      "cell_type": "code",
      "source": [
        "def mape(x, y):\n",
        "  error = abs(x-y)/abs(x)\n",
        "  error[error > 1] = 1\n",
        "  return np.mean(error)\n",
        "\n",
        "mape(df_test[:, 1], scaler.inverse_transform(testY)[:, 1])"
      ],
      "metadata": {
        "colab": {
          "base_uri": "https://localhost:8080/"
        },
        "id": "X2iecidnOE-I",
        "outputId": "a6d11db2-3be0-4333-e697-6052967790ee"
      },
      "execution_count": null,
      "outputs": [
        {
          "output_type": "execute_result",
          "data": {
            "text/plain": [
              "0.04769337161993548"
            ]
          },
          "metadata": {},
          "execution_count": 19
        }
      ]
    }
  ],
  "metadata": {
    "colab": {
      "provenance": []
    },
    "kernelspec": {
      "display_name": "Python 3",
      "name": "python3"
    },
    "language_info": {
      "name": "python"
    }
  },
  "nbformat": 4,
  "nbformat_minor": 0
}